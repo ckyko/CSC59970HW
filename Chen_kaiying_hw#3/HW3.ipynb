{
 "cells": [
  {
   "cell_type": "markdown",
   "metadata": {},
   "source": [
    " # Homework 3: (adapted from CS194-16) Introduction to Data Science csc599.70\n",
    " \n",
    " \n",
    "\n",
    "**Name**: *Please put your name*\n",
    "\n",
    "**Student ID**: *Please put your student ID*\n",
    "\n",
    "\n",
    "Homework 3: Introduction to Machine Learning: Clustering and Regression\n",
    "===\n",
    "\n",
    "## Overview\n",
    "\n",
    "In this assignment, we will use machine learning techniques to perform data analysis and learn models about our data. We will use a real world music dataset from [Last.fm](http://last.fm) for this assignment. There are two parts to this assignment: In the first part we will look at Unsupervised Learning with clustering and in the second part, we will study Supervised Learning. The play data (and user/artist matrix) comes from the [Last.fm 1K Users dataset](http://www.dtic.upf.edu/~ocelma/MusicRecommendationDataset/lastfm-1K.html), while the tags come from [the Last.fm Music Tags dataset](http://musicmachinery.com/2010/11/10/lastfm-artisttags2007/). You won't have to interact with these datasets directly, because we've already preprocessed them for you."
   ]
  },
  {
   "cell_type": "markdown",
   "metadata": {},
   "source": [
    "### Introduction to Machine Learning\n",
    "\n",
    "Machine learning is a branch of artifical intelligence where we try to find hidden structure within data. \n",
    "For example, lets say you are hired as a data scientist at a cool new music playing startup. You are given access to \n",
    "logs from the product and are asked find out what kinds of music are played on your website and how you can promote songs that will be \n",
    "popular. In this case we wish to extract some structure from the raw data we have using machine learning.\n",
    "\n",
    "There are two main kinds of machine learning algorithms:\n",
    "\n",
    "1. Unsupervised Learning - is the branch where we don't have any ground truth (or labeled data) that can help our training process. There are many approaches to unsupervised learning which includes topics like Clustering,  Mixture Models, Hidden Markov Models etc. In this assignment we will predominantly look at clustering.\n",
    "2. Supervised Learning - we have training data which is labeled (either manually or from historical data) and we try to make predictions about those labels on new, unlabeled, data. There are similarly several approaches to supervised learning - various classification and regression techniques all the way up to Support Vector Machines and Convolutional Neural Networks. In this assignment we'll explore two regression algorithms - Least Squares Linear Regression and Regression Trees. \n",
    "\n",
    "Many of the techniques you'll be using (like testing on a validation set) are of critical importance to the modeling process, regardless of the technique you're using, so keep these in mind in your future modeling efforts."
   ]
  },
  {
   "cell_type": "markdown",
   "metadata": {},
   "source": [
    "### Application\n",
    "\n",
    "Your assignment is to use machine learning algorithms for two tasks on a real world music dataset from Last.fm. The goal in the first part is to cluster artists and try to discover all artists that belong a certain genre. In the second part, we'll use the same dataset and attempt to predict how popular a song will be based on a number of features of that song. One component will involve incorporating cluster information into the models."
   ]
  },
  {
   "cell_type": "markdown",
   "metadata": {},
   "source": [
    "### Files\n",
    "\n",
    "Data files for this assignment can be found via this link. Either download directly to your VM, or to your host and use drag-and-drop. Create a directory ~/HWs/HW3 and put the archive file there. Unpack it with <code>tar xvzf file</code>\n",
    "\n",
    "The zip file includes the following files:\n",
    "\n",
    "* **artists-tags.txt**, User-defined tags for top artists\n",
    "* **userart-mat-training.csv**, Training data containing a matrix mapping artist-id to users who have played songs by the artists\n",
    "* **userart-mat-test.csv**, Test data containing a matrix mapping artist-id to users who have played songs by the artists\n",
    "* **train_model_data.csv**, Aggregate statsitstics and features about songs we'll use to train regression models.\n",
    "* **validation_model_data.csv**, Similar statistics computed on a hold-out set of users and songs that we'll use to validate our regression models.\n",
    "\n",
    "We will explain the datasets and how they need to used in the assignment sections."
   ]
  },
  {
   "cell_type": "markdown",
   "metadata": {},
   "source": [
    "### Deliverables\n",
    "\n",
    "Complete the all the exercises below and turn in a write up in the form of an IPython notebook, that is, **an .ipynb file**.\n",
    "The write up should include your code, answers to exercise questions, and plots of results.\n",
    "This time you will submit it directly to bCourses. \n",
    "\n",
    "We recommend that you do your work in a **copy of this notebook**, in case there are changes that need to be made that are pushed out via github. In this notebook, we provide code templates for many of the exercises. They are intended to help with code re-use, since the exercises build on each other, and are highly recommended. Don't forget to include answers to questions that ask for natural language responses, i.e., in English, not code!"
   ]
  },
  {
   "cell_type": "markdown",
   "metadata": {},
   "source": [
    "### Guidelines\n",
    "\n",
    "#### Code\n",
    "\n",
    "This assignment can be done with basic python, matplotlib and scikit-learn.\n",
    "Feel free to use Pandas, too, which you may find well suited to several exercises.\n",
    "As for other libraries, please check with course staff whether they're allowed.\n",
    "\n",
    "You're not required to do your coding in IPython, so feel free to use your favorite editor or IDE.\n",
    "But when you're done, remember to put your code into a notebook for your write up.\n",
    "\n",
    "#### Collaboration\n",
    "\n",
    "This assignment is to be done individually.  Everyone should be getting a hands on experience in this course.  You are free to discuss course material with fellow students, and we encourage you to use Internet resources to aid your understanding, but the work you turn in, including all code and answers, must be your own work."
   ]
  },
  {
   "cell_type": "markdown",
   "metadata": {},
   "source": [
    "## Part 0: Preliminaries\n",
    "\n",
    "### Exercise 0\n",
    "\n",
    "Read in the file **artists-tags.txt** and store the contents in a DataFrame. The file format for this file is `ArtistID|ArtistName|Tag|Count`. The fields mean the following:\n",
    "\n",
    "1. ArtistID : a unique id for an artist (Formatted as a [MusicBrainz Identifier](https://musicbrainz.org/doc/MusicBrainz_Identifier))\n",
    "2. ArtistName: name of the artist\n",
    "3. Tag: user-defined tag for the artist\n",
    "4. Count: number of times the tag was applied\n",
    "\n",
    "Similarly, read in the file **userart-mat-training.csv** . The file format for this file is `ArtistID, user_000001, user_000002, .... user_001000`. i.e. There are 846 such columns in this file and each column has a value 1 if the particular user played a song from this artist."
   ]
  },
  {
   "cell_type": "code",
   "execution_count": 26,
   "metadata": {
    "collapsed": false
   },
   "outputs": [
    {
     "data": {
      "text/html": [
       "<div>\n",
       "<table border=\"1\" class=\"dataframe\">\n",
       "  <thead>\n",
       "    <tr style=\"text-align: right;\">\n",
       "      <th></th>\n",
       "      <th>ArtistID</th>\n",
       "      <th>ArtistName</th>\n",
       "      <th>Tag</th>\n",
       "      <th>Count</th>\n",
       "    </tr>\n",
       "  </thead>\n",
       "  <tbody>\n",
       "    <tr>\n",
       "      <th>0</th>\n",
       "      <td>000077f7-26b1-4710-80cc-f6beddbdd157</td>\n",
       "      <td>Ryan Adams and The Cardinals</td>\n",
       "      <td>I love you baby can I have some more</td>\n",
       "      <td>1</td>\n",
       "    </tr>\n",
       "    <tr>\n",
       "      <th>1</th>\n",
       "      <td>000077f7-26b1-4710-80cc-f6beddbdd157</td>\n",
       "      <td>Ryan Adams and The Cardinals</td>\n",
       "      <td>alt country</td>\n",
       "      <td>2</td>\n",
       "    </tr>\n",
       "    <tr>\n",
       "      <th>2</th>\n",
       "      <td>000077f7-26b1-4710-80cc-f6beddbdd157</td>\n",
       "      <td>Ryan Adams and The Cardinals</td>\n",
       "      <td>whoa</td>\n",
       "      <td>1</td>\n",
       "    </tr>\n",
       "    <tr>\n",
       "      <th>3</th>\n",
       "      <td>00034ede-a1f1-4219-be39-02f36853373e</td>\n",
       "      <td>O Rappa</td>\n",
       "      <td>Artist</td>\n",
       "      <td>1</td>\n",
       "    </tr>\n",
       "    <tr>\n",
       "      <th>4</th>\n",
       "      <td>00034ede-a1f1-4219-be39-02f36853373e</td>\n",
       "      <td>O Rappa</td>\n",
       "      <td>Black</td>\n",
       "      <td>1</td>\n",
       "    </tr>\n",
       "  </tbody>\n",
       "</table>\n",
       "</div>"
      ],
      "text/plain": [
       "                               ArtistID                    ArtistName  \\\n",
       "0  000077f7-26b1-4710-80cc-f6beddbdd157  Ryan Adams and The Cardinals   \n",
       "1  000077f7-26b1-4710-80cc-f6beddbdd157  Ryan Adams and The Cardinals   \n",
       "2  000077f7-26b1-4710-80cc-f6beddbdd157  Ryan Adams and The Cardinals   \n",
       "3  00034ede-a1f1-4219-be39-02f36853373e                       O Rappa   \n",
       "4  00034ede-a1f1-4219-be39-02f36853373e                       O Rappa   \n",
       "\n",
       "                                    Tag  Count  \n",
       "0  I love you baby can I have some more      1  \n",
       "1                           alt country      2  \n",
       "2                                  whoa      1  \n",
       "3                                Artist      1  \n",
       "4                                 Black      1  "
      ]
     },
     "execution_count": 26,
     "metadata": {},
     "output_type": "execute_result"
    }
   ],
   "source": [
    "from pylab import *\n",
    "%matplotlib inline\n",
    "import pandas as pd\n",
    "\n",
    "DATA_PATH = \"D:\\OneDrive\\csc59970\\hw3\\hw3data\" # Make this the /path/to/the/data\n",
    "\n",
    "def parse_artists_tags(filename):\n",
    "    df = pd.read_csv(filename, sep=\"|\", names=[\"ArtistID\", \"ArtistName\", \"Tag\", \"Count\"])\n",
    "    return df\n",
    "\n",
    "def parse_user_artists_matrix(filename):\n",
    "    df = pd.read_csv(filename)\n",
    "    return df\n",
    "\n",
    "artists_tags = parse_artists_tags(DATA_PATH + \"/artists-tags.txt\")\n",
    "user_art_mat = parse_user_artists_matrix(DATA_PATH + \"/userart-mat-training.csv\")\n",
    "artists_tags.head()\n"
   ]
  },
  {
   "cell_type": "code",
   "execution_count": 27,
   "metadata": {
    "collapsed": false
   },
   "outputs": [
    {
     "data": {
      "text/html": [
       "<div>\n",
       "<table border=\"1\" class=\"dataframe\">\n",
       "  <thead>\n",
       "    <tr style=\"text-align: right;\">\n",
       "      <th></th>\n",
       "      <th>ArtistID</th>\n",
       "      <th>user_000001</th>\n",
       "      <th>user_000002</th>\n",
       "      <th>user_000003</th>\n",
       "      <th>user_000004</th>\n",
       "      <th>user_000005</th>\n",
       "      <th>user_000006</th>\n",
       "      <th>user_000007</th>\n",
       "      <th>user_000008</th>\n",
       "      <th>user_000009</th>\n",
       "      <th>...</th>\n",
       "      <th>user_000890</th>\n",
       "      <th>user_000891</th>\n",
       "      <th>user_000892</th>\n",
       "      <th>user_000893</th>\n",
       "      <th>user_000894</th>\n",
       "      <th>user_000895</th>\n",
       "      <th>user_000896</th>\n",
       "      <th>user_000897</th>\n",
       "      <th>user_000898</th>\n",
       "      <th>user_000899</th>\n",
       "    </tr>\n",
       "  </thead>\n",
       "  <tbody>\n",
       "    <tr>\n",
       "      <th>0</th>\n",
       "      <td>c489cd1c-d8d3-4dcc-b7b9-dcf7cd95d2ed</td>\n",
       "      <td>0</td>\n",
       "      <td>0</td>\n",
       "      <td>0</td>\n",
       "      <td>0</td>\n",
       "      <td>0</td>\n",
       "      <td>0</td>\n",
       "      <td>0</td>\n",
       "      <td>0</td>\n",
       "      <td>0</td>\n",
       "      <td>...</td>\n",
       "      <td>0</td>\n",
       "      <td>0</td>\n",
       "      <td>0</td>\n",
       "      <td>0</td>\n",
       "      <td>0</td>\n",
       "      <td>0</td>\n",
       "      <td>0</td>\n",
       "      <td>0</td>\n",
       "      <td>0</td>\n",
       "      <td>0</td>\n",
       "    </tr>\n",
       "    <tr>\n",
       "      <th>1</th>\n",
       "      <td>9ccbb935-33fd-4df8-ae2d-779497c5630a</td>\n",
       "      <td>0</td>\n",
       "      <td>0</td>\n",
       "      <td>0</td>\n",
       "      <td>0</td>\n",
       "      <td>0</td>\n",
       "      <td>0</td>\n",
       "      <td>0</td>\n",
       "      <td>0</td>\n",
       "      <td>0</td>\n",
       "      <td>...</td>\n",
       "      <td>0</td>\n",
       "      <td>0</td>\n",
       "      <td>0</td>\n",
       "      <td>0</td>\n",
       "      <td>0</td>\n",
       "      <td>0</td>\n",
       "      <td>0</td>\n",
       "      <td>0</td>\n",
       "      <td>0</td>\n",
       "      <td>0</td>\n",
       "    </tr>\n",
       "    <tr>\n",
       "      <th>2</th>\n",
       "      <td>c71b2cc1-2737-4f76-bbf2-9ee505b4d90d</td>\n",
       "      <td>0</td>\n",
       "      <td>0</td>\n",
       "      <td>0</td>\n",
       "      <td>0</td>\n",
       "      <td>0</td>\n",
       "      <td>0</td>\n",
       "      <td>0</td>\n",
       "      <td>0</td>\n",
       "      <td>0</td>\n",
       "      <td>...</td>\n",
       "      <td>0</td>\n",
       "      <td>0</td>\n",
       "      <td>0</td>\n",
       "      <td>0</td>\n",
       "      <td>0</td>\n",
       "      <td>0</td>\n",
       "      <td>0</td>\n",
       "      <td>0</td>\n",
       "      <td>1</td>\n",
       "      <td>0</td>\n",
       "    </tr>\n",
       "    <tr>\n",
       "      <th>3</th>\n",
       "      <td>0aa8294b-6332-4b65-b677-e3a1f8591d3b</td>\n",
       "      <td>0</td>\n",
       "      <td>0</td>\n",
       "      <td>0</td>\n",
       "      <td>0</td>\n",
       "      <td>0</td>\n",
       "      <td>0</td>\n",
       "      <td>0</td>\n",
       "      <td>0</td>\n",
       "      <td>0</td>\n",
       "      <td>...</td>\n",
       "      <td>0</td>\n",
       "      <td>0</td>\n",
       "      <td>0</td>\n",
       "      <td>0</td>\n",
       "      <td>0</td>\n",
       "      <td>0</td>\n",
       "      <td>0</td>\n",
       "      <td>0</td>\n",
       "      <td>0</td>\n",
       "      <td>0</td>\n",
       "    </tr>\n",
       "    <tr>\n",
       "      <th>4</th>\n",
       "      <td>67673557-2310-41d3-83b9-e6e0cb1d65d5</td>\n",
       "      <td>0</td>\n",
       "      <td>0</td>\n",
       "      <td>0</td>\n",
       "      <td>0</td>\n",
       "      <td>0</td>\n",
       "      <td>0</td>\n",
       "      <td>0</td>\n",
       "      <td>0</td>\n",
       "      <td>0</td>\n",
       "      <td>...</td>\n",
       "      <td>0</td>\n",
       "      <td>0</td>\n",
       "      <td>0</td>\n",
       "      <td>0</td>\n",
       "      <td>0</td>\n",
       "      <td>0</td>\n",
       "      <td>0</td>\n",
       "      <td>0</td>\n",
       "      <td>0</td>\n",
       "      <td>0</td>\n",
       "    </tr>\n",
       "  </tbody>\n",
       "</table>\n",
       "<p>5 rows × 847 columns</p>\n",
       "</div>"
      ],
      "text/plain": [
       "                               ArtistID  user_000001  user_000002  \\\n",
       "0  c489cd1c-d8d3-4dcc-b7b9-dcf7cd95d2ed            0            0   \n",
       "1  9ccbb935-33fd-4df8-ae2d-779497c5630a            0            0   \n",
       "2  c71b2cc1-2737-4f76-bbf2-9ee505b4d90d            0            0   \n",
       "3  0aa8294b-6332-4b65-b677-e3a1f8591d3b            0            0   \n",
       "4  67673557-2310-41d3-83b9-e6e0cb1d65d5            0            0   \n",
       "\n",
       "   user_000003  user_000004  user_000005  user_000006  user_000007  \\\n",
       "0            0            0            0            0            0   \n",
       "1            0            0            0            0            0   \n",
       "2            0            0            0            0            0   \n",
       "3            0            0            0            0            0   \n",
       "4            0            0            0            0            0   \n",
       "\n",
       "   user_000008  user_000009     ...       user_000890  user_000891  \\\n",
       "0            0            0     ...                 0            0   \n",
       "1            0            0     ...                 0            0   \n",
       "2            0            0     ...                 0            0   \n",
       "3            0            0     ...                 0            0   \n",
       "4            0            0     ...                 0            0   \n",
       "\n",
       "   user_000892  user_000893  user_000894  user_000895  user_000896  \\\n",
       "0            0            0            0            0            0   \n",
       "1            0            0            0            0            0   \n",
       "2            0            0            0            0            0   \n",
       "3            0            0            0            0            0   \n",
       "4            0            0            0            0            0   \n",
       "\n",
       "   user_000897  user_000898  user_000899  \n",
       "0            0            0            0  \n",
       "1            0            0            0  \n",
       "2            0            1            0  \n",
       "3            0            0            0  \n",
       "4            0            0            0  \n",
       "\n",
       "[5 rows x 847 columns]"
      ]
     },
     "execution_count": 27,
     "metadata": {},
     "output_type": "execute_result"
    }
   ],
   "source": [
    "user_art_mat.head()"
   ]
  },
  {
   "cell_type": "code",
   "execution_count": 2,
   "metadata": {
    "collapsed": false
   },
   "outputs": [
    {
     "data": {
      "text/plain": [
       "952803"
      ]
     },
     "execution_count": 2,
     "metadata": {},
     "output_type": "execute_result"
    }
   ],
   "source": [
    "num_of_tages = artists_tags.Tag.count()\n",
    "num_of_tages"
   ]
  },
  {
   "cell_type": "code",
   "execution_count": 3,
   "metadata": {
    "collapsed": false
   },
   "outputs": [
    {
     "name": "stdout",
     "output_type": "stream",
     "text": [
      "Number of tags 952803\n",
      "Number of artists 17119\n"
     ]
    }
   ],
   "source": [
    "num_of_artists = user_art_mat.ArtistID.count()\n",
    "num_of_artists\n",
    "\n",
    "print(\"Number of tags %d\" % num_of_tages)# Change this line after calculating the number of tags. \n",
    "print(\"Number of artists %d\" % num_of_artists) # Change this line."
   ]
  },
  {
   "cell_type": "markdown",
   "metadata": {},
   "source": [
    "## Part 1: Finding genres by clustering\n",
    "\n",
    "The first task we will look at is how to discover artist genres by only looking at data from plays on Last.fm. One of the ways to do this is to use clustering. To evaluate how well our clustering algorithm performs we will use the user-generated tags and compare those to our clustering results. \n",
    "\n",
    "### 1.1 Data pre-processing\n",
    "\n",
    "Last.fm allows users to associate tags with every artist (See the [top tags](http://www.last.fm/charts/toptags) for a live example). However as there are a number of tags associated with every artists, in the first step we will pre-process the data and get the most popular tag for an artist."
   ]
  },
  {
   "cell_type": "markdown",
   "metadata": {},
   "source": [
    "#### Exercise 1\n",
    "\n",
    "**a**. For every artist in **artists_tags** calculate the most frequently used tag. "
   ]
  },
  {
   "cell_type": "code",
   "execution_count": 30,
   "metadata": {
    "collapsed": false
   },
   "outputs": [
    {
     "data": {
      "text/html": [
       "<div>\n",
       "<table border=\"1\" class=\"dataframe\">\n",
       "  <thead>\n",
       "    <tr style=\"text-align: right;\">\n",
       "      <th></th>\n",
       "      <th>ArtistID</th>\n",
       "      <th>ArtistName</th>\n",
       "      <th>Tag</th>\n",
       "    </tr>\n",
       "  </thead>\n",
       "  <tbody>\n",
       "    <tr>\n",
       "      <th>0</th>\n",
       "      <td>000077f7-26b1-4710-80cc-f6beddbdd157</td>\n",
       "      <td>Ryan Adams and The Cardinals</td>\n",
       "      <td>alt country</td>\n",
       "    </tr>\n",
       "    <tr>\n",
       "      <th>1</th>\n",
       "      <td>00034ede-a1f1-4219-be39-02f36853373e</td>\n",
       "      <td>O Rappa</td>\n",
       "      <td>rock</td>\n",
       "    </tr>\n",
       "    <tr>\n",
       "      <th>2</th>\n",
       "      <td>00050add-f633-4901-8d93-6f88c640c0da</td>\n",
       "      <td>9 Inch Dix</td>\n",
       "      <td>rap</td>\n",
       "    </tr>\n",
       "    <tr>\n",
       "      <th>3</th>\n",
       "      <td>000b1990-4dd8-4835-abcd-bb6038c13ac7</td>\n",
       "      <td>Hayden</td>\n",
       "      <td>indie</td>\n",
       "    </tr>\n",
       "    <tr>\n",
       "      <th>4</th>\n",
       "      <td>000ba849-700e-452e-8858-0db591587e4a</td>\n",
       "      <td>The Mutton Birds</td>\n",
       "      <td>New Zealand</td>\n",
       "    </tr>\n",
       "  </tbody>\n",
       "</table>\n",
       "</div>"
      ],
      "text/plain": [
       "                               ArtistID                    ArtistName  \\\n",
       "0  000077f7-26b1-4710-80cc-f6beddbdd157  Ryan Adams and The Cardinals   \n",
       "1  00034ede-a1f1-4219-be39-02f36853373e                       O Rappa   \n",
       "2  00050add-f633-4901-8d93-6f88c640c0da                    9 Inch Dix   \n",
       "3  000b1990-4dd8-4835-abcd-bb6038c13ac7                        Hayden   \n",
       "4  000ba849-700e-452e-8858-0db591587e4a              The Mutton Birds   \n",
       "\n",
       "           Tag  \n",
       "0  alt country  \n",
       "1         rock  \n",
       "2          rap  \n",
       "3        indie  \n",
       "4  New Zealand  "
      ]
     },
     "execution_count": 30,
     "metadata": {},
     "output_type": "execute_result"
    }
   ],
   "source": [
    "# TODO Implement this. You can change the function arguments if necessary\n",
    "# Return a data structure that contains (artist id, artist name, top tag) for every artist\n",
    "import numpy as np\n",
    "def calculate_top_tag(all_tags):\n",
    "    def temp(group):\n",
    "        return group.sort_values(['Count'], ascending=False).head(1)\n",
    "    sort_artist = all_tags.groupby('ArtistID').apply(temp)\n",
    "    return sort_artist.reset_index(drop=True)[['ArtistID', 'ArtistName', 'Tag']] \n",
    "\n",
    "top_tags = calculate_top_tag(artists_tags)\n",
    "top_tags.head()\n"
   ]
  },
  {
   "cell_type": "code",
   "execution_count": 31,
   "metadata": {
    "collapsed": false
   },
   "outputs": [
    {
     "name": "stdout",
     "output_type": "stream",
     "text": [
      "Top tag for Nirvana is Grunge\n"
     ]
    }
   ],
   "source": [
    "# Print the top tag for Nirvana\n",
    "# Artist ID for Nirvana is 5b11f4ce-a62d-471e-81fc-a69a8278c7da\n",
    "# Should be 'Grunge'\n",
    "print(\"Top tag for Nirvana is %s\" % (top_tags[top_tags.ArtistID == '5b11f4ce-a62d-471e-81fc-a69a8278c7da'].Tag.values[0])) # Complete this line \n"
   ]
  },
  {
   "cell_type": "code",
   "execution_count": 32,
   "metadata": {
    "collapsed": false
   },
   "outputs": [
    {
     "data": {
      "text/html": [
       "<div>\n",
       "<table border=\"1\" class=\"dataframe\">\n",
       "  <thead>\n",
       "    <tr style=\"text-align: right;\">\n",
       "      <th></th>\n",
       "      <th>ArtistID</th>\n",
       "      <th>user_000001</th>\n",
       "      <th>user_000002</th>\n",
       "      <th>user_000003</th>\n",
       "      <th>user_000004</th>\n",
       "      <th>user_000005</th>\n",
       "      <th>user_000006</th>\n",
       "      <th>user_000007</th>\n",
       "      <th>user_000008</th>\n",
       "      <th>user_000009</th>\n",
       "      <th>...</th>\n",
       "      <th>user_000890</th>\n",
       "      <th>user_000891</th>\n",
       "      <th>user_000892</th>\n",
       "      <th>user_000893</th>\n",
       "      <th>user_000894</th>\n",
       "      <th>user_000895</th>\n",
       "      <th>user_000896</th>\n",
       "      <th>user_000897</th>\n",
       "      <th>user_000898</th>\n",
       "      <th>user_000899</th>\n",
       "    </tr>\n",
       "  </thead>\n",
       "  <tbody>\n",
       "    <tr>\n",
       "      <th>0</th>\n",
       "      <td>c489cd1c-d8d3-4dcc-b7b9-dcf7cd95d2ed</td>\n",
       "      <td>0</td>\n",
       "      <td>0</td>\n",
       "      <td>0</td>\n",
       "      <td>0</td>\n",
       "      <td>0</td>\n",
       "      <td>0</td>\n",
       "      <td>0</td>\n",
       "      <td>0</td>\n",
       "      <td>0</td>\n",
       "      <td>...</td>\n",
       "      <td>0</td>\n",
       "      <td>0</td>\n",
       "      <td>0</td>\n",
       "      <td>0</td>\n",
       "      <td>0</td>\n",
       "      <td>0</td>\n",
       "      <td>0</td>\n",
       "      <td>0</td>\n",
       "      <td>0</td>\n",
       "      <td>0</td>\n",
       "    </tr>\n",
       "    <tr>\n",
       "      <th>1</th>\n",
       "      <td>9ccbb935-33fd-4df8-ae2d-779497c5630a</td>\n",
       "      <td>0</td>\n",
       "      <td>0</td>\n",
       "      <td>0</td>\n",
       "      <td>0</td>\n",
       "      <td>0</td>\n",
       "      <td>0</td>\n",
       "      <td>0</td>\n",
       "      <td>0</td>\n",
       "      <td>0</td>\n",
       "      <td>...</td>\n",
       "      <td>0</td>\n",
       "      <td>0</td>\n",
       "      <td>0</td>\n",
       "      <td>0</td>\n",
       "      <td>0</td>\n",
       "      <td>0</td>\n",
       "      <td>0</td>\n",
       "      <td>0</td>\n",
       "      <td>0</td>\n",
       "      <td>0</td>\n",
       "    </tr>\n",
       "    <tr>\n",
       "      <th>2</th>\n",
       "      <td>c71b2cc1-2737-4f76-bbf2-9ee505b4d90d</td>\n",
       "      <td>0</td>\n",
       "      <td>0</td>\n",
       "      <td>0</td>\n",
       "      <td>0</td>\n",
       "      <td>0</td>\n",
       "      <td>0</td>\n",
       "      <td>0</td>\n",
       "      <td>0</td>\n",
       "      <td>0</td>\n",
       "      <td>...</td>\n",
       "      <td>0</td>\n",
       "      <td>0</td>\n",
       "      <td>0</td>\n",
       "      <td>0</td>\n",
       "      <td>0</td>\n",
       "      <td>0</td>\n",
       "      <td>0</td>\n",
       "      <td>0</td>\n",
       "      <td>1</td>\n",
       "      <td>0</td>\n",
       "    </tr>\n",
       "    <tr>\n",
       "      <th>3</th>\n",
       "      <td>0aa8294b-6332-4b65-b677-e3a1f8591d3b</td>\n",
       "      <td>0</td>\n",
       "      <td>0</td>\n",
       "      <td>0</td>\n",
       "      <td>0</td>\n",
       "      <td>0</td>\n",
       "      <td>0</td>\n",
       "      <td>0</td>\n",
       "      <td>0</td>\n",
       "      <td>0</td>\n",
       "      <td>...</td>\n",
       "      <td>0</td>\n",
       "      <td>0</td>\n",
       "      <td>0</td>\n",
       "      <td>0</td>\n",
       "      <td>0</td>\n",
       "      <td>0</td>\n",
       "      <td>0</td>\n",
       "      <td>0</td>\n",
       "      <td>0</td>\n",
       "      <td>0</td>\n",
       "    </tr>\n",
       "    <tr>\n",
       "      <th>4</th>\n",
       "      <td>67673557-2310-41d3-83b9-e6e0cb1d65d5</td>\n",
       "      <td>0</td>\n",
       "      <td>0</td>\n",
       "      <td>0</td>\n",
       "      <td>0</td>\n",
       "      <td>0</td>\n",
       "      <td>0</td>\n",
       "      <td>0</td>\n",
       "      <td>0</td>\n",
       "      <td>0</td>\n",
       "      <td>...</td>\n",
       "      <td>0</td>\n",
       "      <td>0</td>\n",
       "      <td>0</td>\n",
       "      <td>0</td>\n",
       "      <td>0</td>\n",
       "      <td>0</td>\n",
       "      <td>0</td>\n",
       "      <td>0</td>\n",
       "      <td>0</td>\n",
       "      <td>0</td>\n",
       "    </tr>\n",
       "  </tbody>\n",
       "</table>\n",
       "<p>5 rows × 847 columns</p>\n",
       "</div>"
      ],
      "text/plain": [
       "                               ArtistID  user_000001  user_000002  \\\n",
       "0  c489cd1c-d8d3-4dcc-b7b9-dcf7cd95d2ed            0            0   \n",
       "1  9ccbb935-33fd-4df8-ae2d-779497c5630a            0            0   \n",
       "2  c71b2cc1-2737-4f76-bbf2-9ee505b4d90d            0            0   \n",
       "3  0aa8294b-6332-4b65-b677-e3a1f8591d3b            0            0   \n",
       "4  67673557-2310-41d3-83b9-e6e0cb1d65d5            0            0   \n",
       "\n",
       "   user_000003  user_000004  user_000005  user_000006  user_000007  \\\n",
       "0            0            0            0            0            0   \n",
       "1            0            0            0            0            0   \n",
       "2            0            0            0            0            0   \n",
       "3            0            0            0            0            0   \n",
       "4            0            0            0            0            0   \n",
       "\n",
       "   user_000008  user_000009     ...       user_000890  user_000891  \\\n",
       "0            0            0     ...                 0            0   \n",
       "1            0            0     ...                 0            0   \n",
       "2            0            0     ...                 0            0   \n",
       "3            0            0     ...                 0            0   \n",
       "4            0            0     ...                 0            0   \n",
       "\n",
       "   user_000892  user_000893  user_000894  user_000895  user_000896  \\\n",
       "0            0            0            0            0            0   \n",
       "1            0            0            0            0            0   \n",
       "2            0            0            0            0            0   \n",
       "3            0            0            0            0            0   \n",
       "4            0            0            0            0            0   \n",
       "\n",
       "   user_000897  user_000898  user_000899  \n",
       "0            0            0            0  \n",
       "1            0            0            0  \n",
       "2            0            1            0  \n",
       "3            0            0            0  \n",
       "4            0            0            0  \n",
       "\n",
       "[5 rows x 847 columns]"
      ]
     },
     "execution_count": 32,
     "metadata": {},
     "output_type": "execute_result"
    }
   ],
   "source": [
    "user_art_mat.head()"
   ]
  },
  {
   "cell_type": "markdown",
   "metadata": {},
   "source": [
    "**b**. To do clustering we will be using `numpy` matrices. Create a matrix from **user_art_mat** with every row in the matrix representing a single artist. The matrix will have 846 columns, one for whether each user listened to the artist."
   ]
  },
  {
   "cell_type": "code",
   "execution_count": 35,
   "metadata": {
    "collapsed": false
   },
   "outputs": [
    {
     "name": "stdout",
     "output_type": "stream",
     "text": [
      "(17119, 846)\n",
      "[[0 0 0 ..., 0 0 0]\n",
      " [0 0 0 ..., 0 0 0]\n",
      " [0 0 0 ..., 0 1 0]\n",
      " ..., \n",
      " [0 0 0 ..., 0 0 0]\n",
      " [0 0 0 ..., 0 0 0]\n",
      " [0 0 0 ..., 0 0 0]]\n"
     ]
    }
   ],
   "source": [
    "def create_user_matrix(input_data):\n",
    "    d = input_data.drop('ArtistID', axis=1)                        \n",
    "    return d.as_matrix()\n",
    "\n",
    "user_np_matrix = create_user_matrix(user_art_mat)\n",
    "\n",
    "print(user_np_matrix.shape) # Should be (17119, 846)\n",
    "print(user_np_matrix)"
   ]
  },
  {
   "cell_type": "markdown",
   "metadata": {},
   "source": [
    "### 1.2 K-Means clustering\n",
    "\n",
    "Having pre-processed the data we can now perform clustering on the dataset. In this assignment we will be using the python library \n",
    "[scikit-learn](http://scikit-learn.org/stable/index.html) for our machine learning algorithms. scikit-learn provides an extensive\n",
    "library of machine learning algorithms that can be used for analysis. Here is a [nice flow chart](http://scikit-learn.org/stable/tutorial/machine_learning_map/index.html) that shows various algorithms implemented\n",
    "and when to use any of them. In this part of the assignment we will look at K-Means clustering\n",
    "\n",
    "> **Note on terminology**: \"samples\" and \"features\" are two words you will come across frequently when you look at machine learning papers or documentation. \"samples\" refer to data points that are used as inputs to the machine learning algorithm. For example in our dataset each artist is a \"sample\". \"features\" refers to some representation we have for every sample. For example the list of 1s and 0s we have for each artist are \"features\". Similarly the bag-of-words approach from the previous homework produced \"features\" for each document.\n",
    "\n",
    "#### K-Means algorithm\n",
    "\n",
    "Clustering is the process of automatically grouping data points that are similar to each other. In the [K-Means algorithm](http://en.wikipedia.org/wiki/K-means_clustering) we start with `K` initially chosen cluster centers (or centroids). We then compute the distance of every point from the centroids and assign each point to the centroid. Next we update the centroids by averaging all the points in the cluster. Finally, we repeat the algorithm until the cluster centers are stable.\n",
    "\n",
    "### Running K-Means\n",
    "\n",
    "#### K-Means interface\n",
    "Take a minute to look at the scikit-learn interface for calling [KMeans](http://scikit-learn.org/stable/modules/generated/sklearn.cluster.KMeans.html). The constructor of the KMeans class returns a `estimator` on which you can call [fit](http://scikit-learn.org/stable/modules/generated/sklearn.cluster.KMeans.html#sklearn.cluster.KMeans.fit) to perform clustering.\n",
    "\n",
    "#### K-Means parameters\n",
    "From the above description we can see that there are a few parameters which control the K-Means algorithm. We will look at one parameter specifically, the number of clusters used in the algorithm. The number of clusters needs to be chosen based on domain knowledge of the data. As we do not know how many genres exist we will try different values and compare the results.\n",
    "\n",
    "#### Timing your code\n",
    "We will also measure the performance of clustering algorithms in this section. You can time the code in a cell using the **%%time** [IPython magic](http://nbviewer.ipython.org/github/ipython/ipython/blob/1.x/examples/notebooks/Cell%20Magics.ipynb) as the first line in the cell. \n",
    "\n",
    ">**Note**: By default, the scikit-learn KMeans implementation runs the algorithm 10 times with different center initializations. For this assignment you can run it just once by passing the `n_init` argument as 1."
   ]
  },
  {
   "cell_type": "markdown",
   "metadata": {},
   "source": [
    "#### Exercise 2\n",
    "\n",
    "**a**. Run K-means using *5* cluster centers on the `user_np_matrix`."
   ]
  },
  {
   "cell_type": "code",
   "execution_count": 7,
   "metadata": {
    "collapsed": false
   },
   "outputs": [
    {
     "name": "stdout",
     "output_type": "stream",
     "text": [
      "Wall time: 22.1 s\n"
     ]
    }
   ],
   "source": [
    "%%time\n",
    "from sklearn.cluster import KMeans\n",
    "\n",
    "# Run K-means using 5 cluster centers on user_np_matrix\n",
    "kmeans_5 = KMeans(n_clusters=5, n_init=1)\n",
    "kmeans_5.fit(user_np_matrix)\n"
   ]
  },
  {
   "cell_type": "markdown",
   "metadata": {},
   "source": [
    "**b**. Run K-means using *25* and *50* cluster centers on the `user_np_matrix`. Also measure the time taken for both cases."
   ]
  },
  {
   "cell_type": "code",
   "execution_count": 8,
   "metadata": {
    "collapsed": false
   },
   "outputs": [
    {
     "name": "stdout",
     "output_type": "stream",
     "text": [
      "Wall time: 23.8 s\n"
     ]
    }
   ],
   "source": [
    "%%time\n",
    "kmeans_25 = KMeans(n_clusters=25, n_init=1)\n",
    "kmeans_25.fit(user_np_matrix)"
   ]
  },
  {
   "cell_type": "code",
   "execution_count": 9,
   "metadata": {
    "collapsed": false
   },
   "outputs": [
    {
     "name": "stdout",
     "output_type": "stream",
     "text": [
      "Wall time: 19.1 s\n"
     ]
    }
   ],
   "source": [
    "%%time\n",
    "kmeans_50 = KMeans(n_clusters=50, n_init=1)\n",
    "kmeans_50.fit(user_np_matrix)"
   ]
  },
  {
   "cell_type": "markdown",
   "metadata": {},
   "source": [
    "**c**. Of the three algorithms, which setting took the longest to run ? Why do you think this is the case ?"
   ]
  },
  {
   "cell_type": "markdown",
   "metadata": {},
   "source": [
    ">TODO - Answer question here.\n",
    "<br>K-means using 50 cluster centers took the longest to run. Because when we using 50 cluster centers, we have to compare 50 cluster centers. So it take longest time."
   ]
  },
  {
   "cell_type": "markdown",
   "metadata": {},
   "source": [
    "### 1.3 Evaluating K-Means\n",
    "\n",
    "In addition to the speed comparisons we also wish to compare how good our clusters are. To do this we are first going to look at internal evaluation metrics. For internal evaluation we only use the input data and the clusters created and try to measure the quality of clusters. We will use a standard metric for this:\n",
    "\n",
    "#### Inertia\n",
    "Inertia is a metric that is used to estimate how close the data points in a cluster are. This is calculated as the sum of squared distance for each point to it's closest centroid, i.e., its assigned cluster center. The intution behind inertia is that clusters with lower inertia are better as it means closely related points form a cluster.Inertia is calculated by scikit-learn by default.\n"
   ]
  },
  {
   "cell_type": "markdown",
   "metadata": {},
   "source": [
    "**Exercise 3**"
   ]
  },
  {
   "cell_type": "markdown",
   "metadata": {},
   "source": [
    "**a**. Print inertia for all the kmeans model computed above."
   ]
  },
  {
   "cell_type": "code",
   "execution_count": 10,
   "metadata": {
    "collapsed": false
   },
   "outputs": [
    {
     "name": "stdout",
     "output_type": "stream",
     "text": [
      "Inertia for KMeans with 5 clusters = 349848.239458 \n",
      "Inertia for KMeans with 25 clusters =  321474.924317 \n",
      "Inertia for KMeans with 50 clusters = 310366.797114 \n"
     ]
    }
   ],
   "source": [
    "print(\"Inertia for KMeans with 5 clusters = %lf \" % kmeans_5.inertia_)\n",
    "print(\"Inertia for KMeans with 25 clusters =  %lf \" % kmeans_25.inertia_)\n",
    "print(\"Inertia for KMeans with 50 clusters = %lf \" % kmeans_50.inertia_)"
   ]
  },
  {
   "cell_type": "markdown",
   "metadata": {},
   "source": [
    "**b**. Does KMeans run with 25 clusters have lower or greater inertia than the ones with 5 or 50 clusters ? Why do you think this is ?"
   ]
  },
  {
   "cell_type": "markdown",
   "metadata": {},
   "source": [
    ">TODO: Answer question\n",
    "<br>KMeans run with 25 clusters have greater inertia than the ones with 50, but lower than the ones with 5. Clusters with lower inertia are better as it means closely related point form a cluster. So with more cluster center, point more close to cluster center."
   ]
  },
  {
   "cell_type": "markdown",
   "metadata": {},
   "source": [
    "### Silhouette Plot: \n",
    "A silhouette plot shows a lot of information about the quality of a clustering. You can read more about it <a href=\"http://en.wikipedia.org/wiki/Silhouette_%28clustering%29\">here</a>.\n",
    "\n",
    "Each sample x is assigned a score based on two distances:\n",
    "* a is the mean distance from x to other elements in its own cluster. \n",
    "* b is the mean distance from x to other elements in the next closest cluster to x.\n",
    "then the silhouette score is defined as $$\\frac{b-a}{\\max(a,b)}$$\n",
    "\n",
    "We want this number to be large, since it means the distances within the cluster are smaller than to the next best cluster. \n",
    "To construct the silhouette plot, we first group all the samples by the cluster containining them. \n",
    "Then within each group, we sort all the samples in that cluster by descending silhouette score.\n",
    "\n",
    "We start with the labels of the classified points:"
   ]
  },
  {
   "cell_type": "code",
   "execution_count": 11,
   "metadata": {
    "collapsed": false
   },
   "outputs": [],
   "source": [
    "labels = kmeans_5.labels_"
   ]
  },
  {
   "cell_type": "code",
   "execution_count": 36,
   "metadata": {
    "collapsed": false
   },
   "outputs": [
    {
     "data": {
      "text/plain": [
       "array([1, 1, 1, ..., 1, 1, 1])"
      ]
     },
     "execution_count": 36,
     "metadata": {},
     "output_type": "execute_result"
    }
   ],
   "source": [
    "labels"
   ]
  },
  {
   "cell_type": "code",
   "execution_count": 17,
   "metadata": {
    "collapsed": false
   },
   "outputs": [
    {
     "data": {
      "text/plain": [
       "17119"
      ]
     },
     "execution_count": 17,
     "metadata": {},
     "output_type": "execute_result"
    }
   ],
   "source": [
    "len(labels)"
   ]
  },
  {
   "cell_type": "code",
   "execution_count": 23,
   "metadata": {
    "collapsed": false
   },
   "outputs": [
    {
     "data": {
      "text/plain": [
       "array([[0, 0, 0, ..., 0, 0, 0],\n",
       "       [0, 0, 0, ..., 0, 0, 0],\n",
       "       [0, 0, 0, ..., 0, 1, 0],\n",
       "       ..., \n",
       "       [0, 0, 0, ..., 0, 0, 0],\n",
       "       [0, 0, 0, ..., 0, 0, 0],\n",
       "       [0, 0, 0, ..., 0, 0, 0]], dtype=int64)"
      ]
     },
     "execution_count": 23,
     "metadata": {},
     "output_type": "execute_result"
    }
   ],
   "source": [
    "user_np_matrix"
   ]
  },
  {
   "cell_type": "markdown",
   "metadata": {},
   "source": [
    "Then we compute the silhouette score for each sample. You dont need to do this for every sample, so define a variable n which is the number of samples to work with from now on. Use the sklearn \"silhouette_samples\" function to get the silhouette score for those n samples, and create a variable with the corresponding n labels:"
   ]
  },
  {
   "cell_type": "code",
   "execution_count": 47,
   "metadata": {
    "collapsed": false
   },
   "outputs": [
    {
     "name": "stdout",
     "output_type": "stream",
     "text": [
      "[ 0.40493176  0.41889884  0.26905123 -0.22486188  0.42940931 -0.18666724\n",
      "  0.29653311  0.53017857  0.34821246  0.53015768  0.44038178  0.3829059\n",
      "  0.45340261  0.50983376  0.42327557  0.45452953  0.37339426 -0.23477128\n",
      "  0.47226927  0.4887971   0.46873533  0.36106012  0.37919918  0.40465852\n",
      " -0.25696685  0.5301436  -0.18491162  0.41406852  0.41457627  0.32837015\n",
      "  0.25915341  0.35064238  0.44096008  0.37859817  0.36091646  0.45796154\n",
      "  0.40207533  0.34972733 -0.24656358 -0.11741582  0.41662587 -0.17200119\n",
      "  0.50779055 -0.13065088 -0.06331561  0.39380445  0.29550352  0.43992365\n",
      "  0.43650609  0.36628955  0.50897064  0.3858864   0.3904573   0.26380133\n",
      " -0.1769778  -0.16408877  0.35621272 -0.21524463  0.42742102  0.48929851\n",
      "  0.45251162  0.43818451  0.34172522  0.50780008  0.48930257 -0.16542953\n",
      "  0.25737181 -0.2321044  -0.13193424  0.44198862  0.39689475  0.37025545\n",
      "  0.28127376 -0.18404678  0.48937989 -0.21403972  0.34000609  0.50976595\n",
      "  0.20973426  0.4692054   0.35377132  0.49006633  0.293392   -0.05066784\n",
      "  0.27917677  0.42370868  0.2998739   0.50876891  0.53090869  0.53177074\n",
      " -0.20853137  0.5303042  -0.05247621 -0.15948003  0.43573768  0.39928585\n",
      " -0.14851628  0.50953838  0.27614616  0.53090833  0.37110587  0.5095243\n",
      " -0.17327044  0.53179656 -0.14049496  0.27702723  0.42359043  0.50786752\n",
      "  0.32124335  0.47113924  0.3469756   0.31174032 -0.15701427  0.34490087\n",
      "  0.4133262   0.0065834   0.4717686   0.46863878  0.32407594 -0.08557447\n",
      "  0.4535819   0.46934503 -0.08573706  0.26583852  0.47073981  0.43934473\n",
      "  0.40271794  0.09489463 -0.10282368  0.46780967  0.30481341  0.48644159\n",
      "  0.31390734  0.44015674  0.43943372  0.22180237 -0.15535222  0.24779931\n",
      " -0.16207705  0.50993828  0.47431293 -0.09143156  0.29821657  0.36232224\n",
      "  0.48777987  0.44156756  0.40413643 -0.1148903  -0.01164524  0.35604268\n",
      "  0.34900436  0.38061662  0.50825144  0.38433478  0.48681071 -0.26871981\n",
      "  0.50911766 -0.28795995  0.39886178  0.39480272  0.36193406 -0.11523843\n",
      "  0.45591216  0.51042501  0.45789299 -0.08239552 -0.2687449  -0.24230809\n",
      " -0.24429448  0.36696872 -0.1857089   0.34307647 -0.02932146  0.27636206\n",
      " -0.23712037  0.50714871  0.53037885 -0.23757702  0.53049309  0.50715371\n",
      "  0.41672274  0.52991306  0.3455474   0.4367128  -0.12292271  0.50932557\n",
      "  0.52961897  0.3140219  -0.2394856   0.33465072  0.32691526  0.32960516\n",
      "  0.47181367 -0.13932857  0.34858783  0.45376368  0.50827531  0.2540616\n",
      "  0.26602087  0.50944086  0.39927527 -0.17887645  0.4863853   0.50904555\n",
      "  0.47282275 -0.1056584  -0.18707872  0.46990914  0.30614853  0.30857051\n",
      "  0.36600404  0.43434714  0.48934111  0.46822825 -0.22275187  0.38119223\n",
      " -0.02016412  0.48942767  0.31164668  0.40052591  0.53103794 -0.23411775\n",
      "  0.32092941  0.45617291  0.43026133  0.44141991 -0.1064656  -0.24349493\n",
      "  0.530033    0.53103794  0.35748066  0.37646854  0.44071245 -0.03556925\n",
      " -0.2207993   0.47437411  0.31454405  0.42747216  0.47286343  0.44168192\n",
      "  0.3906006   0.46875583 -0.06009884  0.44999618  0.53044372  0.31074341\n",
      " -0.23349304  0.5075293   0.50960142 -0.27732953 -0.24523774 -0.20485769\n",
      "  0.45122527  0.45164532 -0.12819224  0.48759857  0.41322005  0.40715898\n",
      "  0.3908051   0.34399778  0.47444218  0.4888551   0.50879511  0.34401979\n",
      " -0.29643447  0.34374885 -0.15320708  0.38757739 -0.15012942  0.53050212\n",
      "  0.36873157 -0.16612093  0.47132705  0.43716864  0.38580697  0.5094469\n",
      "  0.40801399 -0.09685003 -0.22593702 -0.05458391  0.33712854  0.28999715\n",
      " -0.22876155  0.47121744  0.43846144  0.47365495 -0.19211525 -0.24496989\n",
      "  0.45853557  0.3208461  -0.1167362   0.38081139  0.4772209   0.47216671\n",
      "  0.53135685 -0.10847076  0.30487287  0.36747855  0.2586705  -0.12720193\n",
      "  0.48844792  0.39250094  0.47006569  0.34658412  0.44287749 -0.16814973\n",
      "  0.36673432 -0.14258937 -0.11428158 -0.20992174 -0.03065046 -0.11788188\n",
      "  0.53090869 -0.13966044  0.34198401  0.19794124  0.41777013  0.53051555\n",
      " -0.17097931  0.33484202  0.2773581   0.47081202 -0.27342778  0.37198276\n",
      "  0.41612494 -0.13964617  0.44001881 -0.02980824  0.43600275  0.43795502\n",
      "  0.26384888  0.40976331  0.49006726  0.51075931  0.36275478 -0.21564448\n",
      "  0.41500829  0.46479119  0.42431803  0.40221607  0.47024253  0.50842944\n",
      "  0.42124999  0.53203874 -0.10610605 -0.13591146  0.22960002 -0.24399666\n",
      " -0.21178149 -0.16379011  0.53047474  0.50967295  0.39928253  0.27515933\n",
      "  0.45430525  0.23227165  0.51181954  0.46923821  0.5300325   0.35582562\n",
      "  0.35244447 -0.16367909  0.22898161 -0.19127073  0.36490302  0.34495979\n",
      "  0.47250641  0.42968713  0.25382801  0.40343133  0.39041413  0.32377611\n",
      "  0.50905521  0.28292551  0.37122728  0.53150973  0.42276071  0.29360887\n",
      " -0.16636589  0.367931    0.50748623  0.53049309  0.34158529 -0.04872595\n",
      "  0.45481146 -0.20143301  0.50754389 -0.16487931  0.45709515  0.26594818\n",
      "  0.49025236  0.34130181  0.27598869  0.35762486 -0.17252671 -0.13570616\n",
      "  0.27433093 -0.1941796   0.52975887  0.47241358  0.53048816  0.41528433\n",
      "  0.25586015  0.41300551 -0.16011822 -0.11435233  0.50790736  0.48708755\n",
      "  0.29897597  0.4653681   0.33449339  0.2929912   0.46182565  0.35492808\n",
      "  0.46627878  0.3278366   0.48840294 -0.18859538  0.40594994  0.33162617\n",
      "  0.42313621  0.47168457 -0.15475012  0.472766    0.4735116   0.4513083\n",
      "  0.35669604 -0.32316864  0.36959704  0.28916498 -0.15035167  0.38459266\n",
      "  0.48976404  0.50908911  0.32121569  0.5311962  -0.12917288  0.51028808\n",
      " -0.24355556  0.23855351  0.53065939  0.41084737  0.43928392  0.42674925\n",
      "  0.27494548  0.53071226  0.3865476  -0.14946907  0.41440508  0.27447508\n",
      " -0.09021844 -0.03476823  0.35797786  0.45358959  0.46739108  0.36615142\n",
      " -0.26282587  0.38047227  0.37018546  0.33299204  0.43001321  0.29498173\n",
      "  0.47170474  0.44035982 -0.19049926  0.3516882   0.49011545  0.42463383\n",
      " -0.14508594  0.47039758  0.35388243  0.35617371 -0.23524473  0.38981384\n",
      "  0.44267896  0.36984168  0.53066813  0.40930652  0.50954995  0.28137089\n",
      " -0.14403119 -0.16529209  0.45407461  0.43767023  0.4073427  -0.11144268\n",
      "  0.53092812  0.53089875  0.36003766 -0.16602468 -0.19757831  0.44050161\n",
      " -0.08161867  0.45663912  0.39604103  0.47242071 -0.15187656 -0.24693445\n",
      "  0.4329521   0.53134103  0.31606886  0.31977759 -0.17955668  0.45580097\n",
      "  0.38416713  0.42084842 -0.23359221  0.4694773   0.47257664 -0.1719843\n",
      "  0.49018249 -0.21775209  0.32161298  0.40410451  0.32607332  0.37907652\n",
      "  0.53157473  0.30167253  0.50866831  0.25842324  0.53041361  0.53089875\n",
      "  0.46103671 -0.19144312  0.3325931   0.48941298  0.24586138  0.17616951\n",
      "  0.31348179  0.40379487  0.4692582   0.21228522  0.5092797   0.42253769\n",
      " -0.0430161   0.32730263 -0.24350003  0.41158074 -0.2585204   0.44467488\n",
      "  0.33125641  0.48976404 -0.0825131   0.34097641  0.32651557  0.40970935\n",
      "  0.4183413  -0.15358202  0.3219587  -0.14356003  0.36041036 -0.28680935\n",
      "  0.29673622  0.50789667  0.5088489   0.5066648  -0.16392882 -0.17196897\n",
      " -0.24190145  0.48897606  0.53061778  0.50972628  0.30990341 -0.28444429\n",
      "  0.48505026  0.30323075  0.52997047  0.35084465 -0.23666482  0.3207765\n",
      " -0.20939802  0.45290674  0.40790116 -0.19451065  0.23975322  0.42448424\n",
      "  0.46597553 -0.13629724  0.47024171  0.36644278  0.50818546  0.50932472\n",
      "  0.46929487 -0.0974782   0.53209721  0.50774727  0.41054746  0.33591458\n",
      "  0.36770575  0.27231467  0.38015246  0.50837062 -0.18892696  0.53029815\n",
      " -0.18073839 -0.2342305   0.34776481  0.45293899  0.45236982  0.27982936\n",
      "  0.48229672 -0.15870411  0.51052502 -0.13370383  0.53071943  0.53203874\n",
      "  0.33561616  0.37776779 -0.17592732  0.34750412  0.48892965  0.48904769\n",
      "  0.31640529  0.41420644 -0.17440609  0.53166119  0.50886293  0.38979821\n",
      "  0.5311962   0.43429974  0.53061024  0.28295972 -0.19971795  0.42205733\n",
      "  0.4733732   0.43919151 -0.25473696  0.43645635 -0.12453751  0.47263464\n",
      "  0.43800279 -0.16540891  0.46810874  0.3868516   0.53066794  0.50849144\n",
      "  0.53123149  0.53312383  0.31910242  0.28139377 -0.10183205  0.35631701\n",
      "  0.29641618  0.3206274   0.47226732  0.2783598   0.291197    0.33773226\n",
      " -0.22688927 -0.25049472 -0.09022458 -0.22893146  0.530627    0.30370214\n",
      "  0.51104834  0.45353468 -0.19325969  0.31602241  0.50968794 -0.11471091\n",
      "  0.33679072 -0.13627692  0.35221274 -0.12667109  0.3862592   0.4772209\n",
      "  0.31281039 -0.09509376  0.38534155  0.45395329 -0.2549646   0.39735983\n",
      "  0.39181157  0.47050615 -0.1374975   0.47082877  0.53157473  0.35967833\n",
      "  0.34249327  0.23539276  0.20770295  0.37276908 -0.1922189  -0.2442232\n",
      " -0.26820173 -0.30163919  0.47200081  0.39503378  0.43895883  0.22390955\n",
      "  0.27116356  0.50608504  0.42537538  0.45594597 -0.02185687  0.53160467\n",
      "  0.39861556 -0.20638934 -0.19306538  0.44147841  0.47063671  0.40568046\n",
      "  0.45833491 -0.1486684  -0.25040317  0.31331452  0.46892397 -0.08168713\n",
      "  0.3608989  -0.16503812  0.33501667  0.32350915  0.34458188  0.07956302\n",
      " -0.19144625  0.32926066 -0.17211499 -0.07982819  0.50874527  0.37838433\n",
      " -0.21026363  0.53049735  0.38325189 -0.2081252   0.39659899  0.50838622\n",
      "  0.38068125  0.36822445  0.52989532  0.30599327  0.50805457  0.53312383\n",
      "  0.43235565 -0.20001955  0.31546473  0.30724753  0.4885981   0.38622543\n",
      " -0.24249218  0.50824268  0.36335111  0.45516259  0.50786018  0.45690369\n",
      "  0.45477113  0.41901836  0.36036275  0.53142687  0.21538021  0.40064905\n",
      " -0.29023819 -0.18636935  0.48824727  0.393531    0.43921011 -0.25436158\n",
      " -0.13497835 -0.07341166 -0.17156955  0.4885305   0.36939001  0.39860906\n",
      "  0.34937137  0.43548789  0.38049894  0.45314254  0.50974695  0.42364027\n",
      "  0.37346099  0.43590574  0.34424565  0.36730349  0.4559326   0.27330014\n",
      "  0.48937614  0.39139283  0.51104834  0.28969761  0.45142139  0.50798659\n",
      "  0.32946583  0.44331489  0.4018582   0.43766166  0.45685372  0.47192862\n",
      " -0.23103324  0.3368915  -0.15626907 -0.19045042  0.47101594  0.35149424\n",
      "  0.37598096  0.28429427  0.34511323  0.48626191 -0.12885338  0.47382803\n",
      "  0.19530133  0.28988802  0.44136653 -0.06230382  0.31972299  0.37953413\n",
      "  0.36737152  0.34370114 -0.15163959  0.2944302   0.47177296  0.53020999\n",
      "  0.24484721  0.38684912  0.45513735 -0.19363497  0.47268085  0.49395528\n",
      "  0.34856526  0.45586724  0.32185851  0.53160467 -0.24170736 -0.2718834\n",
      "  0.50742454  0.23693535 -0.06965299  0.48571517  0.50893598  0.50935052\n",
      "  0.43010902 -0.00463881  0.41863337  0.39420765  0.48896256  0.45522427\n",
      "  0.37929471 -0.06108353 -0.12328187  0.53226692 -0.0884246   0.42257696\n",
      "  0.51043041  0.36761924  0.33658266  0.40757314  0.41560247 -0.07265721\n",
      "  0.45568541  0.38632795  0.50723849 -0.24626212 -0.21784319  0.45115701\n",
      "  0.47314921  0.5074199   0.45477741 -0.24149032  0.39202697  0.28269385\n",
      "  0.42518734  0.4692272   0.46893055  0.39018766  0.50968794  0.50859068\n",
      "  0.28992849  0.37255925  0.3149765   0.47390115 -0.07581437  0.46795602\n",
      "  0.48974114  0.46572751  0.53184586  0.30041753  0.49018854 -0.11232942\n",
      "  0.28724048 -0.08160619  0.3982711  -0.15716892  0.53136775  0.35144126\n",
      "  0.30872923 -0.29506469  0.3660372   0.50865942  0.39459746  0.40438217\n",
      " -0.02957092  0.31665525  0.50923092  0.53050212  0.25039606 -0.17001573\n",
      "  0.45262727  0.36476314  0.34497314 -0.10027024  0.24381206  0.42209905\n",
      " -0.20966784  0.53115772 -0.17648286 -0.09410862  0.26550255  0.45548268\n",
      " -0.26146639  0.41390277  0.46547402 -0.15655277  0.50973577  0.42142578\n",
      "  0.43929181  0.44128573 -0.044026   -0.14292535 -0.23996582  0.26292227\n",
      "  0.37630707  0.37651098  0.43832432  0.36645589 -0.22975049  0.2670212\n",
      " -0.11672174  0.29544531  0.47227994 -0.22929935  0.43705037  0.31179736\n",
      " -0.17775181  0.48121939 -0.2616774   0.4527412   0.18149524 -0.1861605\n",
      " -0.19850287  0.39889453  0.40259259  0.5308785  -0.0420743   0.50715583\n",
      " -0.02061802  0.48835019 -0.30306495 -0.2241381   0.53028384 -0.190423\n",
      " -0.13599374  0.28263751  0.50924496  0.41433122 -0.05128899  0.43017665\n",
      "  0.36938658  0.48907281  0.29268064  0.27926685  0.5303331  -0.08414137\n",
      "  0.35682463 -0.14546817  0.43846211  0.53209721  0.19506703 -0.15220368\n",
      "  0.34804612  0.3410538   0.27864371 -0.17290343  0.45516121 -0.33896509\n",
      " -0.13629918  0.27797209  0.44766865  0.34168112  0.23219858  0.27562248\n",
      "  0.50754557  0.38344842  0.39115055  0.31104602  0.50750805  0.34120969\n",
      "  0.39623671 -0.12331536  0.34974738  0.45461052 -0.24665817 -0.23873951\n",
      "  0.5102087   0.48915914  0.50911613 -0.16129394  0.53142687  0.45395992\n",
      "  0.35522216  0.53123149  0.18656671  0.35125038]\n"
     ]
    }
   ],
   "source": [
    "from sklearn.metrics import silhouette_samples\n",
    "import random\n",
    "n=1000\n",
    "\n",
    "# slabels = labels[random.sample(np.r_[0:len(labels)], n)] # subset of n labels\n",
    "# slabels = labels[random.sample(list(np.r_[0:len(labels)]), n)] # subset of n labels\n",
    "slabels = labels[0:n] # subset of n labels\n",
    "\n",
    "sscore = silhouette_samples(user_np_matrix[0:n,:], slabels) # subset of n silhouette scores\n",
    "\n",
    "print(sscore)\n"
   ]
  },
  {
   "cell_type": "markdown",
   "metadata": {},
   "source": [
    "The next step is to organize the scores into groups by the label. Create a DataFrame with two columns \"ClusterId\" and \"Silhouette Score\", and fill it with the n labels and n scores from above. Sort the frame first by ClusterId, then by Silhouette Score, so that cluster samples are grouped together. Now extract the sorted Silhouette Score column as a matrix. Plot it using pylab's \"barh\" routine, which plots horizontal bars. You should also print out a dataframe with counts of samples for each cluster."
   ]
  },
  {
   "cell_type": "code",
   "execution_count": 72,
   "metadata": {
    "collapsed": false
   },
   "outputs": [
    {
     "data": {
      "text/plain": [
       "<matplotlib.text.Text at 0xc92fb1f588>"
      ]
     },
     "execution_count": 72,
     "metadata": {},
     "output_type": "execute_result"
    },
    {
     "data": {
      "image/png": "[encoded data removed]",
      "text/plain": [
       "<matplotlib.figure.Figure at 0xc916a3f940>"
      ]
     },
     "metadata": {},
     "output_type": "display_data"
    }
   ],
   "source": [
    "from pylab import *\n",
    "\n",
    "df = pd.DataFrame({'ClusterId': slabels, 'Silhouette Score': sscore})\n",
    "\n",
    "dfs = df.sort_values(['ClusterId', 'Silhouette Score'])\n",
    "\n",
    "sscore = dfs[\"Silhouette Score\"].as_matrix()\n",
    "\n",
    "plt.barh(range(1000), sscore)\n",
    "plt.title(\"Lables VS Silhouette Score\")\n",
    "plt.xlabel(\"Silhouette Score\")\n",
    "plt.ylabel(\"Lables\")\n"
   ]
  },
  {
   "cell_type": "code",
   "execution_count": 73,
   "metadata": {
    "collapsed": false
   },
   "outputs": [
    {
     "data": {
      "text/html": [
       "<div>\n",
       "<table border=\"1\" class=\"dataframe\">\n",
       "  <thead>\n",
       "    <tr style=\"text-align: right;\">\n",
       "      <th></th>\n",
       "      <th>Silhouette Score</th>\n",
       "    </tr>\n",
       "    <tr>\n",
       "      <th>ClusterId</th>\n",
       "      <th></th>\n",
       "    </tr>\n",
       "  </thead>\n",
       "  <tbody>\n",
       "    <tr>\n",
       "      <th>0</th>\n",
       "      <td>44.059362</td>\n",
       "    </tr>\n",
       "    <tr>\n",
       "      <th>1</th>\n",
       "      <td>197.196295</td>\n",
       "    </tr>\n",
       "    <tr>\n",
       "      <th>2</th>\n",
       "      <td>9.698772</td>\n",
       "    </tr>\n",
       "    <tr>\n",
       "      <th>3</th>\n",
       "      <td>10.864576</td>\n",
       "    </tr>\n",
       "    <tr>\n",
       "      <th>4</th>\n",
       "      <td>2.820433</td>\n",
       "    </tr>\n",
       "  </tbody>\n",
       "</table>\n",
       "</div>"
      ],
      "text/plain": [
       "           Silhouette Score\n",
       "ClusterId                  \n",
       "0                 44.059362\n",
       "1                197.196295\n",
       "2                  9.698772\n",
       "3                 10.864576\n",
       "4                  2.820433"
      ]
     },
     "execution_count": 73,
     "metadata": {},
     "output_type": "execute_result"
    }
   ],
   "source": [
    "counts = dfs.groupby([\"ClusterId\"]).sum()\n",
    "counts"
   ]
  },
  {
   "cell_type": "markdown",
   "metadata": {},
   "source": [
    "**c** What do you notice about the sizes of the clusters? What about the average silhouette score per cluster? "
   ]
  },
  {
   "cell_type": "markdown",
   "metadata": {},
   "source": [
    ">TODO: Answer the question\n",
    "<br>There is one large cluster and three small clusters."
   ]
  },
  {
   "cell_type": "markdown",
   "metadata": {},
   "source": [
    "### 1.4 External Evaluation\n",
    "While internal evaluation is useful, a better method for measuring clustering quality is to do external evaluation. This might not be possible always as we may not have ground truth data available. In our application we will use `top_tags` from before as our ground truth data for external evaluation. We will first compute purity and accuracy and finally we will predict tags for our **test** dataset.\n",
    "\n",
    "#### Exercise 4\n",
    "\n",
    "**a**. As a first step we will need to **join** the `artist_tags` data with the set of labels generated by K-Means model. That is, for every artist we will now have the top tag, cluster id and artist name in a data structure."
   ]
  },
  {
   "cell_type": "code",
   "execution_count": 60,
   "metadata": {
    "collapsed": false
   },
   "outputs": [
    {
     "data": {
      "text/html": [
       "<div>\n",
       "<table border=\"1\" class=\"dataframe\">\n",
       "  <thead>\n",
       "    <tr style=\"text-align: right;\">\n",
       "      <th></th>\n",
       "      <th>ArtistID</th>\n",
       "      <th>ArtistName</th>\n",
       "      <th>Tag</th>\n",
       "      <th>Label</th>\n",
       "    </tr>\n",
       "  </thead>\n",
       "  <tbody>\n",
       "    <tr>\n",
       "      <th>0</th>\n",
       "      <td>000b1990-4dd8-4835-abcd-bb6038c13ac7</td>\n",
       "      <td>Hayden</td>\n",
       "      <td>indie</td>\n",
       "      <td>0</td>\n",
       "    </tr>\n",
       "    <tr>\n",
       "      <th>1</th>\n",
       "      <td>000ba849-700e-452e-8858-0db591587e4a</td>\n",
       "      <td>The Mutton Birds</td>\n",
       "      <td>New Zealand</td>\n",
       "      <td>1</td>\n",
       "    </tr>\n",
       "    <tr>\n",
       "      <th>2</th>\n",
       "      <td>000d90ec-d64c-48a1-b775-e726fd240e9f</td>\n",
       "      <td>Get Cape. Wear Cape. Fly</td>\n",
       "      <td>indie</td>\n",
       "      <td>0</td>\n",
       "    </tr>\n",
       "    <tr>\n",
       "      <th>3</th>\n",
       "      <td>000fc734-b7e1-4a01-92d1-f544261b43f5</td>\n",
       "      <td>Cocteau Twins</td>\n",
       "      <td>shoegaze</td>\n",
       "      <td>3</td>\n",
       "    </tr>\n",
       "    <tr>\n",
       "      <th>4</th>\n",
       "      <td>0019749d-ee29-4a5f-ab17-6bfa11deb969</td>\n",
       "      <td>DJ Food</td>\n",
       "      <td>ninja tune</td>\n",
       "      <td>3</td>\n",
       "    </tr>\n",
       "  </tbody>\n",
       "</table>\n",
       "</div>"
      ],
      "text/plain": [
       "                               ArtistID                ArtistName  \\\n",
       "0  000b1990-4dd8-4835-abcd-bb6038c13ac7                    Hayden   \n",
       "1  000ba849-700e-452e-8858-0db591587e4a          The Mutton Birds   \n",
       "2  000d90ec-d64c-48a1-b775-e726fd240e9f  Get Cape. Wear Cape. Fly   \n",
       "3  000fc734-b7e1-4a01-92d1-f544261b43f5             Cocteau Twins   \n",
       "4  0019749d-ee29-4a5f-ab17-6bfa11deb969                   DJ Food   \n",
       "\n",
       "           Tag  Label  \n",
       "0        indie      0  \n",
       "1  New Zealand      1  \n",
       "2        indie      0  \n",
       "3     shoegaze      3  \n",
       "4   ninja tune      3  "
      ]
     },
     "execution_count": 60,
     "metadata": {},
     "output_type": "execute_result"
    }
   ],
   "source": [
    "# Return a data structure that contains artist_id, artist_name, top tag, cluster_label for every artist\n",
    "def join_tags_labels(artists_data, user_data, kmeans_model):\n",
    "    artist_labels = pd.DataFrame({\"ArtistID\": user_data['ArtistID'], \"Label\":kmeans_model.labels_})\n",
    "    joined_them = pd.merge(artists_data, artist_labels, on='ArtistID')\n",
    "    return joined_them\n",
    "\n",
    "# Run the function for all the models\n",
    "kmeans_5_joined = join_tags_labels(top_tags, user_art_mat, kmeans_5)\n",
    "kmeans_5_joined.head()\n"
   ]
  },
  {
   "cell_type": "code",
   "execution_count": 59,
   "metadata": {
    "collapsed": false
   },
   "outputs": [
    {
     "data": {
      "text/html": [
       "<div>\n",
       "<table border=\"1\" class=\"dataframe\">\n",
       "  <thead>\n",
       "    <tr style=\"text-align: right;\">\n",
       "      <th></th>\n",
       "      <th>ArtistID</th>\n",
       "      <th>ArtistName</th>\n",
       "      <th>Tag</th>\n",
       "      <th>Label</th>\n",
       "    </tr>\n",
       "  </thead>\n",
       "  <tbody>\n",
       "    <tr>\n",
       "      <th>0</th>\n",
       "      <td>000b1990-4dd8-4835-abcd-bb6038c13ac7</td>\n",
       "      <td>Hayden</td>\n",
       "      <td>indie</td>\n",
       "      <td>20</td>\n",
       "    </tr>\n",
       "    <tr>\n",
       "      <th>1</th>\n",
       "      <td>000ba849-700e-452e-8858-0db591587e4a</td>\n",
       "      <td>The Mutton Birds</td>\n",
       "      <td>New Zealand</td>\n",
       "      <td>3</td>\n",
       "    </tr>\n",
       "    <tr>\n",
       "      <th>2</th>\n",
       "      <td>000d90ec-d64c-48a1-b775-e726fd240e9f</td>\n",
       "      <td>Get Cape. Wear Cape. Fly</td>\n",
       "      <td>indie</td>\n",
       "      <td>20</td>\n",
       "    </tr>\n",
       "    <tr>\n",
       "      <th>3</th>\n",
       "      <td>000fc734-b7e1-4a01-92d1-f544261b43f5</td>\n",
       "      <td>Cocteau Twins</td>\n",
       "      <td>shoegaze</td>\n",
       "      <td>9</td>\n",
       "    </tr>\n",
       "    <tr>\n",
       "      <th>4</th>\n",
       "      <td>0019749d-ee29-4a5f-ab17-6bfa11deb969</td>\n",
       "      <td>DJ Food</td>\n",
       "      <td>ninja tune</td>\n",
       "      <td>21</td>\n",
       "    </tr>\n",
       "  </tbody>\n",
       "</table>\n",
       "</div>"
      ],
      "text/plain": [
       "                               ArtistID                ArtistName  \\\n",
       "0  000b1990-4dd8-4835-abcd-bb6038c13ac7                    Hayden   \n",
       "1  000ba849-700e-452e-8858-0db591587e4a          The Mutton Birds   \n",
       "2  000d90ec-d64c-48a1-b775-e726fd240e9f  Get Cape. Wear Cape. Fly   \n",
       "3  000fc734-b7e1-4a01-92d1-f544261b43f5             Cocteau Twins   \n",
       "4  0019749d-ee29-4a5f-ab17-6bfa11deb969                   DJ Food   \n",
       "\n",
       "           Tag  Label  \n",
       "0        indie     20  \n",
       "1  New Zealand      3  \n",
       "2        indie     20  \n",
       "3     shoegaze      9  \n",
       "4   ninja tune     21  "
      ]
     },
     "execution_count": 59,
     "metadata": {},
     "output_type": "execute_result"
    }
   ],
   "source": [
    "kmeans_25_joined = join_tags_labels(top_tags, user_art_mat, kmeans_25)\n",
    "kmeans_25_joined.head()"
   ]
  },
  {
   "cell_type": "code",
   "execution_count": 61,
   "metadata": {
    "collapsed": false
   },
   "outputs": [
    {
     "data": {
      "text/html": [
       "<div>\n",
       "<table border=\"1\" class=\"dataframe\">\n",
       "  <thead>\n",
       "    <tr style=\"text-align: right;\">\n",
       "      <th></th>\n",
       "      <th>ArtistID</th>\n",
       "      <th>ArtistName</th>\n",
       "      <th>Tag</th>\n",
       "      <th>Label</th>\n",
       "    </tr>\n",
       "  </thead>\n",
       "  <tbody>\n",
       "    <tr>\n",
       "      <th>0</th>\n",
       "      <td>000b1990-4dd8-4835-abcd-bb6038c13ac7</td>\n",
       "      <td>Hayden</td>\n",
       "      <td>indie</td>\n",
       "      <td>22</td>\n",
       "    </tr>\n",
       "    <tr>\n",
       "      <th>1</th>\n",
       "      <td>000ba849-700e-452e-8858-0db591587e4a</td>\n",
       "      <td>The Mutton Birds</td>\n",
       "      <td>New Zealand</td>\n",
       "      <td>0</td>\n",
       "    </tr>\n",
       "    <tr>\n",
       "      <th>2</th>\n",
       "      <td>000d90ec-d64c-48a1-b775-e726fd240e9f</td>\n",
       "      <td>Get Cape. Wear Cape. Fly</td>\n",
       "      <td>indie</td>\n",
       "      <td>47</td>\n",
       "    </tr>\n",
       "    <tr>\n",
       "      <th>3</th>\n",
       "      <td>000fc734-b7e1-4a01-92d1-f544261b43f5</td>\n",
       "      <td>Cocteau Twins</td>\n",
       "      <td>shoegaze</td>\n",
       "      <td>35</td>\n",
       "    </tr>\n",
       "    <tr>\n",
       "      <th>4</th>\n",
       "      <td>0019749d-ee29-4a5f-ab17-6bfa11deb969</td>\n",
       "      <td>DJ Food</td>\n",
       "      <td>ninja tune</td>\n",
       "      <td>13</td>\n",
       "    </tr>\n",
       "  </tbody>\n",
       "</table>\n",
       "</div>"
      ],
      "text/plain": [
       "                               ArtistID                ArtistName  \\\n",
       "0  000b1990-4dd8-4835-abcd-bb6038c13ac7                    Hayden   \n",
       "1  000ba849-700e-452e-8858-0db591587e4a          The Mutton Birds   \n",
       "2  000d90ec-d64c-48a1-b775-e726fd240e9f  Get Cape. Wear Cape. Fly   \n",
       "3  000fc734-b7e1-4a01-92d1-f544261b43f5             Cocteau Twins   \n",
       "4  0019749d-ee29-4a5f-ab17-6bfa11deb969                   DJ Food   \n",
       "\n",
       "           Tag  Label  \n",
       "0        indie     22  \n",
       "1  New Zealand      0  \n",
       "2        indie     47  \n",
       "3     shoegaze     35  \n",
       "4   ninja tune     13  "
      ]
     },
     "execution_count": 61,
     "metadata": {},
     "output_type": "execute_result"
    }
   ],
   "source": [
    "kmeans_50_joined = join_tags_labels(top_tags, user_art_mat, kmeans_50)\n",
    "kmeans_50_joined.head()"
   ]
  },
  {
   "cell_type": "markdown",
   "metadata": {},
   "source": [
    "**b**. Next we need to generate a genre for every cluster id we have (the cluster ids are from 0 to N-1). You can do this by **grouping** the data from the previous exercise on cluster id. \n",
    "\n",
    "One thing you might notice is that we typically get a bunch of different tags associated with every cluster. How do we pick one genre or tag from this ? To cover various tags that are part of the cluster, we will pick the **top 5** tags in each cluster and save the list of top-5 tags as the genre for the cluster.\n"
   ]
  },
  {
   "cell_type": "code",
   "execution_count": 67,
   "metadata": {
    "collapsed": false
   },
   "outputs": [
    {
     "data": {
      "text/plain": [
       "dict_keys([(0, 'rock'), (0, 'indie'), (0, 'Hip-Hop'), (0, 'electronic'), (0, 'jazz')])"
      ]
     },
     "execution_count": 67,
     "metadata": {},
     "output_type": "execute_result"
    }
   ],
   "source": [
    "kmeans_5_joined.groupby('Label').Tag.value_counts()[0:5].to_dict().keys()"
   ]
  },
  {
   "cell_type": "code",
   "execution_count": 62,
   "metadata": {
    "collapsed": false
   },
   "outputs": [],
   "source": [
    "# Return a data structure that contains cluster_id, list of top 5 tags for every cluster\n",
    "def assign_cluster_tags(joined_data):\n",
    "    grouped = joined_data.groupby('Label')\n",
    "    return pd.DataFrame(grouped.apply(lambda g: g.Tag.value_counts()[0:5].to_dict()))\n",
    "    \n",
    "kmeans_5_genres = assign_cluster_tags(kmeans_5_joined)\n",
    "kmeans_25_genres = assign_cluster_tags(kmeans_25_joined)\n",
    "kmeans_50_genres = assign_cluster_tags(kmeans_50_joined)"
   ]
  },
  {
   "cell_type": "code",
   "execution_count": 68,
   "metadata": {
    "collapsed": false
   },
   "outputs": [
    {
     "data": {
      "text/html": [
       "<div>\n",
       "<table border=\"1\" class=\"dataframe\">\n",
       "  <thead>\n",
       "    <tr style=\"text-align: right;\">\n",
       "      <th></th>\n",
       "      <th>0</th>\n",
       "    </tr>\n",
       "    <tr>\n",
       "      <th>Label</th>\n",
       "      <th></th>\n",
       "    </tr>\n",
       "  </thead>\n",
       "  <tbody>\n",
       "    <tr>\n",
       "      <th>0</th>\n",
       "      <td>(jazz, Hip-Hop, indie, electronic, rock)</td>\n",
       "    </tr>\n",
       "    <tr>\n",
       "      <th>1</th>\n",
       "      <td>(rock, Hip-Hop, indie, seen live, hardcore)</td>\n",
       "    </tr>\n",
       "    <tr>\n",
       "      <th>2</th>\n",
       "      <td>(rock, classic rock, punk, emo, pop)</td>\n",
       "    </tr>\n",
       "    <tr>\n",
       "      <th>3</th>\n",
       "      <td>(rock, Hip-Hop, indie, electronic, jazz)</td>\n",
       "    </tr>\n",
       "    <tr>\n",
       "      <th>4</th>\n",
       "      <td>(rock, classic rock, indie, electronic, britpop)</td>\n",
       "    </tr>\n",
       "  </tbody>\n",
       "</table>\n",
       "</div>"
      ],
      "text/plain": [
       "                                                      0\n",
       "Label                                                  \n",
       "0              (jazz, Hip-Hop, indie, electronic, rock)\n",
       "1           (rock, Hip-Hop, indie, seen live, hardcore)\n",
       "2                  (rock, classic rock, punk, emo, pop)\n",
       "3              (rock, Hip-Hop, indie, electronic, jazz)\n",
       "4      (rock, classic rock, indie, electronic, britpop)"
      ]
     },
     "execution_count": 68,
     "metadata": {},
     "output_type": "execute_result"
    }
   ],
   "source": [
    "kmeans_5_genres"
   ]
  },
  {
   "cell_type": "code",
   "execution_count": 70,
   "metadata": {
    "collapsed": false
   },
   "outputs": [
    {
     "data": {
      "text/html": [
       "<div>\n",
       "<table border=\"1\" class=\"dataframe\">\n",
       "  <thead>\n",
       "    <tr style=\"text-align: right;\">\n",
       "      <th></th>\n",
       "      <th>0</th>\n",
       "    </tr>\n",
       "    <tr>\n",
       "      <th>Label</th>\n",
       "      <th></th>\n",
       "    </tr>\n",
       "  </thead>\n",
       "  <tbody>\n",
       "    <tr>\n",
       "      <th>0</th>\n",
       "      <td>(post-punk, rock, punk, indie, new wave)</td>\n",
       "    </tr>\n",
       "    <tr>\n",
       "      <th>1</th>\n",
       "      <td>(rock, punk, jazz, seen live, reggae)</td>\n",
       "    </tr>\n",
       "    <tr>\n",
       "      <th>2</th>\n",
       "      <td>(folk, indie, alternative, female vocalists, s...</td>\n",
       "    </tr>\n",
       "    <tr>\n",
       "      <th>3</th>\n",
       "      <td>(rock, Hip-Hop, indie, seen live, hardcore)</td>\n",
       "    </tr>\n",
       "    <tr>\n",
       "      <th>4</th>\n",
       "      <td>(pop, Hip-Hop, indie, electronic, seen live)</td>\n",
       "    </tr>\n",
       "    <tr>\n",
       "      <th>5</th>\n",
       "      <td>(Gothic Metal, heavy metal, black metal, metal...</td>\n",
       "    </tr>\n",
       "    <tr>\n",
       "      <th>6</th>\n",
       "      <td>(chillout, Hip-Hop, electronic, Bossa Nova, tr...</td>\n",
       "    </tr>\n",
       "    <tr>\n",
       "      <th>7</th>\n",
       "      <td>(rock, indie, singer-songwriter)</td>\n",
       "    </tr>\n",
       "    <tr>\n",
       "      <th>8</th>\n",
       "      <td>(Grunge, rock, classic rock, heavy metal, metal)</td>\n",
       "    </tr>\n",
       "    <tr>\n",
       "      <th>9</th>\n",
       "      <td>(post-punk, rock, indie, seen live, new wave)</td>\n",
       "    </tr>\n",
       "    <tr>\n",
       "      <th>10</th>\n",
       "      <td>(rock, britpop, indie, seen live)</td>\n",
       "    </tr>\n",
       "    <tr>\n",
       "      <th>11</th>\n",
       "      <td>(minimal, ambient, electronic, idm, Drum and b...</td>\n",
       "    </tr>\n",
       "    <tr>\n",
       "      <th>12</th>\n",
       "      <td>(female vocalists, rock, classic rock, jazz, 80s)</td>\n",
       "    </tr>\n",
       "    <tr>\n",
       "      <th>13</th>\n",
       "      <td>(post-rock, pop, electronic, alternative, trip...</td>\n",
       "    </tr>\n",
       "    <tr>\n",
       "      <th>14</th>\n",
       "      <td>(rock, emo, indie, alternative, punk)</td>\n",
       "    </tr>\n",
       "    <tr>\n",
       "      <th>15</th>\n",
       "      <td>(blues, Soundtrack, french, Classical, jazz)</td>\n",
       "    </tr>\n",
       "    <tr>\n",
       "      <th>16</th>\n",
       "      <td>(pop, rnb, dance, trance, House)</td>\n",
       "    </tr>\n",
       "    <tr>\n",
       "      <th>17</th>\n",
       "      <td>(pop, Hip-Hop, soul, rnb, rap)</td>\n",
       "    </tr>\n",
       "    <tr>\n",
       "      <th>18</th>\n",
       "      <td>(industrial, rock, indie, alternative, Progres...</td>\n",
       "    </tr>\n",
       "    <tr>\n",
       "      <th>19</th>\n",
       "      <td>(Hip-Hop, indie, electronic, seen live, electro)</td>\n",
       "    </tr>\n",
       "    <tr>\n",
       "      <th>20</th>\n",
       "      <td>(rock, indie, seen live, indie pop, singer-son...</td>\n",
       "    </tr>\n",
       "    <tr>\n",
       "      <th>21</th>\n",
       "      <td>(downtempo, chillout, electronic, ambient, tri...</td>\n",
       "    </tr>\n",
       "    <tr>\n",
       "      <th>22</th>\n",
       "      <td>(rock, classic rock, indie, punk, country)</td>\n",
       "    </tr>\n",
       "    <tr>\n",
       "      <th>23</th>\n",
       "      <td>(rap, Hip-Hop, seen live, reggae, anticon)</td>\n",
       "    </tr>\n",
       "    <tr>\n",
       "      <th>24</th>\n",
       "      <td>(pop, classic rock, 80s, soul, rock)</td>\n",
       "    </tr>\n",
       "  </tbody>\n",
       "</table>\n",
       "</div>"
      ],
      "text/plain": [
       "                                                       0\n",
       "Label                                                   \n",
       "0               (post-punk, rock, punk, indie, new wave)\n",
       "1                  (rock, punk, jazz, seen live, reggae)\n",
       "2      (folk, indie, alternative, female vocalists, s...\n",
       "3            (rock, Hip-Hop, indie, seen live, hardcore)\n",
       "4           (pop, Hip-Hop, indie, electronic, seen live)\n",
       "5      (Gothic Metal, heavy metal, black metal, metal...\n",
       "6      (chillout, Hip-Hop, electronic, Bossa Nova, tr...\n",
       "7                       (rock, indie, singer-songwriter)\n",
       "8       (Grunge, rock, classic rock, heavy metal, metal)\n",
       "9          (post-punk, rock, indie, seen live, new wave)\n",
       "10                     (rock, britpop, indie, seen live)\n",
       "11     (minimal, ambient, electronic, idm, Drum and b...\n",
       "12     (female vocalists, rock, classic rock, jazz, 80s)\n",
       "13     (post-rock, pop, electronic, alternative, trip...\n",
       "14                 (rock, emo, indie, alternative, punk)\n",
       "15          (blues, Soundtrack, french, Classical, jazz)\n",
       "16                      (pop, rnb, dance, trance, House)\n",
       "17                        (pop, Hip-Hop, soul, rnb, rap)\n",
       "18     (industrial, rock, indie, alternative, Progres...\n",
       "19      (Hip-Hop, indie, electronic, seen live, electro)\n",
       "20     (rock, indie, seen live, indie pop, singer-son...\n",
       "21     (downtempo, chillout, electronic, ambient, tri...\n",
       "22            (rock, classic rock, indie, punk, country)\n",
       "23            (rap, Hip-Hop, seen live, reggae, anticon)\n",
       "24                  (pop, classic rock, 80s, soul, rock)"
      ]
     },
     "execution_count": 70,
     "metadata": {},
     "output_type": "execute_result"
    }
   ],
   "source": [
    "kmeans_25_genres"
   ]
  },
  {
   "cell_type": "markdown",
   "metadata": {},
   "source": [
    "#### Cluster Purity\n",
    "**Purity** measures the frequency of data belonging to the same cluster sharing the same class label i.e. if we have a number of items in a cluster how many of those items have the same label ? "
   ]
  },
  {
   "cell_type": "markdown",
   "metadata": {},
   "source": [
    "**c**. Compute the purity for each of our K-Means models. To do this find the top tags of all artists that belong to a cluster. Check what fraction of these tags are covered by the top 5 tags of the cluster. Average this value across all clusters. **HINT**: We used similar ideas to get the top 5 tags in a cluster. "
   ]
  },
  {
   "cell_type": "code",
   "execution_count": 74,
   "metadata": {
    "collapsed": false
   },
   "outputs": [
    {
     "name": "stdout",
     "output_type": "stream",
     "text": [
      "Purity for KMeans with 5 centers 0.410676 \n",
      "Purity for KMeans with 25 centers 0.696756 \n",
      "Purity for KMeans with 50 centers 0.766900 \n"
     ]
    }
   ],
   "source": [
    "def get_cluster_purity(joined_data):\n",
    "    grouped = joined_data.groupby('Label')\n",
    "    return pd.Series(grouped.apply(lambda g: g.Tag.value_counts()[0:5].sum()/ g.Tag.count())).mean()\n",
    "    \n",
    "print(\"Purity for KMeans with 5 centers %lf \" % get_cluster_purity(kmeans_5_joined))\n",
    "print(\"Purity for KMeans with 25 centers %lf \" % get_cluster_purity(kmeans_25_joined)) \n",
    "print(\"Purity for KMeans with 50 centers %lf \" % get_cluster_purity(kmeans_50_joined)) "
   ]
  },
  {
   "cell_type": "markdown",
   "metadata": {},
   "source": [
    "**d.** What do the numbers tell you about the models? Do you have a favorite?"
   ]
  },
  {
   "cell_type": "markdown",
   "metadata": {},
   "source": [
    ">TODO: Your answer here.\n",
    "<br>KMeans with 50 centers has the hightest purity. And I find as centers decrease, purity decrease. My favorite one is KMeans with 25 centers, because the purity for KMeans with 25 centers only a little lower than the purity for KMeans with 50 centers."
   ]
  },
  {
   "cell_type": "markdown",
   "metadata": {},
   "source": [
    "### 1.5 Evaluating Test Data\n",
    "Finally we can treat the clustering model as a multi-class classifier and make predictions on external test data. To do this we load the test data file **userart-mat-test.csv** and for every artist in the file we use the K-Means model to predict a cluster. We mark our prediction as successful if the artist's top tag belongs to one of the five tags for the cluster. \n",
    "\n",
    "#### Exercise 5"
   ]
  },
  {
   "cell_type": "markdown",
   "metadata": {},
   "source": [
    "**a** Load the testdata file and create a NumPy matrix named user_np_matrix_test."
   ]
  },
  {
   "cell_type": "code",
   "execution_count": 75,
   "metadata": {
    "collapsed": false
   },
   "outputs": [
    {
     "data": {
      "text/plain": [
       "(1902, 846)"
      ]
     },
     "execution_count": 75,
     "metadata": {},
     "output_type": "execute_result"
    }
   ],
   "source": [
    "user_art_mat_test = parse_user_artists_matrix(DATA_PATH + \"/userart-mat-test.csv\")\n",
    "# NOTE: the astype(float) converts integer to floats here\n",
    "user_np_matrix_test = create_user_matrix(user_art_mat_test).astype(float)\n",
    "\n",
    "user_np_matrix_test.shape # Should be (1902, 846)"
   ]
  },
  {
   "cell_type": "code",
   "execution_count": 76,
   "metadata": {
    "collapsed": false
   },
   "outputs": [
    {
     "data": {
      "text/plain": [
       "array([[ 0.,  0.,  0., ...,  0.,  0.,  0.],\n",
       "       [ 0.,  1.,  0., ...,  1.,  0.,  0.],\n",
       "       [ 1.,  0.,  0., ...,  0.,  0.,  0.],\n",
       "       ..., \n",
       "       [ 0.,  0.,  0., ...,  0.,  0.,  0.],\n",
       "       [ 0.,  0.,  0., ...,  0.,  0.,  0.],\n",
       "       [ 0.,  0.,  0., ...,  0.,  0.,  0.]])"
      ]
     },
     "execution_count": 76,
     "metadata": {},
     "output_type": "execute_result"
    }
   ],
   "source": [
    "user_np_matrix_test"
   ]
  },
  {
   "cell_type": "code",
   "execution_count": 78,
   "metadata": {
    "collapsed": false
   },
   "outputs": [
    {
     "data": {
      "text/html": [
       "<div>\n",
       "<table border=\"1\" class=\"dataframe\">\n",
       "  <thead>\n",
       "    <tr style=\"text-align: right;\">\n",
       "      <th></th>\n",
       "      <th>ArtistID</th>\n",
       "      <th>user_000001</th>\n",
       "      <th>user_000002</th>\n",
       "      <th>user_000003</th>\n",
       "      <th>user_000004</th>\n",
       "      <th>user_000005</th>\n",
       "      <th>user_000006</th>\n",
       "      <th>user_000007</th>\n",
       "      <th>user_000008</th>\n",
       "      <th>user_000009</th>\n",
       "      <th>...</th>\n",
       "      <th>user_000890</th>\n",
       "      <th>user_000891</th>\n",
       "      <th>user_000892</th>\n",
       "      <th>user_000893</th>\n",
       "      <th>user_000894</th>\n",
       "      <th>user_000895</th>\n",
       "      <th>user_000896</th>\n",
       "      <th>user_000897</th>\n",
       "      <th>user_000898</th>\n",
       "      <th>user_000899</th>\n",
       "    </tr>\n",
       "  </thead>\n",
       "  <tbody>\n",
       "    <tr>\n",
       "      <th>0</th>\n",
       "      <td>675b7627-6b5d-4a46-a728-785cb24a299e</td>\n",
       "      <td>0</td>\n",
       "      <td>0</td>\n",
       "      <td>0</td>\n",
       "      <td>0</td>\n",
       "      <td>0</td>\n",
       "      <td>0</td>\n",
       "      <td>0</td>\n",
       "      <td>0</td>\n",
       "      <td>0</td>\n",
       "      <td>...</td>\n",
       "      <td>0</td>\n",
       "      <td>0</td>\n",
       "      <td>1</td>\n",
       "      <td>0</td>\n",
       "      <td>0</td>\n",
       "      <td>0</td>\n",
       "      <td>0</td>\n",
       "      <td>0</td>\n",
       "      <td>0</td>\n",
       "      <td>0</td>\n",
       "    </tr>\n",
       "    <tr>\n",
       "      <th>1</th>\n",
       "      <td>07b6020a-c539-4d68-aeef-f159f3befc76</td>\n",
       "      <td>0</td>\n",
       "      <td>1</td>\n",
       "      <td>0</td>\n",
       "      <td>1</td>\n",
       "      <td>0</td>\n",
       "      <td>0</td>\n",
       "      <td>0</td>\n",
       "      <td>0</td>\n",
       "      <td>0</td>\n",
       "      <td>...</td>\n",
       "      <td>0</td>\n",
       "      <td>0</td>\n",
       "      <td>1</td>\n",
       "      <td>0</td>\n",
       "      <td>0</td>\n",
       "      <td>0</td>\n",
       "      <td>1</td>\n",
       "      <td>1</td>\n",
       "      <td>0</td>\n",
       "      <td>0</td>\n",
       "    </tr>\n",
       "    <tr>\n",
       "      <th>2</th>\n",
       "      <td>14dbdcb4-dbc1-49dc-b950-6815b06c13cf</td>\n",
       "      <td>1</td>\n",
       "      <td>0</td>\n",
       "      <td>0</td>\n",
       "      <td>0</td>\n",
       "      <td>0</td>\n",
       "      <td>0</td>\n",
       "      <td>0</td>\n",
       "      <td>0</td>\n",
       "      <td>0</td>\n",
       "      <td>...</td>\n",
       "      <td>0</td>\n",
       "      <td>0</td>\n",
       "      <td>0</td>\n",
       "      <td>0</td>\n",
       "      <td>0</td>\n",
       "      <td>0</td>\n",
       "      <td>0</td>\n",
       "      <td>0</td>\n",
       "      <td>0</td>\n",
       "      <td>0</td>\n",
       "    </tr>\n",
       "    <tr>\n",
       "      <th>3</th>\n",
       "      <td>078a9376-3c04-4280-b7d7-b20e158f345d</td>\n",
       "      <td>0</td>\n",
       "      <td>0</td>\n",
       "      <td>0</td>\n",
       "      <td>1</td>\n",
       "      <td>0</td>\n",
       "      <td>0</td>\n",
       "      <td>0</td>\n",
       "      <td>0</td>\n",
       "      <td>0</td>\n",
       "      <td>...</td>\n",
       "      <td>0</td>\n",
       "      <td>0</td>\n",
       "      <td>0</td>\n",
       "      <td>1</td>\n",
       "      <td>0</td>\n",
       "      <td>0</td>\n",
       "      <td>0</td>\n",
       "      <td>1</td>\n",
       "      <td>1</td>\n",
       "      <td>1</td>\n",
       "    </tr>\n",
       "    <tr>\n",
       "      <th>4</th>\n",
       "      <td>a7e91263-42c7-462c-b011-48c24f289103</td>\n",
       "      <td>0</td>\n",
       "      <td>0</td>\n",
       "      <td>0</td>\n",
       "      <td>0</td>\n",
       "      <td>1</td>\n",
       "      <td>0</td>\n",
       "      <td>0</td>\n",
       "      <td>0</td>\n",
       "      <td>0</td>\n",
       "      <td>...</td>\n",
       "      <td>0</td>\n",
       "      <td>0</td>\n",
       "      <td>0</td>\n",
       "      <td>0</td>\n",
       "      <td>0</td>\n",
       "      <td>0</td>\n",
       "      <td>0</td>\n",
       "      <td>0</td>\n",
       "      <td>0</td>\n",
       "      <td>0</td>\n",
       "    </tr>\n",
       "  </tbody>\n",
       "</table>\n",
       "<p>5 rows × 847 columns</p>\n",
       "</div>"
      ],
      "text/plain": [
       "                               ArtistID  user_000001  user_000002  \\\n",
       "0  675b7627-6b5d-4a46-a728-785cb24a299e            0            0   \n",
       "1  07b6020a-c539-4d68-aeef-f159f3befc76            0            1   \n",
       "2  14dbdcb4-dbc1-49dc-b950-6815b06c13cf            1            0   \n",
       "3  078a9376-3c04-4280-b7d7-b20e158f345d            0            0   \n",
       "4  a7e91263-42c7-462c-b011-48c24f289103            0            0   \n",
       "\n",
       "   user_000003  user_000004  user_000005  user_000006  user_000007  \\\n",
       "0            0            0            0            0            0   \n",
       "1            0            1            0            0            0   \n",
       "2            0            0            0            0            0   \n",
       "3            0            1            0            0            0   \n",
       "4            0            0            1            0            0   \n",
       "\n",
       "   user_000008  user_000009     ...       user_000890  user_000891  \\\n",
       "0            0            0     ...                 0            0   \n",
       "1            0            0     ...                 0            0   \n",
       "2            0            0     ...                 0            0   \n",
       "3            0            0     ...                 0            0   \n",
       "4            0            0     ...                 0            0   \n",
       "\n",
       "   user_000892  user_000893  user_000894  user_000895  user_000896  \\\n",
       "0            1            0            0            0            0   \n",
       "1            1            0            0            0            1   \n",
       "2            0            0            0            0            0   \n",
       "3            0            1            0            0            0   \n",
       "4            0            0            0            0            0   \n",
       "\n",
       "   user_000897  user_000898  user_000899  \n",
       "0            0            0            0  \n",
       "1            1            0            0  \n",
       "2            0            0            0  \n",
       "3            1            1            1  \n",
       "4            0            0            0  \n",
       "\n",
       "[5 rows x 847 columns]"
      ]
     },
     "execution_count": 78,
     "metadata": {},
     "output_type": "execute_result"
    }
   ],
   "source": [
    "user_art_mat_test.head()"
   ]
  },
  {
   "cell_type": "markdown",
   "metadata": {},
   "source": [
    "**b.** For each artist in the test set, call **[predict](http://scikit-learn.org/stable/modules/generated/sklearn.cluster.KMeans.html#sklearn.cluster.KMeans.predict)** to get the predicted cluster. Join the predicted labels with test artist ids. Return 'artist_id', 'predicted_label' for every artist in the test dataset."
   ]
  },
  {
   "cell_type": "code",
   "execution_count": 80,
   "metadata": {
    "collapsed": false
   },
   "outputs": [],
   "source": [
    "# For every artist return a list of labels\n",
    "def predict_cluster(test_data, test_np_matrix, kmeans_model):\n",
    "    predicted_labels = kmeans_model.predict(test_np_matrix)\n",
    "    predicted = pd.DataFrame({\"ArtistID\": test_data['ArtistID'], \"Label\": predicted_labels})\n",
    "    return predicted\n",
    "\n",
    "\n",
    "# Call the function for every model from before\n",
    "kmeans_5_predicted = predict_cluster(user_art_mat_test, user_np_matrix_test, kmeans_5)\n",
    "kmeans_25_predicted = predict_cluster(user_art_mat_test, user_np_matrix_test, kmeans_25)\n",
    "kmeans_50_predicted = predict_cluster(user_art_mat_test, user_np_matrix_test, kmeans_50)"
   ]
  },
  {
   "cell_type": "markdown",
   "metadata": {},
   "source": [
    "**c**. Get the tags for the predicted genre and the tag for the artist from `top_tags`. Output the percentage of artists for whom the top tag is one of the five that describe its cluster. This is the *recall* of our model.\n",
    ">NOTE: Since the tag data is not from the same source as user plays, there are artists in the test set for whom we do not have top tags. You should exclude these artists while making predictions and while computing the recall."
   ]
  },
  {
   "cell_type": "code",
   "execution_count": 93,
   "metadata": {
    "collapsed": false
   },
   "outputs": [],
   "source": [
    "# Calculate recall for our predictions\n",
    "def verify_predictions(predicted_artist_labels, cluster_genres, top_tag_data):\n",
    "    predicted_dict = predicted_artist_labels.to_dict()\n",
    "    cluster_genres_dict = cluster_genres[0].to_dict()\n",
    "    \n",
    "    count_in = 0.0\n",
    "    count_total = 0.0\n",
    "    for idx in range(0, predicted_artist_labels.ArtistID.count()):\n",
    "        artist = predicted_artist_labels.ArtistID[idx]\n",
    "        label = predicted_artist_labels.Label[idx]\n",
    "        artist_tag = top_tag_data[top_tag_data['ArtistID'] == artist].Tag.to_dict().values()\n",
    "        if len(artist_tag) > 0:            \n",
    "            count_total += 1.0\n",
    "            if list(artist_tag)[0] in cluster_genres_dict[label]:\n",
    "                count_in += 1.0\n",
    "    return (count_in, count_total)\n",
    "\n",
    "\n",
    "kmeans_5_verified = verify_predictions(kmeans_5_predicted, kmeans_5_genres, top_tags)\n",
    "kmeans_25_verified = verify_predictions(kmeans_25_predicted, kmeans_25_genres, top_tags)\n",
    "kmeans_50_verified = verify_predictions(kmeans_50_predicted, kmeans_50_genres, top_tags)"
   ]
  },
  {
   "cell_type": "markdown",
   "metadata": {},
   "source": [
    "**d**. Print the recall for each KMeans model. We define recall as num_correct_predictions / num_artists_in_test_data"
   ]
  },
  {
   "cell_type": "code",
   "execution_count": 94,
   "metadata": {
    "collapsed": false
   },
   "outputs": [
    {
     "name": "stdout",
     "output_type": "stream",
     "text": [
      "Recall of KMeans with 5 centers 0.227228 \n",
      "Recall of KMeans with 25 centers 0.360431 \n",
      "Recall of KMeans with 50 centers 0.419197 \n"
     ]
    }
   ],
   "source": [
    "# Use verify_predictions for every model\n",
    "print(\"Recall of KMeans with 5 centers %lf \" % (kmeans_5_verified[0] / kmeans_5_verified[1]))\n",
    "print(\"Recall of KMeans with 25 centers %lf \" % (kmeans_25_verified[0] / kmeans_25_verified[1]))\n",
    "print(\"Recall of KMeans with 50 centers %lf \" % (kmeans_50_verified[0] / kmeans_50_verified[1]))"
   ]
  },
  {
   "cell_type": "markdown",
   "metadata": {},
   "source": [
    "# Part 2 - Regression Models - Predicting Song Popularity\n",
    "\n",
    "In this section of the assignment you'll be building a model to predict the number of plays a song will get. Again, we're going to be using scikit-learn to train and evaluate regression models, and pandas to pre-process the data.\n",
    "\n",
    "In the process, you'll encounter some modeling challenges and we'll look at how to deal with them.\n",
    "\n",
    "We've started with the same data as above, but this time we've pre-computed a number of song statistics for you.\n",
    "\n",
    "These are:\n",
    "\n",
    "1. plays - the number of times a song has been played.\n",
    "1. pctmale - percentage of the plays that came from users who self-identified as \"male\".\n",
    "1. age - average age of the listener.\n",
    "1. country1 - the country of the users that listened to this song most.\n",
    "1. country2 - the country of the users that listened to this song second most.\n",
    "1. country3 - the country of the users that listened to this song third most.\n",
    "1. pctgt1 - Percentage of plays that come from a user who's played the song more than once.\n",
    "1. pctgt2 - Percentage of plays that come from a user who's played the song more than twice.\n",
    "1. pctgt5 - Percentage of plays that come from a user who's played the song more than five times.\n",
    "1. cluster - The \"cluster number\" of the artist associated with this song - similar to what you came up with above. We chose 25 clusters fairly arbitrarily.\n",
    "\n",
    "### 2.1 Data Exploration\n",
    "#### Exercise 6\n",
    "\n",
    "**a**. Let's start by loading up the data - we've provided a \"training set\" and a \"validation set\" for you to test your models on. The training set are the examples that we use to create our models, while the validation set is a dataset we \"hold out\" from the model fitting process, we use these examples to test whether our models accurately predict new data.\n"
   ]
  },
  {
   "cell_type": "code",
   "execution_count": 95,
   "metadata": {
    "collapsed": false
   },
   "outputs": [
    {
     "name": "stdout",
     "output_type": "stream",
     "text": [
      "Populating the interactive namespace from numpy and matplotlib\n"
     ]
    },
    {
     "name": "stderr",
     "output_type": "stream",
     "text": [
      "C:\\Anaconda3\\lib\\site-packages\\IPython\\core\\magics\\pylab.py:161: UserWarning: pylab import has clobbered these variables: ['draw_if_interactive', 'power', 'info', 'linalg', 'random', 'fft']\n",
      "`%matplotlib` prevents importing * from pylab and numpy\n",
      "  \"\\n`%matplotlib` prevents importing * from pylab and numpy\"\n"
     ]
    }
   ],
   "source": [
    "%pylab inline\n",
    "import pandas as pd\n",
    "\n",
    "train = pd.read_csv(DATA_PATH + \"/train_model_data.csv\")\n",
    "validation = pd.read_csv(DATA_PATH + \"/validation_model_data.csv\")"
   ]
  },
  {
   "cell_type": "code",
   "execution_count": 97,
   "metadata": {
    "collapsed": false
   },
   "outputs": [
    {
     "data": {
      "text/html": [
       "<div>\n",
       "<table border=\"1\" class=\"dataframe\">\n",
       "  <thead>\n",
       "    <tr style=\"text-align: right;\">\n",
       "      <th></th>\n",
       "      <th>artid</th>\n",
       "      <th>key</th>\n",
       "      <th>plays</th>\n",
       "      <th>pctmale</th>\n",
       "      <th>age</th>\n",
       "      <th>country1</th>\n",
       "      <th>country2</th>\n",
       "      <th>country3</th>\n",
       "      <th>pctgt1</th>\n",
       "      <th>pctgt2</th>\n",
       "      <th>pctgt5</th>\n",
       "      <th>account_age</th>\n",
       "      <th>cluster</th>\n",
       "    </tr>\n",
       "  </thead>\n",
       "  <tbody>\n",
       "    <tr>\n",
       "      <th>0</th>\n",
       "      <td>0004537a-4b12-43eb-a023-04009e738d2e</td>\n",
       "      <td>0004537a-4b12-43eb-a023-04009e738d2e 5c9d317f-...</td>\n",
       "      <td>40</td>\n",
       "      <td>0.675000</td>\n",
       "      <td>31.0</td>\n",
       "      <td>United Kingdom</td>\n",
       "      <td>Estonia</td>\n",
       "      <td>United States</td>\n",
       "      <td>0.583333</td>\n",
       "      <td>0.333333</td>\n",
       "      <td>0.25</td>\n",
       "      <td>954.125000</td>\n",
       "      <td>5</td>\n",
       "    </tr>\n",
       "    <tr>\n",
       "      <th>1</th>\n",
       "      <td>000d90ec-d64c-48a1-b775-e726fd240e9f</td>\n",
       "      <td>000d90ec-d64c-48a1-b775-e726fd240e9f 09d9e9a6-...</td>\n",
       "      <td>53</td>\n",
       "      <td>0.735849</td>\n",
       "      <td>20.6</td>\n",
       "      <td>United Kingdom</td>\n",
       "      <td>United States</td>\n",
       "      <td>Belgium</td>\n",
       "      <td>0.600000</td>\n",
       "      <td>0.600000</td>\n",
       "      <td>0.60</td>\n",
       "      <td>625.113208</td>\n",
       "      <td>11</td>\n",
       "    </tr>\n",
       "    <tr>\n",
       "      <th>2</th>\n",
       "      <td>000d90ec-d64c-48a1-b775-e726fd240e9f</td>\n",
       "      <td>000d90ec-d64c-48a1-b775-e726fd240e9f 40064f18-...</td>\n",
       "      <td>45</td>\n",
       "      <td>0.622222</td>\n",
       "      <td>21.0</td>\n",
       "      <td>United Kingdom</td>\n",
       "      <td>United States</td>\n",
       "      <td>NaN</td>\n",
       "      <td>0.600000</td>\n",
       "      <td>0.600000</td>\n",
       "      <td>0.60</td>\n",
       "      <td>552.933333</td>\n",
       "      <td>11</td>\n",
       "    </tr>\n",
       "    <tr>\n",
       "      <th>3</th>\n",
       "      <td>000d90ec-d64c-48a1-b775-e726fd240e9f</td>\n",
       "      <td>000d90ec-d64c-48a1-b775-e726fd240e9f 31bb65fd-...</td>\n",
       "      <td>40</td>\n",
       "      <td>0.600000</td>\n",
       "      <td>20.0</td>\n",
       "      <td>United Kingdom</td>\n",
       "      <td>United States</td>\n",
       "      <td>NaN</td>\n",
       "      <td>0.600000</td>\n",
       "      <td>0.400000</td>\n",
       "      <td>0.40</td>\n",
       "      <td>482.325000</td>\n",
       "      <td>11</td>\n",
       "    </tr>\n",
       "    <tr>\n",
       "      <th>4</th>\n",
       "      <td>000d90ec-d64c-48a1-b775-e726fd240e9f</td>\n",
       "      <td>000d90ec-d64c-48a1-b775-e726fd240e9f bbb0815e-...</td>\n",
       "      <td>56</td>\n",
       "      <td>0.714286</td>\n",
       "      <td>20.0</td>\n",
       "      <td>United Kingdom</td>\n",
       "      <td>United States</td>\n",
       "      <td>NaN</td>\n",
       "      <td>0.600000</td>\n",
       "      <td>0.400000</td>\n",
       "      <td>0.40</td>\n",
       "      <td>449.678571</td>\n",
       "      <td>11</td>\n",
       "    </tr>\n",
       "  </tbody>\n",
       "</table>\n",
       "</div>"
      ],
      "text/plain": [
       "                                  artid  \\\n",
       "0  0004537a-4b12-43eb-a023-04009e738d2e   \n",
       "1  000d90ec-d64c-48a1-b775-e726fd240e9f   \n",
       "2  000d90ec-d64c-48a1-b775-e726fd240e9f   \n",
       "3  000d90ec-d64c-48a1-b775-e726fd240e9f   \n",
       "4  000d90ec-d64c-48a1-b775-e726fd240e9f   \n",
       "\n",
       "                                                 key  plays   pctmale   age  \\\n",
       "0  0004537a-4b12-43eb-a023-04009e738d2e 5c9d317f-...     40  0.675000  31.0   \n",
       "1  000d90ec-d64c-48a1-b775-e726fd240e9f 09d9e9a6-...     53  0.735849  20.6   \n",
       "2  000d90ec-d64c-48a1-b775-e726fd240e9f 40064f18-...     45  0.622222  21.0   \n",
       "3  000d90ec-d64c-48a1-b775-e726fd240e9f 31bb65fd-...     40  0.600000  20.0   \n",
       "4  000d90ec-d64c-48a1-b775-e726fd240e9f bbb0815e-...     56  0.714286  20.0   \n",
       "\n",
       "         country1       country2       country3    pctgt1    pctgt2  pctgt5  \\\n",
       "0  United Kingdom        Estonia  United States  0.583333  0.333333    0.25   \n",
       "1  United Kingdom  United States        Belgium  0.600000  0.600000    0.60   \n",
       "2  United Kingdom  United States            NaN  0.600000  0.600000    0.60   \n",
       "3  United Kingdom  United States            NaN  0.600000  0.400000    0.40   \n",
       "4  United Kingdom  United States            NaN  0.600000  0.400000    0.40   \n",
       "\n",
       "   account_age  cluster  \n",
       "0   954.125000        5  \n",
       "1   625.113208       11  \n",
       "2   552.933333       11  \n",
       "3   482.325000       11  \n",
       "4   449.678571       11  "
      ]
     },
     "execution_count": 97,
     "metadata": {},
     "output_type": "execute_result"
    }
   ],
   "source": [
    "validation.head()"
   ]
  },
  {
   "cell_type": "markdown",
   "metadata": {},
   "source": [
    "Now that you've got the data loaded, play around with it, generate some descriptive statistics, and get a feel for what's in the data set. For the categorical variables try pandas \".count_values()\" on them to get a sense of the most likely distributions (countries, etc.). \n",
    "\n",
    "**b**. In the next cell put some commands you ran to get a feel for the data."
   ]
  },
  {
   "cell_type": "code",
   "execution_count": 98,
   "metadata": {
    "collapsed": false
   },
   "outputs": [
    {
     "data": {
      "text/html": [
       "<div>\n",
       "<table border=\"1\" class=\"dataframe\">\n",
       "  <thead>\n",
       "    <tr style=\"text-align: right;\">\n",
       "      <th></th>\n",
       "      <th>artid</th>\n",
       "      <th>key</th>\n",
       "      <th>plays</th>\n",
       "      <th>pctmale</th>\n",
       "      <th>age</th>\n",
       "      <th>country1</th>\n",
       "      <th>country2</th>\n",
       "      <th>country3</th>\n",
       "      <th>pctgt1</th>\n",
       "      <th>pctgt2</th>\n",
       "      <th>pctgt5</th>\n",
       "      <th>account_age</th>\n",
       "      <th>cluster</th>\n",
       "    </tr>\n",
       "  </thead>\n",
       "  <tbody>\n",
       "    <tr>\n",
       "      <th>0</th>\n",
       "      <td>0004537a-4b12-43eb-a023-04009e738d2e</td>\n",
       "      <td>0004537a-4b12-43eb-a023-04009e738d2e 66688680-...</td>\n",
       "      <td>51</td>\n",
       "      <td>1.000000</td>\n",
       "      <td>25.000000</td>\n",
       "      <td>United States</td>\n",
       "      <td>NaN</td>\n",
       "      <td>NaN</td>\n",
       "      <td>1.0</td>\n",
       "      <td>1.0</td>\n",
       "      <td>1.0</td>\n",
       "      <td>622.411765</td>\n",
       "      <td>5</td>\n",
       "    </tr>\n",
       "    <tr>\n",
       "      <th>1</th>\n",
       "      <td>0004537a-4b12-43eb-a023-04009e738d2e</td>\n",
       "      <td>0004537a-4b12-43eb-a023-04009e738d2e e427fb6c-...</td>\n",
       "      <td>41</td>\n",
       "      <td>1.000000</td>\n",
       "      <td>NaN</td>\n",
       "      <td>United States</td>\n",
       "      <td>NaN</td>\n",
       "      <td>NaN</td>\n",
       "      <td>1.0</td>\n",
       "      <td>0.5</td>\n",
       "      <td>0.5</td>\n",
       "      <td>114.048780</td>\n",
       "      <td>5</td>\n",
       "    </tr>\n",
       "    <tr>\n",
       "      <th>2</th>\n",
       "      <td>0004537a-4b12-43eb-a023-04009e738d2e</td>\n",
       "      <td>0004537a-4b12-43eb-a023-04009e738d2e d02a5cc2-...</td>\n",
       "      <td>183</td>\n",
       "      <td>0.983607</td>\n",
       "      <td>29.290123</td>\n",
       "      <td>United States</td>\n",
       "      <td>Czech Republic</td>\n",
       "      <td>NaN</td>\n",
       "      <td>1.0</td>\n",
       "      <td>1.0</td>\n",
       "      <td>0.6</td>\n",
       "      <td>610.677596</td>\n",
       "      <td>5</td>\n",
       "    </tr>\n",
       "    <tr>\n",
       "      <th>3</th>\n",
       "      <td>0004537a-4b12-43eb-a023-04009e738d2e</td>\n",
       "      <td>0004537a-4b12-43eb-a023-04009e738d2e 35cd79c2-...</td>\n",
       "      <td>32</td>\n",
       "      <td>1.000000</td>\n",
       "      <td>25.000000</td>\n",
       "      <td>United States</td>\n",
       "      <td>NaN</td>\n",
       "      <td>NaN</td>\n",
       "      <td>1.0</td>\n",
       "      <td>1.0</td>\n",
       "      <td>1.0</td>\n",
       "      <td>574.656250</td>\n",
       "      <td>5</td>\n",
       "    </tr>\n",
       "    <tr>\n",
       "      <th>4</th>\n",
       "      <td>0004537a-4b12-43eb-a023-04009e738d2e</td>\n",
       "      <td>0004537a-4b12-43eb-a023-04009e738d2e 52baa730-...</td>\n",
       "      <td>43</td>\n",
       "      <td>0.976744</td>\n",
       "      <td>25.000000</td>\n",
       "      <td>United States</td>\n",
       "      <td>Poland</td>\n",
       "      <td>NaN</td>\n",
       "      <td>0.5</td>\n",
       "      <td>0.5</td>\n",
       "      <td>0.5</td>\n",
       "      <td>610.232558</td>\n",
       "      <td>5</td>\n",
       "    </tr>\n",
       "  </tbody>\n",
       "</table>\n",
       "</div>"
      ],
      "text/plain": [
       "                                  artid  \\\n",
       "0  0004537a-4b12-43eb-a023-04009e738d2e   \n",
       "1  0004537a-4b12-43eb-a023-04009e738d2e   \n",
       "2  0004537a-4b12-43eb-a023-04009e738d2e   \n",
       "3  0004537a-4b12-43eb-a023-04009e738d2e   \n",
       "4  0004537a-4b12-43eb-a023-04009e738d2e   \n",
       "\n",
       "                                                 key  plays   pctmale  \\\n",
       "0  0004537a-4b12-43eb-a023-04009e738d2e 66688680-...     51  1.000000   \n",
       "1  0004537a-4b12-43eb-a023-04009e738d2e e427fb6c-...     41  1.000000   \n",
       "2  0004537a-4b12-43eb-a023-04009e738d2e d02a5cc2-...    183  0.983607   \n",
       "3  0004537a-4b12-43eb-a023-04009e738d2e 35cd79c2-...     32  1.000000   \n",
       "4  0004537a-4b12-43eb-a023-04009e738d2e 52baa730-...     43  0.976744   \n",
       "\n",
       "         age       country1        country2 country3  pctgt1  pctgt2  pctgt5  \\\n",
       "0  25.000000  United States             NaN      NaN     1.0     1.0     1.0   \n",
       "1        NaN  United States             NaN      NaN     1.0     0.5     0.5   \n",
       "2  29.290123  United States  Czech Republic      NaN     1.0     1.0     0.6   \n",
       "3  25.000000  United States             NaN      NaN     1.0     1.0     1.0   \n",
       "4  25.000000  United States          Poland      NaN     0.5     0.5     0.5   \n",
       "\n",
       "   account_age  cluster  \n",
       "0   622.411765        5  \n",
       "1   114.048780        5  \n",
       "2   610.677596        5  \n",
       "3   574.656250        5  \n",
       "4   610.232558        5  "
      ]
     },
     "execution_count": 98,
     "metadata": {},
     "output_type": "execute_result"
    }
   ],
   "source": [
    "# TODO: Your commands for data exploration here.\n",
    "train.head()"
   ]
  },
  {
   "cell_type": "code",
   "execution_count": 99,
   "metadata": {
    "collapsed": false
   },
   "outputs": [
    {
     "data": {
      "text/html": [
       "<div>\n",
       "<table border=\"1\" class=\"dataframe\">\n",
       "  <thead>\n",
       "    <tr style=\"text-align: right;\">\n",
       "      <th></th>\n",
       "      <th>artid</th>\n",
       "      <th>key</th>\n",
       "      <th>plays</th>\n",
       "      <th>pctmale</th>\n",
       "      <th>age</th>\n",
       "      <th>country1</th>\n",
       "      <th>country2</th>\n",
       "      <th>country3</th>\n",
       "      <th>pctgt1</th>\n",
       "      <th>pctgt2</th>\n",
       "      <th>pctgt5</th>\n",
       "      <th>account_age</th>\n",
       "      <th>cluster</th>\n",
       "    </tr>\n",
       "  </thead>\n",
       "  <tbody>\n",
       "    <tr>\n",
       "      <th>0</th>\n",
       "      <td>0004537a-4b12-43eb-a023-04009e738d2e</td>\n",
       "      <td>0004537a-4b12-43eb-a023-04009e738d2e 5c9d317f-...</td>\n",
       "      <td>40</td>\n",
       "      <td>0.675000</td>\n",
       "      <td>31.0</td>\n",
       "      <td>United Kingdom</td>\n",
       "      <td>Estonia</td>\n",
       "      <td>United States</td>\n",
       "      <td>0.583333</td>\n",
       "      <td>0.333333</td>\n",
       "      <td>0.25</td>\n",
       "      <td>954.125000</td>\n",
       "      <td>5</td>\n",
       "    </tr>\n",
       "    <tr>\n",
       "      <th>1</th>\n",
       "      <td>000d90ec-d64c-48a1-b775-e726fd240e9f</td>\n",
       "      <td>000d90ec-d64c-48a1-b775-e726fd240e9f 09d9e9a6-...</td>\n",
       "      <td>53</td>\n",
       "      <td>0.735849</td>\n",
       "      <td>20.6</td>\n",
       "      <td>United Kingdom</td>\n",
       "      <td>United States</td>\n",
       "      <td>Belgium</td>\n",
       "      <td>0.600000</td>\n",
       "      <td>0.600000</td>\n",
       "      <td>0.60</td>\n",
       "      <td>625.113208</td>\n",
       "      <td>11</td>\n",
       "    </tr>\n",
       "    <tr>\n",
       "      <th>2</th>\n",
       "      <td>000d90ec-d64c-48a1-b775-e726fd240e9f</td>\n",
       "      <td>000d90ec-d64c-48a1-b775-e726fd240e9f 40064f18-...</td>\n",
       "      <td>45</td>\n",
       "      <td>0.622222</td>\n",
       "      <td>21.0</td>\n",
       "      <td>United Kingdom</td>\n",
       "      <td>United States</td>\n",
       "      <td>NaN</td>\n",
       "      <td>0.600000</td>\n",
       "      <td>0.600000</td>\n",
       "      <td>0.60</td>\n",
       "      <td>552.933333</td>\n",
       "      <td>11</td>\n",
       "    </tr>\n",
       "    <tr>\n",
       "      <th>3</th>\n",
       "      <td>000d90ec-d64c-48a1-b775-e726fd240e9f</td>\n",
       "      <td>000d90ec-d64c-48a1-b775-e726fd240e9f 31bb65fd-...</td>\n",
       "      <td>40</td>\n",
       "      <td>0.600000</td>\n",
       "      <td>20.0</td>\n",
       "      <td>United Kingdom</td>\n",
       "      <td>United States</td>\n",
       "      <td>NaN</td>\n",
       "      <td>0.600000</td>\n",
       "      <td>0.400000</td>\n",
       "      <td>0.40</td>\n",
       "      <td>482.325000</td>\n",
       "      <td>11</td>\n",
       "    </tr>\n",
       "    <tr>\n",
       "      <th>4</th>\n",
       "      <td>000d90ec-d64c-48a1-b775-e726fd240e9f</td>\n",
       "      <td>000d90ec-d64c-48a1-b775-e726fd240e9f bbb0815e-...</td>\n",
       "      <td>56</td>\n",
       "      <td>0.714286</td>\n",
       "      <td>20.0</td>\n",
       "      <td>United Kingdom</td>\n",
       "      <td>United States</td>\n",
       "      <td>NaN</td>\n",
       "      <td>0.600000</td>\n",
       "      <td>0.400000</td>\n",
       "      <td>0.40</td>\n",
       "      <td>449.678571</td>\n",
       "      <td>11</td>\n",
       "    </tr>\n",
       "  </tbody>\n",
       "</table>\n",
       "</div>"
      ],
      "text/plain": [
       "                                  artid  \\\n",
       "0  0004537a-4b12-43eb-a023-04009e738d2e   \n",
       "1  000d90ec-d64c-48a1-b775-e726fd240e9f   \n",
       "2  000d90ec-d64c-48a1-b775-e726fd240e9f   \n",
       "3  000d90ec-d64c-48a1-b775-e726fd240e9f   \n",
       "4  000d90ec-d64c-48a1-b775-e726fd240e9f   \n",
       "\n",
       "                                                 key  plays   pctmale   age  \\\n",
       "0  0004537a-4b12-43eb-a023-04009e738d2e 5c9d317f-...     40  0.675000  31.0   \n",
       "1  000d90ec-d64c-48a1-b775-e726fd240e9f 09d9e9a6-...     53  0.735849  20.6   \n",
       "2  000d90ec-d64c-48a1-b775-e726fd240e9f 40064f18-...     45  0.622222  21.0   \n",
       "3  000d90ec-d64c-48a1-b775-e726fd240e9f 31bb65fd-...     40  0.600000  20.0   \n",
       "4  000d90ec-d64c-48a1-b775-e726fd240e9f bbb0815e-...     56  0.714286  20.0   \n",
       "\n",
       "         country1       country2       country3    pctgt1    pctgt2  pctgt5  \\\n",
       "0  United Kingdom        Estonia  United States  0.583333  0.333333    0.25   \n",
       "1  United Kingdom  United States        Belgium  0.600000  0.600000    0.60   \n",
       "2  United Kingdom  United States            NaN  0.600000  0.600000    0.60   \n",
       "3  United Kingdom  United States            NaN  0.600000  0.400000    0.40   \n",
       "4  United Kingdom  United States            NaN  0.600000  0.400000    0.40   \n",
       "\n",
       "   account_age  cluster  \n",
       "0   954.125000        5  \n",
       "1   625.113208       11  \n",
       "2   552.933333       11  \n",
       "3   482.325000       11  \n",
       "4   449.678571       11  "
      ]
     },
     "execution_count": 99,
     "metadata": {},
     "output_type": "execute_result"
    }
   ],
   "source": [
    "validation.head()"
   ]
  },
  {
   "cell_type": "code",
   "execution_count": 103,
   "metadata": {
    "collapsed": false
   },
   "outputs": [
    {
     "data": {
      "text/plain": [
       "artid           object\n",
       "key             object\n",
       "plays            int64\n",
       "pctmale        float64\n",
       "age            float64\n",
       "country1        object\n",
       "country2        object\n",
       "country3        object\n",
       "pctgt1         float64\n",
       "pctgt2         float64\n",
       "pctgt5         float64\n",
       "account_age    float64\n",
       "cluster          int64\n",
       "dtype: object"
      ]
     },
     "execution_count": 103,
     "metadata": {},
     "output_type": "execute_result"
    }
   ],
   "source": [
    "train.dtypes"
   ]
  },
  {
   "cell_type": "markdown",
   "metadata": {},
   "source": [
    "**c**. Next, create a pairwise scatter plot of the columns: plays, pctmale, age, pctgt1, pctgt2, pctgt5. (_Hint: we did this in lab!_)\n",
    "\n",
    "Do you notice anything about the data in this view? What about the relationship between plays and other columns?"
   ]
  },
  {
   "cell_type": "code",
   "execution_count": 107,
   "metadata": {
    "collapsed": false
   },
   "outputs": [
    {
     "data": {
      "text/plain": [
       "array([[<matplotlib.axes._subplots.AxesSubplot object at 0x000000C9168CF0F0>,\n",
       "        <matplotlib.axes._subplots.AxesSubplot object at 0x000000C9308F1128>,\n",
       "        <matplotlib.axes._subplots.AxesSubplot object at 0x000000C932AB8278>,\n",
       "        <matplotlib.axes._subplots.AxesSubplot object at 0x000000C932FB1D30>,\n",
       "        <matplotlib.axes._subplots.AxesSubplot object at 0x000000C93A473A90>,\n",
       "        <matplotlib.axes._subplots.AxesSubplot object at 0x000000C93A450E48>],\n",
       "       [<matplotlib.axes._subplots.AxesSubplot object at 0x000000C940E61860>,\n",
       "        <matplotlib.axes._subplots.AxesSubplot object at 0x000000C940E6B208>,\n",
       "        <matplotlib.axes._subplots.AxesSubplot object at 0x000000C940C18358>,\n",
       "        <matplotlib.axes._subplots.AxesSubplot object at 0x000000C93ABDD048>,\n",
       "        <matplotlib.axes._subplots.AxesSubplot object at 0x000000C93A959278>,\n",
       "        <matplotlib.axes._subplots.AxesSubplot object at 0x000000C9378482B0>],\n",
       "       [<matplotlib.axes._subplots.AxesSubplot object at 0x000000C936752A58>,\n",
       "        <matplotlib.axes._subplots.AxesSubplot object at 0x000000C936549470>,\n",
       "        <matplotlib.axes._subplots.AxesSubplot object at 0x000000C93657FDD8>,\n",
       "        <matplotlib.axes._subplots.AxesSubplot object at 0x000000C9365C7F28>,\n",
       "        <matplotlib.axes._subplots.AxesSubplot object at 0x000000C936603C18>,\n",
       "        <matplotlib.axes._subplots.AxesSubplot object at 0x000000C936651E48>],\n",
       "       [<matplotlib.axes._subplots.AxesSubplot object at 0x000000C93669AE80>,\n",
       "        <matplotlib.axes._subplots.AxesSubplot object at 0x000000C9366DE668>,\n",
       "        <matplotlib.axes._subplots.AxesSubplot object at 0x000000C93672E080>,\n",
       "        <matplotlib.axes._subplots.AxesSubplot object at 0x000000C9367A39E8>,\n",
       "        <matplotlib.axes._subplots.AxesSubplot object at 0x000000C9367EBB38>,\n",
       "        <matplotlib.axes._subplots.AxesSubplot object at 0x000000C93682C828>],\n",
       "       [<matplotlib.axes._subplots.AxesSubplot object at 0x000000C936875A58>,\n",
       "        <matplotlib.axes._subplots.AxesSubplot object at 0x000000C9368BEA90>,\n",
       "        <matplotlib.axes._subplots.AxesSubplot object at 0x000000C936904278>,\n",
       "        <matplotlib.axes._subplots.AxesSubplot object at 0x000000C93694DC50>,\n",
       "        <matplotlib.axes._subplots.AxesSubplot object at 0x000000C9377F95F8>,\n",
       "        <matplotlib.axes._subplots.AxesSubplot object at 0x000000C937880748>],\n",
       "       [<matplotlib.axes._subplots.AxesSubplot object at 0x000000C9378C1438>,\n",
       "        <matplotlib.axes._subplots.AxesSubplot object at 0x000000C937908668>,\n",
       "        <matplotlib.axes._subplots.AxesSubplot object at 0x000000C9397F36A0>,\n",
       "        <matplotlib.axes._subplots.AxesSubplot object at 0x000000C939832E48>,\n",
       "        <matplotlib.axes._subplots.AxesSubplot object at 0x000000C939882860>,\n",
       "        <matplotlib.axes._subplots.AxesSubplot object at 0x000000C9398BD208>]], dtype=object)"
      ]
     },
     "execution_count": 107,
     "metadata": {},
     "output_type": "execute_result"
    },
    {
     "data": {
      "image/png": "[encoded data removed]",
      "text/plain": [
       "<matplotlib.figure.Figure at 0xc915cc8e48>"
      ]
     },
     "metadata": {},
     "output_type": "display_data"
    }
   ],
   "source": [
    "# TODO: Your commands to generate a scatter plot here.\n",
    "pd.scatter_matrix(train[['plays', 'pctmale', 'age', 'pctgt1', 'pctgt2', 'pctgt5']], figsize=(6, 6))"
   ]
  },
  {
   "cell_type": "markdown",
   "metadata": {},
   "source": [
    ">TODO: What do you notice about the data in this view? Write your answer here.\n",
    "<br> I notice that some of the data have no relationship."
   ]
  },
  {
   "cell_type": "markdown",
   "metadata": {},
   "source": [
    "### 2.2 Data Prep and Intro to Linear Regression\n",
    "\n",
    "*scikit-learn* does a number of things very well, but one of the things it doesn't handle easily is categorical or missing data. Categorical data is data that can take on a finite set of values, e.g. a categorical variable might be the color of a stop light (Red, Yellow, Green), this is in contrast with continuous variables like real numbers in the range -Infinity to +Infinity. There is another common type of data called \"ordinal\" that can be thought of as categorical data that has a natural ordering, like: Cold, Warm, Hot. We won't be dealing with this kind of data here, but having that kind of ranking opens up the use of certain other statistical methods.\n",
    "\n",
    "\n",
    "#### Exercise 7\n",
    "\n",
    "**a**. For the first part of the exercise, let's eliminate categorical variables, and *impute* missing values with pandas. Write a function to drop all categorical variables from the data set, and return two pandas data frames:\n",
    "\n",
    "1. A data frame with all categorical items and a user-specified response column removed.\n",
    "2. A data frame that contains only the response column."
   ]
  },
  {
   "cell_type": "code",
   "execution_count": 109,
   "metadata": {
    "collapsed": false
   },
   "outputs": [],
   "source": [
    "def basic_prep(data, col):\n",
    "    #TODO - make a copy of the original dataset but with the categorical variables removed! *Cluster* should be thought of as a \n",
    "    #categorical variable and should be removed! Make use of pandas \".drop\" function.\n",
    "    clean_data = data.drop(['key','cluster', 'country1','country2','country3','artid'], axis=1)\n",
    "    \n",
    "    #TODO - impute missing values with the mean of those columns, use pandas \".fillna\" function to accomplish this.\n",
    "    clean_data = clean_data.fillna(clean_data.mean())\n",
    "    return clean_data.drop([col], axis=1), pd.DataFrame(clean_data[col])\n",
    "\n",
    "#This will create two new data frames, one that contains training data - in this case all the numeric columns,\n",
    "#and one that contains response data - in this case, the \"plays\" column.\n",
    "train_basic_features, train_basic_response = basic_prep(train, 'plays')\n",
    "validation_basic_features, validation_basic_response = basic_prep(validation, 'plays')"
   ]
  },
  {
   "cell_type": "markdown",
   "metadata": {},
   "source": [
    "Now, we're going to train a linear regression model. This is likely the most widely used model for fitting data out there today - you've probably seen it before, maybe even used it in Excel. The goal of linear modeling, is to fit a **linear equation** that maps a set of **input features** to a numerical **response**. This equation is called a **model**, and can be used to make predictions about the response of similar input features. For example, imagine we have a dataset of electricity prices ($p$) and outdoor temperature ($t$), and we want to predict, given temperature, what electricity price will be. A simple way to model this is with an equation that looks something like $p = basePrice + factor*t$. When we **fit** a model, we are estimating the parameters ($basePrice$ and $factor$) that best fit our data. This is a very simple linear model, but you can easily imagine extending this to situations where you need to estimate several parameters.\n",
    "\n",
    ">**Note**: It is possible to fill a semester with linear models (and classes in other departments do!), and there are innumerable issues to be aware of when you fit linear models, so this is just the tip of the iceberg - don't dismiss linear models outright based on your experiences here!\n",
    "\n",
    "A linear model models the data as a **linear combination** of the model and its weights. Typically, the model is written with something like the following form: $y = X\\theta + \\epsilon$, and when we fit the model, we are trying to find the value of $\\theta$ that minimizes the **loss** of the model. In the case of regression models, the loss is often represented as $\\sum (y - X\\theta)^2$ - or the squared distance between the prediction and the actual value.\n",
    "\n",
    "In the code below, `X` refers to the the training features, `y` refers to the training response, `Xv` refers to the validation features and yv refers to the validation response. Note that `X` is a matrix (or a `DataFrame`) with the shape $n \\times d$ where $n$ is the number of examples and $d$ is the number of features in each example, while `y` is a vector of length $n$ (one response per example).\n",
    "\n",
    "Our goal with this assignment is to accurately estimate the number of plays a song will get based on the features we know about it.\n",
    "\n",
    "The score we'll be judging the models on is called $R^2$, which is a measure of how well the model fits the data. It can be thought of roughly as the percentage of the variance that the model explains. \n",
    "\n",
    "#### Exercise 9\n",
    "\n",
    "**a.** Fit a `LinearRegression` model with scikit-learn and return the model score on both the training data and the validation data."
   ]
  },
  {
   "cell_type": "code",
   "execution_count": 111,
   "metadata": {
    "collapsed": false
   },
   "outputs": [
    {
     "name": "stdout",
     "output_type": "stream",
     "text": [
      "(0.010685086137497302, -0.050281015338620616)\n"
     ]
    }
   ],
   "source": [
    "from sklearn import linear_model\n",
    "\n",
    "def fit_model(X, y):\n",
    "    #TODO - Write a function that fits a linear model to a dataset given a column of values to predict.\n",
    "    model = linear_model.LinearRegression().fit(X,y)\n",
    "    return model\n",
    "\n",
    "def score_model(model, X, y, Xv, yv):\n",
    "    #TODO - Write a function that returns scores of a model given its training \n",
    "    #features and response and validation features and response. \n",
    "    #The output should be a tuple of two model scores.\n",
    "    return model.score(X, y), model.score(Xv, yv)\n",
    "\n",
    "def fit_model_and_score(data, response, validation, val_response):\n",
    "    #TODO - Given a training dataset, a validation dataset, and the name of a column to predict, \n",
    "    #Using the model's \".score()\" method, return the model score on the training data *and* the validation data\n",
    "    #as a tuple of two doubles.\n",
    "    model = fit_model(data, response)\n",
    "    return score_model(model, data, response, validation, val_response)\n",
    "    #END TODO\n",
    "\n",
    "print(fit_model_and_score(train_basic_features, train_basic_response, validation_basic_features, validation_basic_response))\n",
    "\n",
    "model = fit_model(train_basic_features, train_basic_response)\n"
   ]
  },
  {
   "cell_type": "markdown",
   "metadata": {},
   "source": [
    "We realize that this may be your first experience with linear models - but that's a pretty low $R^2$ - we're looking for scores significantly higher than 0, and the maximum is a 1. \n",
    "\n",
    "So what happened? Well, we've modeled a **linear** response to our input features, but the variable we're modeling (plays) clearly has a non-linear relationship with respect to the input features. It roughly follows a **power-law** distribution, and so modeling it in linear space yields a model with estimates that are way off.\n",
    "\n",
    "We can verify this by looking at a plot of the model's residuals - that is, the difference between the training responses and the predictions. A good model would have residuals with two properties:\n",
    "\n",
    "1. Small in absolute value. \n",
    "1. Evenly distributed about the true values.\n",
    "\n",
    "**b.** Write a function to calculate the residuals of the model, and plot those with a histogram.\n"
   ]
  },
  {
   "cell_type": "code",
   "execution_count": 113,
   "metadata": {
    "collapsed": false
   },
   "outputs": [
    {
     "data": {
      "text/plain": [
       "array([[<matplotlib.axes._subplots.AxesSubplot object at 0x000000C940DE4A58>]], dtype=object)"
      ]
     },
     "execution_count": 113,
     "metadata": {},
     "output_type": "execute_result"
    },
    {
     "data": {
      "image/png": "[encoded data removed]",
      "text/plain": [
       "<matplotlib.figure.Figure at 0xc940b12860>"
      ]
     },
     "metadata": {},
     "output_type": "display_data"
    }
   ],
   "source": [
    "def residuals(features, y, model):\n",
    "    #TODO - Write a function that calculates model residuals given input features, ground truth, and the model.\n",
    "    return pd.DataFrame(model.predict(features) - y)\n",
    "\n",
    "#TODO - Plot the histogram of the residuals of your current model.\n",
    "residuals(train_basic_features, train_basic_response, model).hist(bins=150)"
   ]
  },
  {
   "cell_type": "markdown",
   "metadata": {},
   "source": [
    "See the structure in the plot? This means we've got more modeling to do before we can call it a day! It satisfies neither of our properties - we're often way wrong with our predictions, and seem to systematically **under** predict the number of plays a song will get.\n",
    "\n",
    "What happens if we try and predict the $log$ of number of plays? This controls the exponential behaviour of plays, and gives less weight to the case where our prediction was off by 100 when the true answer was 1000. \n",
    "\n",
    "#### Exercise 8\n",
    "**a.** Adapt your model fitting from above to fit the **log** of the nubmer of plays as your response variable. Print the scores."
   ]
  },
  {
   "cell_type": "code",
   "execution_count": 116,
   "metadata": {
    "collapsed": false
   },
   "outputs": [
    {
     "name": "stdout",
     "output_type": "stream",
     "text": [
      "(0.021095463794837288, -0.049465535235855285)\n"
     ]
    }
   ],
   "source": [
    "from sklearn import linear_model\n",
    "\n",
    "#TODO - Using what you built above, build a model using the log of the number of plays as the response variable.\n",
    "logmodel = fit_model(train_basic_features, np.log(train_basic_response))\n",
    "\n",
    "scores = fit_model_and_score(train_basic_features, np.log(train_basic_response), validation_basic_features, np.log(validation_basic_response))\n",
    "print(scores)"
   ]
  },
  {
   "cell_type": "markdown",
   "metadata": {},
   "source": [
    "**b.** You should see a significantly better $R^2$ and validation $R^2$, though still pretty low. Take a look at the model residuals again, do they look any better?"
   ]
  },
  {
   "cell_type": "code",
   "execution_count": null,
   "metadata": {
    "collapsed": false
   },
   "outputs": [],
   "source": [
    "#TODO Plot residuals of your log model. Note - we want to see these on a \"plays\" scale, not a \"log(plays)\" scale!\n"
   ]
  },
  {
   "cell_type": "markdown",
   "metadata": {},
   "source": [
    "There must be something we can do here to build a better model. Let's try incorporating country and cluster information.\n",
    "\n",
    "### 2.3 Linear Modeling with Categorical Variables: One-Hot Encoding\n",
    "\n",
    "Linear models expect **numbers** for input features. But we have some features that we think could be useful that are **discrete** or **categorical**. How do we represent these as numbers?\n",
    "\n",
    "One solution is something called one-hot encoding. Basically, we map a discrete space to a vector of binary indicators, then use these indicators as numbers.\n",
    "\n",
    "For example, if I had an input column that could take on the values {$RED$, $GREEN$, $BLUE$}, and I wanted to model this with one-hot-encoding, I could use a map:\n",
    "\n",
    "* $RED = 001$\n",
    "* $GREEN = 010$\n",
    "* $BLUE = 100$\n",
    "\n",
    "We use this representation instead of traditional binary numbers to keep these features independent of one another.\n",
    "\n",
    "Once we've established this representation, we replace the columns in our dataset with their one-hot-encoded values. Then, we can fit a linear model on the data once it's encoded this way!\n",
    "\n",
    "Statisticians and econometricians call these types of binary variables *dummy variables*, but we're going to call it one-hot encoding, because that sounds cooler.\n",
    "\n",
    "Scikit-learn has functionality to transform values to this encoding built in, so we'll leverage that. The functionality is called `DictVectorizer` in scikit-learn. The idea is that you feed a `DictVectorizer` a bunch of examples of your data (that's the `vec.fit` line), and it builds a map from a categorical variable to a one-hot encoded vector like we have in the color example above. Then, you can use this object to translate from categorical values to sequences of numeric ones as we do with `vec.transform`. In the example below, we fit a vectorizer on the training data and use the same vectorizer on the validation data so that the mapping is consistent and we don't run into issues if the categories don't match perfectly between the two data sets.\n",
    "\n",
    "#### Exercise 9\n",
    "**a.** Use the code below to generate new training and validation datasets for the datasets *with* the categorical features in them."
   ]
  },
  {
   "cell_type": "code",
   "execution_count": 117,
   "metadata": {
    "collapsed": false
   },
   "outputs": [],
   "source": [
    "from sklearn import feature_extraction\n",
    "\n",
    "def one_hot_dataframe(data, cols, vec=None):\n",
    "    \"\"\" Takes a dataframe and a list of columns that need to be encoded.\n",
    "        Returns a tuple comprising the data, and the fitted vectorizor.\n",
    "        \n",
    "        Based on https://gist.github.com/kljensen/5452382\n",
    "    \"\"\"\n",
    "    if vec is None:\n",
    "        vec = feature_extraction.DictVectorizer()\n",
    "        vec.fit(data[cols].to_dict(outtype='records'))\n",
    "    \n",
    "    vecData = pd.DataFrame(vec.transform(data[cols].to_dict(outtype='records')).toarray())\n",
    "    vecData.columns = vec.get_feature_names()\n",
    "    vecData.index = data.index\n",
    "    \n",
    "    data = data.drop(cols, axis=1)\n",
    "    data = data.join(vecData)\n",
    "    return (data, vec)\n",
    "\n",
    "def prep_dset(data, col, vec=None):\n",
    "    #Convert the clusters to strings.\n",
    "    new_data = data\n",
    "    new_data['cluster'] = new_data['cluster'].apply(str)\n",
    "    \n",
    "    #Encode the data with OneHot Encoding.\n",
    "    new_data, vec = one_hot_dataframe(new_data, ['country1','cluster'], vec)\n",
    "\n",
    "    #Eliminate features we don't want to use in the model.\n",
    "    badcols = ['country2','country3','artid','key','age']\n",
    "    new_data = new_data.drop(badcols, axis=1)\n",
    "    \n",
    "    new_data = new_data.fillna(new_data.mean())\n",
    "    \n",
    "    return (new_data.drop([col], axis=1), pd.DataFrame(new_data[col]), vec)\n",
    "    "
   ]
  },
  {
   "cell_type": "code",
   "execution_count": 118,
   "metadata": {
    "collapsed": false
   },
   "outputs": [
    {
     "name": "stderr",
     "output_type": "stream",
     "text": [
      "C:\\Anaconda3\\lib\\site-packages\\ipykernel\\__main__.py:11: FutureWarning: the 'outtype' keyword is deprecated, use 'orient' instead\n",
      "C:\\Anaconda3\\lib\\site-packages\\ipykernel\\__main__.py:13: FutureWarning: the 'outtype' keyword is deprecated, use 'orient' instead\n"
     ]
    }
   ],
   "source": [
    "train_cats_features, train_cats_response, vec = prep_dset(train, 'plays')\n",
    "validation_cats_features, validation_cats_response, _ = prep_dset(validation, 'plays', vec)"
   ]
  },
  {
   "cell_type": "markdown",
   "metadata": {},
   "source": [
    "**b.** Now that you've added the categorical data, let's see how it works with a linear model!"
   ]
  },
  {
   "cell_type": "code",
   "execution_count": 120,
   "metadata": {
    "collapsed": false
   },
   "outputs": [
    {
     "name": "stdout",
     "output_type": "stream",
     "text": [
      "(0.14153081992197192, -0.37153757847537228)\n"
     ]
    }
   ],
   "source": [
    "print(fit_model_and_score(train_cats_features, train_cats_response, validation_cats_features, validation_cats_response))"
   ]
  },
  {
   "cell_type": "markdown",
   "metadata": {},
   "source": [
    "You should see a much better $R^2$ for the training data, but a much *worse* one for the validation data. What happened?\n",
    "\n",
    "This is a phenomenon called **overfitting** - our model has too many degrees of freedom (one parameter for each of the 100+ features of this dataset. This means that while our model fits the training data reasonably well, but at the expense of being too specific to that data.\n",
    "\n",
    "John Von Neumann famously said [\"With four parameters I can fit an elephant, and with five I can make him wiggle his trunk!\"](http://www.johndcook.com/blog/2011/06/21/how-to-fit-an-elephant/).\n",
    "\n",
    "### 2.4 Non-linear modeling and Regression Trees\n",
    "So, we're at an impasse. We didn't have enough features and our model performed poorly, we added too many features and our model looked good on training data, but not so good on test data.\n",
    "\n",
    "What's a modeler to do? \n",
    "\n",
    "There are a couple of ways of dealing with this situation - one of them is called **regularization**, which you might try on your own (see `RidgeRegression` or `LassoRegression` in scikit-learn), another is to use a model which captures **non-linear** relationships between the features and the response variable.\n",
    "\n",
    "One such type of model was pioneered here at Berkeley, by the late, great Leo Breiman. These models are called **regression trees**.\n",
    "\n",
    "The basic idea behind regression trees is to recursively partition the dataset into subsets that are *similar with respect to the response variable*. \n",
    "\n",
    "If we take our temperature example, we might observe a non-linear relationship - electricity gets expensive when it's cold outside because we use the heater, but it also gets expensive when it's too hot outside because we run the air conditioning. \n",
    "\n",
    "A decision tree model might dynamically elect to split the data on the temperature feature, and estimate high prices both for hot and cold, with lower prices for more Berkeley-like temperatures. Go read the [scikit-learn decision trees documentation](http://scikit-learn.org/stable/modules/tree.html) for more background.\n",
    "\n",
    "#### Exercise 10\n",
    "**a.** Using the scikit learn `DecsionTreeRegressor` API, write a function that fits trees with the parameter 'max_depth' exposed to the user, and set to 10 by default."
   ]
  },
  {
   "cell_type": "code",
   "execution_count": 121,
   "metadata": {
    "collapsed": false
   },
   "outputs": [],
   "source": [
    "from sklearn import tree\n",
    "\n",
    "def fit_tree(X, y, depth=10):\n",
    "    my_tree = tree.DecisionTreeRegressor(max_depth=depth)\n",
    "    model = my_tree.fit(X,y)\n",
    "    return model"
   ]
  },
  {
   "cell_type": "markdown",
   "metadata": {},
   "source": [
    "**b.** You should be able to use your same scoring function as above to compute your model scores. Write a function that fits a tree model to your training set and returns the model's score for both the training set and the validation set."
   ]
  },
  {
   "cell_type": "code",
   "execution_count": 122,
   "metadata": {
    "collapsed": false
   },
   "outputs": [],
   "source": [
    "def fit_model_and_score_tree(train_features, train_response, val_features, val_response):\n",
    "    model = fit_tree(train_features, train_response)\n",
    "    return score_model(model, train_features, train_response, val_features, val_response)"
   ]
  },
  {
   "cell_type": "markdown",
   "metadata": {},
   "source": [
    "**c.** Report the scores on the training and test data for both the basic features and the categorical features."
   ]
  },
  {
   "cell_type": "code",
   "execution_count": 123,
   "metadata": {
    "collapsed": false
   },
   "outputs": [
    {
     "name": "stdout",
     "output_type": "stream",
     "text": [
      "(0.39278429275650095, 0.14253558408927958)\n",
      "(0.43856166294127608, -0.065932854658608209)\n"
     ]
    }
   ],
   "source": [
    "print(fit_model_and_score_tree(train_basic_features, train_basic_response, validation_basic_features, validation_basic_response ))\n",
    "print(fit_model_and_score_tree(train_cats_features, train_cats_response, validation_cats_features, validation_cats_response))"
   ]
  },
  {
   "cell_type": "markdown",
   "metadata": {},
   "source": [
    "Hooray - we've got a model that performs well on the training data set *and* the validation dataset. Which one is better? Why do you think that is. Try varying the depth of the decision tree (from, say, 2 to 20) and see how either data set does with respect to training and validation error. \n",
    "\n",
    "**d.** Now, let's build a tree to depth 3 and take a look at it."
   ]
  },
  {
   "cell_type": "code",
   "execution_count": 126,
   "metadata": {
    "collapsed": false
   },
   "outputs": [
    {
     "ename": "ImportError",
     "evalue": "No module named 'pydot'",
     "output_type": "error",
     "traceback": [
      "\u001b[0;31m---------------------------------------------------------------------------\u001b[0m",
      "\u001b[0;31mImportError\u001b[0m                               Traceback (most recent call last)",
      "\u001b[0;32m<ipython-input-126-c96a0bd57eec>\u001b[0m in \u001b[0;36m<module>\u001b[0;34m()\u001b[0m\n\u001b[1;32m      1\u001b[0m \u001b[1;32mimport\u001b[0m \u001b[0mio\u001b[0m\u001b[1;33m\u001b[0m\u001b[0m\n\u001b[0;32m----> 2\u001b[0;31m \u001b[1;32mimport\u001b[0m \u001b[0mpydot\u001b[0m\u001b[1;33m\u001b[0m\u001b[0m\n\u001b[0m\u001b[1;32m      3\u001b[0m \u001b[1;32mfrom\u001b[0m \u001b[0mIPython\u001b[0m\u001b[1;33m.\u001b[0m\u001b[0mdisplay\u001b[0m \u001b[1;32mimport\u001b[0m \u001b[0mImage\u001b[0m\u001b[1;33m\u001b[0m\u001b[0m\n\u001b[1;32m      4\u001b[0m \u001b[1;33m\u001b[0m\u001b[0m\n\u001b[1;32m      5\u001b[0m \u001b[0mtmodel\u001b[0m \u001b[1;33m=\u001b[0m \u001b[0mfit_tree\u001b[0m\u001b[1;33m(\u001b[0m\u001b[0mtrain_basic_features\u001b[0m\u001b[1;33m,\u001b[0m \u001b[0mtrain_basic_response\u001b[0m\u001b[1;33m,\u001b[0m \u001b[1;36m3\u001b[0m\u001b[1;33m)\u001b[0m\u001b[1;33m\u001b[0m\u001b[0m\n",
      "\u001b[0;31mImportError\u001b[0m: No module named 'pydot'"
     ]
    }
   ],
   "source": [
    "import io\n",
    "import pydot \n",
    "from IPython.display import Image\n",
    "\n",
    "tmodel = fit_tree(train_basic_features, train_basic_response, 3)\n",
    "\n",
    "def display_tree(tmodel):\n",
    "    dot_data = io.BytesIO() \n",
    "    tree.export_graphviz(tmodel, out_file=dot_data) \n",
    "    graph = pydot.graph_from_dot_data(dot_data.getvalue())\n",
    "    return Image(graph.create_png())\n",
    "    \n",
    "display_tree(tmodel)"
   ]
  },
  {
   "cell_type": "markdown",
   "metadata": {},
   "source": [
    "**e.** What is the tree doing? It looks like it's making a decision on variables X[4] and X[2] - can you briefly describe, in words, what the tree is doing?"
   ]
  },
  {
   "cell_type": "markdown",
   "metadata": {},
   "source": [
    ">TODO: Your answer goes here."
   ]
  },
  {
   "cell_type": "markdown",
   "metadata": {},
   "source": [
    "**f.** Finally, let's take a look at variable importance for a tree trained to 10 levels - this is a more formal way of deciding which features are important to the tree. The metric that scikit-learn calculates for feature importance is called GINI importance, and measures how much total 'impurity' is removed by splits from a given node. Variables that are highly discriminitive (e.g. ones that occur frequently throughout the tree) have higher GINI scores. You can read more about these scores [here](http://www.stat.berkeley.edu/~breiman/RandomForests/cc_home.htm#giniimp)."
   ]
  },
  {
   "cell_type": "code",
   "execution_count": null,
   "metadata": {
    "collapsed": false
   },
   "outputs": [],
   "source": [
    "tmodel = fit_tree(train_basic_features, train_basic_response, 10)\n",
    "\n",
    "pd.DataFrame(tmodel.feature_importances_, train_basic_features.columns)"
   ]
  },
  {
   "cell_type": "markdown",
   "metadata": {},
   "source": [
    "**g.** What do you notice? Is the output interpretable? How would you explain this to someone?"
   ]
  },
  {
   "cell_type": "markdown",
   "metadata": {},
   "source": [
    ">TODO: Your answer goes here."
   ]
  },
  {
   "cell_type": "code",
   "execution_count": null,
   "metadata": {
    "collapsed": false
   },
   "outputs": [],
   "source": []
  }
 ],
 "metadata": {
  "anaconda-cloud": {},
  "kernelspec": {
   "display_name": "Python [conda root]",
   "language": "python",
   "name": "conda-root-py"
  },
  "language_info": {
   "codemirror_mode": {
    "name": "ipython",
    "version": 3
   },
   "file_extension": ".py",
   "mimetype": "text/x-python",
   "name": "python",
   "nbconvert_exporter": "python",
   "pygments_lexer": "ipython3",
   "version": "3.5.2"
  }
 },
 "nbformat": 4,
 "nbformat_minor": 0
}
