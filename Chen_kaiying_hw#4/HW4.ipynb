{
 "cells": [
  {
   "cell_type": "markdown",
   "metadata": {},
   "source": [
    "# HW4: Do we really need Chocolate Recommendations?"
   ]
  },
  {
   "cell_type": "markdown",
   "metadata": {},
   "source": [
    "<img src=\"http://1.bp.blogspot.com/-8dGYKeMKNaU/TvutmCenc-I/AAAAAAAABEo/b2Czf4RlAzw/s1600/Death%2BBy%2BChocolate.JPG\" width=\"400\" height=\"300\"/>"
   ]
  },
  {
   "cell_type": "markdown",
   "metadata": {},
   "source": [
    "### Before You Start\n",
    "\n",
    "This is a **long** homework. Please start early. It uses a lot of different (and sometimes complex) concepts, so you might find yourself reading a lot. So, please, give yourself a lot of time.\n",
    "\n",
    "Also, please see this [link](http://nbviewer.ipython.org/urls/raw.github.com/cs109/content/master/InstructionsForAmazonEMR.ipynb) on getting an Amazon Web Services account soon, so that you don't delay its creation. This class gives you $100 in credits which you will use for this homework, possibly your project, and any other projects you might like.\n"
   ]
  },
  {
   "cell_type": "markdown",
   "metadata": {},
   "source": [
    "### Collaborative Filtering systems\n",
    "\n",
    "In this homework, you will create a recommendation system for **restaurants** using [collaborative filtering](http://en.wikipedia.org/wiki/Collaborative_filtering) (CF). The general structure of a recommendation system is that there are users and there are items. Users express explicit or implicit preferences towards certain items. CF thus relies on users' past behavior.\n",
    "\n",
    "There are two primary approaches to CF: neighboorhood and latent factor model. The former is concerned with computing the relationships between items or between users. In the latter approach you have a model of hidden factors through which users and items are transformed to the same space. For example, if you are rating movies we may transform items into genre factors, and users into their preference for a particular genre.\n",
    "\n",
    "Factor models generally lead to more accurate recommenders. One of the reasons for this is the sparsity of the item-user matrix. Most users tend to rate barely one or two items. Latent factor models are more expressive, and fit fewer parameters. However, neighborhood models are more prevalent, as they have an intuitive aspect that appeals to users(if you liked this you will like that) and online(a new preference can be incorporated very quickly).\n",
    "\n",
    "Most recommenders today combine neighboorhood CF with model based CF, and SVD based matrix factorization approaches.\n",
    "\n",
    "To see the example of a simple beer recommender, go [here](http://nbviewer.ipython.org/20a18d52c539b87de2af). This homework is inspired by the one there but we go after food instead, and go deeper into the problem of making recommendations."
   ]
  },
  {
   "cell_type": "markdown",
   "metadata": {},
   "source": [
    "### User and Item based approaches\n",
    "\n",
    "Original approaches to neighborhood based CF used user-user models. By this we mean that rating estimates are made from recorded ratings of like minded users. However, since most users tend to rate very few items, this is usually a losing proposition for explicit-rating based recommenders. Thus, most neighborhood based systems such as Amazon these days rely on item-item approaches. In these methods, a rating is estimated by other ratings made by the user on \"similar\" or \"nearby\" items: we have a K-Nearest-Neighbors algorithm, in effect."
   ]
  },
  {
   "cell_type": "markdown",
   "metadata": {},
   "source": [
    "### Outline of this Homework\n",
    "\n",
    "The outline of this homework is as follows:\n",
    "\n",
    "1. Create a database of item-item similarities. Use this to implement a neighborhood-based CF recommender that can answer simple questions like \"give me more restaurants like this one\". This part of the homework assumes that the similaties calculated make good \"global recommendations\".\n",
    "\n",
    "2. In the second part, we go one step further and attempt to predict the rating that a user will give an item they have not seen before. This requires that we find the restaurants that *this* user would rate as similar (not just those which are globally similar). \n",
    "\n",
    "3. In the third part, we implement a factor-based CF recommender using a Bayesian model. While quite a bit more complex, this allows us to pool information both about similar users and about similar restaurants.\n",
    "\n",
    "5. We will scale up our system by creating a recommender on the lines of Q1 and Q2 that works on the entire data set. We will use the map-reduce paradigm to split the computation over multiple machines."
   ]
  },
  {
   "cell_type": "markdown",
   "metadata": {},
   "source": [
    "You will start simply, by working on a subset of the restaurant data before generalizing to the entire data set in Problem 4. The complete data set has 150,000 reviews, but we shall start with just about 7000. You will create this  smaller set by taking all the users who had rated more than 60 restaurants, and all the businesses which had greater than 150 reviews from the larger data set. This is not a random set: indeed we use it as it a computationally tractable set that is a bit less sparse than the entire data set."
   ]
  },
  {
   "cell_type": "code",
   "execution_count": 1,
   "metadata": {
    "collapsed": false
   },
   "outputs": [
    {
     "name": "stderr",
     "output_type": "stream",
     "text": [
      "C:\\Anaconda3\\lib\\site-packages\\matplotlib\\__init__.py:878: UserWarning: axes.color_cycle is deprecated and replaced with axes.prop_cycle; please use the latter.\n",
      "  warnings.warn(self.msg_depr % (key, alt_key))\n"
     ]
    }
   ],
   "source": [
    "%matplotlib inline\n",
    "from collections import defaultdict\n",
    "import json\n",
    "\n",
    "import numpy as np\n",
    "import scipy as sp\n",
    "import matplotlib.pyplot as plt\n",
    "import pandas as pd\n",
    "\n",
    "from matplotlib import rcParams\n",
    "import matplotlib.cm as cm\n",
    "import matplotlib as mpl\n",
    "\n",
    "#colorbrewer2 Dark2 qualitative color table\n",
    "dark2_colors = [(0.10588235294117647, 0.6196078431372549, 0.4666666666666667),\n",
    "                (0.8509803921568627, 0.37254901960784315, 0.00784313725490196),\n",
    "                (0.4588235294117647, 0.4392156862745098, 0.7019607843137254),\n",
    "                (0.9058823529411765, 0.1607843137254902, 0.5411764705882353),\n",
    "                (0.4, 0.6509803921568628, 0.11764705882352941),\n",
    "                (0.9019607843137255, 0.6705882352941176, 0.00784313725490196),\n",
    "                (0.6509803921568628, 0.4627450980392157, 0.11372549019607843)]\n",
    "\n",
    "rcParams['figure.figsize'] = (10, 6)\n",
    "rcParams['figure.dpi'] = 150\n",
    "rcParams['axes.color_cycle'] = dark2_colors\n",
    "rcParams['lines.linewidth'] = 2\n",
    "rcParams['axes.facecolor'] = 'white'\n",
    "rcParams['font.size'] = 14\n",
    "rcParams['patch.edgecolor'] = 'white'\n",
    "rcParams['patch.facecolor'] = dark2_colors[0]\n",
    "rcParams['font.family'] = 'StixGeneral'\n",
    "\n",
    "\n",
    "def remove_border(axes=None, top=False, right=False, left=True, bottom=True):\n",
    "    \"\"\"\n",
    "    Minimize chartjunk by stripping out unnecesasry plot borders and axis ticks\n",
    "    \n",
    "    The top/right/left/bottom keywords toggle whether the corresponding plot border is drawn\n",
    "    \"\"\"\n",
    "    ax = axes or plt.gca()\n",
    "    ax.spines['top'].set_visible(top)\n",
    "    ax.spines['right'].set_visible(right)\n",
    "    ax.spines['left'].set_visible(left)\n",
    "    ax.spines['bottom'].set_visible(bottom)\n",
    "    \n",
    "    #turn off all ticks\n",
    "    ax.yaxis.set_ticks_position('none')\n",
    "    ax.xaxis.set_ticks_position('none')\n",
    "    \n",
    "    #now re-enable visibles\n",
    "    if top:\n",
    "        ax.xaxis.tick_top()\n",
    "    if bottom:\n",
    "        ax.xaxis.tick_bottom()\n",
    "    if left:\n",
    "        ax.yaxis.tick_left()\n",
    "    if right:\n",
    "        ax.yaxis.tick_right()\n",
    "        \n",
    "pd.set_option('display.width', 500)\n",
    "pd.set_option('display.max_columns', 100)"
   ]
  },
  {
   "cell_type": "markdown",
   "metadata": {},
   "source": [
    "### Description of the data set\n",
    "\n",
    "The data set has been extracted from the Yelp Phoenix restaurants dataset. It is available [here](https://dl.dropboxusercontent.com/u/75194/bigdf.csv)."
   ]
  },
  {
   "cell_type": "code",
   "execution_count": 2,
   "metadata": {
    "collapsed": false
   },
   "outputs": [
    {
     "data": {
      "text/html": [
       "<div>\n",
       "<table border=\"1\" class=\"dataframe\">\n",
       "  <thead>\n",
       "    <tr style=\"text-align: right;\">\n",
       "      <th></th>\n",
       "      <th>user_id</th>\n",
       "      <th>business_id</th>\n",
       "      <th>date</th>\n",
       "      <th>review_id</th>\n",
       "      <th>stars</th>\n",
       "      <th>usefulvotes_review</th>\n",
       "      <th>user_name</th>\n",
       "      <th>categories</th>\n",
       "      <th>biz_name</th>\n",
       "      <th>latitude</th>\n",
       "      <th>longitude</th>\n",
       "      <th>business_avg</th>\n",
       "      <th>business_review_count</th>\n",
       "      <th>user_avg</th>\n",
       "      <th>user_review_count</th>\n",
       "    </tr>\n",
       "  </thead>\n",
       "  <tbody>\n",
       "    <tr>\n",
       "      <th>0</th>\n",
       "      <td>rLtl8ZkDX5vH5nAx9C3q5Q</td>\n",
       "      <td>9yKzy9PApeiPPOUJEtnvkg</td>\n",
       "      <td>2011-01-26 00:00:00</td>\n",
       "      <td>fWKvX83p0-ka4JS3dc6E5A</td>\n",
       "      <td>5</td>\n",
       "      <td>5</td>\n",
       "      <td>Jason</td>\n",
       "      <td>[Breakfast &amp; Brunch, Restaurants]</td>\n",
       "      <td>Morning Glory Cafe</td>\n",
       "      <td>33.390792</td>\n",
       "      <td>-112.012504</td>\n",
       "      <td>3.87156</td>\n",
       "      <td>109</td>\n",
       "      <td>3.796954</td>\n",
       "      <td>197</td>\n",
       "    </tr>\n",
       "    <tr>\n",
       "      <th>1</th>\n",
       "      <td>SBbftLzfYYKItOMFwOTIJg</td>\n",
       "      <td>9yKzy9PApeiPPOUJEtnvkg</td>\n",
       "      <td>2008-05-04 00:00:00</td>\n",
       "      <td>DASdFe-g0BgfN9J2tanStg</td>\n",
       "      <td>5</td>\n",
       "      <td>1</td>\n",
       "      <td>Jennifer</td>\n",
       "      <td>[Breakfast &amp; Brunch, Restaurants]</td>\n",
       "      <td>Morning Glory Cafe</td>\n",
       "      <td>33.390792</td>\n",
       "      <td>-112.012504</td>\n",
       "      <td>3.87156</td>\n",
       "      <td>109</td>\n",
       "      <td>3.473684</td>\n",
       "      <td>57</td>\n",
       "    </tr>\n",
       "  </tbody>\n",
       "</table>\n",
       "</div>"
      ],
      "text/plain": [
       "                  user_id             business_id                 date               review_id  stars  usefulvotes_review user_name                         categories            biz_name   latitude   longitude  business_avg  business_review_count  user_avg  user_review_count\n",
       "0  rLtl8ZkDX5vH5nAx9C3q5Q  9yKzy9PApeiPPOUJEtnvkg  2011-01-26 00:00:00  fWKvX83p0-ka4JS3dc6E5A      5                   5     Jason  [Breakfast & Brunch, Restaurants]  Morning Glory Cafe  33.390792 -112.012504       3.87156                    109  3.796954                197\n",
       "1  SBbftLzfYYKItOMFwOTIJg  9yKzy9PApeiPPOUJEtnvkg  2008-05-04 00:00:00  DASdFe-g0BgfN9J2tanStg      5                   1  Jennifer  [Breakfast & Brunch, Restaurants]  Morning Glory Cafe  33.390792 -112.012504       3.87156                    109  3.473684                 57"
      ]
     },
     "execution_count": 2,
     "metadata": {},
     "output_type": "execute_result"
    }
   ],
   "source": [
    "fulldf=pd.read_csv(\"D:/data/bigdf.csv\")\n",
    "fulldf.head(2)"
   ]
  },
  {
   "cell_type": "code",
   "execution_count": 3,
   "metadata": {
    "collapsed": false
   },
   "outputs": [
    {
     "data": {
      "text/plain": [
       "user_id                   object\n",
       "business_id               object\n",
       "date                      object\n",
       "review_id                 object\n",
       "stars                      int64\n",
       "usefulvotes_review         int64\n",
       "user_name                 object\n",
       "categories                object\n",
       "biz_name                  object\n",
       "latitude                 float64\n",
       "longitude                float64\n",
       "business_avg             float64\n",
       "business_review_count      int64\n",
       "user_avg                 float64\n",
       "user_review_count          int64\n",
       "dtype: object"
      ]
     },
     "execution_count": 3,
     "metadata": {},
     "output_type": "execute_result"
    }
   ],
   "source": [
    "fulldf.dtypes"
   ]
  },
  {
   "cell_type": "markdown",
   "metadata": {},
   "source": [
    "The data frame is a frame of reviews. We have joined in information about users and businesses into this frame so that you have only one frame to work with."
   ]
  },
  {
   "cell_type": "markdown",
   "metadata": {},
   "source": [
    "This information is for the reviews themselves:"
   ]
  },
  {
   "cell_type": "raw",
   "metadata": {},
   "source": [
    "  'stars': (star rating, integer 1-5),\n",
    "  'date': (date, formatted like '2011-04-19'),\n",
    "  'review_id': (unique id for the review)."
   ]
  },
  {
   "cell_type": "markdown",
   "metadata": {},
   "source": [
    "Here is a description of the data fields in this dataframe, on the business side"
   ]
  },
  {
   "cell_type": "raw",
   "metadata": {},
   "source": [
    "  'business_id': (a unique identifier for this business),\n",
    "  'biz_name': (the full business name),\n",
    "  'latitude': (latitude),\n",
    "  'longitude': (longitude),\n",
    "  'business_review_count': (review count for the restaurant[this is a repeated field for all reviews of the restaurant]),\n",
    "  'categories': [(localized category names)],\n",
    "  'business_avg': (average stars over all users reviews for business[this is a repeated field for all reviews of the restaurant])."
   ]
  },
  {
   "cell_type": "markdown",
   "metadata": {},
   "source": [
    "And Finally, a set of fields for users"
   ]
  },
  {
   "cell_type": "raw",
   "metadata": {},
   "source": [
    "  'user_id': (unique user identifier),\n",
    "  'user_name': (first name, last initial, like 'Matt J.'),\n",
    "  'user_review_count': (count of restaurants reviewed by user[this is a repeated field for all reviews by the user]),\n",
    "  'user_avg': (floating point average of users reviews over all businesses, like 4.31[this is a repeated field for all reviews by the user])."
   ]
  },
  {
   "cell_type": "markdown",
   "metadata": {},
   "source": [
    "In this data set, every user has only one review for each restaurant. Convince yourself of this. (This answer does not need to be submitted)."
   ]
  },
  {
   "cell_type": "markdown",
   "metadata": {},
   "source": [
    "### Our Recommender\n",
    "\n",
    "To motivate our recommendation system, consider the follwing example. Let's pretend we are in Boston for a second. Lets say the average rating of restaurants here by all the users is 3.5. Sandrine's at Harvard square is better than an average restaurant, so it tends to be rated 0.5 stars above the average (over all the users). However, you are a curmudgeon, who tends to rate 0.2 stars below the average. Then a baseline estimate for the recommendation for Sandrine's, for you, is 3.5+0.5-0.2=3.8.\n",
    "\n",
    "These baseline estimates thus adjust the data by accounting for the systematic tendencies for some users who give higher ratings than others, and for some restaurants to recieve higher ratings than others. We can write the baseline estimate $\\hat Y_{um}^{baseline}$ for an unknown rating $Y_{um}$ for user $u$ and restaurant or business $m$ as:\n",
    "\n",
    "$$ \\hat Y_{um}^{baseline} = \\hat \\mu + \\hat \\theta_{u0} + \\hat \\gamma_{m0} $$\n",
    "\n",
    "where the unknown parameters $\\theta_{u0}$ and $\\gamma_{m0}$ indicate the deviations, or biases, of user $u$ and item $m$, respectively, from some intercept parameter $\\mu$. (The reason for the strange notation with 0s will become clear in Problem 3)\n",
    "\n",
    "Notice that the $\\theta_{u0}$ and $\\gamma_{m0}$ are parameters which need to be fit. The simplest thing to start with, and something we will do for Problems 1 and 2 (but not 3), is to replace them by their \"mean\" estimates from the data. Thus:\n",
    "\n",
    "$$ \\hat Y^{baseline}_{um} = \\bar Y + (\\bar Y_u - \\bar Y) + (\\bar Y_m - \\bar Y)$$\n",
    "\n",
    "where $\\bar Y_u$ =  `user_avg`, the average of all a user $u$'s ratings and $\\bar Y_m$ = `business_avg`, the average of all ratings for a restaurant $m$. $\\bar Y$ is the average rating over all reviews.\n",
    "\n",
    "The final two terms correspond to the user-specific and item-specific bias in ratings, that is, how their ratings tend to systematically diverge from the global average. This is the simplest possible way to predict a rating, based only on information about *this* user and *this* restaurant.\n",
    "\n",
    "Can we do a better job of predicting the rating $Y_{um}$ user $u$ would give to restaurant $r$? According to the central dogma of CF, we ought to be able to use the responses of *similar* users regarding *similar* restaurants to get a better prediction. \n",
    "\n",
    "We can make an estimate of $Y_{um}$ as:\n",
    "\n",
    "$$ \\hat{Y_{um}} = \\hat Y_{um}^{baseline}\\, + \\,\\frac{\\sum\\limits_{j \\in S^{k}(m)} s_{mj} ( Y_{uj} - \\hat Y_{uj}^{baseline} )}{\\sum\\limits_{j \\in S^{k}(m)} s_{mj} } $$\n",
    "\n",
    "where $s^{k}(m)$ is the $k$ neighbor items of item $m$ based on some pooling criterion, for example, those items which have been rated by user $u$.\n",
    "\n",
    "In the next two problems, we will focus on using similar restaurants, or the item neighborhood.\n",
    "To do this, we compute a *similarity measure* $s_{mj}$ between the $m$th and $j$th items. This similarity might be measured via [cosine similarity](http://en.wikipedia.org/wiki/Cosine_similarity), [pearson co-efficient](http://en.wikipedia.org/wiki/Pearson_product-moment_correlation_coefficient) or using other distance based measures. Here we shall use the Pearson coefficient. This measures the tendency of users to rate items similarly. Since most ratings are unknown, it is computed on the \"common user support\" (`n_common`), which is the set of common raters of both items. \n",
    "\n",
    "In the first problem we shall set $S$ to the global neighborhood of the item, and in the second we shall set it to those items which have been rated by user $u$."
   ]
  },
  {
   "cell_type": "markdown",
   "metadata": {},
   "source": [
    "## Q1. Writing a simple \"global\" recommender"
   ]
  },
  {
   "cell_type": "markdown",
   "metadata": {},
   "source": [
    "Now we have a way to pool information between similar restaurants to try to predict a user's recommendation. But how do we choose the neighborhood to pool over? We begin with the simplest choice. We calculate the similarity between items using their entire common user support, and rank the nearest neighbors of an item by this similarity. We call this a \"global\" recommender because it assumes that every user perceives the similarity between restaurants in the same way. Later on, we will implement a more specific recommender that pools information based on which items seem the most similar *to this user*.\n",
    "\n",
    "The global recommender does have the advantage of dealing with the possible sparsity of the user's rated items, but also the disadvantage of giving one answer for all users, without taking the user's preferences into account. This is a classic case of bias-variance tradeoff.\n",
    "\n",
    "Lets implement this simpler global recommender first.\n"
   ]
  },
  {
   "cell_type": "markdown",
   "metadata": {},
   "source": [
    "### Exploratory Data Analysis"
   ]
  },
  {
   "cell_type": "markdown",
   "metadata": {},
   "source": [
    "**1.1** Visualize the sparsity of the full data set by plotting two histograms of the review count  grouped by the `user_id` and `business_id` respectively. Are there more users or more businesses? "
   ]
  },
  {
   "cell_type": "code",
   "execution_count": 4,
   "metadata": {
    "collapsed": false
   },
   "outputs": [],
   "source": [
    "#your code here\n",
    "user_review_count = fulldf.groupby('user_id').review_id.count()"
   ]
  },
  {
   "cell_type": "code",
   "execution_count": 5,
   "metadata": {
    "collapsed": false
   },
   "outputs": [
    {
     "data": {
      "text/html": [
       "<div>\n",
       "<table border=\"1\" class=\"dataframe\">\n",
       "  <thead>\n",
       "    <tr style=\"text-align: right;\">\n",
       "      <th></th>\n",
       "      <th>user_id</th>\n",
       "      <th>business_id</th>\n",
       "      <th>date</th>\n",
       "      <th>review_id</th>\n",
       "      <th>stars</th>\n",
       "      <th>usefulvotes_review</th>\n",
       "      <th>user_name</th>\n",
       "      <th>categories</th>\n",
       "      <th>biz_name</th>\n",
       "      <th>latitude</th>\n",
       "      <th>longitude</th>\n",
       "      <th>business_avg</th>\n",
       "      <th>business_review_count</th>\n",
       "      <th>user_avg</th>\n",
       "      <th>user_review_count</th>\n",
       "    </tr>\n",
       "  </thead>\n",
       "  <tbody>\n",
       "    <tr>\n",
       "      <th>0</th>\n",
       "      <td>rLtl8ZkDX5vH5nAx9C3q5Q</td>\n",
       "      <td>9yKzy9PApeiPPOUJEtnvkg</td>\n",
       "      <td>2011-01-26 00:00:00</td>\n",
       "      <td>fWKvX83p0-ka4JS3dc6E5A</td>\n",
       "      <td>5</td>\n",
       "      <td>5</td>\n",
       "      <td>Jason</td>\n",
       "      <td>[Breakfast &amp; Brunch, Restaurants]</td>\n",
       "      <td>Morning Glory Cafe</td>\n",
       "      <td>33.390792</td>\n",
       "      <td>-112.012504</td>\n",
       "      <td>3.87156</td>\n",
       "      <td>109</td>\n",
       "      <td>3.796954</td>\n",
       "      <td>197</td>\n",
       "    </tr>\n",
       "    <tr>\n",
       "      <th>1</th>\n",
       "      <td>SBbftLzfYYKItOMFwOTIJg</td>\n",
       "      <td>9yKzy9PApeiPPOUJEtnvkg</td>\n",
       "      <td>2008-05-04 00:00:00</td>\n",
       "      <td>DASdFe-g0BgfN9J2tanStg</td>\n",
       "      <td>5</td>\n",
       "      <td>1</td>\n",
       "      <td>Jennifer</td>\n",
       "      <td>[Breakfast &amp; Brunch, Restaurants]</td>\n",
       "      <td>Morning Glory Cafe</td>\n",
       "      <td>33.390792</td>\n",
       "      <td>-112.012504</td>\n",
       "      <td>3.87156</td>\n",
       "      <td>109</td>\n",
       "      <td>3.473684</td>\n",
       "      <td>57</td>\n",
       "    </tr>\n",
       "    <tr>\n",
       "      <th>2</th>\n",
       "      <td>mlBC3pN9GXlUUfQi1qBBZA</td>\n",
       "      <td>9yKzy9PApeiPPOUJEtnvkg</td>\n",
       "      <td>2010-07-05 00:00:00</td>\n",
       "      <td>W8CX2h_hmODWmgSJVbMifw</td>\n",
       "      <td>2</td>\n",
       "      <td>1</td>\n",
       "      <td>Jennifer</td>\n",
       "      <td>[Breakfast &amp; Brunch, Restaurants]</td>\n",
       "      <td>Morning Glory Cafe</td>\n",
       "      <td>33.390792</td>\n",
       "      <td>-112.012504</td>\n",
       "      <td>3.87156</td>\n",
       "      <td>109</td>\n",
       "      <td>3.702381</td>\n",
       "      <td>84</td>\n",
       "    </tr>\n",
       "    <tr>\n",
       "      <th>3</th>\n",
       "      <td>0bNXP9quoJEgyVZu9ipGgQ</td>\n",
       "      <td>9yKzy9PApeiPPOUJEtnvkg</td>\n",
       "      <td>2012-10-10 00:00:00</td>\n",
       "      <td>nYVQiPGeiwr7g5BSX7WDJg</td>\n",
       "      <td>3</td>\n",
       "      <td>9</td>\n",
       "      <td>Aileen</td>\n",
       "      <td>[Breakfast &amp; Brunch, Restaurants]</td>\n",
       "      <td>Morning Glory Cafe</td>\n",
       "      <td>33.390792</td>\n",
       "      <td>-112.012504</td>\n",
       "      <td>3.87156</td>\n",
       "      <td>109</td>\n",
       "      <td>3.180077</td>\n",
       "      <td>261</td>\n",
       "    </tr>\n",
       "    <tr>\n",
       "      <th>4</th>\n",
       "      <td>T7J9ae0wTskrI_Bgwp-4cA</td>\n",
       "      <td>9yKzy9PApeiPPOUJEtnvkg</td>\n",
       "      <td>2009-12-17 00:00:00</td>\n",
       "      <td>grZNCXAgd-OH8daA28R-2A</td>\n",
       "      <td>3</td>\n",
       "      <td>1</td>\n",
       "      <td>Jasmine</td>\n",
       "      <td>[Breakfast &amp; Brunch, Restaurants]</td>\n",
       "      <td>Morning Glory Cafe</td>\n",
       "      <td>33.390792</td>\n",
       "      <td>-112.012504</td>\n",
       "      <td>3.87156</td>\n",
       "      <td>109</td>\n",
       "      <td>3.343284</td>\n",
       "      <td>201</td>\n",
       "    </tr>\n",
       "  </tbody>\n",
       "</table>\n",
       "</div>"
      ],
      "text/plain": [
       "                  user_id             business_id                 date               review_id  stars  usefulvotes_review user_name                         categories            biz_name   latitude   longitude  business_avg  business_review_count  user_avg  user_review_count\n",
       "0  rLtl8ZkDX5vH5nAx9C3q5Q  9yKzy9PApeiPPOUJEtnvkg  2011-01-26 00:00:00  fWKvX83p0-ka4JS3dc6E5A      5                   5     Jason  [Breakfast & Brunch, Restaurants]  Morning Glory Cafe  33.390792 -112.012504       3.87156                    109  3.796954                197\n",
       "1  SBbftLzfYYKItOMFwOTIJg  9yKzy9PApeiPPOUJEtnvkg  2008-05-04 00:00:00  DASdFe-g0BgfN9J2tanStg      5                   1  Jennifer  [Breakfast & Brunch, Restaurants]  Morning Glory Cafe  33.390792 -112.012504       3.87156                    109  3.473684                 57\n",
       "2  mlBC3pN9GXlUUfQi1qBBZA  9yKzy9PApeiPPOUJEtnvkg  2010-07-05 00:00:00  W8CX2h_hmODWmgSJVbMifw      2                   1  Jennifer  [Breakfast & Brunch, Restaurants]  Morning Glory Cafe  33.390792 -112.012504       3.87156                    109  3.702381                 84\n",
       "3  0bNXP9quoJEgyVZu9ipGgQ  9yKzy9PApeiPPOUJEtnvkg  2012-10-10 00:00:00  nYVQiPGeiwr7g5BSX7WDJg      3                   9    Aileen  [Breakfast & Brunch, Restaurants]  Morning Glory Cafe  33.390792 -112.012504       3.87156                    109  3.180077                261\n",
       "4  T7J9ae0wTskrI_Bgwp-4cA  9yKzy9PApeiPPOUJEtnvkg  2009-12-17 00:00:00  grZNCXAgd-OH8daA28R-2A      3                   1   Jasmine  [Breakfast & Brunch, Restaurants]  Morning Glory Cafe  33.390792 -112.012504       3.87156                    109  3.343284                201"
      ]
     },
     "execution_count": 5,
     "metadata": {},
     "output_type": "execute_result"
    }
   ],
   "source": [
    "fulldf.head()"
   ]
  },
  {
   "cell_type": "code",
   "execution_count": 6,
   "metadata": {
    "collapsed": false
   },
   "outputs": [
    {
     "data": {
      "text/plain": [
       "34789"
      ]
     },
     "execution_count": 6,
     "metadata": {},
     "output_type": "execute_result"
    }
   ],
   "source": [
    "len(user_review_count)"
   ]
  },
  {
   "cell_type": "code",
   "execution_count": 7,
   "metadata": {
    "collapsed": false
   },
   "outputs": [
    {
     "data": {
      "text/plain": [
       "user_id\n",
       "--65q1FpAL_UQtVZ2PTGew    108\n",
       "--AqBuo717RyacADExYbSA      1\n",
       "--LzFD0UDbYE-Oho3AhsOg      1\n",
       "--M-cIkGnH1KhnLaCOmoPQ      1\n",
       "--RD0Z_F0tV4L-AzhOzXYA      1\n",
       "Name: review_id, dtype: int64"
      ]
     },
     "execution_count": 7,
     "metadata": {},
     "output_type": "execute_result"
    }
   ],
   "source": [
    "user_review_count.head()"
   ]
  },
  {
   "cell_type": "code",
   "execution_count": 8,
   "metadata": {
    "collapsed": false
   },
   "outputs": [
    {
     "data": {
      "image/png": "[encoded data removed]",
      "text/plain": [
       "<matplotlib.figure.Figure at 0xdbe5a83ba8>"
      ]
     },
     "metadata": {},
     "output_type": "display_data"
    }
   ],
   "source": [
    "user_review_count.hist(bins=50, log=True)\n",
    "plt.xlabel(\"Reviews per user\")\n",
    "plt.title(\"Review Count per User\");"
   ]
  },
  {
   "cell_type": "code",
   "execution_count": 9,
   "metadata": {
    "collapsed": false
   },
   "outputs": [],
   "source": [
    "#your code here\n",
    "business_review_count = fulldf.groupby('business_id').review_id.count()"
   ]
  },
  {
   "cell_type": "code",
   "execution_count": 10,
   "metadata": {
    "collapsed": false
   },
   "outputs": [
    {
     "data": {
      "image/png": "[encoded data removed]",
      "text/plain": [
       "<matplotlib.figure.Figure at 0xdbe73a5b70>"
      ]
     },
     "metadata": {},
     "output_type": "display_data"
    }
   ],
   "source": [
    "business_review_count.hist(bins=50, log=True)\n",
    "plt.xlabel(\"Reviews per restaurant\")\n",
    "plt.title(\"Review Count per Restaurant\");"
   ]
  },
  {
   "cell_type": "code",
   "execution_count": 11,
   "metadata": {
    "collapsed": false
   },
   "outputs": [
    {
     "name": "stdout",
     "output_type": "stream",
     "text": [
      "Number of Reviews 149319\n",
      "Number of Users 34789\n",
      "Number of Businesses 4503\n"
     ]
    }
   ],
   "source": [
    "#your code here\n",
    "print(\"Number of Reviews \"+ str(fulldf.review_id.unique().shape[0]))\n",
    "print(\"Number of Users \"+ str(fulldf.user_id.unique().shape[0]))\n",
    "print(\"Number of Businesses \"+ str(fulldf.business_id.unique().shape[0]))"
   ]
  },
  {
   "cell_type": "markdown",
   "metadata": {},
   "source": [
    "*your answer here*\n",
    "<br>there are More users"
   ]
  },
  {
   "cell_type": "markdown",
   "metadata": {},
   "source": [
    "**1.2** Compute the average rating of reviews in the data set and a histogram of all the ratings in the dataset."
   ]
  },
  {
   "cell_type": "code",
   "execution_count": 12,
   "metadata": {
    "collapsed": false
   },
   "outputs": [
    {
     "name": "stdout",
     "output_type": "stream",
     "text": [
      "Mean stars over all reviews:3.7414126802349332\n"
     ]
    },
    {
     "data": {
      "image/png": "[encoded data removed]",
      "text/plain": [
       "<matplotlib.figure.Figure at 0xdbe61fbcf8>"
      ]
     },
     "metadata": {},
     "output_type": "display_data"
    }
   ],
   "source": [
    "#your code here\n",
    "rating_avg = fulldf.stars.mean()\n",
    "print(\"Mean stars over all reviews:\"+str(rating_avg))\n",
    "stars=fulldf.stars\n",
    "stars.hist(bins=5)\n",
    "plt.xlabel(\"Star rating\")\n",
    "plt.grid(False)\n",
    "plt.title(\"Star ratings over all reviews\");"
   ]
  },
  {
   "cell_type": "markdown",
   "metadata": {},
   "source": [
    "The following function is used to re-compute review counts and averages whenever you subset a reviews data frame. We'll use it soon to construct a smaller, more computationally tractable data frame."
   ]
  },
  {
   "cell_type": "code",
   "execution_count": 13,
   "metadata": {
    "collapsed": false
   },
   "outputs": [],
   "source": [
    "def recompute_frame(ldf):\n",
    "    \"\"\"\n",
    "    takes a dataframe ldf, makes a copy of it, and returns the copy\n",
    "    with all averages and review counts recomputed\n",
    "    this is used when a frame is subsetted.\n",
    "    \"\"\"\n",
    "    ldfu=ldf.groupby('user_id')\n",
    "    ldfb=ldf.groupby('business_id')\n",
    "    user_avg=ldfu.stars.mean()\n",
    "    user_review_count=ldfu.review_id.count()\n",
    "    business_avg=ldfb.stars.mean()\n",
    "    business_review_count=ldfb.review_id.count()\n",
    "    nldf=ldf.copy()\n",
    "    nldf.set_index(['business_id'], inplace=True)\n",
    "    nldf['business_avg']=business_avg\n",
    "    nldf['business_review_count']=business_review_count\n",
    "    nldf.reset_index(inplace=True)\n",
    "    nldf.set_index(['user_id'], inplace=True)\n",
    "    nldf['user_avg']=user_avg\n",
    "    nldf['user_review_count']=user_review_count\n",
    "    nldf.reset_index(inplace=True)\n",
    "    return nldf"
   ]
  },
  {
   "cell_type": "markdown",
   "metadata": {},
   "source": [
    "**1.3** Create a smaller data set in dataframe `smalldf` by looking for those businesses with more than 150 reviews and those users with more than 60 reviews. Include all the columns that were there in the parent dataframe. Since you have created a subset of the data set, use the method provided above to recalculate the averages. Print the number of unique users and items in this data set.  \n",
    "\n",
    "Note that while this cut makes sure we have prolific users, the cut on businesses restores sparsity  by reducing the number of reviews per user."
   ]
  },
  {
   "cell_type": "code",
   "execution_count": 14,
   "metadata": {
    "collapsed": false
   },
   "outputs": [],
   "source": [
    "#your code here\n",
    "smalldf_temp=fulldf[(fulldf.user_review_count > 60) & (fulldf.business_review_count > 150)]\n",
    "smalldf=recompute_frame(smalldf_temp)"
   ]
  },
  {
   "cell_type": "code",
   "execution_count": 15,
   "metadata": {
    "collapsed": false
   },
   "outputs": [
    {
     "data": {
      "text/html": [
       "<div>\n",
       "<table border=\"1\" class=\"dataframe\">\n",
       "  <thead>\n",
       "    <tr style=\"text-align: right;\">\n",
       "      <th></th>\n",
       "      <th>user_id</th>\n",
       "      <th>business_id</th>\n",
       "      <th>date</th>\n",
       "      <th>review_id</th>\n",
       "      <th>stars</th>\n",
       "      <th>usefulvotes_review</th>\n",
       "      <th>user_name</th>\n",
       "      <th>categories</th>\n",
       "      <th>biz_name</th>\n",
       "      <th>latitude</th>\n",
       "      <th>longitude</th>\n",
       "      <th>business_avg</th>\n",
       "      <th>business_review_count</th>\n",
       "      <th>user_avg</th>\n",
       "      <th>user_review_count</th>\n",
       "    </tr>\n",
       "  </thead>\n",
       "  <tbody>\n",
       "    <tr>\n",
       "      <th>0</th>\n",
       "      <td>rLtl8ZkDX5vH5nAx9C3q5Q</td>\n",
       "      <td>eIxSLxzIlfExI6vgAbn2JA</td>\n",
       "      <td>2011-05-12 00:00:00</td>\n",
       "      <td>z4G1g3VcdfigCUtVDFRL1w</td>\n",
       "      <td>4</td>\n",
       "      <td>5</td>\n",
       "      <td>Jason</td>\n",
       "      <td>[Burgers, Hot Dogs, American (New), Restaurants]</td>\n",
       "      <td>Lobbys Beef Burgers Dogs</td>\n",
       "      <td>33.39477</td>\n",
       "      <td>-111.908894</td>\n",
       "      <td>4.04</td>\n",
       "      <td>25</td>\n",
       "      <td>3.709677</td>\n",
       "      <td>62</td>\n",
       "    </tr>\n",
       "    <tr>\n",
       "      <th>1</th>\n",
       "      <td>C6IOtaaYdLIT5fWd7ZYIuA</td>\n",
       "      <td>eIxSLxzIlfExI6vgAbn2JA</td>\n",
       "      <td>2011-04-12 00:00:00</td>\n",
       "      <td>480M-xDpRaA1gCVCqIG4WA</td>\n",
       "      <td>4</td>\n",
       "      <td>14</td>\n",
       "      <td>Daren</td>\n",
       "      <td>[Burgers, Hot Dogs, American (New), Restaurants]</td>\n",
       "      <td>Lobbys Beef Burgers Dogs</td>\n",
       "      <td>33.39477</td>\n",
       "      <td>-111.908894</td>\n",
       "      <td>4.04</td>\n",
       "      <td>25</td>\n",
       "      <td>4.000000</td>\n",
       "      <td>15</td>\n",
       "    </tr>\n",
       "    <tr>\n",
       "      <th>2</th>\n",
       "      <td>mlBC3pN9GXlUUfQi1qBBZA</td>\n",
       "      <td>eIxSLxzIlfExI6vgAbn2JA</td>\n",
       "      <td>2011-09-17 00:00:00</td>\n",
       "      <td>q_T6FtScTul_yYIGyrgTxA</td>\n",
       "      <td>3</td>\n",
       "      <td>0</td>\n",
       "      <td>Jennifer</td>\n",
       "      <td>[Burgers, Hot Dogs, American (New), Restaurants]</td>\n",
       "      <td>Lobbys Beef Burgers Dogs</td>\n",
       "      <td>33.39477</td>\n",
       "      <td>-111.908894</td>\n",
       "      <td>4.04</td>\n",
       "      <td>25</td>\n",
       "      <td>3.750000</td>\n",
       "      <td>12</td>\n",
       "    </tr>\n",
       "    <tr>\n",
       "      <th>3</th>\n",
       "      <td>T7J9ae0wTskrI_Bgwp-4cA</td>\n",
       "      <td>eIxSLxzIlfExI6vgAbn2JA</td>\n",
       "      <td>2011-03-09 00:00:00</td>\n",
       "      <td>YPKedK7JuKC36cDAKuDGTQ</td>\n",
       "      <td>3</td>\n",
       "      <td>2</td>\n",
       "      <td>Jasmine</td>\n",
       "      <td>[Burgers, Hot Dogs, American (New), Restaurants]</td>\n",
       "      <td>Lobbys Beef Burgers Dogs</td>\n",
       "      <td>33.39477</td>\n",
       "      <td>-111.908894</td>\n",
       "      <td>4.04</td>\n",
       "      <td>25</td>\n",
       "      <td>3.696970</td>\n",
       "      <td>33</td>\n",
       "    </tr>\n",
       "    <tr>\n",
       "      <th>4</th>\n",
       "      <td>nbofxFWHORebBHh10OgYLA</td>\n",
       "      <td>eIxSLxzIlfExI6vgAbn2JA</td>\n",
       "      <td>2011-07-28 00:00:00</td>\n",
       "      <td>y7yBnfbPxZJ_L93tnxMP3g</td>\n",
       "      <td>2</td>\n",
       "      <td>1</td>\n",
       "      <td>Christopher</td>\n",
       "      <td>[Burgers, Hot Dogs, American (New), Restaurants]</td>\n",
       "      <td>Lobbys Beef Burgers Dogs</td>\n",
       "      <td>33.39477</td>\n",
       "      <td>-111.908894</td>\n",
       "      <td>4.04</td>\n",
       "      <td>25</td>\n",
       "      <td>3.833333</td>\n",
       "      <td>12</td>\n",
       "    </tr>\n",
       "  </tbody>\n",
       "</table>\n",
       "</div>"
      ],
      "text/plain": [
       "                  user_id             business_id                 date               review_id  stars  usefulvotes_review    user_name                                        categories                  biz_name  latitude   longitude  business_avg  business_review_count  user_avg  user_review_count\n",
       "0  rLtl8ZkDX5vH5nAx9C3q5Q  eIxSLxzIlfExI6vgAbn2JA  2011-05-12 00:00:00  z4G1g3VcdfigCUtVDFRL1w      4                   5        Jason  [Burgers, Hot Dogs, American (New), Restaurants]  Lobbys Beef Burgers Dogs  33.39477 -111.908894          4.04                     25  3.709677                 62\n",
       "1  C6IOtaaYdLIT5fWd7ZYIuA  eIxSLxzIlfExI6vgAbn2JA  2011-04-12 00:00:00  480M-xDpRaA1gCVCqIG4WA      4                  14        Daren  [Burgers, Hot Dogs, American (New), Restaurants]  Lobbys Beef Burgers Dogs  33.39477 -111.908894          4.04                     25  4.000000                 15\n",
       "2  mlBC3pN9GXlUUfQi1qBBZA  eIxSLxzIlfExI6vgAbn2JA  2011-09-17 00:00:00  q_T6FtScTul_yYIGyrgTxA      3                   0     Jennifer  [Burgers, Hot Dogs, American (New), Restaurants]  Lobbys Beef Burgers Dogs  33.39477 -111.908894          4.04                     25  3.750000                 12\n",
       "3  T7J9ae0wTskrI_Bgwp-4cA  eIxSLxzIlfExI6vgAbn2JA  2011-03-09 00:00:00  YPKedK7JuKC36cDAKuDGTQ      3                   2      Jasmine  [Burgers, Hot Dogs, American (New), Restaurants]  Lobbys Beef Burgers Dogs  33.39477 -111.908894          4.04                     25  3.696970                 33\n",
       "4  nbofxFWHORebBHh10OgYLA  eIxSLxzIlfExI6vgAbn2JA  2011-07-28 00:00:00  y7yBnfbPxZJ_L93tnxMP3g      2                   1  Christopher  [Burgers, Hot Dogs, American (New), Restaurants]  Lobbys Beef Burgers Dogs  33.39477 -111.908894          4.04                     25  3.833333                 12"
      ]
     },
     "execution_count": 15,
     "metadata": {},
     "output_type": "execute_result"
    }
   ],
   "source": [
    "smalldf.head()"
   ]
  },
  {
   "cell_type": "markdown",
   "metadata": {},
   "source": [
    "How does this compare to the parent data set, in terms of size and sparsity? Once again, plot histograms of the review count grouped by user, and by the review count grouped by business, respectively, and describe the results"
   ]
  },
  {
   "cell_type": "code",
   "execution_count": 17,
   "metadata": {
    "collapsed": false
   },
   "outputs": [
    {
     "name": "stdout",
     "output_type": "stream",
     "text": [
      "size of this small dataset is 6165\n",
      "size of this parent dataset is 149319\n"
     ]
    }
   ],
   "source": [
    "#your code here\n",
    "print(\"size of this small dataset is \" + str(len(smalldf)))\n",
    "print(\"size of this parent dataset is \" + str(len(fulldf)))\n"
   ]
  },
  {
   "cell_type": "code",
   "execution_count": 18,
   "metadata": {
    "collapsed": false
   },
   "outputs": [
    {
     "data": {
      "image/png": "[encoded data removed]",
      "text/plain": [
       "<matplotlib.figure.Figure at 0xdbe6fa5898>"
      ]
     },
     "metadata": {},
     "output_type": "display_data"
    }
   ],
   "source": [
    "smalldf_user_review_count = smalldf.groupby('user_id').review_id.count()\n",
    "user_hist = smalldf_user_review_count.hist()\n",
    "remove_border(user_hist)\n",
    "plt.xlabel(\"reviews per user\")\n",
    "plt.grid(False)"
   ]
  },
  {
   "cell_type": "code",
   "execution_count": 19,
   "metadata": {
    "collapsed": false
   },
   "outputs": [
    {
     "data": {
      "image/png": "[encoded data removed]",
      "text/plain": [
       "<matplotlib.figure.Figure at 0xdbdc1b8c18>"
      ]
     },
     "metadata": {},
     "output_type": "display_data"
    }
   ],
   "source": [
    "smalldf_business_review_count = smalldf.groupby('business_id').review_id.count()\n",
    "business_hist = smalldf_business_review_count.hist()\n",
    "remove_border(business_hist)\n",
    "plt.xlabel(\"reviews per business\")\n",
    "plt.grid(False)"
   ]
  },
  {
   "cell_type": "code",
   "execution_count": 20,
   "metadata": {
    "collapsed": false
   },
   "outputs": [
    {
     "data": {
      "text/plain": [
       "business_id\n",
       "-4A5xmN21zi_TXnUESauUQ    25\n",
       "-AAig9FG0s8gYE4f8GfowQ    43\n",
       "-bd26a1QEEpqUZjBmtBUiQ    26\n",
       "-sC66z4SO3tR7nFCjfQwuQ    79\n",
       "0K634ehk41ZRc4kj3NTAEQ    25\n",
       "Name: review_id, dtype: int64"
      ]
     },
     "execution_count": 20,
     "metadata": {},
     "output_type": "execute_result"
    }
   ],
   "source": [
    "smalldf_business_review_count.head()"
   ]
  },
  {
   "cell_type": "markdown",
   "metadata": {},
   "source": [
    "*your answer here*\n",
    "<br> Compare to the parent data set, size decrease from 149319 to 6165. But parent data set is more sparser than small data set. From y-axis of histograms, we can see small data set is flater than parent data set.\n"
   ]
  },
  {
   "cell_type": "markdown",
   "metadata": {},
   "source": [
    "**1.4** Compute histograms of the average user rating in the smaller data set, and the average business rating in the smaller data set. Print the overall mean."
   ]
  },
  {
   "cell_type": "code",
   "execution_count": 21,
   "metadata": {
    "collapsed": false
   },
   "outputs": [],
   "source": [
    "#your code here\n",
    "\n",
    "avg_user_rating = smalldf.groupby('user_id').stars.mean()\n",
    "avg_business_rating = smalldf.groupby('business_id').stars.mean()"
   ]
  },
  {
   "cell_type": "code",
   "execution_count": 22,
   "metadata": {
    "collapsed": false
   },
   "outputs": [
    {
     "data": {
      "image/png": "[encoded data removed]",
      "text/plain": [
       "<matplotlib.figure.Figure at 0xdbe5b52f98>"
      ]
     },
     "metadata": {},
     "output_type": "display_data"
    },
    {
     "data": {
      "image/png": "[encoded data removed]",
      "text/plain": [
       "<matplotlib.figure.Figure at 0xdbe6fa56a0>"
      ]
     },
     "metadata": {},
     "output_type": "display_data"
    }
   ],
   "source": [
    "plt.figure()\n",
    "avg_user_rating_hist = avg_user_rating.hist()\n",
    "remove_border(avg_user_rating_hist)\n",
    "plt.title('Average user rating')\n",
    "plt.xlabel('Average review score')\n",
    "plt.grid(False)\n",
    "plt.figure()\n",
    "avg_business_rating_hist = avg_business_rating.hist()\n",
    "remove_border(avg_business_rating_hist)\n",
    "plt.title('Average business rating')\n",
    "plt.xlabel('Average review score')\n",
    "plt.grid(False)"
   ]
  },
  {
   "cell_type": "markdown",
   "metadata": {},
   "source": [
    "### Common Support\n",
    "\n",
    "Lets now make a histogram of the common user support (the number of common reviewers) of each pair of restaurants on the smaller set, and print the mean. Pay attention to the code, as you will use parts of it later. (This code takes a bit of time to run, so be patient).\n",
    "\n",
    "The common support is an important concept, as for each pair of restaurants, its the number of people who reviewed both. It will be used to modify similarity between restaurants. If the common support is low, the similarity is less believable."
   ]
  },
  {
   "cell_type": "code",
   "execution_count": null,
   "metadata": {
    "collapsed": true
   },
   "outputs": [],
   "source": []
  },
  {
   "cell_type": "code",
   "execution_count": 23,
   "metadata": {
    "collapsed": false
   },
   "outputs": [
    {
     "name": "stdout",
     "output_type": "stream",
     "text": [
      "['rLtl8ZkDX5vH5nAx9C3q5Q' 'C6IOtaaYdLIT5fWd7ZYIuA' 'mlBC3pN9GXlUUfQi1qBBZA'\n",
      " 'T7J9ae0wTskrI_Bgwp-4cA' 'nbofxFWHORebBHh10OgYLA' 'JffajLV-Dnn-eGYgdXDxFg'\n",
      " '4ozupHULqGyO42s3zNUzOQ' 'du6KeE54IFbPiXpU3LOd1g' 'P2kVk4cIWyK4e4h14RhK-Q'\n",
      " 'ikm0UCahtK34LbLCEw4YTw' 'ZmIgP4U4Ht9CYmNX0_zP6w' 'AeucYo8J-rZjcq09Wuqsjw'\n",
      " 'rO3WEI9L-_deUR9-JHuNQw' '3gIfcQq5KxAegwCPXc83cQ' 'uZbTb-u-GVjTa2gtQfry5g'\n",
      " 'rL3dPeKDTybG_ct9OCXGAA' 'qa05pUVNapADHZXpHMPMeA' 'Sa64rQmghfE9i17_dRIDyw'\n",
      " '--65q1FpAL_UQtVZ2PTGew' '9qCPmT6ovJjxL4tJB4ANCg' 'NvDR3SPVPXrDB_dbKuGoWA'\n",
      " 'iwZ_7QuZ1tzT6pIZmOlDQg' 'Pv7DGHzZ-uqIUdOsqPpsVg' 'c3yJNjz_K--z4CIpR7yhvQ'\n",
      " 'KSTOdz0lSFCkqBSRNwjERA']\n",
      "['rLtl8ZkDX5vH5nAx9C3q5Q' '7cR92zkDv4W3kqzii6axvg' 'gcyEUr4DXcbjnGRAWFtfAQ'\n",
      " 'vhxFLqRok6r-D_aQz0s-JQ' '0bNXP9quoJEgyVZu9ipGgQ' 'Ps1Db9zOatoF_76FZNO5CQ'\n",
      " 'JgDkCER12uiv4lbpmkZ9VA' 'JffajLV-Dnn-eGYgdXDxFg' '6kmu0mYbdpMIOZ6Y0eVsxg'\n",
      " 'lPaYMDmJbAnv_3pmZH_inw' '7GC9fVWKa4a1ZmBGLH6Uww' 'fev0iI-XDrteD4SYRKjiUw'\n",
      " 'UuwjD6MZf6Z6QlNphiXRjA' 'Kqvfep2mxS10S50FbVDi4Q' 'sALB8-F04S9VcZMF_GkGUA'\n",
      " 'vsXP832M0kOxKpfduD7dWw' 'MUHoBFzwRoXpCpgYSN8KRA' 'fczQCSmaWF78toLEmb0Zsw'\n",
      " 'q9XgOylNsSbqZqF_SO3-OQ' 'pEVf8GRshP9HUkSpizc9LA' '17PPxx8RxjOUD_nQZ1aHEw'\n",
      " 'W_QXYA7A0IhMrvbckz7eVg' '_PzSNcfrCjeBxSLXRoMmgQ' 'AirVzN1BVQBmq5zY0YMNYQ'\n",
      " 'gN03qFYysM5DbgjuV6N0QQ' 'usQTOj7LQ9v0Fl98gRa3Iw' '7zDqr2I0-xpw9HF5Ha54cA'\n",
      " 'eBwBjylS66qPcHs2_ajLag' 'wHg1YkCzdZq9WBJOTRgxHQ' '4UUIpbOTPmu43wuC2aSGkg'\n",
      " 'kG8jkVFgOAOq6Ht6RvAjEQ' 'XBHJCDzNh--mBhJkzyM_iA' 'oy6fdscGSXY2gzRqF9pZxg'\n",
      " 'tBvrnSCLSpUdCDm5w5GPkg' 'qASPib1Z8ft8e96dtbh66w' '3eit3w0zDbb-z57c9P60vg'\n",
      " 'jqVeTSin5GeRm0ceSg-PBA' 'EJkV29QY_oHwSngQiTj2rQ']\n",
      "['rLtl8ZkDX5vH5nAx9C3q5Q' 'gcyEUr4DXcbjnGRAWFtfAQ' 'vhxFLqRok6r-D_aQz0s-JQ'\n",
      " '0bNXP9quoJEgyVZu9ipGgQ' '8WQubmP7G0NM3IyzyMnCEA' 'JgDkCER12uiv4lbpmkZ9VA'\n",
      " '4ozupHULqGyO42s3zNUzOQ' '6kmu0mYbdpMIOZ6Y0eVsxg' '0qIsBt4EzBDCKrIviV55Ew'\n",
      " 'UuwjD6MZf6Z6QlNphiXRjA' 'f1-pIw_p0ifzu03TXjPRiw' 'thdVzCfKx-DV0zYWqId3pw'\n",
      " '8JC-Yb3UDUv2FUl5ym1nVg' 'xdWsnbaTEfBMVHttqZDHxg' 'pv82zTlB5Txsu2Pusu__FA'\n",
      " 'usQTOj7LQ9v0Fl98gRa3Iw' 'uZbTb-u-GVjTa2gtQfry5g' 'p7dvahRPZIWL7T6pFA_0dg'\n",
      " 'VPXgY9lGJF3XC4ZpusxNuA' 'Iycf9KNRhxvR187Qu2zZHg' 'PShy2RYNadDUhJf4ErOJ7w'\n",
      " '8p4at4zdzCpueAmSBaorZA' 'bX5mIrDlyD8ZabvF_An7FA']\n",
      "['rLtl8ZkDX5vH5nAx9C3q5Q' 'C6IOtaaYdLIT5fWd7ZYIuA' '7cR92zkDv4W3kqzii6axvg'\n",
      " 'Yk37VAp452K7FwHWd1rrQw' 'wC1CPV5bf--bDLtlhNSPLg' 'JgDkCER12uiv4lbpmkZ9VA'\n",
      " '6kmu0mYbdpMIOZ6Y0eVsxg' 'lPaYMDmJbAnv_3pmZH_inw' 'l53FUDHRHLg7BQ89KgAtxQ'\n",
      " 'fev0iI-XDrteD4SYRKjiUw' 'f1-pIw_p0ifzu03TXjPRiw' '3Zi1udoY2iT9s8Q3X6tgZQ'\n",
      " 'thdVzCfKx-DV0zYWqId3pw' '4E_nPWw89FLFHdNsEgMH-g' 'sALB8-F04S9VcZMF_GkGUA'\n",
      " 'hcctCQy3bdZMezrUKkZLtA' 'vsXP832M0kOxKpfduD7dWw' '100Df1wcVrl9rJgB7EG6xw'\n",
      " 'MUHoBFzwRoXpCpgYSN8KRA' '6ts41fCsDKHbFZaKOMNmVQ' 'xFG4Ca2HHmbxDTkMlmHnjQ'\n",
      " 'Bmzq_nkjYqp8aWn12RJdhA' 'W_QXYA7A0IhMrvbckz7eVg' 'joIzw_aUiNvBTuGoytrH7g'\n",
      " 'usQTOj7LQ9v0Fl98gRa3Iw' 'V0y4fqp-4pSRfsz0FmsjPA' '_uL7OiQSfNsCd60DrAf7qQ'\n",
      " 'Sa64rQmghfE9i17_dRIDyw' 'jopndPrv-H5KW2CfScnw9A' 'FktbKOzznpoKTNXMVtc8EA'\n",
      " 'oy6fdscGSXY2gzRqF9pZxg' 'Iycf9KNRhxvR187Qu2zZHg' 'GrSixRnGIxNUJ1Cn5DNX9A'\n",
      " 'g6rlp5No6GjEDXkrjvg1kQ' 'uNbB1uR4EBhmygUc3IfPAw' 'YLE6GoJ61fb0QBF7JTkaJg'\n",
      " 'rjlb-7-JcmM6fR64ZpyTug' '4_YfcfHkCem1onJFkItxjA' 'n_lAaNGeWgspbbCJc0DqRg'\n",
      " 's7Tm9oYWqRlBm5ex2OQ1nw' 'WWxCMDn8rVHIrIFoKRcRDg' 'yy3jXczrKljJGzjo24HWfw'\n",
      " '4dnDsoHuxUtzhaumxbpR5w' 'g84VjttN28PWiv_WtdhnSQ']\n",
      "['rLtl8ZkDX5vH5nAx9C3q5Q' 'qABKRj1ggJmtvrL9FMFtuA' 'JgDkCER12uiv4lbpmkZ9VA'\n",
      " '4ozupHULqGyO42s3zNUzOQ' 'lPaYMDmJbAnv_3pmZH_inw' '0qIsBt4EzBDCKrIviV55Ew'\n",
      " 'UuwjD6MZf6Z6QlNphiXRjA' 'd0wJVf7Gv7v1B-HHYhxZtQ' 'thdVzCfKx-DV0zYWqId3pw'\n",
      " 'Kqvfep2mxS10S50FbVDi4Q' '90a6z--_CUrl84aCzZyPsg' 'OQMOgqS1NFIyAW4i66iDYA'\n",
      " 'xFG4Ca2HHmbxDTkMlmHnjQ' 'pEVf8GRshP9HUkSpizc9LA' '3gIfcQq5KxAegwCPXc83cQ'\n",
      " '_PzSNcfrCjeBxSLXRoMmgQ' 'qa05pUVNapADHZXpHMPMeA' 'gq_G5VCDziyEV2-bzGuqzw'\n",
      " 'iwZ_7QuZ1tzT6pIZmOlDQg' 'rjlb-7-JcmM6fR64ZpyTug' 'jqVeTSin5GeRm0ceSg-PBA']\n",
      "['rLtl8ZkDX5vH5nAx9C3q5Q' 'XqMkm-DD9VsdcKx2YVGhSA' 'dQO0tQISZyb9L4d5ASnXyQ'\n",
      " '6OWHDbEq23f24Vki_veHBA' 'X5GbNXY_nNoa_vTZDD0aCA' '0bNXP9quoJEgyVZu9ipGgQ'\n",
      " '4ozupHULqGyO42s3zNUzOQ' 'du6KeE54IFbPiXpU3LOd1g' 'UuwjD6MZf6Z6QlNphiXRjA'\n",
      " 'P2kVk4cIWyK4e4h14RhK-Q' 'd0wJVf7Gv7v1B-HHYhxZtQ' '90a6z--_CUrl84aCzZyPsg'\n",
      " 'AdEy5KAIlMAy8xHyuMQCFg' 'NLDDaat42UQXQCOpU4e2TA' 'Zwtx7FLZcK5F2P0-Tz8mHg'\n",
      " 'OQMOgqS1NFIyAW4i66iDYA' 'M6oU3OBf_E6gqlfkLGlStQ' 'fczQCSmaWF78toLEmb0Zsw'\n",
      " 'pEVf8GRshP9HUkSpizc9LA' 'zCC6huLkNBEr3JUgQyxJbg' '7zDqr2I0-xpw9HF5Ha54cA'\n",
      " 'wHg1YkCzdZq9WBJOTRgxHQ' '4UUIpbOTPmu43wuC2aSGkg' 'BjwXX-sChcjx2E55B_7rXg'\n",
      " 'oy6fdscGSXY2gzRqF9pZxg' '3Jw-rYwJEz6jSqPgVVmmhA' 'ST8Yzlk2MqKlcaLqL2djBg'\n",
      " '3eit3w0zDbb-z57c9P60vg' 'n_lAaNGeWgspbbCJc0DqRg' '9SZBVZ-mxebOVa1BlWFtWw'\n",
      " 'b4C9E7vTJrOdkJQA86xYSg']\n",
      "['rLtl8ZkDX5vH5nAx9C3q5Q' 'iwUN95LIaEr75TZE_JC6bg' 'XqMkm-DD9VsdcKx2YVGhSA'\n",
      " '0bNXP9quoJEgyVZu9ipGgQ' '4ozupHULqGyO42s3zNUzOQ' 'nWouNfZD3Pw08RYizxkqcA'\n",
      " 'n9Zg0jlOGtxfIrvoPm6Hhw' 'du6KeE54IFbPiXpU3LOd1g' 'P2kVk4cIWyK4e4h14RhK-Q'\n",
      " 'Cp-PV8rsypbO-xBrQ6KmQg' 'thdVzCfKx-DV0zYWqId3pw' '4E_nPWw89FLFHdNsEgMH-g'\n",
      " 'Kqvfep2mxS10S50FbVDi4Q' 'sALB8-F04S9VcZMF_GkGUA' '90a6z--_CUrl84aCzZyPsg'\n",
      " 'fczQCSmaWF78toLEmb0Zsw' 'q9XgOylNsSbqZqF_SO3-OQ' '9FbgqZ5u9WTLAs28nNafIQ'\n",
      " 'X_kPh3nt0AJPNPHye2rTlA' 'd66FhQQZzFDKxklh6t63RA' 'gq_G5VCDziyEV2-bzGuqzw'\n",
      " '_uL7OiQSfNsCd60DrAf7qQ' 'jopndPrv-H5KW2CfScnw9A' 'wfvmwhhadHfpM9UoTV0OMA'\n",
      " 'ZZ43etAB2n_T53YBYtf8Dw' 'ST8Yzlk2MqKlcaLqL2djBg' 'Sjp6EYsqzdlTvymER6wBfg'\n",
      " '3eit3w0zDbb-z57c9P60vg' 'jqVeTSin5GeRm0ceSg-PBA' 'ROr4DQ-gxlfUKmiDC-qSEQ'\n",
      " 'Xm8HXE1JHqscXe5BKf0GFQ' 'PoQOIZc2q5nud7uVz_jdjw' 'LaEj3VpQh7bgpAZLzSRRrw'\n",
      " 'g84VjttN28PWiv_WtdhnSQ']\n",
      "['rLtl8ZkDX5vH5nAx9C3q5Q' 'iwUN95LIaEr75TZE_JC6bg' 'nDBly08j5URmrHQ2JCbyiw'\n",
      " 'JgDkCER12uiv4lbpmkZ9VA' '4ozupHULqGyO42s3zNUzOQ' 'nWouNfZD3Pw08RYizxkqcA'\n",
      " 'du6KeE54IFbPiXpU3LOd1g' '_GVAV2LjUWEs9fGjslex_A' 'Zwtx7FLZcK5F2P0-Tz8mHg'\n",
      " 'iBO2m9xXivsIbvFnZHsNvg' 'fczQCSmaWF78toLEmb0Zsw' 'd66FhQQZzFDKxklh6t63RA'\n",
      " '4IxLt4QvCsJEdaNvH9QApw' 'wNqwKWaRjClmcKsoJJRFow' 'V0y4fqp-4pSRfsz0FmsjPA'\n",
      " 'gq_G5VCDziyEV2-bzGuqzw' '_uL7OiQSfNsCd60DrAf7qQ' 'e4TQFVfepzHf--hnBsjntg'\n",
      " 'exefpuK6O1ctUUqTxq5XLg' 'wfvmwhhadHfpM9UoTV0OMA' 'b4C9E7vTJrOdkJQA86xYSg'\n",
      " 'EJkV29QY_oHwSngQiTj2rQ' 'Pv7DGHzZ-uqIUdOsqPpsVg' 'Xm8HXE1JHqscXe5BKf0GFQ'\n",
      " 'LaEj3VpQh7bgpAZLzSRRrw']\n",
      "['rLtl8ZkDX5vH5nAx9C3q5Q' 'UsULgP4bKA8RMzs8dQzcsA' 'XqMkm-DD9VsdcKx2YVGhSA'\n",
      " 'vhxFLqRok6r-D_aQz0s-JQ' '0bNXP9quoJEgyVZu9ipGgQ' 'GubdNFoDAsiwE6bWIr97cQ'\n",
      " 'T7J9ae0wTskrI_Bgwp-4cA' 'qABKRj1ggJmtvrL9FMFtuA' 'JgDkCER12uiv4lbpmkZ9VA'\n",
      " 'hFtlFksrcLaWHGPNa6SmeA' 'thdVzCfKx-DV0zYWqId3pw' '4E_nPWw89FLFHdNsEgMH-g'\n",
      " 'vsXP832M0kOxKpfduD7dWw' 'NLDDaat42UQXQCOpU4e2TA' 'Ovpa3S8xD96dLE5eDxcxJg'\n",
      " 'fczQCSmaWF78toLEmb0Zsw' 'q9XgOylNsSbqZqF_SO3-OQ' '9FbgqZ5u9WTLAs28nNafIQ'\n",
      " 'HOleI3jz1MLNUJ6cc1x0Pw' '17PPxx8RxjOUD_nQZ1aHEw' 'X_kPh3nt0AJPNPHye2rTlA'\n",
      " 'AeucYo8J-rZjcq09Wuqsjw' 'vWCksqJJfYjGGdD-yb9qGA' 'llkm_iXQszkN5DZvmqjNqA'\n",
      " 'uZbTb-u-GVjTa2gtQfry5g' 'qaAmAU9T_t84UDGiBI98sw' 'APLIPfq1Rf8QyhHHk2uAyA'\n",
      " 'wHg1YkCzdZq9WBJOTRgxHQ' 'AkJFqLqHHAKY3H5R8p7cPQ' '33vUIil_GCaT92aUaZhRXA'\n",
      " '4UUIpbOTPmu43wuC2aSGkg' 'BjwXX-sChcjx2E55B_7rXg' 'q5nFaw9isjD_01PpVAR7hg'\n",
      " 'Bc2UjSePEGvqSdHvz2HKGA' 'kNO6w6EIKo8u6GSykOHBLA' 'e4TQFVfepzHf--hnBsjntg'\n",
      " 'exefpuK6O1ctUUqTxq5XLg' '9qCPmT6ovJjxL4tJB4ANCg' 'NvDR3SPVPXrDB_dbKuGoWA'\n",
      " 'ZZ43etAB2n_T53YBYtf8Dw' 'PShy2RYNadDUhJf4ErOJ7w' 'v2UqlUHA8d3lgTIby0CCFQ'\n",
      " 'g84VjttN28PWiv_WtdhnSQ']\n",
      "['rLtl8ZkDX5vH5nAx9C3q5Q' 'UsULgP4bKA8RMzs8dQzcsA' 'nDBly08j5URmrHQ2JCbyiw'\n",
      " 'wC1CPV5bf--bDLtlhNSPLg' 'JgDkCER12uiv4lbpmkZ9VA' 'lPaYMDmJbAnv_3pmZH_inw'\n",
      " '4E_nPWw89FLFHdNsEgMH-g' '90a6z--_CUrl84aCzZyPsg' 'm7j9e53ycZxjWYBD7rZVng'\n",
      " 'd66FhQQZzFDKxklh6t63RA' 'rO3WEI9L-_deUR9-JHuNQw' 'AirVzN1BVQBmq5zY0YMNYQ'\n",
      " 'wHg1YkCzdZq9WBJOTRgxHQ' 'AkJFqLqHHAKY3H5R8p7cPQ' '33vUIil_GCaT92aUaZhRXA'\n",
      " 'VPXgY9lGJF3XC4ZpusxNuA' 'oy6fdscGSXY2gzRqF9pZxg' 'N-D-d1Z4UybdlkK1HxlNPA'\n",
      " 'GrSixRnGIxNUJ1Cn5DNX9A' 'wfvmwhhadHfpM9UoTV0OMA' 'PShy2RYNadDUhJf4ErOJ7w'\n",
      " 'g6rlp5No6GjEDXkrjvg1kQ' 'uNbB1uR4EBhmygUc3IfPAw' '9SZBVZ-mxebOVa1BlWFtWw'\n",
      " 'KYeLSM3MQpirmHukVV5Iow']\n",
      "['rLtl8ZkDX5vH5nAx9C3q5Q' 'UsULgP4bKA8RMzs8dQzcsA' 'EP3cGJvYiuOwumerwADplg'\n",
      " 'iwUN95LIaEr75TZE_JC6bg' 'XqMkm-DD9VsdcKx2YVGhSA' 'KLekdmo4FdNnP0huUhzZNw'\n",
      " 'n9Zg0jlOGtxfIrvoPm6Hhw' 'du6KeE54IFbPiXpU3LOd1g' 'UuwjD6MZf6Z6QlNphiXRjA'\n",
      " 'f1-pIw_p0ifzu03TXjPRiw' 'thdVzCfKx-DV0zYWqId3pw' '4E_nPWw89FLFHdNsEgMH-g'\n",
      " 'nc3cqVN0UuB3m50-CcMftw' 'OQMOgqS1NFIyAW4i66iDYA' 'fczQCSmaWF78toLEmb0Zsw'\n",
      " 'xFG4Ca2HHmbxDTkMlmHnjQ' 'X_kPh3nt0AJPNPHye2rTlA' 'AeucYo8J-rZjcq09Wuqsjw'\n",
      " 'AkJFqLqHHAKY3H5R8p7cPQ' '33vUIil_GCaT92aUaZhRXA' 'Sa64rQmghfE9i17_dRIDyw'\n",
      " 'kG8jkVFgOAOq6Ht6RvAjEQ' '1BW2HC851fJKPfJeQxjkTA' 'Bc2UjSePEGvqSdHvz2HKGA'\n",
      " 'FktbKOzznpoKTNXMVtc8EA' 'exefpuK6O1ctUUqTxq5XLg' 'GrSixRnGIxNUJ1Cn5DNX9A'\n",
      " 'ZZ43etAB2n_T53YBYtf8Dw' 'g6rlp5No6GjEDXkrjvg1kQ' 'rjlb-7-JcmM6fR64ZpyTug'\n",
      " 's7Tm9oYWqRlBm5ex2OQ1nw' 'EKwGhgLrM18ErVKKeYE2UA' 'PS0lCxjGNeUrKxYSdpW-Aw'\n",
      " 'LaEj3VpQh7bgpAZLzSRRrw']\n",
      "['rLtl8ZkDX5vH5nAx9C3q5Q' 'XqMkm-DD9VsdcKx2YVGhSA' 'vhxFLqRok6r-D_aQz0s-JQ'\n",
      " 'X5GbNXY_nNoa_vTZDD0aCA' 'KucBnMrhalzxnD9AWrxwYQ' '0bNXP9quoJEgyVZu9ipGgQ'\n",
      " 'JffajLV-Dnn-eGYgdXDxFg' '4ozupHULqGyO42s3zNUzOQ' 'lPaYMDmJbAnv_3pmZH_inw'\n",
      " 'f1-pIw_p0ifzu03TXjPRiw' '4E_nPWw89FLFHdNsEgMH-g' 'Kqvfep2mxS10S50FbVDi4Q'\n",
      " 'vsXP832M0kOxKpfduD7dWw' 'AdEy5KAIlMAy8xHyuMQCFg' 'Zwtx7FLZcK5F2P0-Tz8mHg'\n",
      " 'fczQCSmaWF78toLEmb0Zsw' 'LqgGgWi3FLHBViX9tmZ9sw' 'pEVf8GRshP9HUkSpizc9LA'\n",
      " 'HOleI3jz1MLNUJ6cc1x0Pw' 'h7v_M_0-YVpSVZ2WD7FpAA' '3gIfcQq5KxAegwCPXc83cQ'\n",
      " 'gN03qFYysM5DbgjuV6N0QQ' 'y5_vrqIylhXMrejM_-x_vA' 'wHg1YkCzdZq9WBJOTRgxHQ'\n",
      " 'AkJFqLqHHAKY3H5R8p7cPQ' '_uL7OiQSfNsCd60DrAf7qQ' 'VPXgY9lGJF3XC4ZpusxNuA'\n",
      " 'kG8jkVFgOAOq6Ht6RvAjEQ' 'XgIhw-aWaq_Fx3ZVQGjnuA' 'oy6fdscGSXY2gzRqF9pZxg'\n",
      " 'rjlb-7-JcmM6fR64ZpyTug' '3eit3w0zDbb-z57c9P60vg' 'm7vtKWpZ9wdEQ95wJxrMrg'\n",
      " 'b4C9E7vTJrOdkJQA86xYSg' 'WWxCMDn8rVHIrIFoKRcRDg' 'Pv7DGHzZ-uqIUdOsqPpsVg'\n",
      " 'yy3jXczrKljJGzjo24HWfw' 'kJyR4gT1pfCcNjEY9-YMoQ' 'c3yJNjz_K--z4CIpR7yhvQ'\n",
      " 'LaEj3VpQh7bgpAZLzSRRrw']\n",
      "['rLtl8ZkDX5vH5nAx9C3q5Q' 'HY9qpAamqLXFoa7xMwNntg' '6OWHDbEq23f24Vki_veHBA'\n",
      " '64YY0h0ZAR2nbzxbx0IwJg' '0bNXP9quoJEgyVZu9ipGgQ' 'K0euQLFAcKhQPZ6JxGAryg'\n",
      " '8WQubmP7G0NM3IyzyMnCEA' '6kmu0mYbdpMIOZ6Y0eVsxg' 'MWt24-6bfv_OHLKhwMQ0Tw'\n",
      " '7GC9fVWKa4a1ZmBGLH6Uww' 'du6KeE54IFbPiXpU3LOd1g' 'fev0iI-XDrteD4SYRKjiUw'\n",
      " 'hDlSSyDreM9xY4yQWPm54w' 'mfvezpz6ohS0NQk3DZdvqQ' 'bcZd4ohK6CIT_BOQ0_O53w'\n",
      " 'Cp-PV8rsypbO-xBrQ6KmQg' 'thdVzCfKx-DV0zYWqId3pw' 'AdEy5KAIlMAy8xHyuMQCFg'\n",
      " 'Zwtx7FLZcK5F2P0-Tz8mHg' 'M6oU3OBf_E6gqlfkLGlStQ' 'fczQCSmaWF78toLEmb0Zsw'\n",
      " 'LqgGgWi3FLHBViX9tmZ9sw' 'q9XgOylNsSbqZqF_SO3-OQ' '6ts41fCsDKHbFZaKOMNmVQ'\n",
      " 'xFG4Ca2HHmbxDTkMlmHnjQ' 'LXWAXIeYFIdgd2JVPF-9qA' 'UoBfwbXaixelZBghbJ2cSg'\n",
      " 'waD2euOMPTnTzQ0thq3H6Q' 'oC0kwGvgaAeT3ZIxdxTcJA' 'W_QXYA7A0IhMrvbckz7eVg'\n",
      " 'uZbTb-u-GVjTa2gtQfry5g' '7zDqr2I0-xpw9HF5Ha54cA' 'qaAmAU9T_t84UDGiBI98sw'\n",
      " 'y5_vrqIylhXMrejM_-x_vA' 'APLIPfq1Rf8QyhHHk2uAyA' 'qa05pUVNapADHZXpHMPMeA'\n",
      " '3ONPPazUH-Q3XblYJIaA1A' 'f01B5tRtqf3k6ak1pPSAWw' 'BjwXX-sChcjx2E55B_7rXg'\n",
      " 'N-D-d1Z4UybdlkK1HxlNPA' 'ST8Yzlk2MqKlcaLqL2djBg' 'Lp_Ykqfbv5Q-oyGYlMGJRg'\n",
      " 's7Tm9oYWqRlBm5ex2OQ1nw' 'bX5mIrDlyD8ZabvF_An7FA' 'xZvRLPJ1ixhFVomkXSfXAw'\n",
      " 'WWxCMDn8rVHIrIFoKRcRDg' '4dnDsoHuxUtzhaumxbpR5w' 'ROr4DQ-gxlfUKmiDC-qSEQ'\n",
      " '0oRtnPHtvZIE1UNxCDDTPw' 'PoQOIZc2q5nud7uVz_jdjw' 'v6CGBT0OoLRht9dzo7vaXg']\n",
      "['rLtl8ZkDX5vH5nAx9C3q5Q' 'C6IOtaaYdLIT5fWd7ZYIuA' 'X5GbNXY_nNoa_vTZDD0aCA'\n",
      " '0bNXP9quoJEgyVZu9ipGgQ' 'K0euQLFAcKhQPZ6JxGAryg' '8WQubmP7G0NM3IyzyMnCEA'\n",
      " 'JgDkCER12uiv4lbpmkZ9VA' '_jjIaczpcVDpHlH6l334rQ' '4ozupHULqGyO42s3zNUzOQ'\n",
      " 'du6KeE54IFbPiXpU3LOd1g' 'fev0iI-XDrteD4SYRKjiUw' 'hFtlFksrcLaWHGPNa6SmeA'\n",
      " 'd0wJVf7Gv7v1B-HHYhxZtQ' 'Cp-PV8rsypbO-xBrQ6KmQg' 'thdVzCfKx-DV0zYWqId3pw'\n",
      " 'vsXP832M0kOxKpfduD7dWw' '90a6z--_CUrl84aCzZyPsg' '8JC-Yb3UDUv2FUl5ym1nVg'\n",
      " 'fczQCSmaWF78toLEmb0Zsw' 'W_QXYA7A0IhMrvbckz7eVg' '4IxLt4QvCsJEdaNvH9QApw'\n",
      " '7zDqr2I0-xpw9HF5Ha54cA' 'y5_vrqIylhXMrejM_-x_vA' 'eBwBjylS66qPcHs2_ajLag'\n",
      " 'wHg1YkCzdZq9WBJOTRgxHQ' 'AkJFqLqHHAKY3H5R8p7cPQ' '_uL7OiQSfNsCd60DrAf7qQ'\n",
      " 'oy6fdscGSXY2gzRqF9pZxg' 'Iycf9KNRhxvR187Qu2zZHg' '3Jw-rYwJEz6jSqPgVVmmhA'\n",
      " 'ZZ43etAB2n_T53YBYtf8Dw' 'ST8Yzlk2MqKlcaLqL2djBg' 'PShy2RYNadDUhJf4ErOJ7w'\n",
      " 'uNbB1uR4EBhmygUc3IfPAw' 'rjlb-7-JcmM6fR64ZpyTug' '4_YfcfHkCem1onJFkItxjA'\n",
      " 'v2UqlUHA8d3lgTIby0CCFQ' 'KYeLSM3MQpirmHukVV5Iow' 'b4C9E7vTJrOdkJQA86xYSg'\n",
      " 'Pv7DGHzZ-uqIUdOsqPpsVg' 'yy3jXczrKljJGzjo24HWfw']\n",
      "['rLtl8ZkDX5vH5nAx9C3q5Q' 'UsULgP4bKA8RMzs8dQzcsA' '7cR92zkDv4W3kqzii6axvg'\n",
      " 'gcyEUr4DXcbjnGRAWFtfAQ' 'dQO0tQISZyb9L4d5ASnXyQ' 'vhxFLqRok6r-D_aQz0s-JQ'\n",
      " '64YY0h0ZAR2nbzxbx0IwJg' 'wC1CPV5bf--bDLtlhNSPLg' 'Ps1Db9zOatoF_76FZNO5CQ'\n",
      " 'JgDkCER12uiv4lbpmkZ9VA' '4ozupHULqGyO42s3zNUzOQ' 'E5QyEU6FCQwnTys0S73zNw'\n",
      " '6kmu0mYbdpMIOZ6Y0eVsxg' 'MWt24-6bfv_OHLKhwMQ0Tw' 'lPaYMDmJbAnv_3pmZH_inw'\n",
      " '7GC9fVWKa4a1ZmBGLH6Uww' 'du6KeE54IFbPiXpU3LOd1g' 'fev0iI-XDrteD4SYRKjiUw'\n",
      " 'hFtlFksrcLaWHGPNa6SmeA' 'hDlSSyDreM9xY4yQWPm54w' 'bcZd4ohK6CIT_BOQ0_O53w'\n",
      " 'd0wJVf7Gv7v1B-HHYhxZtQ' 'Kqvfep2mxS10S50FbVDi4Q' 'nc3cqVN0UuB3m50-CcMftw'\n",
      " 'AdEy5KAIlMAy8xHyuMQCFg' '8JC-Yb3UDUv2FUl5ym1nVg' '100Df1wcVrl9rJgB7EG6xw'\n",
      " 'Zwtx7FLZcK5F2P0-Tz8mHg' 'OQMOgqS1NFIyAW4i66iDYA' 'MUHoBFzwRoXpCpgYSN8KRA'\n",
      " 'M6oU3OBf_E6gqlfkLGlStQ' 'LqgGgWi3FLHBViX9tmZ9sw' 'q9XgOylNsSbqZqF_SO3-OQ'\n",
      " 'xFG4Ca2HHmbxDTkMlmHnjQ' 'LXWAXIeYFIdgd2JVPF-9qA' 'HOleI3jz1MLNUJ6cc1x0Pw'\n",
      " 'W_QXYA7A0IhMrvbckz7eVg' 'C8ZTiwa7qWoPSMIivTeSfw' '3gIfcQq5KxAegwCPXc83cQ'\n",
      " 'PNS9z4aFDbfhpIsHCfNvNg' '_PzSNcfrCjeBxSLXRoMmgQ' 'gN03qFYysM5DbgjuV6N0QQ'\n",
      " 'Ypz7hxOCnrg8Y8vxHJU-sQ' 'wNqwKWaRjClmcKsoJJRFow' '7zDqr2I0-xpw9HF5Ha54cA'\n",
      " 'y5_vrqIylhXMrejM_-x_vA' 'eBwBjylS66qPcHs2_ajLag' '33vUIil_GCaT92aUaZhRXA'\n",
      " '_uL7OiQSfNsCd60DrAf7qQ' 'VPXgY9lGJF3XC4ZpusxNuA' 'f01B5tRtqf3k6ak1pPSAWw'\n",
      " 'jdeNI5TTTuM6mj3HTgstRA' 'jopndPrv-H5KW2CfScnw9A' '--65q1FpAL_UQtVZ2PTGew'\n",
      " 'XBHJCDzNh--mBhJkzyM_iA' 'oy6fdscGSXY2gzRqF9pZxg' 'tBvrnSCLSpUdCDm5w5GPkg'\n",
      " 'GrSixRnGIxNUJ1Cn5DNX9A' '9VPNlcKsL99FvKtz1r9qJg' '3Jw-rYwJEz6jSqPgVVmmhA'\n",
      " 'ZZ43etAB2n_T53YBYtf8Dw' 'JkMOQaMjlBHMqp6gj-hL3w' 'ST8Yzlk2MqKlcaLqL2djBg'\n",
      " '78Ed1ndOak2kmzljulPfBg' 'rjlb-7-JcmM6fR64ZpyTug' 'A_O8wZOsMTPwyeYA4-Rsow'\n",
      " '3eit3w0zDbb-z57c9P60vg' '4_YfcfHkCem1onJFkItxjA' 'm7vtKWpZ9wdEQ95wJxrMrg'\n",
      " 'f3LA83yEEBMj9q92H28O7w' 'ceKoQX0_IJZ6Lr9-9LGcbA' 'xZvRLPJ1ixhFVomkXSfXAw'\n",
      " 'RxfFQxUtSIGYwTKU_rvAeg' 'WWxCMDn8rVHIrIFoKRcRDg' 'kJyR4gT1pfCcNjEY9-YMoQ'\n",
      " 'w1LjSa5wMexRIQ-82LKWmQ' 'ROr4DQ-gxlfUKmiDC-qSEQ' 'c3yJNjz_K--z4CIpR7yhvQ'\n",
      " 'QBQlErZajdIyXX84dvFUnQ']\n",
      "['rLtl8ZkDX5vH5nAx9C3q5Q' 'UPtysDF6cUDUxq2KY-6Dcg' 'UsULgP4bKA8RMzs8dQzcsA'\n",
      " 'gcyEUr4DXcbjnGRAWFtfAQ' 'dQO0tQISZyb9L4d5ASnXyQ' 'vhxFLqRok6r-D_aQz0s-JQ'\n",
      " 'T7J9ae0wTskrI_Bgwp-4cA' 'JffajLV-Dnn-eGYgdXDxFg' '4ozupHULqGyO42s3zNUzOQ'\n",
      " 'KLekdmo4FdNnP0huUhzZNw' '0qIsBt4EzBDCKrIviV55Ew' 'd0wJVf7Gv7v1B-HHYhxZtQ'\n",
      " '_GVAV2LjUWEs9fGjslex_A' 'q9XgOylNsSbqZqF_SO3-OQ' 'X_kPh3nt0AJPNPHye2rTlA'\n",
      " 'UoBfwbXaixelZBghbJ2cSg' '3gIfcQq5KxAegwCPXc83cQ' 'PNS9z4aFDbfhpIsHCfNvNg'\n",
      " 'AirVzN1BVQBmq5zY0YMNYQ' 'llkm_iXQszkN5DZvmqjNqA' '7zDqr2I0-xpw9HF5Ha54cA'\n",
      " 'qaAmAU9T_t84UDGiBI98sw' 'p7dvahRPZIWL7T6pFA_0dg' 'hjJPKQ1Ah91h3fVbc8GsOg'\n",
      " '3ONPPazUH-Q3XblYJIaA1A' 'f01B5tRtqf3k6ak1pPSAWw' 'jopndPrv-H5KW2CfScnw9A'\n",
      " 'Iycf9KNRhxvR187Qu2zZHg' 'GrSixRnGIxNUJ1Cn5DNX9A' 'Lp_Ykqfbv5Q-oyGYlMGJRg'\n",
      " '4_YfcfHkCem1onJFkItxjA' 'ZC49A1K-if7KP8VJXoqELQ' 'v2UqlUHA8d3lgTIby0CCFQ'\n",
      " 'RxfFQxUtSIGYwTKU_rvAeg' 'Pv7DGHzZ-uqIUdOsqPpsVg' 'PoQOIZc2q5nud7uVz_jdjw'\n",
      " 'KSTOdz0lSFCkqBSRNwjERA' 'LaEj3VpQh7bgpAZLzSRRrw']\n",
      "['rLtl8ZkDX5vH5nAx9C3q5Q' 'C6IOtaaYdLIT5fWd7ZYIuA' 'iwUN95LIaEr75TZE_JC6bg'\n",
      " '7cR92zkDv4W3kqzii6axvg' 'XqMkm-DD9VsdcKx2YVGhSA' 'jKeaOrPyJ-dI9SNeVqrbww'\n",
      " '64YY0h0ZAR2nbzxbx0IwJg' '0bNXP9quoJEgyVZu9ipGgQ' '4ozupHULqGyO42s3zNUzOQ'\n",
      " '6kmu0mYbdpMIOZ6Y0eVsxg' 'pIm17SVRo8IdhGoBD4qbnA' 'P2kVk4cIWyK4e4h14RhK-Q'\n",
      " 'vsXP832M0kOxKpfduD7dWw' 'pEVf8GRshP9HUkSpizc9LA' 'xdWsnbaTEfBMVHttqZDHxg'\n",
      " 'h7v_M_0-YVpSVZ2WD7FpAA' 'C8ZTiwa7qWoPSMIivTeSfw' 'zCC6huLkNBEr3JUgQyxJbg'\n",
      " 'vWCksqJJfYjGGdD-yb9qGA' 'AirVzN1BVQBmq5zY0YMNYQ' 'qa05pUVNapADHZXpHMPMeA'\n",
      " '_uL7OiQSfNsCd60DrAf7qQ' '-9mljS0O9mwdOnGv-Oea3Q' 'NvDR3SPVPXrDB_dbKuGoWA'\n",
      " '-F32Vl8Rk4dwsmk0f2wRIw' '9VPNlcKsL99FvKtz1r9qJg' 'ST8Yzlk2MqKlcaLqL2djBg'\n",
      " 'PShy2RYNadDUhJf4ErOJ7w' '8dbRf1UsWp2ktXHZ6Zv06w' 'lC4X2crUuxT9Ac9BlOX4Uw']\n",
      "['rLtl8ZkDX5vH5nAx9C3q5Q' '7cR92zkDv4W3kqzii6axvg' 'vhxFLqRok6r-D_aQz0s-JQ'\n",
      " '64YY0h0ZAR2nbzxbx0IwJg' 'JgDkCER12uiv4lbpmkZ9VA' 'E5QyEU6FCQwnTys0S73zNw'\n",
      " '6kmu0mYbdpMIOZ6Y0eVsxg' 'MWt24-6bfv_OHLKhwMQ0Tw' '7GC9fVWKa4a1ZmBGLH6Uww'\n",
      " 'fev0iI-XDrteD4SYRKjiUw' '8JC-Yb3UDUv2FUl5ym1nVg' 'MUHoBFzwRoXpCpgYSN8KRA'\n",
      " 'pv82zTlB5Txsu2Pusu__FA' 'HOleI3jz1MLNUJ6cc1x0Pw' '17PPxx8RxjOUD_nQZ1aHEw'\n",
      " '8CNEh7fSbLwDuAKhLjDPKQ' 'UoBfwbXaixelZBghbJ2cSg' 'oC0kwGvgaAeT3ZIxdxTcJA'\n",
      " 'h7v_M_0-YVpSVZ2WD7FpAA' 'AirVzN1BVQBmq5zY0YMNYQ' 'usQTOj7LQ9v0Fl98gRa3Iw'\n",
      " 'uZbTb-u-GVjTa2gtQfry5g' 'wNqwKWaRjClmcKsoJJRFow' '7zDqr2I0-xpw9HF5Ha54cA'\n",
      " 'APLIPfq1Rf8QyhHHk2uAyA' 'eBwBjylS66qPcHs2_ajLag' 'gq_G5VCDziyEV2-bzGuqzw'\n",
      " 'f01B5tRtqf3k6ak1pPSAWw' '9qCPmT6ovJjxL4tJB4ANCg' '-F32Vl8Rk4dwsmk0f2wRIw'\n",
      " 'HZeFzs42f0iGaA-sP_hUnA' 'JkMOQaMjlBHMqp6gj-hL3w' 'iwZ_7QuZ1tzT6pIZmOlDQg'\n",
      " 'qASPib1Z8ft8e96dtbh66w' 'Lp_Ykqfbv5Q-oyGYlMGJRg' '4_YfcfHkCem1onJFkItxjA'\n",
      " 'f3LA83yEEBMj9q92H28O7w' 'b4C9E7vTJrOdkJQA86xYSg' 'WWxCMDn8rVHIrIFoKRcRDg'\n",
      " 'Pv7DGHzZ-uqIUdOsqPpsVg' 'ROr4DQ-gxlfUKmiDC-qSEQ' 'g84VjttN28PWiv_WtdhnSQ']\n",
      "['rLtl8ZkDX5vH5nAx9C3q5Q' 'DrWLhrK8WMZf7Jb-Oqc7ww' 'joIzw_aUiNvBTuGoytrH7g'\n",
      " '3gIfcQq5KxAegwCPXc83cQ' 'Ypz7hxOCnrg8Y8vxHJU-sQ' 'qa05pUVNapADHZXpHMPMeA'\n",
      " '3ONPPazUH-Q3XblYJIaA1A' '-9mljS0O9mwdOnGv-Oea3Q' 'mym5tXZoZCbuPCYQzI5Ysg'\n",
      " '3eit3w0zDbb-z57c9P60vg' 'xZvRLPJ1ixhFVomkXSfXAw' 'Pv7DGHzZ-uqIUdOsqPpsVg'\n",
      " 'Xm8HXE1JHqscXe5BKf0GFQ']\n",
      "['rLtl8ZkDX5vH5nAx9C3q5Q' 'gcyEUr4DXcbjnGRAWFtfAQ' 'HY9qpAamqLXFoa7xMwNntg'\n",
      " 'T7J9ae0wTskrI_Bgwp-4cA' 'nbofxFWHORebBHh10OgYLA' 'JgDkCER12uiv4lbpmkZ9VA'\n",
      " '4ozupHULqGyO42s3zNUzOQ' 'MWt24-6bfv_OHLKhwMQ0Tw' 'lPaYMDmJbAnv_3pmZH_inw'\n",
      " 'UuwjD6MZf6Z6QlNphiXRjA' 'mfvezpz6ohS0NQk3DZdvqQ' 'bcZd4ohK6CIT_BOQ0_O53w'\n",
      " 'Kqvfep2mxS10S50FbVDi4Q' 'hcctCQy3bdZMezrUKkZLtA' 'vsXP832M0kOxKpfduD7dWw'\n",
      " 'Ovpa3S8xD96dLE5eDxcxJg' 'OQMOgqS1NFIyAW4i66iDYA' 'M6oU3OBf_E6gqlfkLGlStQ'\n",
      " 'fczQCSmaWF78toLEmb0Zsw' 'LXWAXIeYFIdgd2JVPF-9qA' 'pEVf8GRshP9HUkSpizc9LA'\n",
      " 'HOleI3jz1MLNUJ6cc1x0Pw' 'oC0kwGvgaAeT3ZIxdxTcJA' 'C8ZTiwa7qWoPSMIivTeSfw'\n",
      " '3gIfcQq5KxAegwCPXc83cQ' 'gN03qFYysM5DbgjuV6N0QQ' 'usQTOj7LQ9v0Fl98gRa3Iw'\n",
      " 'p7dvahRPZIWL7T6pFA_0dg' 'f01B5tRtqf3k6ak1pPSAWw' 'Bc2UjSePEGvqSdHvz2HKGA'\n",
      " 'e4TQFVfepzHf--hnBsjntg' 'FktbKOzznpoKTNXMVtc8EA' 'exefpuK6O1ctUUqTxq5XLg'\n",
      " 'oy6fdscGSXY2gzRqF9pZxg' 'tBvrnSCLSpUdCDm5w5GPkg' 'GrSixRnGIxNUJ1Cn5DNX9A'\n",
      " 'HZeFzs42f0iGaA-sP_hUnA' '3Jw-rYwJEz6jSqPgVVmmhA' 'qASPib1Z8ft8e96dtbh66w'\n",
      " '78Ed1ndOak2kmzljulPfBg' 'rjlb-7-JcmM6fR64ZpyTug' 'GyFmGA5UQZ4pXdx1lUH86g'\n",
      " 'LaEj3VpQh7bgpAZLzSRRrw']\n",
      "['rLtl8ZkDX5vH5nAx9C3q5Q' '7cR92zkDv4W3kqzii6axvg' 'vhxFLqRok6r-D_aQz0s-JQ'\n",
      " 'nDBly08j5URmrHQ2JCbyiw' 'qABKRj1ggJmtvrL9FMFtuA' 'Ps1Db9zOatoF_76FZNO5CQ'\n",
      " '_jjIaczpcVDpHlH6l334rQ' '4ozupHULqGyO42s3zNUzOQ' '6kmu0mYbdpMIOZ6Y0eVsxg'\n",
      " 'MWt24-6bfv_OHLKhwMQ0Tw' 'd0wJVf7Gv7v1B-HHYhxZtQ' 'vsXP832M0kOxKpfduD7dWw'\n",
      " '90a6z--_CUrl84aCzZyPsg' '100Df1wcVrl9rJgB7EG6xw' 'M6oU3OBf_E6gqlfkLGlStQ'\n",
      " 'q9XgOylNsSbqZqF_SO3-OQ' '6ts41fCsDKHbFZaKOMNmVQ' 'xFG4Ca2HHmbxDTkMlmHnjQ'\n",
      " 'pEVf8GRshP9HUkSpizc9LA' 'HOleI3jz1MLNUJ6cc1x0Pw' '17PPxx8RxjOUD_nQZ1aHEw'\n",
      " 'C8ZTiwa7qWoPSMIivTeSfw' '3gIfcQq5KxAegwCPXc83cQ' 'gN03qFYysM5DbgjuV6N0QQ'\n",
      " 'Ypz7hxOCnrg8Y8vxHJU-sQ' '7zDqr2I0-xpw9HF5Ha54cA' 'qaAmAU9T_t84UDGiBI98sw'\n",
      " 'eBwBjylS66qPcHs2_ajLag' 'wHg1YkCzdZq9WBJOTRgxHQ' '_uL7OiQSfNsCd60DrAf7qQ'\n",
      " 'f01B5tRtqf3k6ak1pPSAWw' 'kG8jkVFgOAOq6Ht6RvAjEQ' 'XBHJCDzNh--mBhJkzyM_iA'\n",
      " 'FktbKOzznpoKTNXMVtc8EA' 'exefpuK6O1ctUUqTxq5XLg' 'oy6fdscGSXY2gzRqF9pZxg'\n",
      " '3Jw-rYwJEz6jSqPgVVmmhA' 'rjlb-7-JcmM6fR64ZpyTug' 'v2UqlUHA8d3lgTIby0CCFQ'\n",
      " 'EJkV29QY_oHwSngQiTj2rQ' 'WWxCMDn8rVHIrIFoKRcRDg' '4dnDsoHuxUtzhaumxbpR5w']\n",
      "['rLtl8ZkDX5vH5nAx9C3q5Q' '7cR92zkDv4W3kqzii6axvg' 'gcyEUr4DXcbjnGRAWFtfAQ'\n",
      " 'vhxFLqRok6r-D_aQz0s-JQ' 'JgDkCER12uiv4lbpmkZ9VA' 'lPaYMDmJbAnv_3pmZH_inw'\n",
      " 'n9Zg0jlOGtxfIrvoPm6Hhw' 'du6KeE54IFbPiXpU3LOd1g' 'hFtlFksrcLaWHGPNa6SmeA'\n",
      " 'f1-pIw_p0ifzu03TXjPRiw' 'bcZd4ohK6CIT_BOQ0_O53w' 'thdVzCfKx-DV0zYWqId3pw'\n",
      " 'vsXP832M0kOxKpfduD7dWw' '90a6z--_CUrl84aCzZyPsg' 'ikm0UCahtK34LbLCEw4YTw'\n",
      " 'OQMOgqS1NFIyAW4i66iDYA' 'd66FhQQZzFDKxklh6t63RA' 'rO3WEI9L-_deUR9-JHuNQw'\n",
      " '3gIfcQq5KxAegwCPXc83cQ' '_PzSNcfrCjeBxSLXRoMmgQ' 'gN03qFYysM5DbgjuV6N0QQ'\n",
      " 'wHg1YkCzdZq9WBJOTRgxHQ' '33vUIil_GCaT92aUaZhRXA' '4UUIpbOTPmu43wuC2aSGkg'\n",
      " 'jopndPrv-H5KW2CfScnw9A' '--65q1FpAL_UQtVZ2PTGew' 'XBHJCDzNh--mBhJkzyM_iA'\n",
      " 'oy6fdscGSXY2gzRqF9pZxg' 'Iycf9KNRhxvR187Qu2zZHg' 'GrSixRnGIxNUJ1Cn5DNX9A'\n",
      " 'g6rlp5No6GjEDXkrjvg1kQ' 'YLE6GoJ61fb0QBF7JTkaJg' 'm7vtKWpZ9wdEQ95wJxrMrg'\n",
      " 'b2DKC4kC8-QeSeGZ_MF3XQ' 'n_lAaNGeWgspbbCJc0DqRg' 'bX5mIrDlyD8ZabvF_An7FA'\n",
      " 'yy3jXczrKljJGzjo24HWfw' 'ROr4DQ-gxlfUKmiDC-qSEQ']\n",
      "['rLtl8ZkDX5vH5nAx9C3q5Q' 'EP3cGJvYiuOwumerwADplg' '7cR92zkDv4W3kqzii6axvg'\n",
      " 'gcyEUr4DXcbjnGRAWFtfAQ' 'HY9qpAamqLXFoa7xMwNntg' 'X5GbNXY_nNoa_vTZDD0aCA'\n",
      " '0bNXP9quoJEgyVZu9ipGgQ' 'JgDkCER12uiv4lbpmkZ9VA' 'JffajLV-Dnn-eGYgdXDxFg'\n",
      " '_4lqpCYCqOQzbB6xQGGhrQ' '6kmu0mYbdpMIOZ6Y0eVsxg' 'MWt24-6bfv_OHLKhwMQ0Tw'\n",
      " 'UCQNrwN4_hHHTWYa8cqe_Q' 'KLekdmo4FdNnP0huUhzZNw' 'lPaYMDmJbAnv_3pmZH_inw'\n",
      " 'pIm17SVRo8IdhGoBD4qbnA' 'DrWLhrK8WMZf7Jb-Oqc7ww' 'mfvezpz6ohS0NQk3DZdvqQ'\n",
      " 'thdVzCfKx-DV0zYWqId3pw' 'sALB8-F04S9VcZMF_GkGUA' 'hcctCQy3bdZMezrUKkZLtA'\n",
      " 'kk05snSafuIFK0lsxoMNzA' 'fczQCSmaWF78toLEmb0Zsw' 'q9XgOylNsSbqZqF_SO3-OQ'\n",
      " '6ts41fCsDKHbFZaKOMNmVQ' 'X_kPh3nt0AJPNPHye2rTlA' 'UoBfwbXaixelZBghbJ2cSg'\n",
      " 'd66FhQQZzFDKxklh6t63RA' '3gIfcQq5KxAegwCPXc83cQ' 'PNS9z4aFDbfhpIsHCfNvNg'\n",
      " '_PzSNcfrCjeBxSLXRoMmgQ' 'llkm_iXQszkN5DZvmqjNqA' '3ONPPazUH-Q3XblYJIaA1A'\n",
      " 'Sa64rQmghfE9i17_dRIDyw' 'jopndPrv-H5KW2CfScnw9A' 'e4TQFVfepzHf--hnBsjntg'\n",
      " 'oy6fdscGSXY2gzRqF9pZxg' 'Iycf9KNRhxvR187Qu2zZHg' 'GrSixRnGIxNUJ1Cn5DNX9A'\n",
      " 'qASPib1Z8ft8e96dtbh66w' 'YLE6GoJ61fb0QBF7JTkaJg' 'A_O8wZOsMTPwyeYA4-Rsow'\n",
      " '4_YfcfHkCem1onJFkItxjA' 'b2DKC4kC8-QeSeGZ_MF3XQ' 'ceKoQX0_IJZ6Lr9-9LGcbA'\n",
      " '9SZBVZ-mxebOVa1BlWFtWw' 'Pv7DGHzZ-uqIUdOsqPpsVg' '0oRtnPHtvZIE1UNxCDDTPw']\n",
      "['rLtl8ZkDX5vH5nAx9C3q5Q' 'XqMkm-DD9VsdcKx2YVGhSA' 'vhxFLqRok6r-D_aQz0s-JQ'\n",
      " 'X5GbNXY_nNoa_vTZDD0aCA' '64YY0h0ZAR2nbzxbx0IwJg' '0bNXP9quoJEgyVZu9ipGgQ'\n",
      " 'JgDkCER12uiv4lbpmkZ9VA' '4ozupHULqGyO42s3zNUzOQ' 'hFtlFksrcLaWHGPNa6SmeA'\n",
      " '0qIsBt4EzBDCKrIviV55Ew' 'd0wJVf7Gv7v1B-HHYhxZtQ' 'Kqvfep2mxS10S50FbVDi4Q'\n",
      " 'fczQCSmaWF78toLEmb0Zsw' '6ts41fCsDKHbFZaKOMNmVQ' 'pEVf8GRshP9HUkSpizc9LA'\n",
      " 'h7v_M_0-YVpSVZ2WD7FpAA' 'AeucYo8J-rZjcq09Wuqsjw' 'd66FhQQZzFDKxklh6t63RA'\n",
      " 'C8ZTiwa7qWoPSMIivTeSfw' '4IxLt4QvCsJEdaNvH9QApw' 'PNS9z4aFDbfhpIsHCfNvNg'\n",
      " 'wNqwKWaRjClmcKsoJJRFow' 'hjJPKQ1Ah91h3fVbc8GsOg' '_uL7OiQSfNsCd60DrAf7qQ'\n",
      " 'exefpuK6O1ctUUqTxq5XLg' 'oy6fdscGSXY2gzRqF9pZxg' 'GrSixRnGIxNUJ1Cn5DNX9A'\n",
      " 'PShy2RYNadDUhJf4ErOJ7w' '3eit3w0zDbb-z57c9P60vg' 'ZC49A1K-if7KP8VJXoqELQ'\n",
      " 's7Tm9oYWqRlBm5ex2OQ1nw' 'EKwGhgLrM18ErVKKeYE2UA' 'Pv7DGHzZ-uqIUdOsqPpsVg']\n",
      "['rLtl8ZkDX5vH5nAx9C3q5Q' 'qABKRj1ggJmtvrL9FMFtuA' '4ozupHULqGyO42s3zNUzOQ'\n",
      " 'NLDDaat42UQXQCOpU4e2TA' 'Zwtx7FLZcK5F2P0-Tz8mHg' 'xFG4Ca2HHmbxDTkMlmHnjQ'\n",
      " 'pEVf8GRshP9HUkSpizc9LA' 'xdWsnbaTEfBMVHttqZDHxg' '3gIfcQq5KxAegwCPXc83cQ'\n",
      " 'uZbTb-u-GVjTa2gtQfry5g' '8p4at4zdzCpueAmSBaorZA' '3eit3w0zDbb-z57c9P60vg'\n",
      " 's7Tm9oYWqRlBm5ex2OQ1nw' 'ceKoQX0_IJZ6Lr9-9LGcbA' 'tlSSQwfHYJany7wPoTH46A']\n",
      "['rLtl8ZkDX5vH5nAx9C3q5Q' 'XqMkm-DD9VsdcKx2YVGhSA' 'mlBC3pN9GXlUUfQi1qBBZA'\n",
      " '6OWHDbEq23f24Vki_veHBA' 'wC1CPV5bf--bDLtlhNSPLg' '4ozupHULqGyO42s3zNUzOQ'\n",
      " 'MWt24-6bfv_OHLKhwMQ0Tw' 'hFtlFksrcLaWHGPNa6SmeA' '0qIsBt4EzBDCKrIviV55Ew'\n",
      " 'Cp-PV8rsypbO-xBrQ6KmQg' 'Zwtx7FLZcK5F2P0-Tz8mHg' 'fczQCSmaWF78toLEmb0Zsw'\n",
      " '9FbgqZ5u9WTLAs28nNafIQ' 'X_kPh3nt0AJPNPHye2rTlA' 'waD2euOMPTnTzQ0thq3H6Q'\n",
      " 'rO3WEI9L-_deUR9-JHuNQw' '3gIfcQq5KxAegwCPXc83cQ' 'APLIPfq1Rf8QyhHHk2uAyA'\n",
      " 'hjJPKQ1Ah91h3fVbc8GsOg' 'gq_G5VCDziyEV2-bzGuqzw' '-9mljS0O9mwdOnGv-Oea3Q'\n",
      " 'Bc2UjSePEGvqSdHvz2HKGA' 'e4TQFVfepzHf--hnBsjntg' '3Jw-rYwJEz6jSqPgVVmmhA'\n",
      " 'ST8Yzlk2MqKlcaLqL2djBg' 'rjlb-7-JcmM6fR64ZpyTug' 'IO3AsR6cdMto7VCwfPzf2w'\n",
      " 'xZvRLPJ1ixhFVomkXSfXAw']\n",
      "['rLtl8ZkDX5vH5nAx9C3q5Q' 'UsULgP4bKA8RMzs8dQzcsA' 'C6IOtaaYdLIT5fWd7ZYIuA'\n",
      " 'XqMkm-DD9VsdcKx2YVGhSA' 'gcyEUr4DXcbjnGRAWFtfAQ' 'HY9qpAamqLXFoa7xMwNntg'\n",
      " 'dQO0tQISZyb9L4d5ASnXyQ' 'vhxFLqRok6r-D_aQz0s-JQ' 'nDBly08j5URmrHQ2JCbyiw'\n",
      " '0bNXP9quoJEgyVZu9ipGgQ' 'wC1CPV5bf--bDLtlhNSPLg' 'JgDkCER12uiv4lbpmkZ9VA'\n",
      " '_7el1cOgnfkNfmZKi277bQ' 'JffajLV-Dnn-eGYgdXDxFg' '4ozupHULqGyO42s3zNUzOQ'\n",
      " 'E5QyEU6FCQwnTys0S73zNw' '6kmu0mYbdpMIOZ6Y0eVsxg' 'MWt24-6bfv_OHLKhwMQ0Tw'\n",
      " 'lPaYMDmJbAnv_3pmZH_inw' 'fev0iI-XDrteD4SYRKjiUw' '0qIsBt4EzBDCKrIviV55Ew'\n",
      " 'P2kVk4cIWyK4e4h14RhK-Q' 'bcZd4ohK6CIT_BOQ0_O53w' 'd0wJVf7Gv7v1B-HHYhxZtQ'\n",
      " 'Kqvfep2mxS10S50FbVDi4Q' 'sALB8-F04S9VcZMF_GkGUA' 'nc3cqVN0UuB3m50-CcMftw'\n",
      " 'hcctCQy3bdZMezrUKkZLtA' 'vsXP832M0kOxKpfduD7dWw' '_GVAV2LjUWEs9fGjslex_A'\n",
      " '100Df1wcVrl9rJgB7EG6xw' 'Zwtx7FLZcK5F2P0-Tz8mHg' 'OQMOgqS1NFIyAW4i66iDYA'\n",
      " 'z1tNqF5qJRpibGj-9_r9Ew' 'MUHoBFzwRoXpCpgYSN8KRA' 'fczQCSmaWF78toLEmb0Zsw'\n",
      " 'q9XgOylNsSbqZqF_SO3-OQ' 'xFG4Ca2HHmbxDTkMlmHnjQ' 'tdNV2Wb0LrFpm1Yfov_Klw'\n",
      " 'X_kPh3nt0AJPNPHye2rTlA' 'oC0kwGvgaAeT3ZIxdxTcJA' 'W_QXYA7A0IhMrvbckz7eVg'\n",
      " 'joIzw_aUiNvBTuGoytrH7g' 'C8ZTiwa7qWoPSMIivTeSfw' '3gIfcQq5KxAegwCPXc83cQ'\n",
      " '_PzSNcfrCjeBxSLXRoMmgQ' 'AirVzN1BVQBmq5zY0YMNYQ' 'gN03qFYysM5DbgjuV6N0QQ'\n",
      " 'usQTOj7LQ9v0Fl98gRa3Iw' 'llkm_iXQszkN5DZvmqjNqA' '7zDqr2I0-xpw9HF5Ha54cA'\n",
      " 'wHg1YkCzdZq9WBJOTRgxHQ' '_uL7OiQSfNsCd60DrAf7qQ' 'f01B5tRtqf3k6ak1pPSAWw'\n",
      " 'jopndPrv-H5KW2CfScnw9A' 'XBHJCDzNh--mBhJkzyM_iA' 'exefpuK6O1ctUUqTxq5XLg'\n",
      " 'NvDR3SPVPXrDB_dbKuGoWA' 'tBvrnSCLSpUdCDm5w5GPkg' 'Iycf9KNRhxvR187Qu2zZHg'\n",
      " 'GrSixRnGIxNUJ1Cn5DNX9A' '3Jw-rYwJEz6jSqPgVVmmhA' 'PShy2RYNadDUhJf4ErOJ7w'\n",
      " 'g6rlp5No6GjEDXkrjvg1kQ' 'uNbB1uR4EBhmygUc3IfPAw' '8p4at4zdzCpueAmSBaorZA'\n",
      " 'A_O8wZOsMTPwyeYA4-Rsow' 'jqVeTSin5GeRm0ceSg-PBA' 'f3LA83yEEBMj9q92H28O7w'\n",
      " 'b2DKC4kC8-QeSeGZ_MF3XQ' 'v2UqlUHA8d3lgTIby0CCFQ' 'ceKoQX0_IJZ6Lr9-9LGcbA'\n",
      " 'EKwGhgLrM18ErVKKeYE2UA' 'b4C9E7vTJrOdkJQA86xYSg' 'xZvRLPJ1ixhFVomkXSfXAw'\n",
      " 'RxfFQxUtSIGYwTKU_rvAeg' '4dnDsoHuxUtzhaumxbpR5w' 'ROr4DQ-gxlfUKmiDC-qSEQ'\n",
      " 'QBQlErZajdIyXX84dvFUnQ']\n",
      "['rLtl8ZkDX5vH5nAx9C3q5Q' '7cR92zkDv4W3kqzii6axvg' 'XqMkm-DD9VsdcKx2YVGhSA'\n",
      " 'vhxFLqRok6r-D_aQz0s-JQ' 'nDBly08j5URmrHQ2JCbyiw' 'X5GbNXY_nNoa_vTZDD0aCA'\n",
      " '64YY0h0ZAR2nbzxbx0IwJg' 'GubdNFoDAsiwE6bWIr97cQ' 'qABKRj1ggJmtvrL9FMFtuA'\n",
      " 'JgDkCER12uiv4lbpmkZ9VA' '_7el1cOgnfkNfmZKi277bQ' '4ozupHULqGyO42s3zNUzOQ'\n",
      " '7GC9fVWKa4a1ZmBGLH6Uww' 'fev0iI-XDrteD4SYRKjiUw' 'hFtlFksrcLaWHGPNa6SmeA'\n",
      " 'thdVzCfKx-DV0zYWqId3pw' '4E_nPWw89FLFHdNsEgMH-g' 'nc3cqVN0UuB3m50-CcMftw'\n",
      " 'vsXP832M0kOxKpfduD7dWw' '100Df1wcVrl9rJgB7EG6xw' 'OQMOgqS1NFIyAW4i66iDYA'\n",
      " 'M6oU3OBf_E6gqlfkLGlStQ' 'fczQCSmaWF78toLEmb0Zsw' 'LqgGgWi3FLHBViX9tmZ9sw'\n",
      " 'q9XgOylNsSbqZqF_SO3-OQ' '6ts41fCsDKHbFZaKOMNmVQ' '17PPxx8RxjOUD_nQZ1aHEw'\n",
      " 'UoBfwbXaixelZBghbJ2cSg' 'oC0kwGvgaAeT3ZIxdxTcJA' 'W_QXYA7A0IhMrvbckz7eVg'\n",
      " 'C8ZTiwa7qWoPSMIivTeSfw' '3gIfcQq5KxAegwCPXc83cQ' 'usQTOj7LQ9v0Fl98gRa3Iw'\n",
      " 'Ypz7hxOCnrg8Y8vxHJU-sQ' '7zDqr2I0-xpw9HF5Ha54cA' 'eBwBjylS66qPcHs2_ajLag'\n",
      " '_uL7OiQSfNsCd60DrAf7qQ' 'VPXgY9lGJF3XC4ZpusxNuA' 'f01B5tRtqf3k6ak1pPSAWw'\n",
      " 'kG8jkVFgOAOq6Ht6RvAjEQ' '--65q1FpAL_UQtVZ2PTGew' 'XgIhw-aWaq_Fx3ZVQGjnuA'\n",
      " 'XBHJCDzNh--mBhJkzyM_iA' 'FktbKOzznpoKTNXMVtc8EA' 'tBvrnSCLSpUdCDm5w5GPkg'\n",
      " 'Iycf9KNRhxvR187Qu2zZHg' 'HZeFzs42f0iGaA-sP_hUnA' '3Jw-rYwJEz6jSqPgVVmmhA'\n",
      " 'PShy2RYNadDUhJf4ErOJ7w' 'qASPib1Z8ft8e96dtbh66w' 'Lp_Ykqfbv5Q-oyGYlMGJRg'\n",
      " '78Ed1ndOak2kmzljulPfBg' '8p4at4zdzCpueAmSBaorZA' 'ZC49A1K-if7KP8VJXoqELQ'\n",
      " 'GyFmGA5UQZ4pXdx1lUH86g' 'ceKoQX0_IJZ6Lr9-9LGcbA' 'EKwGhgLrM18ErVKKeYE2UA'\n",
      " 'b4C9E7vTJrOdkJQA86xYSg' 'kJyR4gT1pfCcNjEY9-YMoQ' '4dnDsoHuxUtzhaumxbpR5w']\n",
      "['rLtl8ZkDX5vH5nAx9C3q5Q' 'dQO0tQISZyb9L4d5ASnXyQ' 'vhxFLqRok6r-D_aQz0s-JQ'\n",
      " '0bNXP9quoJEgyVZu9ipGgQ' '8WQubmP7G0NM3IyzyMnCEA' '6kmu0mYbdpMIOZ6Y0eVsxg'\n",
      " 'lPaYMDmJbAnv_3pmZH_inw' 'du6KeE54IFbPiXpU3LOd1g' 'f1-pIw_p0ifzu03TXjPRiw'\n",
      " 'P2kVk4cIWyK4e4h14RhK-Q' 'Kqvfep2mxS10S50FbVDi4Q' 'vsXP832M0kOxKpfduD7dWw'\n",
      " '90a6z--_CUrl84aCzZyPsg' 'AdEy5KAIlMAy8xHyuMQCFg' 'Zwtx7FLZcK5F2P0-Tz8mHg'\n",
      " 'OQMOgqS1NFIyAW4i66iDYA' 'MUHoBFzwRoXpCpgYSN8KRA' 'fczQCSmaWF78toLEmb0Zsw'\n",
      " 'pEVf8GRshP9HUkSpizc9LA' '3gIfcQq5KxAegwCPXc83cQ' 'y5_vrqIylhXMrejM_-x_vA'\n",
      " 'eBwBjylS66qPcHs2_ajLag' 'p7dvahRPZIWL7T6pFA_0dg' '--65q1FpAL_UQtVZ2PTGew'\n",
      " 'exefpuK6O1ctUUqTxq5XLg' 'wfvmwhhadHfpM9UoTV0OMA' 'ST8Yzlk2MqKlcaLqL2djBg'\n",
      " 'PoQOIZc2q5nud7uVz_jdjw']\n",
      "['rLtl8ZkDX5vH5nAx9C3q5Q' 'XqMkm-DD9VsdcKx2YVGhSA' 'vhxFLqRok6r-D_aQz0s-JQ'\n",
      " 'wC1CPV5bf--bDLtlhNSPLg' 'qABKRj1ggJmtvrL9FMFtuA' 'JffajLV-Dnn-eGYgdXDxFg'\n",
      " 'E5QyEU6FCQwnTys0S73zNw' '7GC9fVWKa4a1ZmBGLH6Uww' 'UuwjD6MZf6Z6QlNphiXRjA'\n",
      " 'mfvezpz6ohS0NQk3DZdvqQ' 'Cp-PV8rsypbO-xBrQ6KmQg' 'thdVzCfKx-DV0zYWqId3pw'\n",
      " 'sALB8-F04S9VcZMF_GkGUA' '90a6z--_CUrl84aCzZyPsg' '8JC-Yb3UDUv2FUl5ym1nVg'\n",
      " '100Df1wcVrl9rJgB7EG6xw' 'kk05snSafuIFK0lsxoMNzA' 'Ovpa3S8xD96dLE5eDxcxJg'\n",
      " 'OQMOgqS1NFIyAW4i66iDYA' 'MUHoBFzwRoXpCpgYSN8KRA' 'LqgGgWi3FLHBViX9tmZ9sw'\n",
      " 'LXWAXIeYFIdgd2JVPF-9qA' '9FbgqZ5u9WTLAs28nNafIQ' 'X_kPh3nt0AJPNPHye2rTlA'\n",
      " '8CNEh7fSbLwDuAKhLjDPKQ' 'UoBfwbXaixelZBghbJ2cSg' 'W_QXYA7A0IhMrvbckz7eVg'\n",
      " 'joIzw_aUiNvBTuGoytrH7g' 'C8ZTiwa7qWoPSMIivTeSfw' '3gIfcQq5KxAegwCPXc83cQ'\n",
      " 'PNS9z4aFDbfhpIsHCfNvNg' 'gN03qFYysM5DbgjuV6N0QQ' 'llkm_iXQszkN5DZvmqjNqA'\n",
      " 'wNqwKWaRjClmcKsoJJRFow' '7zDqr2I0-xpw9HF5Ha54cA' 'qaAmAU9T_t84UDGiBI98sw'\n",
      " 'eBwBjylS66qPcHs2_ajLag' 'hjJPKQ1Ah91h3fVbc8GsOg' 'gq_G5VCDziyEV2-bzGuqzw'\n",
      " '_uL7OiQSfNsCd60DrAf7qQ' 'f01B5tRtqf3k6ak1pPSAWw' 'jopndPrv-H5KW2CfScnw9A'\n",
      " 'XBHJCDzNh--mBhJkzyM_iA' 'Bc2UjSePEGvqSdHvz2HKGA' 'e4TQFVfepzHf--hnBsjntg'\n",
      " 'exefpuK6O1ctUUqTxq5XLg' '9qCPmT6ovJjxL4tJB4ANCg' 'NvDR3SPVPXrDB_dbKuGoWA'\n",
      " '-F32Vl8Rk4dwsmk0f2wRIw' 'Iycf9KNRhxvR187Qu2zZHg' 'GrSixRnGIxNUJ1Cn5DNX9A'\n",
      " 'PShy2RYNadDUhJf4ErOJ7w' 'Lp_Ykqfbv5Q-oyGYlMGJRg' 'g6rlp5No6GjEDXkrjvg1kQ'\n",
      " 'rjlb-7-JcmM6fR64ZpyTug' 'Sjp6EYsqzdlTvymER6wBfg' '4_YfcfHkCem1onJFkItxjA'\n",
      " 'b2DKC4kC8-QeSeGZ_MF3XQ' 'ceKoQX0_IJZ6Lr9-9LGcbA' 'KYeLSM3MQpirmHukVV5Iow'\n",
      " 'b4C9E7vTJrOdkJQA86xYSg' 'xZvRLPJ1ixhFVomkXSfXAw' '4dnDsoHuxUtzhaumxbpR5w'\n",
      " 'Xm8HXE1JHqscXe5BKf0GFQ' 'LaEj3VpQh7bgpAZLzSRRrw' 'g84VjttN28PWiv_WtdhnSQ'\n",
      " 'v6CGBT0OoLRht9dzo7vaXg']\n",
      "['rLtl8ZkDX5vH5nAx9C3q5Q' 'UsULgP4bKA8RMzs8dQzcsA' 'vhxFLqRok6r-D_aQz0s-JQ'\n",
      " '0bNXP9quoJEgyVZu9ipGgQ' '8WQubmP7G0NM3IyzyMnCEA' 'qABKRj1ggJmtvrL9FMFtuA'\n",
      " 'Ps1Db9zOatoF_76FZNO5CQ' '_jjIaczpcVDpHlH6l334rQ' '4ozupHULqGyO42s3zNUzOQ'\n",
      " '6kmu0mYbdpMIOZ6Y0eVsxg' 'n9Zg0jlOGtxfIrvoPm6Hhw' 'hFtlFksrcLaWHGPNa6SmeA'\n",
      " 'P2kVk4cIWyK4e4h14RhK-Q' 'vsXP832M0kOxKpfduD7dWw' '90a6z--_CUrl84aCzZyPsg'\n",
      " 'NLDDaat42UQXQCOpU4e2TA' 'm7j9e53ycZxjWYBD7rZVng' 'fczQCSmaWF78toLEmb0Zsw'\n",
      " 'xFG4Ca2HHmbxDTkMlmHnjQ' '9FbgqZ5u9WTLAs28nNafIQ' 'pEVf8GRshP9HUkSpizc9LA'\n",
      " 'tdNV2Wb0LrFpm1Yfov_Klw' 'X_kPh3nt0AJPNPHye2rTlA' 'joIzw_aUiNvBTuGoytrH7g'\n",
      " '4IxLt4QvCsJEdaNvH9QApw' '3gIfcQq5KxAegwCPXc83cQ' 'PNS9z4aFDbfhpIsHCfNvNg'\n",
      " 'uZbTb-u-GVjTa2gtQfry5g' 'y5_vrqIylhXMrejM_-x_vA' 'wHg1YkCzdZq9WBJOTRgxHQ'\n",
      " 'VPXgY9lGJF3XC4ZpusxNuA' 'BjwXX-sChcjx2E55B_7rXg' '1BW2HC851fJKPfJeQxjkTA'\n",
      " 'kNO6w6EIKo8u6GSykOHBLA' 'FktbKOzznpoKTNXMVtc8EA' 'GrSixRnGIxNUJ1Cn5DNX9A'\n",
      " 'ST8Yzlk2MqKlcaLqL2djBg' 'PShy2RYNadDUhJf4ErOJ7w' 'qASPib1Z8ft8e96dtbh66w'\n",
      " 'YLE6GoJ61fb0QBF7JTkaJg' '8p4at4zdzCpueAmSBaorZA' '3eit3w0zDbb-z57c9P60vg'\n",
      " 'ceKoQX0_IJZ6Lr9-9LGcbA' '4dnDsoHuxUtzhaumxbpR5w' 'ROr4DQ-gxlfUKmiDC-qSEQ'\n",
      " 'PoQOIZc2q5nud7uVz_jdjw' 'c3yJNjz_K--z4CIpR7yhvQ' 'LaEj3VpQh7bgpAZLzSRRrw']\n",
      "['rLtl8ZkDX5vH5nAx9C3q5Q' 'mlBC3pN9GXlUUfQi1qBBZA' 'wC1CPV5bf--bDLtlhNSPLg'\n",
      " 'JgDkCER12uiv4lbpmkZ9VA' '4ozupHULqGyO42s3zNUzOQ' 'lPaYMDmJbAnv_3pmZH_inw'\n",
      " 'hFtlFksrcLaWHGPNa6SmeA' 'Cp-PV8rsypbO-xBrQ6KmQg' 'Kqvfep2mxS10S50FbVDi4Q'\n",
      " '90a6z--_CUrl84aCzZyPsg' 'Zwtx7FLZcK5F2P0-Tz8mHg' 'fczQCSmaWF78toLEmb0Zsw'\n",
      " 'X_kPh3nt0AJPNPHye2rTlA' '3gIfcQq5KxAegwCPXc83cQ' 'AkJFqLqHHAKY3H5R8p7cPQ'\n",
      " '1BW2HC851fJKPfJeQxjkTA' 'GrSixRnGIxNUJ1Cn5DNX9A' 'PShy2RYNadDUhJf4ErOJ7w'\n",
      " 'szbTVEtATfn8f9GxbGGO5w' 'g6rlp5No6GjEDXkrjvg1kQ' 'rjlb-7-JcmM6fR64ZpyTug'\n",
      " '3eit3w0zDbb-z57c9P60vg' 'ZC49A1K-if7KP8VJXoqELQ' 'GyFmGA5UQZ4pXdx1lUH86g'\n",
      " 'v2UqlUHA8d3lgTIby0CCFQ' 'LaEj3VpQh7bgpAZLzSRRrw' 'g84VjttN28PWiv_WtdhnSQ'\n",
      " 'v6CGBT0OoLRht9dzo7vaXg']\n",
      "['rLtl8ZkDX5vH5nAx9C3q5Q' 'UsULgP4bKA8RMzs8dQzcsA' 'XqMkm-DD9VsdcKx2YVGhSA'\n",
      " 'HY9qpAamqLXFoa7xMwNntg' 'vhxFLqRok6r-D_aQz0s-JQ' '6OWHDbEq23f24Vki_veHBA'\n",
      " 'sEWeeq41k4ohBz4jS_iGRw' 'X5GbNXY_nNoa_vTZDD0aCA' '64YY0h0ZAR2nbzxbx0IwJg'\n",
      " '0bNXP9quoJEgyVZu9ipGgQ' 'T7J9ae0wTskrI_Bgwp-4cA' 'JgDkCER12uiv4lbpmkZ9VA'\n",
      " 'JffajLV-Dnn-eGYgdXDxFg' 'nWouNfZD3Pw08RYizxkqcA' 'MWt24-6bfv_OHLKhwMQ0Tw'\n",
      " 'lPaYMDmJbAnv_3pmZH_inw' '7GC9fVWKa4a1ZmBGLH6Uww' '0qIsBt4EzBDCKrIviV55Ew'\n",
      " 'UuwjD6MZf6Z6QlNphiXRjA' 'f1-pIw_p0ifzu03TXjPRiw' 'mfvezpz6ohS0NQk3DZdvqQ'\n",
      " '4E_nPWw89FLFHdNsEgMH-g' '90a6z--_CUrl84aCzZyPsg' 'M6oU3OBf_E6gqlfkLGlStQ'\n",
      " 'fczQCSmaWF78toLEmb0Zsw' 'q9XgOylNsSbqZqF_SO3-OQ' 'UoBfwbXaixelZBghbJ2cSg'\n",
      " 'zCC6huLkNBEr3JUgQyxJbg' 'Ypz7hxOCnrg8Y8vxHJU-sQ' 'qaAmAU9T_t84UDGiBI98sw'\n",
      " 'APLIPfq1Rf8QyhHHk2uAyA' 'qa05pUVNapADHZXpHMPMeA' 'hjJPKQ1Ah91h3fVbc8GsOg'\n",
      " '3ONPPazUH-Q3XblYJIaA1A' '4UUIpbOTPmu43wuC2aSGkg' '5E193w76Qlhoi1gkyakW2A'\n",
      " 'jopndPrv-H5KW2CfScnw9A' 'kG8jkVFgOAOq6Ht6RvAjEQ' '--65q1FpAL_UQtVZ2PTGew'\n",
      " 'I-P1v7sRjDLEfVOndp01kA' '3Jw-rYwJEz6jSqPgVVmmhA' 'JkMOQaMjlBHMqp6gj-hL3w'\n",
      " 'PShy2RYNadDUhJf4ErOJ7w' 'mym5tXZoZCbuPCYQzI5Ysg' 'iwZ_7QuZ1tzT6pIZmOlDQg'\n",
      " 'Lp_Ykqfbv5Q-oyGYlMGJRg' 'rjlb-7-JcmM6fR64ZpyTug' '4_YfcfHkCem1onJFkItxjA'\n",
      " 'IO3AsR6cdMto7VCwfPzf2w' 'b2DKC4kC8-QeSeGZ_MF3XQ' 'tlSSQwfHYJany7wPoTH46A'\n",
      " 'KYeLSM3MQpirmHukVV5Iow' 'b4C9E7vTJrOdkJQA86xYSg' 'lC4X2crUuxT9Ac9BlOX4Uw'\n",
      " 'bX5mIrDlyD8ZabvF_An7FA' 'Pv7DGHzZ-uqIUdOsqPpsVg' 'yy3jXczrKljJGzjo24HWfw'\n",
      " 'Xm8HXE1JHqscXe5BKf0GFQ']\n",
      "['rLtl8ZkDX5vH5nAx9C3q5Q' 'HY9qpAamqLXFoa7xMwNntg' 'dQO0tQISZyb9L4d5ASnXyQ'\n",
      " 'vhxFLqRok6r-D_aQz0s-JQ' 'X5GbNXY_nNoa_vTZDD0aCA' '64YY0h0ZAR2nbzxbx0IwJg'\n",
      " 'qABKRj1ggJmtvrL9FMFtuA' 'JgDkCER12uiv4lbpmkZ9VA' 'Kqvfep2mxS10S50FbVDi4Q'\n",
      " 'OQMOgqS1NFIyAW4i66iDYA' 'fczQCSmaWF78toLEmb0Zsw' 'q9XgOylNsSbqZqF_SO3-OQ'\n",
      " 'xFG4Ca2HHmbxDTkMlmHnjQ' 'pEVf8GRshP9HUkSpizc9LA' 'tdNV2Wb0LrFpm1Yfov_Klw'\n",
      " 'xdWsnbaTEfBMVHttqZDHxg' 'UoBfwbXaixelZBghbJ2cSg' 'h7v_M_0-YVpSVZ2WD7FpAA'\n",
      " '4IxLt4QvCsJEdaNvH9QApw' '3gIfcQq5KxAegwCPXc83cQ' 'PNS9z4aFDbfhpIsHCfNvNg'\n",
      " 'p7dvahRPZIWL7T6pFA_0dg' '33vUIil_GCaT92aUaZhRXA' 'XBHJCDzNh--mBhJkzyM_iA'\n",
      " 'kNO6w6EIKo8u6GSykOHBLA' 'FktbKOzznpoKTNXMVtc8EA' 'oy6fdscGSXY2gzRqF9pZxg'\n",
      " 'N-D-d1Z4UybdlkK1HxlNPA' 'Iycf9KNRhxvR187Qu2zZHg' 'GrSixRnGIxNUJ1Cn5DNX9A'\n",
      " 'qASPib1Z8ft8e96dtbh66w' 's7Tm9oYWqRlBm5ex2OQ1nw']\n",
      "['rLtl8ZkDX5vH5nAx9C3q5Q' 'C6IOtaaYdLIT5fWd7ZYIuA' 'EP3cGJvYiuOwumerwADplg'\n",
      " 'gcyEUr4DXcbjnGRAWFtfAQ' 'nDBly08j5URmrHQ2JCbyiw' '8WQubmP7G0NM3IyzyMnCEA'\n",
      " 'Ps1Db9zOatoF_76FZNO5CQ' '_4lqpCYCqOQzbB6xQGGhrQ' '90a6z--_CUrl84aCzZyPsg'\n",
      " 'q9XgOylNsSbqZqF_SO3-OQ' '6ts41fCsDKHbFZaKOMNmVQ' 'LXWAXIeYFIdgd2JVPF-9qA'\n",
      " 'W_QXYA7A0IhMrvbckz7eVg' 'C8ZTiwa7qWoPSMIivTeSfw' 'uZbTb-u-GVjTa2gtQfry5g'\n",
      " '_uL7OiQSfNsCd60DrAf7qQ' '-9mljS0O9mwdOnGv-Oea3Q' '4UUIpbOTPmu43wuC2aSGkg'\n",
      " '--65q1FpAL_UQtVZ2PTGew' 'XBHJCDzNh--mBhJkzyM_iA' 'q5nFaw9isjD_01PpVAR7hg'\n",
      " 'Bc2UjSePEGvqSdHvz2HKGA' '78Ed1ndOak2kmzljulPfBg' 'Sjp6EYsqzdlTvymER6wBfg'\n",
      " 'A_O8wZOsMTPwyeYA4-Rsow' '4_YfcfHkCem1onJFkItxjA' 'RxfFQxUtSIGYwTKU_rvAeg'\n",
      " '4dnDsoHuxUtzhaumxbpR5w' 'QBQlErZajdIyXX84dvFUnQ']\n",
      "['rLtl8ZkDX5vH5nAx9C3q5Q' 'UsULgP4bKA8RMzs8dQzcsA' 'EP3cGJvYiuOwumerwADplg'\n",
      " 'XqMkm-DD9VsdcKx2YVGhSA' 'dQO0tQISZyb9L4d5ASnXyQ' 'vhxFLqRok6r-D_aQz0s-JQ'\n",
      " 'nDBly08j5URmrHQ2JCbyiw' 'JffajLV-Dnn-eGYgdXDxFg' '4ozupHULqGyO42s3zNUzOQ'\n",
      " 'fev0iI-XDrteD4SYRKjiUw' 'UuwjD6MZf6Z6QlNphiXRjA' 'thdVzCfKx-DV0zYWqId3pw'\n",
      " 'Kqvfep2mxS10S50FbVDi4Q' 'hcctCQy3bdZMezrUKkZLtA' '_GVAV2LjUWEs9fGjslex_A'\n",
      " '100Df1wcVrl9rJgB7EG6xw' 'OQMOgqS1NFIyAW4i66iDYA' 'z1tNqF5qJRpibGj-9_r9Ew'\n",
      " 'q9XgOylNsSbqZqF_SO3-OQ' '6ts41fCsDKHbFZaKOMNmVQ' 'xFG4Ca2HHmbxDTkMlmHnjQ'\n",
      " 'pEVf8GRshP9HUkSpizc9LA' 'pv82zTlB5Txsu2Pusu__FA' 'X_kPh3nt0AJPNPHye2rTlA'\n",
      " 'h7v_M_0-YVpSVZ2WD7FpAA' 'W_QXYA7A0IhMrvbckz7eVg' 'PNS9z4aFDbfhpIsHCfNvNg'\n",
      " 'Ypz7hxOCnrg8Y8vxHJU-sQ' 'qaAmAU9T_t84UDGiBI98sw' 'qa05pUVNapADHZXpHMPMeA'\n",
      " '_uL7OiQSfNsCd60DrAf7qQ' 'A99dyhEqcd_yXKPfBWeZHA' 'oy6fdscGSXY2gzRqF9pZxg'\n",
      " '9qCPmT6ovJjxL4tJB4ANCg' 'tBvrnSCLSpUdCDm5w5GPkg' 'Iycf9KNRhxvR187Qu2zZHg'\n",
      " 'GrSixRnGIxNUJ1Cn5DNX9A' '3Jw-rYwJEz6jSqPgVVmmhA' 'A_O8wZOsMTPwyeYA4-Rsow'\n",
      " 'fAiVqZv7P_oc5CzGMX_G9w' 'ceKoQX0_IJZ6Lr9-9LGcbA' 'KYeLSM3MQpirmHukVV5Iow'\n",
      " '4dnDsoHuxUtzhaumxbpR5w' 'LaEj3VpQh7bgpAZLzSRRrw']\n",
      "['rLtl8ZkDX5vH5nAx9C3q5Q' '0bNXP9quoJEgyVZu9ipGgQ' '6kmu0mYbdpMIOZ6Y0eVsxg'\n",
      " 'n9Zg0jlOGtxfIrvoPm6Hhw' 'du6KeE54IFbPiXpU3LOd1g' 'fev0iI-XDrteD4SYRKjiUw'\n",
      " 'UuwjD6MZf6Z6QlNphiXRjA' 'P2kVk4cIWyK4e4h14RhK-Q' 'thdVzCfKx-DV0zYWqId3pw'\n",
      " '90a6z--_CUrl84aCzZyPsg' 'fczQCSmaWF78toLEmb0Zsw' 'pEVf8GRshP9HUkSpizc9LA'\n",
      " 'W_QXYA7A0IhMrvbckz7eVg' 'AeucYo8J-rZjcq09Wuqsjw' 'AkJFqLqHHAKY3H5R8p7cPQ'\n",
      " '_uL7OiQSfNsCd60DrAf7qQ' 'kNO6w6EIKo8u6GSykOHBLA' 'GrSixRnGIxNUJ1Cn5DNX9A'\n",
      " 'b2DKC4kC8-QeSeGZ_MF3XQ' 'LaEj3VpQh7bgpAZLzSRRrw' 'v6CGBT0OoLRht9dzo7vaXg']\n",
      "['rLtl8ZkDX5vH5nAx9C3q5Q' 'UsULgP4bKA8RMzs8dQzcsA' 'XqMkm-DD9VsdcKx2YVGhSA'\n",
      " '6OWHDbEq23f24Vki_veHBA' 'T7J9ae0wTskrI_Bgwp-4cA' 'JgDkCER12uiv4lbpmkZ9VA'\n",
      " '4ozupHULqGyO42s3zNUzOQ' '6kmu0mYbdpMIOZ6Y0eVsxg' 'KLekdmo4FdNnP0huUhzZNw'\n",
      " 'lPaYMDmJbAnv_3pmZH_inw' '7GC9fVWKa4a1ZmBGLH6Uww' 'l53FUDHRHLg7BQ89KgAtxQ'\n",
      " 'UuwjD6MZf6Z6QlNphiXRjA' 'Cp-PV8rsypbO-xBrQ6KmQg' '4E_nPWw89FLFHdNsEgMH-g'\n",
      " 'vsXP832M0kOxKpfduD7dWw' '90a6z--_CUrl84aCzZyPsg' 'AdEy5KAIlMAy8xHyuMQCFg'\n",
      " 'NLDDaat42UQXQCOpU4e2TA' 'Zwtx7FLZcK5F2P0-Tz8mHg' 'm7j9e53ycZxjWYBD7rZVng'\n",
      " 'fczQCSmaWF78toLEmb0Zsw' '6ts41fCsDKHbFZaKOMNmVQ' '9FbgqZ5u9WTLAs28nNafIQ'\n",
      " 'pEVf8GRshP9HUkSpizc9LA' 'joIzw_aUiNvBTuGoytrH7g' 'd66FhQQZzFDKxklh6t63RA'\n",
      " 'zCC6huLkNBEr3JUgQyxJbg' '4IxLt4QvCsJEdaNvH9QApw' '7zDqr2I0-xpw9HF5Ha54cA'\n",
      " 'wHg1YkCzdZq9WBJOTRgxHQ' 'AkJFqLqHHAKY3H5R8p7cPQ' '_uL7OiQSfNsCd60DrAf7qQ'\n",
      " 'jopndPrv-H5KW2CfScnw9A' 'q5nFaw9isjD_01PpVAR7hg' 'e4TQFVfepzHf--hnBsjntg'\n",
      " 'Iycf9KNRhxvR187Qu2zZHg' 'kGgAARL2UmvCcTRfiscjug' 'PShy2RYNadDUhJf4ErOJ7w'\n",
      " 'Lp_Ykqfbv5Q-oyGYlMGJRg' 'g6rlp5No6GjEDXkrjvg1kQ' 'rjlb-7-JcmM6fR64ZpyTug'\n",
      " '3eit3w0zDbb-z57c9P60vg' 'tlSSQwfHYJany7wPoTH46A']\n",
      "['rLtl8ZkDX5vH5nAx9C3q5Q' '6OWHDbEq23f24Vki_veHBA' 'X5GbNXY_nNoa_vTZDD0aCA'\n",
      " 'JgDkCER12uiv4lbpmkZ9VA' '4ozupHULqGyO42s3zNUzOQ' '_4lqpCYCqOQzbB6xQGGhrQ'\n",
      " 'lPaYMDmJbAnv_3pmZH_inw' '7GC9fVWKa4a1ZmBGLH6Uww' 'AdEy5KAIlMAy8xHyuMQCFg'\n",
      " '0o0VMEJeQY0pAAZ9nxErBA' '8JC-Yb3UDUv2FUl5ym1nVg' 'Zwtx7FLZcK5F2P0-Tz8mHg'\n",
      " 'q9XgOylNsSbqZqF_SO3-OQ' 'pEVf8GRshP9HUkSpizc9LA' 'HOleI3jz1MLNUJ6cc1x0Pw'\n",
      " '3gIfcQq5KxAegwCPXc83cQ' 'y5_vrqIylhXMrejM_-x_vA' 'qa05pUVNapADHZXpHMPMeA'\n",
      " 'AkJFqLqHHAKY3H5R8p7cPQ' '_uL7OiQSfNsCd60DrAf7qQ' 'jdeNI5TTTuM6mj3HTgstRA'\n",
      " 'jopndPrv-H5KW2CfScnw9A' 'ST8Yzlk2MqKlcaLqL2djBg' 'PShy2RYNadDUhJf4ErOJ7w'\n",
      " 'mym5tXZoZCbuPCYQzI5Ysg' 'uNbB1uR4EBhmygUc3IfPAw' '3eit3w0zDbb-z57c9P60vg'\n",
      " 'IO3AsR6cdMto7VCwfPzf2w' 'EJkV29QY_oHwSngQiTj2rQ' 'Pv7DGHzZ-uqIUdOsqPpsVg'\n",
      " 'Xm8HXE1JHqscXe5BKf0GFQ' 'KSTOdz0lSFCkqBSRNwjERA']\n",
      "['rLtl8ZkDX5vH5nAx9C3q5Q' 'UPtysDF6cUDUxq2KY-6Dcg' 'mlBC3pN9GXlUUfQi1qBBZA'\n",
      " '0bNXP9quoJEgyVZu9ipGgQ' 'JffajLV-Dnn-eGYgdXDxFg' 'lPaYMDmJbAnv_3pmZH_inw'\n",
      " 'pIm17SVRo8IdhGoBD4qbnA' 'hFtlFksrcLaWHGPNa6SmeA' 'P2kVk4cIWyK4e4h14RhK-Q'\n",
      " 'Kqvfep2mxS10S50FbVDi4Q' '0o0VMEJeQY0pAAZ9nxErBA' 'LqgGgWi3FLHBViX9tmZ9sw'\n",
      " 'tdNV2Wb0LrFpm1Yfov_Klw' 'rO3WEI9L-_deUR9-JHuNQw' '3gIfcQq5KxAegwCPXc83cQ'\n",
      " 'AirVzN1BVQBmq5zY0YMNYQ' 'usQTOj7LQ9v0Fl98gRa3Iw' 'rL3dPeKDTybG_ct9OCXGAA'\n",
      " 'APLIPfq1Rf8QyhHHk2uAyA' 'qa05pUVNapADHZXpHMPMeA' 'A99dyhEqcd_yXKPfBWeZHA'\n",
      " 'oy6fdscGSXY2gzRqF9pZxg' 'GrSixRnGIxNUJ1Cn5DNX9A' 'wfvmwhhadHfpM9UoTV0OMA'\n",
      " '9VPNlcKsL99FvKtz1r9qJg' 'iwZ_7QuZ1tzT6pIZmOlDQg' 'uNbB1uR4EBhmygUc3IfPAw'\n",
      " 'ZC49A1K-if7KP8VJXoqELQ' 'EKwGhgLrM18ErVKKeYE2UA' 'KYeLSM3MQpirmHukVV5Iow'\n",
      " 'Pv7DGHzZ-uqIUdOsqPpsVg' 'kJyR4gT1pfCcNjEY9-YMoQ' 'w1LjSa5wMexRIQ-82LKWmQ'\n",
      " 'c3yJNjz_K--z4CIpR7yhvQ' 'KSTOdz0lSFCkqBSRNwjERA']\n",
      "['rLtl8ZkDX5vH5nAx9C3q5Q' 'dQO0tQISZyb9L4d5ASnXyQ' 'vhxFLqRok6r-D_aQz0s-JQ'\n",
      " '4ozupHULqGyO42s3zNUzOQ' 'hFtlFksrcLaWHGPNa6SmeA' 'sALB8-F04S9VcZMF_GkGUA'\n",
      " '90a6z--_CUrl84aCzZyPsg' '0o0VMEJeQY0pAAZ9nxErBA' 'kk05snSafuIFK0lsxoMNzA'\n",
      " 'Ovpa3S8xD96dLE5eDxcxJg' 'fczQCSmaWF78toLEmb0Zsw' 'q9XgOylNsSbqZqF_SO3-OQ'\n",
      " '6ts41fCsDKHbFZaKOMNmVQ' 'xFG4Ca2HHmbxDTkMlmHnjQ' 'X_kPh3nt0AJPNPHye2rTlA'\n",
      " 'UoBfwbXaixelZBghbJ2cSg' 'C8ZTiwa7qWoPSMIivTeSfw' '4IxLt4QvCsJEdaNvH9QApw'\n",
      " 'PNS9z4aFDbfhpIsHCfNvNg' '33vUIil_GCaT92aUaZhRXA' 'XBHJCDzNh--mBhJkzyM_iA'\n",
      " 'q5nFaw9isjD_01PpVAR7hg' 'exefpuK6O1ctUUqTxq5XLg' 'I-P1v7sRjDLEfVOndp01kA'\n",
      " 'g6rlp5No6GjEDXkrjvg1kQ' 'rjlb-7-JcmM6fR64ZpyTug' '4_YfcfHkCem1onJFkItxjA'\n",
      " 'ZC49A1K-if7KP8VJXoqELQ' 'tlSSQwfHYJany7wPoTH46A' 'b4C9E7vTJrOdkJQA86xYSg']\n",
      "['rLtl8ZkDX5vH5nAx9C3q5Q' 'UsULgP4bKA8RMzs8dQzcsA' 'XqMkm-DD9VsdcKx2YVGhSA'\n",
      " 'HY9qpAamqLXFoa7xMwNntg' '0bNXP9quoJEgyVZu9ipGgQ' 'Ps1Db9zOatoF_76FZNO5CQ'\n",
      " 'JgDkCER12uiv4lbpmkZ9VA' '4ozupHULqGyO42s3zNUzOQ' '6kmu0mYbdpMIOZ6Y0eVsxg'\n",
      " 'lPaYMDmJbAnv_3pmZH_inw' 'fev0iI-XDrteD4SYRKjiUw' 'hFtlFksrcLaWHGPNa6SmeA'\n",
      " '04xW5mhSBaCzpjbcf2VSZg' 'hcctCQy3bdZMezrUKkZLtA' 'AdEy5KAIlMAy8xHyuMQCFg'\n",
      " 'z1tNqF5qJRpibGj-9_r9Ew' 'M6oU3OBf_E6gqlfkLGlStQ' 'LqgGgWi3FLHBViX9tmZ9sw'\n",
      " '6ts41fCsDKHbFZaKOMNmVQ' 'pEVf8GRshP9HUkSpizc9LA' 'pv82zTlB5Txsu2Pusu__FA'\n",
      " 'HOleI3jz1MLNUJ6cc1x0Pw' 'UoBfwbXaixelZBghbJ2cSg' 'W_QXYA7A0IhMrvbckz7eVg'\n",
      " 'joIzw_aUiNvBTuGoytrH7g' '3gIfcQq5KxAegwCPXc83cQ' 'PNS9z4aFDbfhpIsHCfNvNg'\n",
      " 'gN03qFYysM5DbgjuV6N0QQ' 'Ypz7hxOCnrg8Y8vxHJU-sQ' 'wNqwKWaRjClmcKsoJJRFow'\n",
      " '7zDqr2I0-xpw9HF5Ha54cA' 'f01B5tRtqf3k6ak1pPSAWw' '--65q1FpAL_UQtVZ2PTGew'\n",
      " 'JkMOQaMjlBHMqp6gj-hL3w' 'f3LA83yEEBMj9q92H28O7w' 'v2UqlUHA8d3lgTIby0CCFQ'\n",
      " 'xZvRLPJ1ixhFVomkXSfXAw' '4dnDsoHuxUtzhaumxbpR5w' 'KSTOdz0lSFCkqBSRNwjERA']\n",
      "['rLtl8ZkDX5vH5nAx9C3q5Q' 'UPtysDF6cUDUxq2KY-6Dcg' 'C6IOtaaYdLIT5fWd7ZYIuA'\n",
      " 'mlBC3pN9GXlUUfQi1qBBZA' 'nbofxFWHORebBHh10OgYLA' '8WQubmP7G0NM3IyzyMnCEA'\n",
      " '_jjIaczpcVDpHlH6l334rQ' 'JffajLV-Dnn-eGYgdXDxFg' 'nWouNfZD3Pw08RYizxkqcA'\n",
      " 'lPaYMDmJbAnv_3pmZH_inw' 'fev0iI-XDrteD4SYRKjiUw' '90a6z--_CUrl84aCzZyPsg'\n",
      " 'ikm0UCahtK34LbLCEw4YTw' 'ZmIgP4U4Ht9CYmNX0_zP6w' 'tdNV2Wb0LrFpm1Yfov_Klw'\n",
      " '8CNEh7fSbLwDuAKhLjDPKQ' 'waD2euOMPTnTzQ0thq3H6Q' 'W_QXYA7A0IhMrvbckz7eVg'\n",
      " '4IxLt4QvCsJEdaNvH9QApw' '3gIfcQq5KxAegwCPXc83cQ' 'gN03qFYysM5DbgjuV6N0QQ'\n",
      " 'uZbTb-u-GVjTa2gtQfry5g' 'rL3dPeKDTybG_ct9OCXGAA' '--65q1FpAL_UQtVZ2PTGew'\n",
      " 'q5nFaw9isjD_01PpVAR7hg' 'A99dyhEqcd_yXKPfBWeZHA' 'NvDR3SPVPXrDB_dbKuGoWA'\n",
      " 'ZZ43etAB2n_T53YBYtf8Dw' 'szbTVEtATfn8f9GxbGGO5w' 'uNbB1uR4EBhmygUc3IfPAw'\n",
      " '3eit3w0zDbb-z57c9P60vg' 'ohRev2g3tvXpV3gBnhC-og' 'EKwGhgLrM18ErVKKeYE2UA'\n",
      " 'KYeLSM3MQpirmHukVV5Iow' 'lC4X2crUuxT9Ac9BlOX4Uw' 'w1LjSa5wMexRIQ-82LKWmQ'\n",
      " 'Xm8HXE1JHqscXe5BKf0GFQ' 'KSTOdz0lSFCkqBSRNwjERA']\n",
      "['rLtl8ZkDX5vH5nAx9C3q5Q' 'UsULgP4bKA8RMzs8dQzcsA' 'XqMkm-DD9VsdcKx2YVGhSA'\n",
      " 'vhxFLqRok6r-D_aQz0s-JQ' 'KucBnMrhalzxnD9AWrxwYQ' '0bNXP9quoJEgyVZu9ipGgQ'\n",
      " 'qABKRj1ggJmtvrL9FMFtuA' 'JgDkCER12uiv4lbpmkZ9VA' '4ozupHULqGyO42s3zNUzOQ'\n",
      " 'f1-pIw_p0ifzu03TXjPRiw' 'Cp-PV8rsypbO-xBrQ6KmQg' 'Kqvfep2mxS10S50FbVDi4Q'\n",
      " 'sALB8-F04S9VcZMF_GkGUA' 'NLDDaat42UQXQCOpU4e2TA' 'q9XgOylNsSbqZqF_SO3-OQ'\n",
      " '6ts41fCsDKHbFZaKOMNmVQ' 'pEVf8GRshP9HUkSpizc9LA' 'h7v_M_0-YVpSVZ2WD7FpAA'\n",
      " 'd66FhQQZzFDKxklh6t63RA' 'C8ZTiwa7qWoPSMIivTeSfw' '4IxLt4QvCsJEdaNvH9QApw'\n",
      " 'vWCksqJJfYjGGdD-yb9qGA' '_PzSNcfrCjeBxSLXRoMmgQ' 'gN03qFYysM5DbgjuV6N0QQ'\n",
      " 'usQTOj7LQ9v0Fl98gRa3Iw' 'APLIPfq1Rf8QyhHHk2uAyA' 'hjJPKQ1Ah91h3fVbc8GsOg'\n",
      " 'AkJFqLqHHAKY3H5R8p7cPQ' 'gq_G5VCDziyEV2-bzGuqzw' '3ONPPazUH-Q3XblYJIaA1A'\n",
      " '33vUIil_GCaT92aUaZhRXA' 'BjwXX-sChcjx2E55B_7rXg' 'Bc2UjSePEGvqSdHvz2HKGA'\n",
      " 'kGgAARL2UmvCcTRfiscjug' 'I-P1v7sRjDLEfVOndp01kA' 'wfvmwhhadHfpM9UoTV0OMA'\n",
      " 'ZZ43etAB2n_T53YBYtf8Dw' 'ST8Yzlk2MqKlcaLqL2djBg' 'PShy2RYNadDUhJf4ErOJ7w'\n",
      " 'qASPib1Z8ft8e96dtbh66w' 'g6rlp5No6GjEDXkrjvg1kQ' '4_YfcfHkCem1onJFkItxjA'\n",
      " 'KYeLSM3MQpirmHukVV5Iow' 'b4C9E7vTJrOdkJQA86xYSg' 'PoQOIZc2q5nud7uVz_jdjw'\n",
      " 'c3yJNjz_K--z4CIpR7yhvQ' 'LaEj3VpQh7bgpAZLzSRRrw' 'QBQlErZajdIyXX84dvFUnQ'\n",
      " 'g84VjttN28PWiv_WtdhnSQ']\n",
      "['rLtl8ZkDX5vH5nAx9C3q5Q' 'XqMkm-DD9VsdcKx2YVGhSA' 'HY9qpAamqLXFoa7xMwNntg'\n",
      " '6OWHDbEq23f24Vki_veHBA' 'sEWeeq41k4ohBz4jS_iGRw' 'X5GbNXY_nNoa_vTZDD0aCA'\n",
      " 'JgDkCER12uiv4lbpmkZ9VA' 'nWouNfZD3Pw08RYizxkqcA' '7GC9fVWKa4a1ZmBGLH6Uww'\n",
      " '0qIsBt4EzBDCKrIviV55Ew' 'P2kVk4cIWyK4e4h14RhK-Q' 'mfvezpz6ohS0NQk3DZdvqQ'\n",
      " 'Cp-PV8rsypbO-xBrQ6KmQg' 'thdVzCfKx-DV0zYWqId3pw' '90a6z--_CUrl84aCzZyPsg'\n",
      " 'Ovpa3S8xD96dLE5eDxcxJg' 'M6oU3OBf_E6gqlfkLGlStQ' 'q9XgOylNsSbqZqF_SO3-OQ'\n",
      " 'OsYh3jArm6fgozczE85ZeQ' 'pv82zTlB5Txsu2Pusu__FA' '17PPxx8RxjOUD_nQZ1aHEw'\n",
      " 'UoBfwbXaixelZBghbJ2cSg' 'zCC6huLkNBEr3JUgQyxJbg' '3gIfcQq5KxAegwCPXc83cQ'\n",
      " 'qaAmAU9T_t84UDGiBI98sw' 'y5_vrqIylhXMrejM_-x_vA' 'APLIPfq1Rf8QyhHHk2uAyA'\n",
      " 'qa05pUVNapADHZXpHMPMeA' 'jdeNI5TTTuM6mj3HTgstRA' 'e4TQFVfepzHf--hnBsjntg'\n",
      " '-F32Vl8Rk4dwsmk0f2wRIw' '9VPNlcKsL99FvKtz1r9qJg' 'ST8Yzlk2MqKlcaLqL2djBg'\n",
      " 'PShy2RYNadDUhJf4ErOJ7w' 'mym5tXZoZCbuPCYQzI5Ysg' 'iwZ_7QuZ1tzT6pIZmOlDQg'\n",
      " 'Lp_Ykqfbv5Q-oyGYlMGJRg' 'rjlb-7-JcmM6fR64ZpyTug' 'jqVeTSin5GeRm0ceSg-PBA'\n",
      " 'ZC49A1K-if7KP8VJXoqELQ' 'GyFmGA5UQZ4pXdx1lUH86g' 'tlSSQwfHYJany7wPoTH46A'\n",
      " 'yy3jXczrKljJGzjo24HWfw' 'Xm8HXE1JHqscXe5BKf0GFQ']\n",
      "['rLtl8ZkDX5vH5nAx9C3q5Q' 'iwUN95LIaEr75TZE_JC6bg' 'XqMkm-DD9VsdcKx2YVGhSA'\n",
      " 'KucBnMrhalzxnD9AWrxwYQ' '0bNXP9quoJEgyVZu9ipGgQ' 'hFtlFksrcLaWHGPNa6SmeA'\n",
      " '0qIsBt4EzBDCKrIviV55Ew' 'hDlSSyDreM9xY4yQWPm54w' 'thdVzCfKx-DV0zYWqId3pw'\n",
      " '4E_nPWw89FLFHdNsEgMH-g' 'Kqvfep2mxS10S50FbVDi4Q' '9FbgqZ5u9WTLAs28nNafIQ'\n",
      " 'C8ZTiwa7qWoPSMIivTeSfw' '4IxLt4QvCsJEdaNvH9QApw' 'p7dvahRPZIWL7T6pFA_0dg'\n",
      " 'wHg1YkCzdZq9WBJOTRgxHQ' 'hjJPKQ1Ah91h3fVbc8GsOg' '1BW2HC851fJKPfJeQxjkTA'\n",
      " 'Bc2UjSePEGvqSdHvz2HKGA' 'kNO6w6EIKo8u6GSykOHBLA' 'e4TQFVfepzHf--hnBsjntg'\n",
      " 'FktbKOzznpoKTNXMVtc8EA' 'exefpuK6O1ctUUqTxq5XLg' '3Jw-rYwJEz6jSqPgVVmmhA'\n",
      " 'PShy2RYNadDUhJf4ErOJ7w' 'Sjp6EYsqzdlTvymER6wBfg' 'kJyR4gT1pfCcNjEY9-YMoQ'\n",
      " 'LaEj3VpQh7bgpAZLzSRRrw']\n",
      "['rLtl8ZkDX5vH5nAx9C3q5Q' 'gcyEUr4DXcbjnGRAWFtfAQ' 'vhxFLqRok6r-D_aQz0s-JQ'\n",
      " 'sEWeeq41k4ohBz4jS_iGRw' '64YY0h0ZAR2nbzxbx0IwJg' 'JgDkCER12uiv4lbpmkZ9VA'\n",
      " 'E5QyEU6FCQwnTys0S73zNw' '6kmu0mYbdpMIOZ6Y0eVsxg' '7GC9fVWKa4a1ZmBGLH6Uww'\n",
      " 'mfvezpz6ohS0NQk3DZdvqQ' 'nc3cqVN0UuB3m50-CcMftw' 'Ovpa3S8xD96dLE5eDxcxJg'\n",
      " 'z1tNqF5qJRpibGj-9_r9Ew' '6ts41fCsDKHbFZaKOMNmVQ' 'pv82zTlB5Txsu2Pusu__FA'\n",
      " '17PPxx8RxjOUD_nQZ1aHEw' 'UoBfwbXaixelZBghbJ2cSg' 'oC0kwGvgaAeT3ZIxdxTcJA'\n",
      " '3gIfcQq5KxAegwCPXc83cQ' 'PNS9z4aFDbfhpIsHCfNvNg' 'usQTOj7LQ9v0Fl98gRa3Iw'\n",
      " '7zDqr2I0-xpw9HF5Ha54cA' 'APLIPfq1Rf8QyhHHk2uAyA' 'eBwBjylS66qPcHs2_ajLag'\n",
      " 'V0y4fqp-4pSRfsz0FmsjPA' 'f01B5tRtqf3k6ak1pPSAWw' 'e4TQFVfepzHf--hnBsjntg'\n",
      " 'exefpuK6O1ctUUqTxq5XLg' '-F32Vl8Rk4dwsmk0f2wRIw' 'qASPib1Z8ft8e96dtbh66w'\n",
      " 'Lp_Ykqfbv5Q-oyGYlMGJRg' '78Ed1ndOak2kmzljulPfBg' 'A_O8wZOsMTPwyeYA4-Rsow'\n",
      " '4_YfcfHkCem1onJFkItxjA' 'f3LA83yEEBMj9q92H28O7w' 'GyFmGA5UQZ4pXdx1lUH86g'\n",
      " 'ceKoQX0_IJZ6Lr9-9LGcbA' 'tlSSQwfHYJany7wPoTH46A' 'WWxCMDn8rVHIrIFoKRcRDg'\n",
      " 'ROr4DQ-gxlfUKmiDC-qSEQ' '0oRtnPHtvZIE1UNxCDDTPw' 'Xm8HXE1JHqscXe5BKf0GFQ'\n",
      " 'g84VjttN28PWiv_WtdhnSQ']\n",
      "['rLtl8ZkDX5vH5nAx9C3q5Q' 'XqMkm-DD9VsdcKx2YVGhSA' 'sEWeeq41k4ohBz4jS_iGRw'\n",
      " 'nDBly08j5URmrHQ2JCbyiw' 'JffajLV-Dnn-eGYgdXDxFg' '4ozupHULqGyO42s3zNUzOQ'\n",
      " 'MWt24-6bfv_OHLKhwMQ0Tw' 'lPaYMDmJbAnv_3pmZH_inw' 'du6KeE54IFbPiXpU3LOd1g'\n",
      " '0qIsBt4EzBDCKrIviV55Ew' 'mfvezpz6ohS0NQk3DZdvqQ' 'Cp-PV8rsypbO-xBrQ6KmQg'\n",
      " 'thdVzCfKx-DV0zYWqId3pw' 'Kqvfep2mxS10S50FbVDi4Q' 'sALB8-F04S9VcZMF_GkGUA'\n",
      " '90a6z--_CUrl84aCzZyPsg' 'fczQCSmaWF78toLEmb0Zsw' 'q9XgOylNsSbqZqF_SO3-OQ'\n",
      " 'xFG4Ca2HHmbxDTkMlmHnjQ' 'HOleI3jz1MLNUJ6cc1x0Pw' '17PPxx8RxjOUD_nQZ1aHEw'\n",
      " 'X_kPh3nt0AJPNPHye2rTlA' 'UoBfwbXaixelZBghbJ2cSg' 'oC0kwGvgaAeT3ZIxdxTcJA'\n",
      " 'd66FhQQZzFDKxklh6t63RA' '3gIfcQq5KxAegwCPXc83cQ' 'vWCksqJJfYjGGdD-yb9qGA'\n",
      " '_PzSNcfrCjeBxSLXRoMmgQ' 'gN03qFYysM5DbgjuV6N0QQ' 'Ypz7hxOCnrg8Y8vxHJU-sQ'\n",
      " 'wNqwKWaRjClmcKsoJJRFow' '7zDqr2I0-xpw9HF5Ha54cA' 'qaAmAU9T_t84UDGiBI98sw'\n",
      " 'APLIPfq1Rf8QyhHHk2uAyA' 'eBwBjylS66qPcHs2_ajLag' 'qa05pUVNapADHZXpHMPMeA'\n",
      " 'gq_G5VCDziyEV2-bzGuqzw' '_uL7OiQSfNsCd60DrAf7qQ' 'jopndPrv-H5KW2CfScnw9A'\n",
      " 'XBHJCDzNh--mBhJkzyM_iA' 'e4TQFVfepzHf--hnBsjntg' '-F32Vl8Rk4dwsmk0f2wRIw'\n",
      " 'Iycf9KNRhxvR187Qu2zZHg' 'GrSixRnGIxNUJ1Cn5DNX9A' 'PShy2RYNadDUhJf4ErOJ7w'\n",
      " 'Lp_Ykqfbv5Q-oyGYlMGJRg' 'GyFmGA5UQZ4pXdx1lUH86g' 'EKwGhgLrM18ErVKKeYE2UA']\n",
      "['rLtl8ZkDX5vH5nAx9C3q5Q' 'UsULgP4bKA8RMzs8dQzcsA' 'iwUN95LIaEr75TZE_JC6bg'\n",
      " 'XqMkm-DD9VsdcKx2YVGhSA' 'gcyEUr4DXcbjnGRAWFtfAQ' 'KucBnMrhalzxnD9AWrxwYQ'\n",
      " '0bNXP9quoJEgyVZu9ipGgQ' '8WQubmP7G0NM3IyzyMnCEA' 'wC1CPV5bf--bDLtlhNSPLg'\n",
      " '_7el1cOgnfkNfmZKi277bQ' 'JffajLV-Dnn-eGYgdXDxFg' '4ozupHULqGyO42s3zNUzOQ'\n",
      " 'KLekdmo4FdNnP0huUhzZNw' 'lPaYMDmJbAnv_3pmZH_inw' 'hFtlFksrcLaWHGPNa6SmeA'\n",
      " 'f1-pIw_p0ifzu03TXjPRiw' 'thdVzCfKx-DV0zYWqId3pw' 'Kqvfep2mxS10S50FbVDi4Q'\n",
      " 'sALB8-F04S9VcZMF_GkGUA' 'hcctCQy3bdZMezrUKkZLtA' 'vsXP832M0kOxKpfduD7dWw'\n",
      " '90a6z--_CUrl84aCzZyPsg' '100Df1wcVrl9rJgB7EG6xw' 'Zwtx7FLZcK5F2P0-Tz8mHg'\n",
      " 'Ovpa3S8xD96dLE5eDxcxJg' 'OQMOgqS1NFIyAW4i66iDYA' 'M6oU3OBf_E6gqlfkLGlStQ'\n",
      " 'fczQCSmaWF78toLEmb0Zsw' 'q9XgOylNsSbqZqF_SO3-OQ' '6ts41fCsDKHbFZaKOMNmVQ'\n",
      " '9FbgqZ5u9WTLAs28nNafIQ' 'tdNV2Wb0LrFpm1Yfov_Klw' '17PPxx8RxjOUD_nQZ1aHEw'\n",
      " 'X_kPh3nt0AJPNPHye2rTlA' '4IxLt4QvCsJEdaNvH9QApw' '3gIfcQq5KxAegwCPXc83cQ'\n",
      " 'PNS9z4aFDbfhpIsHCfNvNg' '_PzSNcfrCjeBxSLXRoMmgQ' 'usQTOj7LQ9v0Fl98gRa3Iw'\n",
      " 'llkm_iXQszkN5DZvmqjNqA' 'wNqwKWaRjClmcKsoJJRFow' '7zDqr2I0-xpw9HF5Ha54cA'\n",
      " 'y5_vrqIylhXMrejM_-x_vA' 'gq_G5VCDziyEV2-bzGuqzw' '4UUIpbOTPmu43wuC2aSGkg'\n",
      " 'f01B5tRtqf3k6ak1pPSAWw' 'Bc2UjSePEGvqSdHvz2HKGA' 'e4TQFVfepzHf--hnBsjntg'\n",
      " 'FktbKOzznpoKTNXMVtc8EA' '9qCPmT6ovJjxL4tJB4ANCg' '-F32Vl8Rk4dwsmk0f2wRIw'\n",
      " 'GrSixRnGIxNUJ1Cn5DNX9A' 'HZeFzs42f0iGaA-sP_hUnA' 'ST8Yzlk2MqKlcaLqL2djBg'\n",
      " 'PShy2RYNadDUhJf4ErOJ7w' 'g6rlp5No6GjEDXkrjvg1kQ' '3eit3w0zDbb-z57c9P60vg'\n",
      " 'jqVeTSin5GeRm0ceSg-PBA' 'v2UqlUHA8d3lgTIby0CCFQ' 'DtTuVmtooVyMnGhwPrzLww'\n",
      " 'tlSSQwfHYJany7wPoTH46A' 'RxfFQxUtSIGYwTKU_rvAeg' 'LaEj3VpQh7bgpAZLzSRRrw'\n",
      " 'QBQlErZajdIyXX84dvFUnQ']\n",
      "['rLtl8ZkDX5vH5nAx9C3q5Q' 'iwUN95LIaEr75TZE_JC6bg' 'Cp-PV8rsypbO-xBrQ6KmQg'\n",
      " '4E_nPWw89FLFHdNsEgMH-g' 'Kqvfep2mxS10S50FbVDi4Q' '90a6z--_CUrl84aCzZyPsg'\n",
      " 'kk05snSafuIFK0lsxoMNzA' 'fczQCSmaWF78toLEmb0Zsw' 'd66FhQQZzFDKxklh6t63RA'\n",
      " '4IxLt4QvCsJEdaNvH9QApw' '33vUIil_GCaT92aUaZhRXA' '_uL7OiQSfNsCd60DrAf7qQ'\n",
      " 'oy6fdscGSXY2gzRqF9pZxg' 'rjlb-7-JcmM6fR64ZpyTug' 'Sjp6EYsqzdlTvymER6wBfg'\n",
      " 'ZC49A1K-if7KP8VJXoqELQ' 'Pv7DGHzZ-uqIUdOsqPpsVg' 'LaEj3VpQh7bgpAZLzSRRrw'\n",
      " 'g84VjttN28PWiv_WtdhnSQ']\n",
      "['rLtl8ZkDX5vH5nAx9C3q5Q' 'dQO0tQISZyb9L4d5ASnXyQ' 'Yk37VAp452K7FwHWd1rrQw'\n",
      " 'JgDkCER12uiv4lbpmkZ9VA' 'Kqvfep2mxS10S50FbVDi4Q' 'nc3cqVN0UuB3m50-CcMftw'\n",
      " 'hcctCQy3bdZMezrUKkZLtA' 'vsXP832M0kOxKpfduD7dWw' 'NLDDaat42UQXQCOpU4e2TA'\n",
      " 'OQMOgqS1NFIyAW4i66iDYA' 'fczQCSmaWF78toLEmb0Zsw' 'xFG4Ca2HHmbxDTkMlmHnjQ'\n",
      " 'h7v_M_0-YVpSVZ2WD7FpAA' 'AeucYo8J-rZjcq09Wuqsjw' '3gIfcQq5KxAegwCPXc83cQ'\n",
      " 'PNS9z4aFDbfhpIsHCfNvNg' 'gN03qFYysM5DbgjuV6N0QQ' 'llkm_iXQszkN5DZvmqjNqA'\n",
      " 'eBwBjylS66qPcHs2_ajLag' 'p7dvahRPZIWL7T6pFA_0dg' 'wHg1YkCzdZq9WBJOTRgxHQ'\n",
      " 'hjJPKQ1Ah91h3fVbc8GsOg' 'f01B5tRtqf3k6ak1pPSAWw' '9qCPmT6ovJjxL4tJB4ANCg'\n",
      " 'Iycf9KNRhxvR187Qu2zZHg' 'GrSixRnGIxNUJ1Cn5DNX9A' 'PShy2RYNadDUhJf4ErOJ7w'\n",
      " '78Ed1ndOak2kmzljulPfBg' 'v2UqlUHA8d3lgTIby0CCFQ' 'xZvRLPJ1ixhFVomkXSfXAw'\n",
      " 'PoQOIZc2q5nud7uVz_jdjw']\n",
      "['rLtl8ZkDX5vH5nAx9C3q5Q' 'JgDkCER12uiv4lbpmkZ9VA' 'thdVzCfKx-DV0zYWqId3pw'\n",
      " 'NLDDaat42UQXQCOpU4e2TA' 'Ovpa3S8xD96dLE5eDxcxJg' 'OQMOgqS1NFIyAW4i66iDYA'\n",
      " 'fczQCSmaWF78toLEmb0Zsw' '9FbgqZ5u9WTLAs28nNafIQ' 'HOleI3jz1MLNUJ6cc1x0Pw'\n",
      " '4IxLt4QvCsJEdaNvH9QApw' 'gq_G5VCDziyEV2-bzGuqzw' '33vUIil_GCaT92aUaZhRXA'\n",
      " 'Bc2UjSePEGvqSdHvz2HKGA' 'e4TQFVfepzHf--hnBsjntg' 'kGgAARL2UmvCcTRfiscjug'\n",
      " 'ST8Yzlk2MqKlcaLqL2djBg' 'qASPib1Z8ft8e96dtbh66w' 'Sjp6EYsqzdlTvymER6wBfg'\n",
      " 'jqVeTSin5GeRm0ceSg-PBA' 'PoQOIZc2q5nud7uVz_jdjw']\n",
      "['rLtl8ZkDX5vH5nAx9C3q5Q' 'iwUN95LIaEr75TZE_JC6bg' 'vhxFLqRok6r-D_aQz0s-JQ'\n",
      " 'X5GbNXY_nNoa_vTZDD0aCA' 'JgDkCER12uiv4lbpmkZ9VA' '4ozupHULqGyO42s3zNUzOQ'\n",
      " 'MWt24-6bfv_OHLKhwMQ0Tw' 'KLekdmo4FdNnP0huUhzZNw' '7GC9fVWKa4a1ZmBGLH6Uww'\n",
      " 'l53FUDHRHLg7BQ89KgAtxQ' 'hFtlFksrcLaWHGPNa6SmeA' 'P2kVk4cIWyK4e4h14RhK-Q'\n",
      " 'Cp-PV8rsypbO-xBrQ6KmQg' 'sALB8-F04S9VcZMF_GkGUA' '90a6z--_CUrl84aCzZyPsg'\n",
      " 'kk05snSafuIFK0lsxoMNzA' 'Ovpa3S8xD96dLE5eDxcxJg' 'm7j9e53ycZxjWYBD7rZVng'\n",
      " 'M6oU3OBf_E6gqlfkLGlStQ' 'fczQCSmaWF78toLEmb0Zsw' 'LqgGgWi3FLHBViX9tmZ9sw'\n",
      " 'q9XgOylNsSbqZqF_SO3-OQ' '6ts41fCsDKHbFZaKOMNmVQ' '9FbgqZ5u9WTLAs28nNafIQ'\n",
      " 'HOleI3jz1MLNUJ6cc1x0Pw' 'X_kPh3nt0AJPNPHye2rTlA' '4IxLt4QvCsJEdaNvH9QApw'\n",
      " '_PzSNcfrCjeBxSLXRoMmgQ' 'gN03qFYysM5DbgjuV6N0QQ' 'uZbTb-u-GVjTa2gtQfry5g'\n",
      " 'qa05pUVNapADHZXpHMPMeA' 'hjJPKQ1Ah91h3fVbc8GsOg' 'AkJFqLqHHAKY3H5R8p7cPQ'\n",
      " 'gq_G5VCDziyEV2-bzGuqzw' 'Sa64rQmghfE9i17_dRIDyw' 'f01B5tRtqf3k6ak1pPSAWw'\n",
      " 'BjwXX-sChcjx2E55B_7rXg' 'e4TQFVfepzHf--hnBsjntg' '9qCPmT6ovJjxL4tJB4ANCg'\n",
      " 'tBvrnSCLSpUdCDm5w5GPkg' 'iwZ_7QuZ1tzT6pIZmOlDQg' 'qASPib1Z8ft8e96dtbh66w'\n",
      " 'rjlb-7-JcmM6fR64ZpyTug' '3eit3w0zDbb-z57c9P60vg' '4_YfcfHkCem1onJFkItxjA'\n",
      " 'ceKoQX0_IJZ6Lr9-9LGcbA' 'xZvRLPJ1ixhFVomkXSfXAw' '4dnDsoHuxUtzhaumxbpR5w'\n",
      " 'g84VjttN28PWiv_WtdhnSQ']\n",
      "['rLtl8ZkDX5vH5nAx9C3q5Q' 'vhxFLqRok6r-D_aQz0s-JQ' '6OWHDbEq23f24Vki_veHBA'\n",
      " '0bNXP9quoJEgyVZu9ipGgQ' 'wC1CPV5bf--bDLtlhNSPLg' '4ozupHULqGyO42s3zNUzOQ'\n",
      " 'KLekdmo4FdNnP0huUhzZNw' 'n9Zg0jlOGtxfIrvoPm6Hhw' 'du6KeE54IFbPiXpU3LOd1g'\n",
      " 'fev0iI-XDrteD4SYRKjiUw' 'hFtlFksrcLaWHGPNa6SmeA' 'UuwjD6MZf6Z6QlNphiXRjA'\n",
      " 'f1-pIw_p0ifzu03TXjPRiw' 'd0wJVf7Gv7v1B-HHYhxZtQ' 'thdVzCfKx-DV0zYWqId3pw'\n",
      " 'Kqvfep2mxS10S50FbVDi4Q' 'vsXP832M0kOxKpfduD7dWw' '90a6z--_CUrl84aCzZyPsg'\n",
      " '8JC-Yb3UDUv2FUl5ym1nVg' 'kk05snSafuIFK0lsxoMNzA' 'OQMOgqS1NFIyAW4i66iDYA'\n",
      " 'fczQCSmaWF78toLEmb0Zsw' '6ts41fCsDKHbFZaKOMNmVQ' 'pEVf8GRshP9HUkSpizc9LA'\n",
      " 'W_QXYA7A0IhMrvbckz7eVg' 'AeucYo8J-rZjcq09Wuqsjw' 'gN03qFYysM5DbgjuV6N0QQ'\n",
      " 'uZbTb-u-GVjTa2gtQfry5g' 'qaAmAU9T_t84UDGiBI98sw' 'y5_vrqIylhXMrejM_-x_vA'\n",
      " 'qa05pUVNapADHZXpHMPMeA' 'wHg1YkCzdZq9WBJOTRgxHQ' 'jopndPrv-H5KW2CfScnw9A'\n",
      " 'GrSixRnGIxNUJ1Cn5DNX9A' '3Jw-rYwJEz6jSqPgVVmmhA' 'ST8Yzlk2MqKlcaLqL2djBg'\n",
      " 'PShy2RYNadDUhJf4ErOJ7w' 'vF4B6eFdoDmyV_l7MLHMzw' 'g6rlp5No6GjEDXkrjvg1kQ'\n",
      " 'uNbB1uR4EBhmygUc3IfPAw' 'rjlb-7-JcmM6fR64ZpyTug' '3eit3w0zDbb-z57c9P60vg'\n",
      " 'ZC49A1K-if7KP8VJXoqELQ' 'f3LA83yEEBMj9q92H28O7w' 'IO3AsR6cdMto7VCwfPzf2w'\n",
      " 'b2DKC4kC8-QeSeGZ_MF3XQ' 'v2UqlUHA8d3lgTIby0CCFQ' 'EKwGhgLrM18ErVKKeYE2UA'\n",
      " 'Pv7DGHzZ-uqIUdOsqPpsVg' 'kJyR4gT1pfCcNjEY9-YMoQ' 'c3yJNjz_K--z4CIpR7yhvQ'\n",
      " 'LaEj3VpQh7bgpAZLzSRRrw' 'QBQlErZajdIyXX84dvFUnQ']\n",
      "['rLtl8ZkDX5vH5nAx9C3q5Q' 'XqMkm-DD9VsdcKx2YVGhSA' 'vhxFLqRok6r-D_aQz0s-JQ'\n",
      " 'sEWeeq41k4ohBz4jS_iGRw' 'X5GbNXY_nNoa_vTZDD0aCA' '64YY0h0ZAR2nbzxbx0IwJg'\n",
      " '0bNXP9quoJEgyVZu9ipGgQ' '4ozupHULqGyO42s3zNUzOQ' 'MWt24-6bfv_OHLKhwMQ0Tw'\n",
      " '7GC9fVWKa4a1ZmBGLH6Uww' 'l53FUDHRHLg7BQ89KgAtxQ' '0qIsBt4EzBDCKrIviV55Ew'\n",
      " 'mfvezpz6ohS0NQk3DZdvqQ' 'Cp-PV8rsypbO-xBrQ6KmQg' 'thdVzCfKx-DV0zYWqId3pw'\n",
      " '4E_nPWw89FLFHdNsEgMH-g' 'Kqvfep2mxS10S50FbVDi4Q' 'sALB8-F04S9VcZMF_GkGUA'\n",
      " '90a6z--_CUrl84aCzZyPsg' '8JC-Yb3UDUv2FUl5ym1nVg' 'Zwtx7FLZcK5F2P0-Tz8mHg'\n",
      " 'Ovpa3S8xD96dLE5eDxcxJg' '9FbgqZ5u9WTLAs28nNafIQ' 'oC0kwGvgaAeT3ZIxdxTcJA'\n",
      " 'h7v_M_0-YVpSVZ2WD7FpAA' 'd66FhQQZzFDKxklh6t63RA' '4IxLt4QvCsJEdaNvH9QApw'\n",
      " 'llkm_iXQszkN5DZvmqjNqA' 'APLIPfq1Rf8QyhHHk2uAyA' 'qa05pUVNapADHZXpHMPMeA'\n",
      " 'hjJPKQ1Ah91h3fVbc8GsOg' 'gq_G5VCDziyEV2-bzGuqzw' 'VPXgY9lGJF3XC4ZpusxNuA'\n",
      " 'e4TQFVfepzHf--hnBsjntg' 'Iycf9KNRhxvR187Qu2zZHg' 'kGgAARL2UmvCcTRfiscjug'\n",
      " 'ST8Yzlk2MqKlcaLqL2djBg' 'PShy2RYNadDUhJf4ErOJ7w' 'qASPib1Z8ft8e96dtbh66w'\n",
      " 'g6rlp5No6GjEDXkrjvg1kQ' 'rjlb-7-JcmM6fR64ZpyTug' 'jqVeTSin5GeRm0ceSg-PBA'\n",
      " '4_YfcfHkCem1onJFkItxjA' 'EKwGhgLrM18ErVKKeYE2UA' 'PS0lCxjGNeUrKxYSdpW-Aw'\n",
      " 'EJkV29QY_oHwSngQiTj2rQ' 'Xm8HXE1JHqscXe5BKf0GFQ']\n",
      "['rLtl8ZkDX5vH5nAx9C3q5Q' 'C6IOtaaYdLIT5fWd7ZYIuA' 'EP3cGJvYiuOwumerwADplg'\n",
      " 'iwUN95LIaEr75TZE_JC6bg' '_7el1cOgnfkNfmZKi277bQ' '_4lqpCYCqOQzbB6xQGGhrQ'\n",
      " '6kmu0mYbdpMIOZ6Y0eVsxg' 'f1-pIw_p0ifzu03TXjPRiw' '4E_nPWw89FLFHdNsEgMH-g'\n",
      " 'AdEy5KAIlMAy8xHyuMQCFg' 'kk05snSafuIFK0lsxoMNzA' 'tdNV2Wb0LrFpm1Yfov_Klw'\n",
      " 'Bmzq_nkjYqp8aWn12RJdhA' '4IxLt4QvCsJEdaNvH9QApw' '_PzSNcfrCjeBxSLXRoMmgQ'\n",
      " 'usQTOj7LQ9v0Fl98gRa3Iw' 'rL3dPeKDTybG_ct9OCXGAA' '33vUIil_GCaT92aUaZhRXA'\n",
      " 'FktbKOzznpoKTNXMVtc8EA' 'N-D-d1Z4UybdlkK1HxlNPA' 'Iycf9KNRhxvR187Qu2zZHg'\n",
      " 'I-P1v7sRjDLEfVOndp01kA' '9VPNlcKsL99FvKtz1r9qJg' 'PShy2RYNadDUhJf4ErOJ7w'\n",
      " 'DtTuVmtooVyMnGhwPrzLww' 'yy3jXczrKljJGzjo24HWfw' 'QBQlErZajdIyXX84dvFUnQ']\n",
      "['rLtl8ZkDX5vH5nAx9C3q5Q' 'UPtysDF6cUDUxq2KY-6Dcg' 'iwUN95LIaEr75TZE_JC6bg'\n",
      " 'XqMkm-DD9VsdcKx2YVGhSA' '6OWHDbEq23f24Vki_veHBA' '0bNXP9quoJEgyVZu9ipGgQ'\n",
      " 'K0euQLFAcKhQPZ6JxGAryg' '_jjIaczpcVDpHlH6l334rQ' 'JffajLV-Dnn-eGYgdXDxFg'\n",
      " 'lPaYMDmJbAnv_3pmZH_inw' 'thdVzCfKx-DV0zYWqId3pw' '4E_nPWw89FLFHdNsEgMH-g'\n",
      " '90a6z--_CUrl84aCzZyPsg' 'ZmIgP4U4Ht9CYmNX0_zP6w' '6ts41fCsDKHbFZaKOMNmVQ'\n",
      " 'AeucYo8J-rZjcq09Wuqsjw' 'zCC6huLkNBEr3JUgQyxJbg' 'vWCksqJJfYjGGdD-yb9qGA'\n",
      " '7zDqr2I0-xpw9HF5Ha54cA' 'qa05pUVNapADHZXpHMPMeA' 'wHg1YkCzdZq9WBJOTRgxHQ'\n",
      " 'VPXgY9lGJF3XC4ZpusxNuA' 'jdeNI5TTTuM6mj3HTgstRA' 'N-D-d1Z4UybdlkK1HxlNPA'\n",
      " '3Jw-rYwJEz6jSqPgVVmmhA' 'IO3AsR6cdMto7VCwfPzf2w' 'DtTuVmtooVyMnGhwPrzLww'\n",
      " 'tlSSQwfHYJany7wPoTH46A' 'KYeLSM3MQpirmHukVV5Iow' 'b4C9E7vTJrOdkJQA86xYSg'\n",
      " 'Pv7DGHzZ-uqIUdOsqPpsVg' 'c3yJNjz_K--z4CIpR7yhvQ']\n",
      "['rLtl8ZkDX5vH5nAx9C3q5Q' 'KucBnMrhalzxnD9AWrxwYQ' '0bNXP9quoJEgyVZu9ipGgQ'\n",
      " '4ozupHULqGyO42s3zNUzOQ' 'du6KeE54IFbPiXpU3LOd1g' 'hFtlFksrcLaWHGPNa6SmeA'\n",
      " 'Cp-PV8rsypbO-xBrQ6KmQg' '90a6z--_CUrl84aCzZyPsg' 'Zwtx7FLZcK5F2P0-Tz8mHg'\n",
      " 'Ovpa3S8xD96dLE5eDxcxJg' 'M6oU3OBf_E6gqlfkLGlStQ' 'fczQCSmaWF78toLEmb0Zsw'\n",
      " 'h7v_M_0-YVpSVZ2WD7FpAA' 'AeucYo8J-rZjcq09Wuqsjw' 'C8ZTiwa7qWoPSMIivTeSfw'\n",
      " '4IxLt4QvCsJEdaNvH9QApw' 'PNS9z4aFDbfhpIsHCfNvNg' 'llkm_iXQszkN5DZvmqjNqA'\n",
      " 'uZbTb-u-GVjTa2gtQfry5g' 'APLIPfq1Rf8QyhHHk2uAyA' 'hjJPKQ1Ah91h3fVbc8GsOg'\n",
      " '_uL7OiQSfNsCd60DrAf7qQ' 'VPXgY9lGJF3XC4ZpusxNuA' 'Bc2UjSePEGvqSdHvz2HKGA'\n",
      " 'kNO6w6EIKo8u6GSykOHBLA' 'e4TQFVfepzHf--hnBsjntg' '9qCPmT6ovJjxL4tJB4ANCg'\n",
      " 'NvDR3SPVPXrDB_dbKuGoWA' 'GrSixRnGIxNUJ1Cn5DNX9A' 'kGgAARL2UmvCcTRfiscjug'\n",
      " 'HZeFzs42f0iGaA-sP_hUnA' 'PShy2RYNadDUhJf4ErOJ7w' 'mym5tXZoZCbuPCYQzI5Ysg'\n",
      " 'g6rlp5No6GjEDXkrjvg1kQ' 'jqVeTSin5GeRm0ceSg-PBA' 'ZC49A1K-if7KP8VJXoqELQ'\n",
      " 'IO3AsR6cdMto7VCwfPzf2w' 'v2UqlUHA8d3lgTIby0CCFQ' 'PoQOIZc2q5nud7uVz_jdjw'\n",
      " 'LaEj3VpQh7bgpAZLzSRRrw']\n",
      "['rLtl8ZkDX5vH5nAx9C3q5Q' 'C6IOtaaYdLIT5fWd7ZYIuA' 'EP3cGJvYiuOwumerwADplg'\n",
      " 'mlBC3pN9GXlUUfQi1qBBZA' 'sEWeeq41k4ohBz4jS_iGRw' 'Ps1Db9zOatoF_76FZNO5CQ'\n",
      " '4ozupHULqGyO42s3zNUzOQ' 'lPaYMDmJbAnv_3pmZH_inw' 'pIm17SVRo8IdhGoBD4qbnA'\n",
      " 'n9Zg0jlOGtxfIrvoPm6Hhw' 'DrWLhrK8WMZf7Jb-Oqc7ww' 'UuwjD6MZf6Z6QlNphiXRjA'\n",
      " '4E_nPWw89FLFHdNsEgMH-g' 'sALB8-F04S9VcZMF_GkGUA' 'ikm0UCahtK34LbLCEw4YTw'\n",
      " 'ZmIgP4U4Ht9CYmNX0_zP6w' '6ts41fCsDKHbFZaKOMNmVQ' 'tdNV2Wb0LrFpm1Yfov_Klw'\n",
      " 'W_QXYA7A0IhMrvbckz7eVg' 'C8ZTiwa7qWoPSMIivTeSfw' 'gN03qFYysM5DbgjuV6N0QQ'\n",
      " 'usQTOj7LQ9v0Fl98gRa3Iw' 'wHg1YkCzdZq9WBJOTRgxHQ' '33vUIil_GCaT92aUaZhRXA'\n",
      " '5E193w76Qlhoi1gkyakW2A' 'kG8jkVFgOAOq6Ht6RvAjEQ' 'XgIhw-aWaq_Fx3ZVQGjnuA'\n",
      " 'JkMOQaMjlBHMqp6gj-hL3w' 'PShy2RYNadDUhJf4ErOJ7w' 'szbTVEtATfn8f9GxbGGO5w'\n",
      " '78Ed1ndOak2kmzljulPfBg' '8dbRf1UsWp2ktXHZ6Zv06w' 'm7vtKWpZ9wdEQ95wJxrMrg'\n",
      " 'f3LA83yEEBMj9q92H28O7w' 'EKwGhgLrM18ErVKKeYE2UA' 'lC4X2crUuxT9Ac9BlOX4Uw'\n",
      " 'bX5mIrDlyD8ZabvF_An7FA' 'RxfFQxUtSIGYwTKU_rvAeg' 'Pv7DGHzZ-uqIUdOsqPpsVg'\n",
      " 'c3yJNjz_K--z4CIpR7yhvQ' 'QBQlErZajdIyXX84dvFUnQ']\n",
      "['rLtl8ZkDX5vH5nAx9C3q5Q' 'C6IOtaaYdLIT5fWd7ZYIuA' 'XqMkm-DD9VsdcKx2YVGhSA'\n",
      " 'dQO0tQISZyb9L4d5ASnXyQ' 'vhxFLqRok6r-D_aQz0s-JQ' 'wC1CPV5bf--bDLtlhNSPLg'\n",
      " 'JgDkCER12uiv4lbpmkZ9VA' '4ozupHULqGyO42s3zNUzOQ' 'du6KeE54IFbPiXpU3LOd1g'\n",
      " 'f1-pIw_p0ifzu03TXjPRiw' 'P2kVk4cIWyK4e4h14RhK-Q' 'thdVzCfKx-DV0zYWqId3pw'\n",
      " 'Kqvfep2mxS10S50FbVDi4Q' 'vsXP832M0kOxKpfduD7dWw' '90a6z--_CUrl84aCzZyPsg'\n",
      " '_GVAV2LjUWEs9fGjslex_A' '100Df1wcVrl9rJgB7EG6xw' 'OQMOgqS1NFIyAW4i66iDYA'\n",
      " 'LqgGgWi3FLHBViX9tmZ9sw' 'pEVf8GRshP9HUkSpizc9LA' 'PNS9z4aFDbfhpIsHCfNvNg'\n",
      " 'wHg1YkCzdZq9WBJOTRgxHQ' 'hjJPKQ1Ah91h3fVbc8GsOg' '4UUIpbOTPmu43wuC2aSGkg'\n",
      " '--65q1FpAL_UQtVZ2PTGew' 'oy6fdscGSXY2gzRqF9pZxg' 'GrSixRnGIxNUJ1Cn5DNX9A'\n",
      " '78Ed1ndOak2kmzljulPfBg' '3eit3w0zDbb-z57c9P60vg' 'fAiVqZv7P_oc5CzGMX_G9w'\n",
      " 'v2UqlUHA8d3lgTIby0CCFQ' 'b4C9E7vTJrOdkJQA86xYSg' 'EJkV29QY_oHwSngQiTj2rQ']\n",
      "['rLtl8ZkDX5vH5nAx9C3q5Q' 'iwUN95LIaEr75TZE_JC6bg' 'X5GbNXY_nNoa_vTZDD0aCA'\n",
      " 'qABKRj1ggJmtvrL9FMFtuA' '4ozupHULqGyO42s3zNUzOQ' 'hDlSSyDreM9xY4yQWPm54w'\n",
      " '4E_nPWw89FLFHdNsEgMH-g' 'Kqvfep2mxS10S50FbVDi4Q' 'OQMOgqS1NFIyAW4i66iDYA'\n",
      " 'h7v_M_0-YVpSVZ2WD7FpAA' '4IxLt4QvCsJEdaNvH9QApw' 'AkJFqLqHHAKY3H5R8p7cPQ'\n",
      " '1BW2HC851fJKPfJeQxjkTA' 'FktbKOzznpoKTNXMVtc8EA' 'NvDR3SPVPXrDB_dbKuGoWA'\n",
      " 'g6rlp5No6GjEDXkrjvg1kQ' '8p4at4zdzCpueAmSBaorZA' 'fAiVqZv7P_oc5CzGMX_G9w'\n",
      " 'DtTuVmtooVyMnGhwPrzLww' 'LaEj3VpQh7bgpAZLzSRRrw' 'QBQlErZajdIyXX84dvFUnQ']\n",
      "['rLtl8ZkDX5vH5nAx9C3q5Q' 'vhxFLqRok6r-D_aQz0s-JQ' 'sEWeeq41k4ohBz4jS_iGRw'\n",
      " 'nDBly08j5URmrHQ2JCbyiw' '64YY0h0ZAR2nbzxbx0IwJg' '0bNXP9quoJEgyVZu9ipGgQ'\n",
      " 'T7J9ae0wTskrI_Bgwp-4cA' 'qABKRj1ggJmtvrL9FMFtuA' 'JgDkCER12uiv4lbpmkZ9VA'\n",
      " '_jjIaczpcVDpHlH6l334rQ' 'MWt24-6bfv_OHLKhwMQ0Tw' 'fev0iI-XDrteD4SYRKjiUw'\n",
      " 'Kqvfep2mxS10S50FbVDi4Q' 'sALB8-F04S9VcZMF_GkGUA' 'NLDDaat42UQXQCOpU4e2TA'\n",
      " 'kk05snSafuIFK0lsxoMNzA' 'OQMOgqS1NFIyAW4i66iDYA' 'M6oU3OBf_E6gqlfkLGlStQ'\n",
      " 'fczQCSmaWF78toLEmb0Zsw' '6ts41fCsDKHbFZaKOMNmVQ' 'UoBfwbXaixelZBghbJ2cSg'\n",
      " 'h7v_M_0-YVpSVZ2WD7FpAA' 'W_QXYA7A0IhMrvbckz7eVg' 'AeucYo8J-rZjcq09Wuqsjw'\n",
      " 'AirVzN1BVQBmq5zY0YMNYQ' 'usQTOj7LQ9v0Fl98gRa3Iw' 'y5_vrqIylhXMrejM_-x_vA'\n",
      " 'eBwBjylS66qPcHs2_ajLag' 'hjJPKQ1Ah91h3fVbc8GsOg' 'BjwXX-sChcjx2E55B_7rXg'\n",
      " 'Bc2UjSePEGvqSdHvz2HKGA' 'A99dyhEqcd_yXKPfBWeZHA' 'tBvrnSCLSpUdCDm5w5GPkg'\n",
      " 'I-P1v7sRjDLEfVOndp01kA' 'ZZ43etAB2n_T53YBYtf8Dw' 'Lp_Ykqfbv5Q-oyGYlMGJRg'\n",
      " 'g6rlp5No6GjEDXkrjvg1kQ' '3eit3w0zDbb-z57c9P60vg' 'ZC49A1K-if7KP8VJXoqELQ'\n",
      " 'v2UqlUHA8d3lgTIby0CCFQ' 'tlSSQwfHYJany7wPoTH46A' 'b4C9E7vTJrOdkJQA86xYSg'\n",
      " 'EJkV29QY_oHwSngQiTj2rQ' 'QBQlErZajdIyXX84dvFUnQ']\n",
      "['UsULgP4bKA8RMzs8dQzcsA' 'jKeaOrPyJ-dI9SNeVqrbww' '6OWHDbEq23f24Vki_veHBA'\n",
      " '0bNXP9quoJEgyVZu9ipGgQ' 'T7J9ae0wTskrI_Bgwp-4cA' 'nbofxFWHORebBHh10OgYLA'\n",
      " '8WQubmP7G0NM3IyzyMnCEA' 'qABKRj1ggJmtvrL9FMFtuA' 'JgDkCER12uiv4lbpmkZ9VA'\n",
      " 'lPaYMDmJbAnv_3pmZH_inw' 'hFtlFksrcLaWHGPNa6SmeA' 'd0wJVf7Gv7v1B-HHYhxZtQ'\n",
      " 'Cp-PV8rsypbO-xBrQ6KmQg' 'thdVzCfKx-DV0zYWqId3pw' 'ikm0UCahtK34LbLCEw4YTw'\n",
      " 'M6oU3OBf_E6gqlfkLGlStQ' 'LqgGgWi3FLHBViX9tmZ9sw' 'q9XgOylNsSbqZqF_SO3-OQ'\n",
      " 'pv82zTlB5Txsu2Pusu__FA' 'waD2euOMPTnTzQ0thq3H6Q' 'd66FhQQZzFDKxklh6t63RA'\n",
      " '4IxLt4QvCsJEdaNvH9QApw' 'uZbTb-u-GVjTa2gtQfry5g' 'qaAmAU9T_t84UDGiBI98sw'\n",
      " 'wHg1YkCzdZq9WBJOTRgxHQ' 'AkJFqLqHHAKY3H5R8p7cPQ' 'kG8jkVFgOAOq6Ht6RvAjEQ'\n",
      " '--65q1FpAL_UQtVZ2PTGew' 'A99dyhEqcd_yXKPfBWeZHA' '9qCPmT6ovJjxL4tJB4ANCg'\n",
      " 'HZeFzs42f0iGaA-sP_hUnA' '78Ed1ndOak2kmzljulPfBg' 'YLE6GoJ61fb0QBF7JTkaJg'\n",
      " '3eit3w0zDbb-z57c9P60vg' 'm7vtKWpZ9wdEQ95wJxrMrg' 'ohRev2g3tvXpV3gBnhC-og'\n",
      " 'Pv7DGHzZ-uqIUdOsqPpsVg' 'kJyR4gT1pfCcNjEY9-YMoQ' '0oRtnPHtvZIE1UNxCDDTPw']\n",
      "['iwUN95LIaEr75TZE_JC6bg' 'KucBnMrhalzxnD9AWrxwYQ' '8WQubmP7G0NM3IyzyMnCEA'\n",
      " 'wC1CPV5bf--bDLtlhNSPLg' 'qABKRj1ggJmtvrL9FMFtuA' 'JgDkCER12uiv4lbpmkZ9VA'\n",
      " '_jjIaczpcVDpHlH6l334rQ' 'E5QyEU6FCQwnTys0S73zNw' 'lPaYMDmJbAnv_3pmZH_inw'\n",
      " '7GC9fVWKa4a1ZmBGLH6Uww' 'fev0iI-XDrteD4SYRKjiUw' '0qIsBt4EzBDCKrIviV55Ew'\n",
      " 'Cp-PV8rsypbO-xBrQ6KmQg' 'q9XgOylNsSbqZqF_SO3-OQ' 'LXWAXIeYFIdgd2JVPF-9qA'\n",
      " '9FbgqZ5u9WTLAs28nNafIQ' '17PPxx8RxjOUD_nQZ1aHEw' 'X_kPh3nt0AJPNPHye2rTlA'\n",
      " 'oC0kwGvgaAeT3ZIxdxTcJA' 'C8ZTiwa7qWoPSMIivTeSfw' '3gIfcQq5KxAegwCPXc83cQ'\n",
      " 'AirVzN1BVQBmq5zY0YMNYQ' 'gN03qFYysM5DbgjuV6N0QQ' 'usQTOj7LQ9v0Fl98gRa3Iw'\n",
      " 'uZbTb-u-GVjTa2gtQfry5g' '33vUIil_GCaT92aUaZhRXA' '4UUIpbOTPmu43wuC2aSGkg'\n",
      " 'VPXgY9lGJF3XC4ZpusxNuA' 'Sa64rQmghfE9i17_dRIDyw' 'jopndPrv-H5KW2CfScnw9A'\n",
      " '--65q1FpAL_UQtVZ2PTGew' 'Bc2UjSePEGvqSdHvz2HKGA' 'e4TQFVfepzHf--hnBsjntg'\n",
      " 'oy6fdscGSXY2gzRqF9pZxg' '-F32Vl8Rk4dwsmk0f2wRIw' 'Iycf9KNRhxvR187Qu2zZHg'\n",
      " 'GrSixRnGIxNUJ1Cn5DNX9A' '9VPNlcKsL99FvKtz1r9qJg' '3Jw-rYwJEz6jSqPgVVmmhA'\n",
      " 'PShy2RYNadDUhJf4ErOJ7w' 'qASPib1Z8ft8e96dtbh66w' '78Ed1ndOak2kmzljulPfBg'\n",
      " 'jqVeTSin5GeRm0ceSg-PBA' '4_YfcfHkCem1onJFkItxjA' 'b2DKC4kC8-QeSeGZ_MF3XQ'\n",
      " 'lC4X2crUuxT9Ac9BlOX4Uw' 'EJkV29QY_oHwSngQiTj2rQ' 'g84VjttN28PWiv_WtdhnSQ']\n",
      "['C6IOtaaYdLIT5fWd7ZYIuA' 'iwUN95LIaEr75TZE_JC6bg' 'gcyEUr4DXcbjnGRAWFtfAQ'\n",
      " 'dQO0tQISZyb9L4d5ASnXyQ' '64YY0h0ZAR2nbzxbx0IwJg' '8WQubmP7G0NM3IyzyMnCEA'\n",
      " 'wC1CPV5bf--bDLtlhNSPLg' 'Ps1Db9zOatoF_76FZNO5CQ' 'JgDkCER12uiv4lbpmkZ9VA'\n",
      " 'E5QyEU6FCQwnTys0S73zNw' 'lPaYMDmJbAnv_3pmZH_inw' 'du6KeE54IFbPiXpU3LOd1g'\n",
      " 'hFtlFksrcLaWHGPNa6SmeA' 'P2kVk4cIWyK4e4h14RhK-Q' 'bcZd4ohK6CIT_BOQ0_O53w'\n",
      " 'd0wJVf7Gv7v1B-HHYhxZtQ' 'Kqvfep2mxS10S50FbVDi4Q' '04xW5mhSBaCzpjbcf2VSZg'\n",
      " 'ikm0UCahtK34LbLCEw4YTw' '_GVAV2LjUWEs9fGjslex_A' 'M6oU3OBf_E6gqlfkLGlStQ'\n",
      " 'q9XgOylNsSbqZqF_SO3-OQ' 'pEVf8GRshP9HUkSpizc9LA' 'HOleI3jz1MLNUJ6cc1x0Pw'\n",
      " 'UoBfwbXaixelZBghbJ2cSg' '3gIfcQq5KxAegwCPXc83cQ' '_PzSNcfrCjeBxSLXRoMmgQ'\n",
      " 'wHg1YkCzdZq9WBJOTRgxHQ' 'hjJPKQ1Ah91h3fVbc8GsOg' '--65q1FpAL_UQtVZ2PTGew'\n",
      " 'Iycf9KNRhxvR187Qu2zZHg' 'GrSixRnGIxNUJ1Cn5DNX9A' 'JkMOQaMjlBHMqp6gj-hL3w'\n",
      " 'mym5tXZoZCbuPCYQzI5Ysg' '78Ed1ndOak2kmzljulPfBg' 'A_O8wZOsMTPwyeYA4-Rsow'\n",
      " 'b2DKC4kC8-QeSeGZ_MF3XQ' 'ceKoQX0_IJZ6Lr9-9LGcbA' 'KYeLSM3MQpirmHukVV5Iow'\n",
      " '4dnDsoHuxUtzhaumxbpR5w' 'ROr4DQ-gxlfUKmiDC-qSEQ' '0oRtnPHtvZIE1UNxCDDTPw']\n",
      "['UsULgP4bKA8RMzs8dQzcsA' 'jKeaOrPyJ-dI9SNeVqrbww' 'vhxFLqRok6r-D_aQz0s-JQ'\n",
      " '6OWHDbEq23f24Vki_veHBA' '64YY0h0ZAR2nbzxbx0IwJg' '0bNXP9quoJEgyVZu9ipGgQ'\n",
      " 'GubdNFoDAsiwE6bWIr97cQ' 'K0euQLFAcKhQPZ6JxGAryg' '8WQubmP7G0NM3IyzyMnCEA'\n",
      " 'JgDkCER12uiv4lbpmkZ9VA' '_7el1cOgnfkNfmZKi277bQ' 'JffajLV-Dnn-eGYgdXDxFg'\n",
      " '6kmu0mYbdpMIOZ6Y0eVsxg' 'KLekdmo4FdNnP0huUhzZNw' 'lPaYMDmJbAnv_3pmZH_inw'\n",
      " 'n9Zg0jlOGtxfIrvoPm6Hhw' '7GC9fVWKa4a1ZmBGLH6Uww' 'du6KeE54IFbPiXpU3LOd1g'\n",
      " 'l53FUDHRHLg7BQ89KgAtxQ' 'DrWLhrK8WMZf7Jb-Oqc7ww' 'fev0iI-XDrteD4SYRKjiUw'\n",
      " 'hFtlFksrcLaWHGPNa6SmeA' 'UuwjD6MZf6Z6QlNphiXRjA' 'f1-pIw_p0ifzu03TXjPRiw'\n",
      " 'P2kVk4cIWyK4e4h14RhK-Q' 'mfvezpz6ohS0NQk3DZdvqQ' '3Zi1udoY2iT9s8Q3X6tgZQ'\n",
      " 'bcZd4ohK6CIT_BOQ0_O53w' '4E_nPWw89FLFHdNsEgMH-g' 'nc3cqVN0UuB3m50-CcMftw'\n",
      " 'vsXP832M0kOxKpfduD7dWw' '90a6z--_CUrl84aCzZyPsg' 'ikm0UCahtK34LbLCEw4YTw'\n",
      " 'kk05snSafuIFK0lsxoMNzA' 'ZmIgP4U4Ht9CYmNX0_zP6w' 'M6oU3OBf_E6gqlfkLGlStQ'\n",
      " 'fczQCSmaWF78toLEmb0Zsw' 'LqgGgWi3FLHBViX9tmZ9sw' 'q9XgOylNsSbqZqF_SO3-OQ'\n",
      " '6ts41fCsDKHbFZaKOMNmVQ' 'UoBfwbXaixelZBghbJ2cSg' 'oC0kwGvgaAeT3ZIxdxTcJA'\n",
      " 'W_QXYA7A0IhMrvbckz7eVg' '4IxLt4QvCsJEdaNvH9QApw' '_PzSNcfrCjeBxSLXRoMmgQ'\n",
      " 'usQTOj7LQ9v0Fl98gRa3Iw' 'uZbTb-u-GVjTa2gtQfry5g' '7zDqr2I0-xpw9HF5Ha54cA'\n",
      " 'hjJPKQ1Ah91h3fVbc8GsOg' '4UUIpbOTPmu43wuC2aSGkg' 'f01B5tRtqf3k6ak1pPSAWw'\n",
      " '--65q1FpAL_UQtVZ2PTGew' 'BjwXX-sChcjx2E55B_7rXg' 'N-D-d1Z4UybdlkK1HxlNPA'\n",
      " '-F32Vl8Rk4dwsmk0f2wRIw' 'JkMOQaMjlBHMqp6gj-hL3w' 'PShy2RYNadDUhJf4ErOJ7w'\n",
      " 'vF4B6eFdoDmyV_l7MLHMzw' 'Lp_Ykqfbv5Q-oyGYlMGJRg' 'tlSSQwfHYJany7wPoTH46A'\n",
      " 'bX5mIrDlyD8ZabvF_An7FA' 'EJkV29QY_oHwSngQiTj2rQ' 'yy3jXczrKljJGzjo24HWfw'\n",
      " '4dnDsoHuxUtzhaumxbpR5w' 'KSTOdz0lSFCkqBSRNwjERA']\n",
      "['vhxFLqRok6r-D_aQz0s-JQ' 'sEWeeq41k4ohBz4jS_iGRw' 'nDBly08j5URmrHQ2JCbyiw'\n",
      " '0bNXP9quoJEgyVZu9ipGgQ' 'JgDkCER12uiv4lbpmkZ9VA' 'MWt24-6bfv_OHLKhwMQ0Tw'\n",
      " 'lPaYMDmJbAnv_3pmZH_inw' 'pIm17SVRo8IdhGoBD4qbnA' 'l53FUDHRHLg7BQ89KgAtxQ'\n",
      " 'DrWLhrK8WMZf7Jb-Oqc7ww' 'fev0iI-XDrteD4SYRKjiUw' 'P2kVk4cIWyK4e4h14RhK-Q'\n",
      " 'bcZd4ohK6CIT_BOQ0_O53w' 'sALB8-F04S9VcZMF_GkGUA' 'nc3cqVN0UuB3m50-CcMftw'\n",
      " '04xW5mhSBaCzpjbcf2VSZg' 'vsXP832M0kOxKpfduD7dWw' '90a6z--_CUrl84aCzZyPsg'\n",
      " '100Df1wcVrl9rJgB7EG6xw' 'Zwtx7FLZcK5F2P0-Tz8mHg' 'm7j9e53ycZxjWYBD7rZVng'\n",
      " 'OQMOgqS1NFIyAW4i66iDYA' 'fczQCSmaWF78toLEmb0Zsw' 'q9XgOylNsSbqZqF_SO3-OQ'\n",
      " '6ts41fCsDKHbFZaKOMNmVQ' 'tdNV2Wb0LrFpm1Yfov_Klw' 'HOleI3jz1MLNUJ6cc1x0Pw'\n",
      " 'W_QXYA7A0IhMrvbckz7eVg' '3gIfcQq5KxAegwCPXc83cQ' 'PNS9z4aFDbfhpIsHCfNvNg'\n",
      " 'gN03qFYysM5DbgjuV6N0QQ' 'llkm_iXQszkN5DZvmqjNqA' 'wNqwKWaRjClmcKsoJJRFow'\n",
      " '7zDqr2I0-xpw9HF5Ha54cA' 'qaAmAU9T_t84UDGiBI98sw' 'APLIPfq1Rf8QyhHHk2uAyA'\n",
      " 'eBwBjylS66qPcHs2_ajLag' 'AkJFqLqHHAKY3H5R8p7cPQ' '33vUIil_GCaT92aUaZhRXA'\n",
      " '_uL7OiQSfNsCd60DrAf7qQ' 'Sa64rQmghfE9i17_dRIDyw' 'jopndPrv-H5KW2CfScnw9A'\n",
      " '--65q1FpAL_UQtVZ2PTGew' 'XBHJCDzNh--mBhJkzyM_iA' 'e4TQFVfepzHf--hnBsjntg'\n",
      " '-F32Vl8Rk4dwsmk0f2wRIw' 'Iycf9KNRhxvR187Qu2zZHg' 'HZeFzs42f0iGaA-sP_hUnA'\n",
      " 'g6rlp5No6GjEDXkrjvg1kQ' '78Ed1ndOak2kmzljulPfBg' '8p4at4zdzCpueAmSBaorZA'\n",
      " 'rjlb-7-JcmM6fR64ZpyTug' 'jqVeTSin5GeRm0ceSg-PBA' '4_YfcfHkCem1onJFkItxjA'\n",
      " 'm7vtKWpZ9wdEQ95wJxrMrg' 'IO3AsR6cdMto7VCwfPzf2w' 'fAiVqZv7P_oc5CzGMX_G9w'\n",
      " 'v2UqlUHA8d3lgTIby0CCFQ' 'tlSSQwfHYJany7wPoTH46A' 'b4C9E7vTJrOdkJQA86xYSg'\n",
      " 'EJkV29QY_oHwSngQiTj2rQ' 'g84VjttN28PWiv_WtdhnSQ']\n",
      "['6OWHDbEq23f24Vki_veHBA' 'X5GbNXY_nNoa_vTZDD0aCA' '8WQubmP7G0NM3IyzyMnCEA'\n",
      " 'JffajLV-Dnn-eGYgdXDxFg' '6kmu0mYbdpMIOZ6Y0eVsxg' 'pIm17SVRo8IdhGoBD4qbnA'\n",
      " 'du6KeE54IFbPiXpU3LOd1g' 'l53FUDHRHLg7BQ89KgAtxQ' '04xW5mhSBaCzpjbcf2VSZg'\n",
      " '90a6z--_CUrl84aCzZyPsg' 'ikm0UCahtK34LbLCEw4YTw' 'ZmIgP4U4Ht9CYmNX0_zP6w'\n",
      " 'LqgGgWi3FLHBViX9tmZ9sw' 'gN03qFYysM5DbgjuV6N0QQ' 'uZbTb-u-GVjTa2gtQfry5g'\n",
      " '7zDqr2I0-xpw9HF5Ha54cA' 'rL3dPeKDTybG_ct9OCXGAA' 'qa05pUVNapADHZXpHMPMeA'\n",
      " 'p7dvahRPZIWL7T6pFA_0dg' '--65q1FpAL_UQtVZ2PTGew' 'XgIhw-aWaq_Fx3ZVQGjnuA'\n",
      " 'q5nFaw9isjD_01PpVAR7hg' '9qCPmT6ovJjxL4tJB4ANCg' 'uNbB1uR4EBhmygUc3IfPAw'\n",
      " '8dbRf1UsWp2ktXHZ6Zv06w' 'm7vtKWpZ9wdEQ95wJxrMrg' 'KYeLSM3MQpirmHukVV5Iow'\n",
      " 'bX5mIrDlyD8ZabvF_An7FA' 'Pv7DGHzZ-uqIUdOsqPpsVg']\n",
      "['UsULgP4bKA8RMzs8dQzcsA' '0bNXP9quoJEgyVZu9ipGgQ' '4ozupHULqGyO42s3zNUzOQ'\n",
      " 'lPaYMDmJbAnv_3pmZH_inw' 'du6KeE54IFbPiXpU3LOd1g' 'hDlSSyDreM9xY4yQWPm54w'\n",
      " 'P2kVk4cIWyK4e4h14RhK-Q' 'thdVzCfKx-DV0zYWqId3pw' 'hcctCQy3bdZMezrUKkZLtA'\n",
      " 'vsXP832M0kOxKpfduD7dWw' 'NLDDaat42UQXQCOpU4e2TA' 'Zwtx7FLZcK5F2P0-Tz8mHg'\n",
      " 'OQMOgqS1NFIyAW4i66iDYA' 'fczQCSmaWF78toLEmb0Zsw' 'LqgGgWi3FLHBViX9tmZ9sw'\n",
      " '3gIfcQq5KxAegwCPXc83cQ' 'wHg1YkCzdZq9WBJOTRgxHQ' 'BjwXX-sChcjx2E55B_7rXg'\n",
      " 'FktbKOzznpoKTNXMVtc8EA' 'tBvrnSCLSpUdCDm5w5GPkg' '8p4at4zdzCpueAmSBaorZA'\n",
      " 'b2DKC4kC8-QeSeGZ_MF3XQ' 's7Tm9oYWqRlBm5ex2OQ1nw' 'PoQOIZc2q5nud7uVz_jdjw'\n",
      " 'LaEj3VpQh7bgpAZLzSRRrw']\n",
      "['UsULgP4bKA8RMzs8dQzcsA' '7cR92zkDv4W3kqzii6axvg' 'dQO0tQISZyb9L4d5ASnXyQ'\n",
      " 'vhxFLqRok6r-D_aQz0s-JQ' '0bNXP9quoJEgyVZu9ipGgQ' '4ozupHULqGyO42s3zNUzOQ'\n",
      " '6kmu0mYbdpMIOZ6Y0eVsxg' 'lPaYMDmJbAnv_3pmZH_inw' 'n9Zg0jlOGtxfIrvoPm6Hhw'\n",
      " 'f1-pIw_p0ifzu03TXjPRiw' 'Kqvfep2mxS10S50FbVDi4Q' 'AdEy5KAIlMAy8xHyuMQCFg'\n",
      " 'NLDDaat42UQXQCOpU4e2TA' 'fczQCSmaWF78toLEmb0Zsw' 'xFG4Ca2HHmbxDTkMlmHnjQ'\n",
      " 'pEVf8GRshP9HUkSpizc9LA' 'xdWsnbaTEfBMVHttqZDHxg' 'jopndPrv-H5KW2CfScnw9A'\n",
      " 'FktbKOzznpoKTNXMVtc8EA' 'tBvrnSCLSpUdCDm5w5GPkg' 'wfvmwhhadHfpM9UoTV0OMA'\n",
      " '3Jw-rYwJEz6jSqPgVVmmhA' 'PShy2RYNadDUhJf4ErOJ7w' 'Lp_Ykqfbv5Q-oyGYlMGJRg'\n",
      " 'ceKoQX0_IJZ6Lr9-9LGcbA' 'ROr4DQ-gxlfUKmiDC-qSEQ' 'PoQOIZc2q5nud7uVz_jdjw'\n",
      " 'LaEj3VpQh7bgpAZLzSRRrw']\n",
      "['XqMkm-DD9VsdcKx2YVGhSA' 'gcyEUr4DXcbjnGRAWFtfAQ' 'vhxFLqRok6r-D_aQz0s-JQ'\n",
      " 'X5GbNXY_nNoa_vTZDD0aCA' '64YY0h0ZAR2nbzxbx0IwJg' '0bNXP9quoJEgyVZu9ipGgQ'\n",
      " 'K0euQLFAcKhQPZ6JxGAryg' 'T7J9ae0wTskrI_Bgwp-4cA' 'JgDkCER12uiv4lbpmkZ9VA'\n",
      " '4ozupHULqGyO42s3zNUzOQ' 'f1-pIw_p0ifzu03TXjPRiw' '4E_nPWw89FLFHdNsEgMH-g'\n",
      " 'Kqvfep2mxS10S50FbVDi4Q' 'z1tNqF5qJRpibGj-9_r9Ew' 'pEVf8GRshP9HUkSpizc9LA'\n",
      " 'X_kPh3nt0AJPNPHye2rTlA' 'C8ZTiwa7qWoPSMIivTeSfw' 'gN03qFYysM5DbgjuV6N0QQ'\n",
      " 'usQTOj7LQ9v0Fl98gRa3Iw' 'Ypz7hxOCnrg8Y8vxHJU-sQ' 'rL3dPeKDTybG_ct9OCXGAA'\n",
      " 'qaAmAU9T_t84UDGiBI98sw' 'eBwBjylS66qPcHs2_ajLag' 'p7dvahRPZIWL7T6pFA_0dg'\n",
      " 'VPXgY9lGJF3XC4ZpusxNuA' 'f01B5tRtqf3k6ak1pPSAWw' 'BjwXX-sChcjx2E55B_7rXg'\n",
      " 'XBHJCDzNh--mBhJkzyM_iA' 'NvDR3SPVPXrDB_dbKuGoWA' '3Jw-rYwJEz6jSqPgVVmmhA'\n",
      " 'szbTVEtATfn8f9GxbGGO5w' '8dbRf1UsWp2ktXHZ6Zv06w' 'A_O8wZOsMTPwyeYA4-Rsow'\n",
      " 'IO3AsR6cdMto7VCwfPzf2w' 'fAiVqZv7P_oc5CzGMX_G9w' 'EJkV29QY_oHwSngQiTj2rQ'\n",
      " 'c3yJNjz_K--z4CIpR7yhvQ' 'QBQlErZajdIyXX84dvFUnQ']\n",
      "['X5GbNXY_nNoa_vTZDD0aCA' '64YY0h0ZAR2nbzxbx0IwJg' '7GC9fVWKa4a1ZmBGLH6Uww'\n",
      " '04xW5mhSBaCzpjbcf2VSZg' 'Ovpa3S8xD96dLE5eDxcxJg' 'LqgGgWi3FLHBViX9tmZ9sw'\n",
      " 'q9XgOylNsSbqZqF_SO3-OQ' 'joIzw_aUiNvBTuGoytrH7g' 'AirVzN1BVQBmq5zY0YMNYQ'\n",
      " 'gN03qFYysM5DbgjuV6N0QQ' 'qa05pUVNapADHZXpHMPMeA' 'q5nFaw9isjD_01PpVAR7hg'\n",
      " 'A99dyhEqcd_yXKPfBWeZHA' 'e4TQFVfepzHf--hnBsjntg' '9qCPmT6ovJjxL4tJB4ANCg'\n",
      " 'mym5tXZoZCbuPCYQzI5Ysg' 'A_O8wZOsMTPwyeYA4-Rsow' '4_YfcfHkCem1onJFkItxjA'\n",
      " 'GyFmGA5UQZ4pXdx1lUH86g' '9SZBVZ-mxebOVa1BlWFtWw' 'KYeLSM3MQpirmHukVV5Iow'\n",
      " 'b4C9E7vTJrOdkJQA86xYSg' 'yy3jXczrKljJGzjo24HWfw']\n",
      "['UsULgP4bKA8RMzs8dQzcsA' 'jKeaOrPyJ-dI9SNeVqrbww' 'vhxFLqRok6r-D_aQz0s-JQ'\n",
      " 'X5GbNXY_nNoa_vTZDD0aCA' '0bNXP9quoJEgyVZu9ipGgQ' '8WQubmP7G0NM3IyzyMnCEA'\n",
      " 'qABKRj1ggJmtvrL9FMFtuA' '4ozupHULqGyO42s3zNUzOQ' '7GC9fVWKa4a1ZmBGLH6Uww'\n",
      " 'l53FUDHRHLg7BQ89KgAtxQ' 'DrWLhrK8WMZf7Jb-Oqc7ww' 'thdVzCfKx-DV0zYWqId3pw'\n",
      " 'Kqvfep2mxS10S50FbVDi4Q' '0o0VMEJeQY0pAAZ9nxErBA' 'OQMOgqS1NFIyAW4i66iDYA'\n",
      " 'fczQCSmaWF78toLEmb0Zsw' 'LqgGgWi3FLHBViX9tmZ9sw' 'pEVf8GRshP9HUkSpizc9LA'\n",
      " 'tdNV2Wb0LrFpm1Yfov_Klw' 'pv82zTlB5Txsu2Pusu__FA' 'UoBfwbXaixelZBghbJ2cSg'\n",
      " '3gIfcQq5KxAegwCPXc83cQ' 'usQTOj7LQ9v0Fl98gRa3Iw' 'rL3dPeKDTybG_ct9OCXGAA'\n",
      " 'y5_vrqIylhXMrejM_-x_vA' 'GrSixRnGIxNUJ1Cn5DNX9A' 'ST8Yzlk2MqKlcaLqL2djBg'\n",
      " 'mym5tXZoZCbuPCYQzI5Ysg' 'vF4B6eFdoDmyV_l7MLHMzw' 'iwZ_7QuZ1tzT6pIZmOlDQg'\n",
      " 'qASPib1Z8ft8e96dtbh66w' '8dbRf1UsWp2ktXHZ6Zv06w' '8p4at4zdzCpueAmSBaorZA'\n",
      " 'rjlb-7-JcmM6fR64ZpyTug' '4_YfcfHkCem1onJFkItxjA' 'ZC49A1K-if7KP8VJXoqELQ'\n",
      " 'tlSSQwfHYJany7wPoTH46A' 'ROr4DQ-gxlfUKmiDC-qSEQ']\n",
      "['UsULgP4bKA8RMzs8dQzcsA' 'XqMkm-DD9VsdcKx2YVGhSA' 'gcyEUr4DXcbjnGRAWFtfAQ'\n",
      " 'HY9qpAamqLXFoa7xMwNntg' 'vhxFLqRok6r-D_aQz0s-JQ' '6OWHDbEq23f24Vki_veHBA'\n",
      " 'sEWeeq41k4ohBz4jS_iGRw' 'X5GbNXY_nNoa_vTZDD0aCA' '64YY0h0ZAR2nbzxbx0IwJg'\n",
      " '0bNXP9quoJEgyVZu9ipGgQ' 'T7J9ae0wTskrI_Bgwp-4cA' '8WQubmP7G0NM3IyzyMnCEA'\n",
      " 'JgDkCER12uiv4lbpmkZ9VA' '4ozupHULqGyO42s3zNUzOQ' 'E5QyEU6FCQwnTys0S73zNw'\n",
      " 'lPaYMDmJbAnv_3pmZH_inw' 'n9Zg0jlOGtxfIrvoPm6Hhw' 'fev0iI-XDrteD4SYRKjiUw'\n",
      " 'hFtlFksrcLaWHGPNa6SmeA' 'f1-pIw_p0ifzu03TXjPRiw' '4E_nPWw89FLFHdNsEgMH-g'\n",
      " 'sALB8-F04S9VcZMF_GkGUA' 'hcctCQy3bdZMezrUKkZLtA' '90a6z--_CUrl84aCzZyPsg'\n",
      " 'AdEy5KAIlMAy8xHyuMQCFg' '0o0VMEJeQY0pAAZ9nxErBA' 'kk05snSafuIFK0lsxoMNzA'\n",
      " 'Ovpa3S8xD96dLE5eDxcxJg' 'm7j9e53ycZxjWYBD7rZVng' 'z1tNqF5qJRpibGj-9_r9Ew'\n",
      " 'MUHoBFzwRoXpCpgYSN8KRA' 'M6oU3OBf_E6gqlfkLGlStQ' 'fczQCSmaWF78toLEmb0Zsw'\n",
      " 'q9XgOylNsSbqZqF_SO3-OQ' '6ts41fCsDKHbFZaKOMNmVQ' 'xFG4Ca2HHmbxDTkMlmHnjQ'\n",
      " 'tdNV2Wb0LrFpm1Yfov_Klw' '17PPxx8RxjOUD_nQZ1aHEw' 'oC0kwGvgaAeT3ZIxdxTcJA'\n",
      " 'C8ZTiwa7qWoPSMIivTeSfw' '3gIfcQq5KxAegwCPXc83cQ' 'AirVzN1BVQBmq5zY0YMNYQ'\n",
      " 'llkm_iXQszkN5DZvmqjNqA' 'wNqwKWaRjClmcKsoJJRFow' 'APLIPfq1Rf8QyhHHk2uAyA'\n",
      " 'eBwBjylS66qPcHs2_ajLag' 'qa05pUVNapADHZXpHMPMeA' 'hjJPKQ1Ah91h3fVbc8GsOg'\n",
      " '4UUIpbOTPmu43wuC2aSGkg' 'f01B5tRtqf3k6ak1pPSAWw' 'jopndPrv-H5KW2CfScnw9A'\n",
      " '--65q1FpAL_UQtVZ2PTGew' 'A99dyhEqcd_yXKPfBWeZHA' 'e4TQFVfepzHf--hnBsjntg'\n",
      " 'exefpuK6O1ctUUqTxq5XLg' 'oy6fdscGSXY2gzRqF9pZxg' 'tBvrnSCLSpUdCDm5w5GPkg'\n",
      " '-F32Vl8Rk4dwsmk0f2wRIw' 'GrSixRnGIxNUJ1Cn5DNX9A' 'ZZ43etAB2n_T53YBYtf8Dw'\n",
      " 'PShy2RYNadDUhJf4ErOJ7w' 'qASPib1Z8ft8e96dtbh66w' 'Lp_Ykqfbv5Q-oyGYlMGJRg'\n",
      " 'g6rlp5No6GjEDXkrjvg1kQ' 'uNbB1uR4EBhmygUc3IfPAw' 'A_O8wZOsMTPwyeYA4-Rsow'\n",
      " '4_YfcfHkCem1onJFkItxjA' 'ZC49A1K-if7KP8VJXoqELQ' 'f3LA83yEEBMj9q92H28O7w'\n",
      " 'v2UqlUHA8d3lgTIby0CCFQ' 'EKwGhgLrM18ErVKKeYE2UA' 'RxfFQxUtSIGYwTKU_rvAeg'\n",
      " 'yy3jXczrKljJGzjo24HWfw' 'kJyR4gT1pfCcNjEY9-YMoQ' '4dnDsoHuxUtzhaumxbpR5w'\n",
      " 'Xm8HXE1JHqscXe5BKf0GFQ' 'PoQOIZc2q5nud7uVz_jdjw' 'LaEj3VpQh7bgpAZLzSRRrw']\n",
      "['UsULgP4bKA8RMzs8dQzcsA' 'XqMkm-DD9VsdcKx2YVGhSA' 'gcyEUr4DXcbjnGRAWFtfAQ'\n",
      " 'vhxFLqRok6r-D_aQz0s-JQ' 'nDBly08j5URmrHQ2JCbyiw' 'X5GbNXY_nNoa_vTZDD0aCA'\n",
      " '64YY0h0ZAR2nbzxbx0IwJg' 'T7J9ae0wTskrI_Bgwp-4cA' 'wC1CPV5bf--bDLtlhNSPLg'\n",
      " 'qABKRj1ggJmtvrL9FMFtuA' 'Ps1Db9zOatoF_76FZNO5CQ' 'JgDkCER12uiv4lbpmkZ9VA'\n",
      " '_4lqpCYCqOQzbB6xQGGhrQ' 'E5QyEU6FCQwnTys0S73zNw' '6kmu0mYbdpMIOZ6Y0eVsxg'\n",
      " 'MWt24-6bfv_OHLKhwMQ0Tw' 'n9Zg0jlOGtxfIrvoPm6Hhw' 'fev0iI-XDrteD4SYRKjiUw'\n",
      " 'hDlSSyDreM9xY4yQWPm54w' 'P2kVk4cIWyK4e4h14RhK-Q' 'mfvezpz6ohS0NQk3DZdvqQ'\n",
      " 'Kqvfep2mxS10S50FbVDi4Q' 'nc3cqVN0UuB3m50-CcMftw' '04xW5mhSBaCzpjbcf2VSZg'\n",
      " 'vsXP832M0kOxKpfduD7dWw' '90a6z--_CUrl84aCzZyPsg' '100Df1wcVrl9rJgB7EG6xw'\n",
      " 'Zwtx7FLZcK5F2P0-Tz8mHg' 'kk05snSafuIFK0lsxoMNzA' 'M6oU3OBf_E6gqlfkLGlStQ'\n",
      " 'LqgGgWi3FLHBViX9tmZ9sw' 'q9XgOylNsSbqZqF_SO3-OQ' 'xFG4Ca2HHmbxDTkMlmHnjQ'\n",
      " 'tdNV2Wb0LrFpm1Yfov_Klw' 'oC0kwGvgaAeT3ZIxdxTcJA' 'W_QXYA7A0IhMrvbckz7eVg'\n",
      " 'C8ZTiwa7qWoPSMIivTeSfw' '3gIfcQq5KxAegwCPXc83cQ' 'PNS9z4aFDbfhpIsHCfNvNg'\n",
      " '_PzSNcfrCjeBxSLXRoMmgQ' 'AirVzN1BVQBmq5zY0YMNYQ' 'gN03qFYysM5DbgjuV6N0QQ'\n",
      " 'usQTOj7LQ9v0Fl98gRa3Iw' 'Ypz7hxOCnrg8Y8vxHJU-sQ' 'wNqwKWaRjClmcKsoJJRFow'\n",
      " '7zDqr2I0-xpw9HF5Ha54cA' 'wHg1YkCzdZq9WBJOTRgxHQ' '33vUIil_GCaT92aUaZhRXA'\n",
      " '_uL7OiQSfNsCd60DrAf7qQ' 'VPXgY9lGJF3XC4ZpusxNuA' 'f01B5tRtqf3k6ak1pPSAWw'\n",
      " 'jdeNI5TTTuM6mj3HTgstRA' 'BjwXX-sChcjx2E55B_7rXg' 'q5nFaw9isjD_01PpVAR7hg'\n",
      " 'Bc2UjSePEGvqSdHvz2HKGA' '3Jw-rYwJEz6jSqPgVVmmhA' 'JkMOQaMjlBHMqp6gj-hL3w'\n",
      " 'ST8Yzlk2MqKlcaLqL2djBg' 'PShy2RYNadDUhJf4ErOJ7w' 'qASPib1Z8ft8e96dtbh66w'\n",
      " 'uNbB1uR4EBhmygUc3IfPAw' '8p4at4zdzCpueAmSBaorZA' 'm7vtKWpZ9wdEQ95wJxrMrg'\n",
      " 'f3LA83yEEBMj9q92H28O7w' 'n_lAaNGeWgspbbCJc0DqRg' 'tlSSQwfHYJany7wPoTH46A'\n",
      " 'RxfFQxUtSIGYwTKU_rvAeg' 'ROr4DQ-gxlfUKmiDC-qSEQ' '0oRtnPHtvZIE1UNxCDDTPw'\n",
      " 'KSTOdz0lSFCkqBSRNwjERA' 'QBQlErZajdIyXX84dvFUnQ']\n",
      "['7cR92zkDv4W3kqzii6axvg' 'gcyEUr4DXcbjnGRAWFtfAQ' 'HY9qpAamqLXFoa7xMwNntg'\n",
      " 'vhxFLqRok6r-D_aQz0s-JQ' '6OWHDbEq23f24Vki_veHBA' 'X5GbNXY_nNoa_vTZDD0aCA'\n",
      " 'T7J9ae0wTskrI_Bgwp-4cA' 'Ps1Db9zOatoF_76FZNO5CQ' 'JgDkCER12uiv4lbpmkZ9VA'\n",
      " 'E5QyEU6FCQwnTys0S73zNw' 'fev0iI-XDrteD4SYRKjiUw' 'hFtlFksrcLaWHGPNa6SmeA'\n",
      " '100Df1wcVrl9rJgB7EG6xw' 'Zwtx7FLZcK5F2P0-Tz8mHg' 'M6oU3OBf_E6gqlfkLGlStQ'\n",
      " 'fczQCSmaWF78toLEmb0Zsw' 'q9XgOylNsSbqZqF_SO3-OQ' 'tdNV2Wb0LrFpm1Yfov_Klw'\n",
      " 'OsYh3jArm6fgozczE85ZeQ' 'pv82zTlB5Txsu2Pusu__FA' 'HOleI3jz1MLNUJ6cc1x0Pw'\n",
      " 'UoBfwbXaixelZBghbJ2cSg' 'W_QXYA7A0IhMrvbckz7eVg' '4IxLt4QvCsJEdaNvH9QApw'\n",
      " '3gIfcQq5KxAegwCPXc83cQ' 'PNS9z4aFDbfhpIsHCfNvNg' '_PzSNcfrCjeBxSLXRoMmgQ'\n",
      " 'AirVzN1BVQBmq5zY0YMNYQ' 'usQTOj7LQ9v0Fl98gRa3Iw' 'uZbTb-u-GVjTa2gtQfry5g'\n",
      " 'y5_vrqIylhXMrejM_-x_vA' 'eBwBjylS66qPcHs2_ajLag' 'V0y4fqp-4pSRfsz0FmsjPA'\n",
      " '4UUIpbOTPmu43wuC2aSGkg' 'jopndPrv-H5KW2CfScnw9A' 'XBHJCDzNh--mBhJkzyM_iA'\n",
      " 'kNO6w6EIKo8u6GSykOHBLA' 'kGgAARL2UmvCcTRfiscjug' '9VPNlcKsL99FvKtz1r9qJg'\n",
      " 'ST8Yzlk2MqKlcaLqL2djBg' 'qASPib1Z8ft8e96dtbh66w' 'Lp_Ykqfbv5Q-oyGYlMGJRg'\n",
      " '8p4at4zdzCpueAmSBaorZA' 'A_O8wZOsMTPwyeYA4-Rsow' 'jqVeTSin5GeRm0ceSg-PBA'\n",
      " '4_YfcfHkCem1onJFkItxjA' 'ZC49A1K-if7KP8VJXoqELQ' 'fAiVqZv7P_oc5CzGMX_G9w'\n",
      " 'ceKoQX0_IJZ6Lr9-9LGcbA' 'b4C9E7vTJrOdkJQA86xYSg' 'EJkV29QY_oHwSngQiTj2rQ'\n",
      " 'xZvRLPJ1ixhFVomkXSfXAw' 'RxfFQxUtSIGYwTKU_rvAeg' 'Pv7DGHzZ-uqIUdOsqPpsVg'\n",
      " '0oRtnPHtvZIE1UNxCDDTPw' 'QBQlErZajdIyXX84dvFUnQ' 'g84VjttN28PWiv_WtdhnSQ']\n",
      "['UsULgP4bKA8RMzs8dQzcsA' 'vhxFLqRok6r-D_aQz0s-JQ' '64YY0h0ZAR2nbzxbx0IwJg'\n",
      " '3Zi1udoY2iT9s8Q3X6tgZQ' 'M6oU3OBf_E6gqlfkLGlStQ' 'LXWAXIeYFIdgd2JVPF-9qA'\n",
      " 'xdWsnbaTEfBMVHttqZDHxg' 'waD2euOMPTnTzQ0thq3H6Q' 'uZbTb-u-GVjTa2gtQfry5g'\n",
      " 'eBwBjylS66qPcHs2_ajLag' 'I-P1v7sRjDLEfVOndp01kA' 'PShy2RYNadDUhJf4ErOJ7w'\n",
      " '8dbRf1UsWp2ktXHZ6Zv06w' 'EJkV29QY_oHwSngQiTj2rQ' 'KSTOdz0lSFCkqBSRNwjERA']\n",
      "['HY9qpAamqLXFoa7xMwNntg' 'mlBC3pN9GXlUUfQi1qBBZA' 'vhxFLqRok6r-D_aQz0s-JQ'\n",
      " '0bNXP9quoJEgyVZu9ipGgQ' 'T7J9ae0wTskrI_Bgwp-4cA' '8WQubmP7G0NM3IyzyMnCEA'\n",
      " 'qABKRj1ggJmtvrL9FMFtuA' '_7el1cOgnfkNfmZKi277bQ' 'JffajLV-Dnn-eGYgdXDxFg'\n",
      " 'E5QyEU6FCQwnTys0S73zNw' '6kmu0mYbdpMIOZ6Y0eVsxg' 'MWt24-6bfv_OHLKhwMQ0Tw'\n",
      " 'UCQNrwN4_hHHTWYa8cqe_Q' 'lPaYMDmJbAnv_3pmZH_inw' '7GC9fVWKa4a1ZmBGLH6Uww'\n",
      " 'l53FUDHRHLg7BQ89KgAtxQ' 'fev0iI-XDrteD4SYRKjiUw' 'hFtlFksrcLaWHGPNa6SmeA'\n",
      " '0qIsBt4EzBDCKrIviV55Ew' 'UuwjD6MZf6Z6QlNphiXRjA' 'mfvezpz6ohS0NQk3DZdvqQ'\n",
      " 'Cp-PV8rsypbO-xBrQ6KmQg' 'thdVzCfKx-DV0zYWqId3pw' 'Kqvfep2mxS10S50FbVDi4Q'\n",
      " 'sALB8-F04S9VcZMF_GkGUA' '04xW5mhSBaCzpjbcf2VSZg' '90a6z--_CUrl84aCzZyPsg'\n",
      " 'ikm0UCahtK34LbLCEw4YTw' 'kk05snSafuIFK0lsxoMNzA' 'ZmIgP4U4Ht9CYmNX0_zP6w'\n",
      " 'Ovpa3S8xD96dLE5eDxcxJg' 'OQMOgqS1NFIyAW4i66iDYA' 'fczQCSmaWF78toLEmb0Zsw'\n",
      " '6ts41fCsDKHbFZaKOMNmVQ' 'tdNV2Wb0LrFpm1Yfov_Klw' 'xdWsnbaTEfBMVHttqZDHxg'\n",
      " '17PPxx8RxjOUD_nQZ1aHEw' 'waD2euOMPTnTzQ0thq3H6Q' 'W_QXYA7A0IhMrvbckz7eVg'\n",
      " '3gIfcQq5KxAegwCPXc83cQ' '_PzSNcfrCjeBxSLXRoMmgQ' 'AirVzN1BVQBmq5zY0YMNYQ'\n",
      " 'gN03qFYysM5DbgjuV6N0QQ' 'usQTOj7LQ9v0Fl98gRa3Iw' 'wNqwKWaRjClmcKsoJJRFow'\n",
      " 'APLIPfq1Rf8QyhHHk2uAyA' 'eBwBjylS66qPcHs2_ajLag' '4UUIpbOTPmu43wuC2aSGkg'\n",
      " 'f01B5tRtqf3k6ak1pPSAWw' '5E193w76Qlhoi1gkyakW2A' 'jopndPrv-H5KW2CfScnw9A'\n",
      " 'XgIhw-aWaq_Fx3ZVQGjnuA' 'XBHJCDzNh--mBhJkzyM_iA' 'e4TQFVfepzHf--hnBsjntg'\n",
      " 'tBvrnSCLSpUdCDm5w5GPkg' '-F32Vl8Rk4dwsmk0f2wRIw' 'JkMOQaMjlBHMqp6gj-hL3w'\n",
      " 'iwZ_7QuZ1tzT6pIZmOlDQg' 'Lp_Ykqfbv5Q-oyGYlMGJRg' 'YLE6GoJ61fb0QBF7JTkaJg'\n",
      " 'A_O8wZOsMTPwyeYA4-Rsow' '4_YfcfHkCem1onJFkItxjA' 'f3LA83yEEBMj9q92H28O7w'\n",
      " 'IO3AsR6cdMto7VCwfPzf2w' 'GyFmGA5UQZ4pXdx1lUH86g' 'EKwGhgLrM18ErVKKeYE2UA'\n",
      " 'DtTuVmtooVyMnGhwPrzLww' 'tlSSQwfHYJany7wPoTH46A' 'EJkV29QY_oHwSngQiTj2rQ'\n",
      " 'xZvRLPJ1ixhFVomkXSfXAw' 'RxfFQxUtSIGYwTKU_rvAeg' 'yy3jXczrKljJGzjo24HWfw'\n",
      " 'kJyR4gT1pfCcNjEY9-YMoQ' '4dnDsoHuxUtzhaumxbpR5w' 'g84VjttN28PWiv_WtdhnSQ']\n",
      "['HY9qpAamqLXFoa7xMwNntg' '6OWHDbEq23f24Vki_veHBA' 'JgDkCER12uiv4lbpmkZ9VA'\n",
      " '7GC9fVWKa4a1ZmBGLH6Uww' 'du6KeE54IFbPiXpU3LOd1g' 'fev0iI-XDrteD4SYRKjiUw'\n",
      " 'bcZd4ohK6CIT_BOQ0_O53w' 'Cp-PV8rsypbO-xBrQ6KmQg' 'Kqvfep2mxS10S50FbVDi4Q'\n",
      " 'sALB8-F04S9VcZMF_GkGUA' '04xW5mhSBaCzpjbcf2VSZg' 'vsXP832M0kOxKpfduD7dWw'\n",
      " '90a6z--_CUrl84aCzZyPsg' 'Zwtx7FLZcK5F2P0-Tz8mHg' 'Ovpa3S8xD96dLE5eDxcxJg'\n",
      " 'fczQCSmaWF78toLEmb0Zsw' 'LqgGgWi3FLHBViX9tmZ9sw' 'LXWAXIeYFIdgd2JVPF-9qA'\n",
      " 'UoBfwbXaixelZBghbJ2cSg' 'W_QXYA7A0IhMrvbckz7eVg' 'joIzw_aUiNvBTuGoytrH7g'\n",
      " 'AeucYo8J-rZjcq09Wuqsjw' '7zDqr2I0-xpw9HF5Ha54cA' 'y5_vrqIylhXMrejM_-x_vA'\n",
      " 'APLIPfq1Rf8QyhHHk2uAyA' '--65q1FpAL_UQtVZ2PTGew' 'exefpuK6O1ctUUqTxq5XLg'\n",
      " '-F32Vl8Rk4dwsmk0f2wRIw' 'GrSixRnGIxNUJ1Cn5DNX9A' 'ST8Yzlk2MqKlcaLqL2djBg'\n",
      " 'Lp_Ykqfbv5Q-oyGYlMGJRg' 'jqVeTSin5GeRm0ceSg-PBA' 'ceKoQX0_IJZ6Lr9-9LGcbA'\n",
      " 'tlSSQwfHYJany7wPoTH46A' 'WWxCMDn8rVHIrIFoKRcRDg' 'kJyR4gT1pfCcNjEY9-YMoQ'\n",
      " 'ROr4DQ-gxlfUKmiDC-qSEQ' 'v6CGBT0OoLRht9dzo7vaXg']\n",
      "['6OWHDbEq23f24Vki_veHBA' '64YY0h0ZAR2nbzxbx0IwJg' 'T7J9ae0wTskrI_Bgwp-4cA'\n",
      " 'nbofxFWHORebBHh10OgYLA' 'JffajLV-Dnn-eGYgdXDxFg' '7GC9fVWKa4a1ZmBGLH6Uww'\n",
      " 'du6KeE54IFbPiXpU3LOd1g' 'fev0iI-XDrteD4SYRKjiUw' 'hFtlFksrcLaWHGPNa6SmeA'\n",
      " 'P2kVk4cIWyK4e4h14RhK-Q' '90a6z--_CUrl84aCzZyPsg' 'ikm0UCahtK34LbLCEw4YTw'\n",
      " '0o0VMEJeQY0pAAZ9nxErBA' 'ZmIgP4U4Ht9CYmNX0_zP6w' 'LqgGgWi3FLHBViX9tmZ9sw'\n",
      " '8CNEh7fSbLwDuAKhLjDPKQ' 'W_QXYA7A0IhMrvbckz7eVg' 'AeucYo8J-rZjcq09Wuqsjw'\n",
      " 'd66FhQQZzFDKxklh6t63RA' 'rO3WEI9L-_deUR9-JHuNQw' '3gIfcQq5KxAegwCPXc83cQ'\n",
      " 'uZbTb-u-GVjTa2gtQfry5g' '7zDqr2I0-xpw9HF5Ha54cA' 'AkJFqLqHHAKY3H5R8p7cPQ'\n",
      " '3ONPPazUH-Q3XblYJIaA1A' 'VPXgY9lGJF3XC4ZpusxNuA' 'A99dyhEqcd_yXKPfBWeZHA'\n",
      " 'FktbKOzznpoKTNXMVtc8EA' 'exefpuK6O1ctUUqTxq5XLg' 'oy6fdscGSXY2gzRqF9pZxg'\n",
      " 'GrSixRnGIxNUJ1Cn5DNX9A' '9VPNlcKsL99FvKtz1r9qJg' 'mym5tXZoZCbuPCYQzI5Ysg'\n",
      " 'ZC49A1K-if7KP8VJXoqELQ' 'ohRev2g3tvXpV3gBnhC-og' 'Pv7DGHzZ-uqIUdOsqPpsVg'\n",
      " 'w1LjSa5wMexRIQ-82LKWmQ' 'v6CGBT0OoLRht9dzo7vaXg']\n",
      "['XqMkm-DD9VsdcKx2YVGhSA' 'dQO0tQISZyb9L4d5ASnXyQ' 'vhxFLqRok6r-D_aQz0s-JQ'\n",
      " 'X5GbNXY_nNoa_vTZDD0aCA' '0bNXP9quoJEgyVZu9ipGgQ' 'JgDkCER12uiv4lbpmkZ9VA'\n",
      " '4ozupHULqGyO42s3zNUzOQ' 'lPaYMDmJbAnv_3pmZH_inw' 'f1-pIw_p0ifzu03TXjPRiw'\n",
      " 'P2kVk4cIWyK4e4h14RhK-Q' 'd0wJVf7Gv7v1B-HHYhxZtQ' '90a6z--_CUrl84aCzZyPsg'\n",
      " '8JC-Yb3UDUv2FUl5ym1nVg' '100Df1wcVrl9rJgB7EG6xw' 'MUHoBFzwRoXpCpgYSN8KRA'\n",
      " 'fczQCSmaWF78toLEmb0Zsw' 'xFG4Ca2HHmbxDTkMlmHnjQ' 'pEVf8GRshP9HUkSpizc9LA'\n",
      " '3gIfcQq5KxAegwCPXc83cQ' 'PNS9z4aFDbfhpIsHCfNvNg' 'gN03qFYysM5DbgjuV6N0QQ'\n",
      " '7zDqr2I0-xpw9HF5Ha54cA' 'qa05pUVNapADHZXpHMPMeA' 'wHg1YkCzdZq9WBJOTRgxHQ'\n",
      " 'VPXgY9lGJF3XC4ZpusxNuA' 'kNO6w6EIKo8u6GSykOHBLA' 'FktbKOzznpoKTNXMVtc8EA'\n",
      " 'oy6fdscGSXY2gzRqF9pZxg' 'GrSixRnGIxNUJ1Cn5DNX9A' 'wfvmwhhadHfpM9UoTV0OMA'\n",
      " '8p4at4zdzCpueAmSBaorZA' 'IO3AsR6cdMto7VCwfPzf2w' 'v2UqlUHA8d3lgTIby0CCFQ'\n",
      " 'kJyR4gT1pfCcNjEY9-YMoQ']\n",
      "['gcyEUr4DXcbjnGRAWFtfAQ' 'vhxFLqRok6r-D_aQz0s-JQ' '0bNXP9quoJEgyVZu9ipGgQ'\n",
      " 'wC1CPV5bf--bDLtlhNSPLg' '_jjIaczpcVDpHlH6l334rQ' 'f1-pIw_p0ifzu03TXjPRiw'\n",
      " 'P2kVk4cIWyK4e4h14RhK-Q' 'd0wJVf7Gv7v1B-HHYhxZtQ' 'nc3cqVN0UuB3m50-CcMftw'\n",
      " 'vsXP832M0kOxKpfduD7dWw' '90a6z--_CUrl84aCzZyPsg' 'q9XgOylNsSbqZqF_SO3-OQ'\n",
      " '17PPxx8RxjOUD_nQZ1aHEw' '3gIfcQq5KxAegwCPXc83cQ' 'wHg1YkCzdZq9WBJOTRgxHQ'\n",
      " 'AkJFqLqHHAKY3H5R8p7cPQ' '33vUIil_GCaT92aUaZhRXA' 'VPXgY9lGJF3XC4ZpusxNuA'\n",
      " 'Bc2UjSePEGvqSdHvz2HKGA' 'oy6fdscGSXY2gzRqF9pZxg' 'Iycf9KNRhxvR187Qu2zZHg'\n",
      " 'GrSixRnGIxNUJ1Cn5DNX9A' 'PShy2RYNadDUhJf4ErOJ7w' 'szbTVEtATfn8f9GxbGGO5w'\n",
      " '78Ed1ndOak2kmzljulPfBg' 'YLE6GoJ61fb0QBF7JTkaJg' '8p4at4zdzCpueAmSBaorZA'\n",
      " '4_YfcfHkCem1onJFkItxjA' 'm7vtKWpZ9wdEQ95wJxrMrg' 'RxfFQxUtSIGYwTKU_rvAeg'\n",
      " '4dnDsoHuxUtzhaumxbpR5w']\n",
      "['0bNXP9quoJEgyVZu9ipGgQ' 'T7J9ae0wTskrI_Bgwp-4cA' 'nbofxFWHORebBHh10OgYLA'\n",
      " '8WQubmP7G0NM3IyzyMnCEA' 'qABKRj1ggJmtvrL9FMFtuA' 'JgDkCER12uiv4lbpmkZ9VA'\n",
      " 'MWt24-6bfv_OHLKhwMQ0Tw' 'lPaYMDmJbAnv_3pmZH_inw' 'pIm17SVRo8IdhGoBD4qbnA'\n",
      " 'hDlSSyDreM9xY4yQWPm54w' 'P2kVk4cIWyK4e4h14RhK-Q' '0o0VMEJeQY0pAAZ9nxErBA'\n",
      " 'M6oU3OBf_E6gqlfkLGlStQ' 'LqgGgWi3FLHBViX9tmZ9sw' 'xdWsnbaTEfBMVHttqZDHxg'\n",
      " 'Bmzq_nkjYqp8aWn12RJdhA' 'oC0kwGvgaAeT3ZIxdxTcJA' 'AeucYo8J-rZjcq09Wuqsjw'\n",
      " 'd66FhQQZzFDKxklh6t63RA' '3gIfcQq5KxAegwCPXc83cQ' 'uZbTb-u-GVjTa2gtQfry5g'\n",
      " 'rL3dPeKDTybG_ct9OCXGAA' 'hjJPKQ1Ah91h3fVbc8GsOg' 'VPXgY9lGJF3XC4ZpusxNuA'\n",
      " '--65q1FpAL_UQtVZ2PTGew' 'A99dyhEqcd_yXKPfBWeZHA' 'wfvmwhhadHfpM9UoTV0OMA'\n",
      " 'uNbB1uR4EBhmygUc3IfPAw' '8dbRf1UsWp2ktXHZ6Zv06w' 'f3LA83yEEBMj9q92H28O7w'\n",
      " 'tlSSQwfHYJany7wPoTH46A' 'KSTOdz0lSFCkqBSRNwjERA']\n",
      "['UPtysDF6cUDUxq2KY-6Dcg' 'XqMkm-DD9VsdcKx2YVGhSA' '6OWHDbEq23f24Vki_veHBA'\n",
      " 'X5GbNXY_nNoa_vTZDD0aCA' 'KucBnMrhalzxnD9AWrxwYQ' 'K0euQLFAcKhQPZ6JxGAryg'\n",
      " 'nbofxFWHORebBHh10OgYLA' 'JgDkCER12uiv4lbpmkZ9VA' 'nWouNfZD3Pw08RYizxkqcA'\n",
      " 'E5QyEU6FCQwnTys0S73zNw' '6kmu0mYbdpMIOZ6Y0eVsxg' 'MWt24-6bfv_OHLKhwMQ0Tw'\n",
      " 'pIm17SVRo8IdhGoBD4qbnA' 'n9Zg0jlOGtxfIrvoPm6Hhw' '7GC9fVWKa4a1ZmBGLH6Uww'\n",
      " 'UuwjD6MZf6Z6QlNphiXRjA' 'P2kVk4cIWyK4e4h14RhK-Q' 'mfvezpz6ohS0NQk3DZdvqQ'\n",
      " 'bcZd4ohK6CIT_BOQ0_O53w' 'd0wJVf7Gv7v1B-HHYhxZtQ' 'Cp-PV8rsypbO-xBrQ6KmQg'\n",
      " 'thdVzCfKx-DV0zYWqId3pw' 'sALB8-F04S9VcZMF_GkGUA' 'nc3cqVN0UuB3m50-CcMftw'\n",
      " '04xW5mhSBaCzpjbcf2VSZg' '90a6z--_CUrl84aCzZyPsg' '8JC-Yb3UDUv2FUl5ym1nVg'\n",
      " '_GVAV2LjUWEs9fGjslex_A' 'z1tNqF5qJRpibGj-9_r9Ew' 'M6oU3OBf_E6gqlfkLGlStQ'\n",
      " 'fczQCSmaWF78toLEmb0Zsw' 'LqgGgWi3FLHBViX9tmZ9sw' 'LXWAXIeYFIdgd2JVPF-9qA'\n",
      " '9FbgqZ5u9WTLAs28nNafIQ' 'OsYh3jArm6fgozczE85ZeQ' '17PPxx8RxjOUD_nQZ1aHEw'\n",
      " '8CNEh7fSbLwDuAKhLjDPKQ' 'joIzw_aUiNvBTuGoytrH7g' 'AeucYo8J-rZjcq09Wuqsjw'\n",
      " 'rO3WEI9L-_deUR9-JHuNQw' '3gIfcQq5KxAegwCPXc83cQ' '_PzSNcfrCjeBxSLXRoMmgQ'\n",
      " 'AirVzN1BVQBmq5zY0YMNYQ' 'gN03qFYysM5DbgjuV6N0QQ' 'Ypz7hxOCnrg8Y8vxHJU-sQ'\n",
      " 'uZbTb-u-GVjTa2gtQfry5g' 'wNqwKWaRjClmcKsoJJRFow' '7zDqr2I0-xpw9HF5Ha54cA'\n",
      " 'APLIPfq1Rf8QyhHHk2uAyA' 'eBwBjylS66qPcHs2_ajLag' 'qa05pUVNapADHZXpHMPMeA'\n",
      " 'AkJFqLqHHAKY3H5R8p7cPQ' '3ONPPazUH-Q3XblYJIaA1A' 'VPXgY9lGJF3XC4ZpusxNuA'\n",
      " '--65q1FpAL_UQtVZ2PTGew' 'e4TQFVfepzHf--hnBsjntg' '-F32Vl8Rk4dwsmk0f2wRIw'\n",
      " 'Iycf9KNRhxvR187Qu2zZHg' '9VPNlcKsL99FvKtz1r9qJg' 'ST8Yzlk2MqKlcaLqL2djBg'\n",
      " 'vF4B6eFdoDmyV_l7MLHMzw' 'qASPib1Z8ft8e96dtbh66w' 'Lp_Ykqfbv5Q-oyGYlMGJRg'\n",
      " '8dbRf1UsWp2ktXHZ6Zv06w' 'rjlb-7-JcmM6fR64ZpyTug' '3eit3w0zDbb-z57c9P60vg'\n",
      " 'jqVeTSin5GeRm0ceSg-PBA' 'f3LA83yEEBMj9q92H28O7w' 'IO3AsR6cdMto7VCwfPzf2w'\n",
      " 'b2DKC4kC8-QeSeGZ_MF3XQ' 'ceKoQX0_IJZ6Lr9-9LGcbA' 'EKwGhgLrM18ErVKKeYE2UA'\n",
      " 'tlSSQwfHYJany7wPoTH46A' 'kJyR4gT1pfCcNjEY9-YMoQ' 'w1LjSa5wMexRIQ-82LKWmQ'\n",
      " 'ROr4DQ-gxlfUKmiDC-qSEQ' 'KSTOdz0lSFCkqBSRNwjERA' 'v6CGBT0OoLRht9dzo7vaXg']\n",
      "['UPtysDF6cUDUxq2KY-6Dcg' 'iwUN95LIaEr75TZE_JC6bg' 'mlBC3pN9GXlUUfQi1qBBZA'\n",
      " '0bNXP9quoJEgyVZu9ipGgQ' 'nbofxFWHORebBHh10OgYLA' 'qABKRj1ggJmtvrL9FMFtuA'\n",
      " 'JffajLV-Dnn-eGYgdXDxFg' 'lPaYMDmJbAnv_3pmZH_inw' 'pIm17SVRo8IdhGoBD4qbnA'\n",
      " 'fev0iI-XDrteD4SYRKjiUw' 'hFtlFksrcLaWHGPNa6SmeA' '3Zi1udoY2iT9s8Q3X6tgZQ'\n",
      " 'hcctCQy3bdZMezrUKkZLtA' 'ikm0UCahtK34LbLCEw4YTw' 'ZmIgP4U4Ht9CYmNX0_zP6w'\n",
      " 'LqgGgWi3FLHBViX9tmZ9sw' 'xFG4Ca2HHmbxDTkMlmHnjQ' 'LXWAXIeYFIdgd2JVPF-9qA'\n",
      " 'X_kPh3nt0AJPNPHye2rTlA' '8CNEh7fSbLwDuAKhLjDPKQ' 'W_QXYA7A0IhMrvbckz7eVg'\n",
      " '3gIfcQq5KxAegwCPXc83cQ' 'gN03qFYysM5DbgjuV6N0QQ' 'Ypz7hxOCnrg8Y8vxHJU-sQ'\n",
      " 'uZbTb-u-GVjTa2gtQfry5g' 'rL3dPeKDTybG_ct9OCXGAA' 'qa05pUVNapADHZXpHMPMeA'\n",
      " '_uL7OiQSfNsCd60DrAf7qQ' 'VPXgY9lGJF3XC4ZpusxNuA' 'q5nFaw9isjD_01PpVAR7hg'\n",
      " 'A99dyhEqcd_yXKPfBWeZHA' 'exefpuK6O1ctUUqTxq5XLg' 'Iycf9KNRhxvR187Qu2zZHg'\n",
      " 'GrSixRnGIxNUJ1Cn5DNX9A' 'szbTVEtATfn8f9GxbGGO5w' 'uNbB1uR4EBhmygUc3IfPAw'\n",
      " 'YLE6GoJ61fb0QBF7JTkaJg' 'ZC49A1K-if7KP8VJXoqELQ' 'ohRev2g3tvXpV3gBnhC-og'\n",
      " 'EKwGhgLrM18ErVKKeYE2UA' 'KYeLSM3MQpirmHukVV5Iow' 'w1LjSa5wMexRIQ-82LKWmQ'\n",
      " 'c3yJNjz_K--z4CIpR7yhvQ' 'KSTOdz0lSFCkqBSRNwjERA']\n",
      "['4ozupHULqGyO42s3zNUzOQ' 'nWouNfZD3Pw08RYizxkqcA' 'E5QyEU6FCQwnTys0S73zNw'\n",
      " 'UCQNrwN4_hHHTWYa8cqe_Q' 'fev0iI-XDrteD4SYRKjiUw' 'hDlSSyDreM9xY4yQWPm54w'\n",
      " '9FbgqZ5u9WTLAs28nNafIQ' 'OsYh3jArm6fgozczE85ZeQ' '17PPxx8RxjOUD_nQZ1aHEw'\n",
      " 'AeucYo8J-rZjcq09Wuqsjw' 'llkm_iXQszkN5DZvmqjNqA' 'qaAmAU9T_t84UDGiBI98sw'\n",
      " '5E193w76Qlhoi1gkyakW2A' 'kG8jkVFgOAOq6Ht6RvAjEQ' 'XgIhw-aWaq_Fx3ZVQGjnuA'\n",
      " '1BW2HC851fJKPfJeQxjkTA' '-F32Vl8Rk4dwsmk0f2wRIw' 'GrSixRnGIxNUJ1Cn5DNX9A'\n",
      " '8dbRf1UsWp2ktXHZ6Zv06w' 'YLE6GoJ61fb0QBF7JTkaJg' 'A_O8wZOsMTPwyeYA4-Rsow'\n",
      " 'jqVeTSin5GeRm0ceSg-PBA' 'IO3AsR6cdMto7VCwfPzf2w' 'PS0lCxjGNeUrKxYSdpW-Aw'\n",
      " 'xZvRLPJ1ixhFVomkXSfXAw']\n",
      "['UsULgP4bKA8RMzs8dQzcsA' 'EP3cGJvYiuOwumerwADplg' '7cR92zkDv4W3kqzii6axvg'\n",
      " 'gcyEUr4DXcbjnGRAWFtfAQ' 'HY9qpAamqLXFoa7xMwNntg' 'mlBC3pN9GXlUUfQi1qBBZA'\n",
      " 'Ps1Db9zOatoF_76FZNO5CQ' '_jjIaczpcVDpHlH6l334rQ' 'JffajLV-Dnn-eGYgdXDxFg'\n",
      " '4ozupHULqGyO42s3zNUzOQ' 'MWt24-6bfv_OHLKhwMQ0Tw' 'KLekdmo4FdNnP0huUhzZNw'\n",
      " 'lPaYMDmJbAnv_3pmZH_inw' 'fev0iI-XDrteD4SYRKjiUw' 'UuwjD6MZf6Z6QlNphiXRjA'\n",
      " '4E_nPWw89FLFHdNsEgMH-g' '04xW5mhSBaCzpjbcf2VSZg' 'vsXP832M0kOxKpfduD7dWw'\n",
      " '90a6z--_CUrl84aCzZyPsg' 'ikm0UCahtK34LbLCEw4YTw' 'kk05snSafuIFK0lsxoMNzA'\n",
      " 'OQMOgqS1NFIyAW4i66iDYA' 'fczQCSmaWF78toLEmb0Zsw' 'q9XgOylNsSbqZqF_SO3-OQ'\n",
      " 'pEVf8GRshP9HUkSpizc9LA' 'tdNV2Wb0LrFpm1Yfov_Klw' 'W_QXYA7A0IhMrvbckz7eVg'\n",
      " 'joIzw_aUiNvBTuGoytrH7g' 'C8ZTiwa7qWoPSMIivTeSfw' 'rO3WEI9L-_deUR9-JHuNQw'\n",
      " '3gIfcQq5KxAegwCPXc83cQ' '_PzSNcfrCjeBxSLXRoMmgQ' '4UUIpbOTPmu43wuC2aSGkg'\n",
      " '--65q1FpAL_UQtVZ2PTGew' 'Bc2UjSePEGvqSdHvz2HKGA' '78Ed1ndOak2kmzljulPfBg'\n",
      " '8dbRf1UsWp2ktXHZ6Zv06w' 'RxfFQxUtSIGYwTKU_rvAeg' 'WWxCMDn8rVHIrIFoKRcRDg'\n",
      " '0oRtnPHtvZIE1UNxCDDTPw' 'QBQlErZajdIyXX84dvFUnQ']\n",
      "['iwUN95LIaEr75TZE_JC6bg' 'vhxFLqRok6r-D_aQz0s-JQ' 'wC1CPV5bf--bDLtlhNSPLg'\n",
      " 'JgDkCER12uiv4lbpmkZ9VA' '4ozupHULqGyO42s3zNUzOQ' 'E5QyEU6FCQwnTys0S73zNw'\n",
      " '6kmu0mYbdpMIOZ6Y0eVsxg' 'MWt24-6bfv_OHLKhwMQ0Tw' 'lPaYMDmJbAnv_3pmZH_inw'\n",
      " '7GC9fVWKa4a1ZmBGLH6Uww' '0qIsBt4EzBDCKrIviV55Ew' 'UuwjD6MZf6Z6QlNphiXRjA'\n",
      " 'hDlSSyDreM9xY4yQWPm54w' 'P2kVk4cIWyK4e4h14RhK-Q' 'mfvezpz6ohS0NQk3DZdvqQ'\n",
      " 'd0wJVf7Gv7v1B-HHYhxZtQ' 'Kqvfep2mxS10S50FbVDi4Q' '_GVAV2LjUWEs9fGjslex_A'\n",
      " '6ts41fCsDKHbFZaKOMNmVQ' 'xFG4Ca2HHmbxDTkMlmHnjQ' 'tdNV2Wb0LrFpm1Yfov_Klw'\n",
      " 'HOleI3jz1MLNUJ6cc1x0Pw' '17PPxx8RxjOUD_nQZ1aHEw' 'oC0kwGvgaAeT3ZIxdxTcJA'\n",
      " 'AeucYo8J-rZjcq09Wuqsjw' '3gIfcQq5KxAegwCPXc83cQ' 'wNqwKWaRjClmcKsoJJRFow'\n",
      " 'wHg1YkCzdZq9WBJOTRgxHQ' 'gq_G5VCDziyEV2-bzGuqzw' 'e4TQFVfepzHf--hnBsjntg'\n",
      " '-F32Vl8Rk4dwsmk0f2wRIw' 'JkMOQaMjlBHMqp6gj-hL3w' 'PShy2RYNadDUhJf4ErOJ7w'\n",
      " 'szbTVEtATfn8f9GxbGGO5w' 'rjlb-7-JcmM6fR64ZpyTug' '4_YfcfHkCem1onJFkItxjA'\n",
      " 'bX5mIrDlyD8ZabvF_An7FA' 'Xm8HXE1JHqscXe5BKf0GFQ' 'c3yJNjz_K--z4CIpR7yhvQ']\n",
      "['XqMkm-DD9VsdcKx2YVGhSA' 'dQO0tQISZyb9L4d5ASnXyQ' 'vhxFLqRok6r-D_aQz0s-JQ'\n",
      " 'sEWeeq41k4ohBz4jS_iGRw' 'X5GbNXY_nNoa_vTZDD0aCA' '64YY0h0ZAR2nbzxbx0IwJg'\n",
      " 'KucBnMrhalzxnD9AWrxwYQ' '0bNXP9quoJEgyVZu9ipGgQ' '8WQubmP7G0NM3IyzyMnCEA'\n",
      " 'JgDkCER12uiv4lbpmkZ9VA' '4ozupHULqGyO42s3zNUzOQ' 'E5QyEU6FCQwnTys0S73zNw'\n",
      " '6kmu0mYbdpMIOZ6Y0eVsxg' 'KLekdmo4FdNnP0huUhzZNw' 'lPaYMDmJbAnv_3pmZH_inw'\n",
      " 'n9Zg0jlOGtxfIrvoPm6Hhw' '7GC9fVWKa4a1ZmBGLH6Uww' 'du6KeE54IFbPiXpU3LOd1g'\n",
      " 'fev0iI-XDrteD4SYRKjiUw' 'hFtlFksrcLaWHGPNa6SmeA' '0qIsBt4EzBDCKrIviV55Ew'\n",
      " 'UuwjD6MZf6Z6QlNphiXRjA' 'hDlSSyDreM9xY4yQWPm54w' 'bcZd4ohK6CIT_BOQ0_O53w'\n",
      " 'd0wJVf7Gv7v1B-HHYhxZtQ' 'thdVzCfKx-DV0zYWqId3pw' 'Kqvfep2mxS10S50FbVDi4Q'\n",
      " 'ikm0UCahtK34LbLCEw4YTw' 'NLDDaat42UQXQCOpU4e2TA' '8JC-Yb3UDUv2FUl5ym1nVg'\n",
      " 'MUHoBFzwRoXpCpgYSN8KRA' 'LqgGgWi3FLHBViX9tmZ9sw' 'q9XgOylNsSbqZqF_SO3-OQ'\n",
      " 'xFG4Ca2HHmbxDTkMlmHnjQ' 'pEVf8GRshP9HUkSpizc9LA' 'OsYh3jArm6fgozczE85ZeQ'\n",
      " 'pv82zTlB5Txsu2Pusu__FA' '17PPxx8RxjOUD_nQZ1aHEw' 'X_kPh3nt0AJPNPHye2rTlA'\n",
      " 'UoBfwbXaixelZBghbJ2cSg' 'W_QXYA7A0IhMrvbckz7eVg' 'AeucYo8J-rZjcq09Wuqsjw'\n",
      " '3gIfcQq5KxAegwCPXc83cQ' 'PNS9z4aFDbfhpIsHCfNvNg' 'vWCksqJJfYjGGdD-yb9qGA'\n",
      " 'AirVzN1BVQBmq5zY0YMNYQ' 'gN03qFYysM5DbgjuV6N0QQ' 'usQTOj7LQ9v0Fl98gRa3Iw'\n",
      " 'uZbTb-u-GVjTa2gtQfry5g' 'wNqwKWaRjClmcKsoJJRFow' '7zDqr2I0-xpw9HF5Ha54cA'\n",
      " 'qaAmAU9T_t84UDGiBI98sw' 'y5_vrqIylhXMrejM_-x_vA' 'eBwBjylS66qPcHs2_ajLag'\n",
      " 'p7dvahRPZIWL7T6pFA_0dg' 'hjJPKQ1Ah91h3fVbc8GsOg' 'gq_G5VCDziyEV2-bzGuqzw'\n",
      " '3ONPPazUH-Q3XblYJIaA1A' '_uL7OiQSfNsCd60DrAf7qQ' 'jopndPrv-H5KW2CfScnw9A'\n",
      " '--65q1FpAL_UQtVZ2PTGew' 'Bc2UjSePEGvqSdHvz2HKGA' 'e4TQFVfepzHf--hnBsjntg'\n",
      " 'exefpuK6O1ctUUqTxq5XLg' '-F32Vl8Rk4dwsmk0f2wRIw' 'GrSixRnGIxNUJ1Cn5DNX9A'\n",
      " 'wfvmwhhadHfpM9UoTV0OMA' 'ST8Yzlk2MqKlcaLqL2djBg' 'PShy2RYNadDUhJf4ErOJ7w'\n",
      " 'uNbB1uR4EBhmygUc3IfPAw' 'YLE6GoJ61fb0QBF7JTkaJg' 'jqVeTSin5GeRm0ceSg-PBA'\n",
      " '4_YfcfHkCem1onJFkItxjA' 'ohRev2g3tvXpV3gBnhC-og' 's7Tm9oYWqRlBm5ex2OQ1nw'\n",
      " 'v2UqlUHA8d3lgTIby0CCFQ' 'EKwGhgLrM18ErVKKeYE2UA' 'EJkV29QY_oHwSngQiTj2rQ'\n",
      " 'Pv7DGHzZ-uqIUdOsqPpsVg' 'Xm8HXE1JHqscXe5BKf0GFQ' 'LaEj3VpQh7bgpAZLzSRRrw']\n",
      "['7cR92zkDv4W3kqzii6axvg' 'vhxFLqRok6r-D_aQz0s-JQ' 'sEWeeq41k4ohBz4jS_iGRw'\n",
      " 'nDBly08j5URmrHQ2JCbyiw' '64YY0h0ZAR2nbzxbx0IwJg' 'E5QyEU6FCQwnTys0S73zNw'\n",
      " 'MWt24-6bfv_OHLKhwMQ0Tw' '7GC9fVWKa4a1ZmBGLH6Uww' 'l53FUDHRHLg7BQ89KgAtxQ'\n",
      " 'mfvezpz6ohS0NQk3DZdvqQ' 'vsXP832M0kOxKpfduD7dWw' 'z1tNqF5qJRpibGj-9_r9Ew'\n",
      " 'MUHoBFzwRoXpCpgYSN8KRA' 'M6oU3OBf_E6gqlfkLGlStQ' 'fczQCSmaWF78toLEmb0Zsw'\n",
      " 'LqgGgWi3FLHBViX9tmZ9sw' 'q9XgOylNsSbqZqF_SO3-OQ' 'LXWAXIeYFIdgd2JVPF-9qA'\n",
      " 'pv82zTlB5Txsu2Pusu__FA' '17PPxx8RxjOUD_nQZ1aHEw' '3gIfcQq5KxAegwCPXc83cQ'\n",
      " 'wNqwKWaRjClmcKsoJJRFow' '7zDqr2I0-xpw9HF5Ha54cA' 'APLIPfq1Rf8QyhHHk2uAyA'\n",
      " 'eBwBjylS66qPcHs2_ajLag' 'gq_G5VCDziyEV2-bzGuqzw' '4UUIpbOTPmu43wuC2aSGkg'\n",
      " 'f01B5tRtqf3k6ak1pPSAWw' 'jdeNI5TTTuM6mj3HTgstRA' '-F32Vl8Rk4dwsmk0f2wRIw'\n",
      " 'mym5tXZoZCbuPCYQzI5Ysg' 'Lp_Ykqfbv5Q-oyGYlMGJRg' 'A_O8wZOsMTPwyeYA4-Rsow'\n",
      " '3eit3w0zDbb-z57c9P60vg' 'f3LA83yEEBMj9q92H28O7w' 'Pv7DGHzZ-uqIUdOsqPpsVg'\n",
      " '4dnDsoHuxUtzhaumxbpR5w' '0oRtnPHtvZIE1UNxCDDTPw']\n",
      "['iwUN95LIaEr75TZE_JC6bg' 'XqMkm-DD9VsdcKx2YVGhSA' 'mlBC3pN9GXlUUfQi1qBBZA'\n",
      " '6OWHDbEq23f24Vki_veHBA' 'nDBly08j5URmrHQ2JCbyiw' '0bNXP9quoJEgyVZu9ipGgQ'\n",
      " '8WQubmP7G0NM3IyzyMnCEA' '4ozupHULqGyO42s3zNUzOQ' 'nWouNfZD3Pw08RYizxkqcA'\n",
      " 'du6KeE54IFbPiXpU3LOd1g' '4E_nPWw89FLFHdNsEgMH-g' '90a6z--_CUrl84aCzZyPsg'\n",
      " 'NLDDaat42UQXQCOpU4e2TA' 'ZmIgP4U4Ht9CYmNX0_zP6w' 'm7j9e53ycZxjWYBD7rZVng'\n",
      " 'z1tNqF5qJRpibGj-9_r9Ew' 'iBO2m9xXivsIbvFnZHsNvg' 'fczQCSmaWF78toLEmb0Zsw'\n",
      " 'xFG4Ca2HHmbxDTkMlmHnjQ' 'X_kPh3nt0AJPNPHye2rTlA' 'AeucYo8J-rZjcq09Wuqsjw'\n",
      " 'd66FhQQZzFDKxklh6t63RA' 'C8ZTiwa7qWoPSMIivTeSfw' '3gIfcQq5KxAegwCPXc83cQ'\n",
      " 'qaAmAU9T_t84UDGiBI98sw' 'y5_vrqIylhXMrejM_-x_vA' 'qa05pUVNapADHZXpHMPMeA'\n",
      " 'wHg1YkCzdZq9WBJOTRgxHQ' 'gq_G5VCDziyEV2-bzGuqzw' '4UUIpbOTPmu43wuC2aSGkg'\n",
      " 'jopndPrv-H5KW2CfScnw9A' 'XBHJCDzNh--mBhJkzyM_iA' 'e4TQFVfepzHf--hnBsjntg'\n",
      " '-F32Vl8Rk4dwsmk0f2wRIw' 'GrSixRnGIxNUJ1Cn5DNX9A' 'ZZ43etAB2n_T53YBYtf8Dw'\n",
      " 'ST8Yzlk2MqKlcaLqL2djBg' 'szbTVEtATfn8f9GxbGGO5w' 'vF4B6eFdoDmyV_l7MLHMzw'\n",
      " 'uNbB1uR4EBhmygUc3IfPAw' 'EKwGhgLrM18ErVKKeYE2UA' 'DtTuVmtooVyMnGhwPrzLww'\n",
      " 'KYeLSM3MQpirmHukVV5Iow' 'xZvRLPJ1ixhFVomkXSfXAw' 'yy3jXczrKljJGzjo24HWfw'\n",
      " 'kJyR4gT1pfCcNjEY9-YMoQ']\n",
      "['UsULgP4bKA8RMzs8dQzcsA' 'iwUN95LIaEr75TZE_JC6bg' 'HY9qpAamqLXFoa7xMwNntg'\n",
      " 'qABKRj1ggJmtvrL9FMFtuA' '4ozupHULqGyO42s3zNUzOQ' 'n9Zg0jlOGtxfIrvoPm6Hhw'\n",
      " 'hFtlFksrcLaWHGPNa6SmeA' 'f1-pIw_p0ifzu03TXjPRiw' '90a6z--_CUrl84aCzZyPsg'\n",
      " 'AdEy5KAIlMAy8xHyuMQCFg' 'NLDDaat42UQXQCOpU4e2TA' 'fczQCSmaWF78toLEmb0Zsw'\n",
      " 'LqgGgWi3FLHBViX9tmZ9sw' 'X_kPh3nt0AJPNPHye2rTlA' 'oC0kwGvgaAeT3ZIxdxTcJA'\n",
      " 'C8ZTiwa7qWoPSMIivTeSfw' 'PNS9z4aFDbfhpIsHCfNvNg' 'Ypz7hxOCnrg8Y8vxHJU-sQ'\n",
      " 'p7dvahRPZIWL7T6pFA_0dg' 'e4TQFVfepzHf--hnBsjntg' '-F32Vl8Rk4dwsmk0f2wRIw'\n",
      " 'GrSixRnGIxNUJ1Cn5DNX9A' 'HZeFzs42f0iGaA-sP_hUnA' 'ZZ43etAB2n_T53YBYtf8Dw'\n",
      " 'PShy2RYNadDUhJf4ErOJ7w' '3eit3w0zDbb-z57c9P60vg' 'kJyR4gT1pfCcNjEY9-YMoQ'\n",
      " 'Xm8HXE1JHqscXe5BKf0GFQ' 'LaEj3VpQh7bgpAZLzSRRrw']\n",
      "['UsULgP4bKA8RMzs8dQzcsA' 'XqMkm-DD9VsdcKx2YVGhSA' 'vhxFLqRok6r-D_aQz0s-JQ'\n",
      " 'nDBly08j5URmrHQ2JCbyiw' '64YY0h0ZAR2nbzxbx0IwJg' '0bNXP9quoJEgyVZu9ipGgQ'\n",
      " '_jjIaczpcVDpHlH6l334rQ' '4ozupHULqGyO42s3zNUzOQ' 'MWt24-6bfv_OHLKhwMQ0Tw'\n",
      " 'lPaYMDmJbAnv_3pmZH_inw' '7GC9fVWKa4a1ZmBGLH6Uww' 'mfvezpz6ohS0NQk3DZdvqQ'\n",
      " 'Cp-PV8rsypbO-xBrQ6KmQg' 'Kqvfep2mxS10S50FbVDi4Q' 'sALB8-F04S9VcZMF_GkGUA'\n",
      " 'vsXP832M0kOxKpfduD7dWw' 'fczQCSmaWF78toLEmb0Zsw' 'xFG4Ca2HHmbxDTkMlmHnjQ'\n",
      " '9FbgqZ5u9WTLAs28nNafIQ' 'X_kPh3nt0AJPNPHye2rTlA' 'oC0kwGvgaAeT3ZIxdxTcJA'\n",
      " 'h7v_M_0-YVpSVZ2WD7FpAA' '4IxLt4QvCsJEdaNvH9QApw' '3gIfcQq5KxAegwCPXc83cQ'\n",
      " 'PNS9z4aFDbfhpIsHCfNvNg' 'qaAmAU9T_t84UDGiBI98sw' 'AkJFqLqHHAKY3H5R8p7cPQ'\n",
      " 'gq_G5VCDziyEV2-bzGuqzw' '3ONPPazUH-Q3XblYJIaA1A' '_uL7OiQSfNsCd60DrAf7qQ'\n",
      " 'f01B5tRtqf3k6ak1pPSAWw' 'jopndPrv-H5KW2CfScnw9A' 'kG8jkVFgOAOq6Ht6RvAjEQ'\n",
      " 'Bc2UjSePEGvqSdHvz2HKGA' 'kNO6w6EIKo8u6GSykOHBLA' 'e4TQFVfepzHf--hnBsjntg'\n",
      " 'oy6fdscGSXY2gzRqF9pZxg' '9qCPmT6ovJjxL4tJB4ANCg' '-F32Vl8Rk4dwsmk0f2wRIw'\n",
      " 'Iycf9KNRhxvR187Qu2zZHg' 'HZeFzs42f0iGaA-sP_hUnA' '9VPNlcKsL99FvKtz1r9qJg'\n",
      " 'PShy2RYNadDUhJf4ErOJ7w' 'qASPib1Z8ft8e96dtbh66w' 'Lp_Ykqfbv5Q-oyGYlMGJRg'\n",
      " 'g6rlp5No6GjEDXkrjvg1kQ' '8p4at4zdzCpueAmSBaorZA' 'rjlb-7-JcmM6fR64ZpyTug'\n",
      " '3eit3w0zDbb-z57c9P60vg' 'jqVeTSin5GeRm0ceSg-PBA' '4_YfcfHkCem1onJFkItxjA'\n",
      " 'ZC49A1K-if7KP8VJXoqELQ' 'f3LA83yEEBMj9q92H28O7w' 'GyFmGA5UQZ4pXdx1lUH86g'\n",
      " 'v2UqlUHA8d3lgTIby0CCFQ' 'EKwGhgLrM18ErVKKeYE2UA' 'EJkV29QY_oHwSngQiTj2rQ'\n",
      " 'Pv7DGHzZ-uqIUdOsqPpsVg' 'PoQOIZc2q5nud7uVz_jdjw']\n",
      "['UsULgP4bKA8RMzs8dQzcsA' 'vhxFLqRok6r-D_aQz0s-JQ' '0bNXP9quoJEgyVZu9ipGgQ'\n",
      " 'T7J9ae0wTskrI_Bgwp-4cA' 'qABKRj1ggJmtvrL9FMFtuA' '4ozupHULqGyO42s3zNUzOQ'\n",
      " '7GC9fVWKa4a1ZmBGLH6Uww' 'hFtlFksrcLaWHGPNa6SmeA' 'UuwjD6MZf6Z6QlNphiXRjA'\n",
      " 'thdVzCfKx-DV0zYWqId3pw' '04xW5mhSBaCzpjbcf2VSZg' 'vsXP832M0kOxKpfduD7dWw'\n",
      " 'iBO2m9xXivsIbvFnZHsNvg' 'M6oU3OBf_E6gqlfkLGlStQ' 'fczQCSmaWF78toLEmb0Zsw'\n",
      " 'LqgGgWi3FLHBViX9tmZ9sw' 'q9XgOylNsSbqZqF_SO3-OQ' '17PPxx8RxjOUD_nQZ1aHEw'\n",
      " 'waD2euOMPTnTzQ0thq3H6Q' 'AeucYo8J-rZjcq09Wuqsjw' '3gIfcQq5KxAegwCPXc83cQ'\n",
      " '_PzSNcfrCjeBxSLXRoMmgQ' 'uZbTb-u-GVjTa2gtQfry5g' 'APLIPfq1Rf8QyhHHk2uAyA'\n",
      " 'p7dvahRPZIWL7T6pFA_0dg' 'V0y4fqp-4pSRfsz0FmsjPA' '3ONPPazUH-Q3XblYJIaA1A'\n",
      " '4UUIpbOTPmu43wuC2aSGkg' 'XBHJCDzNh--mBhJkzyM_iA' 'A99dyhEqcd_yXKPfBWeZHA'\n",
      " 'kNO6w6EIKo8u6GSykOHBLA' 'e4TQFVfepzHf--hnBsjntg' '-F32Vl8Rk4dwsmk0f2wRIw'\n",
      " '3Jw-rYwJEz6jSqPgVVmmhA' 'ST8Yzlk2MqKlcaLqL2djBg' 'mym5tXZoZCbuPCYQzI5Ysg'\n",
      " 'Lp_Ykqfbv5Q-oyGYlMGJRg' 'jqVeTSin5GeRm0ceSg-PBA' 'EKwGhgLrM18ErVKKeYE2UA'\n",
      " 'c3yJNjz_K--z4CIpR7yhvQ']\n",
      "['UsULgP4bKA8RMzs8dQzcsA' 'C6IOtaaYdLIT5fWd7ZYIuA' 'EP3cGJvYiuOwumerwADplg'\n",
      " '7cR92zkDv4W3kqzii6axvg' 'XqMkm-DD9VsdcKx2YVGhSA' 'HY9qpAamqLXFoa7xMwNntg'\n",
      " 'vhxFLqRok6r-D_aQz0s-JQ' 'sEWeeq41k4ohBz4jS_iGRw' '64YY0h0ZAR2nbzxbx0IwJg'\n",
      " '0bNXP9quoJEgyVZu9ipGgQ' 'GubdNFoDAsiwE6bWIr97cQ' 'T7J9ae0wTskrI_Bgwp-4cA'\n",
      " 'wC1CPV5bf--bDLtlhNSPLg' 'Ps1Db9zOatoF_76FZNO5CQ' 'JgDkCER12uiv4lbpmkZ9VA'\n",
      " 'JffajLV-Dnn-eGYgdXDxFg' 'nWouNfZD3Pw08RYizxkqcA' 'E5QyEU6FCQwnTys0S73zNw'\n",
      " '6kmu0mYbdpMIOZ6Y0eVsxg' 'MWt24-6bfv_OHLKhwMQ0Tw' 'pIm17SVRo8IdhGoBD4qbnA'\n",
      " '7GC9fVWKa4a1ZmBGLH6Uww' 'du6KeE54IFbPiXpU3LOd1g' 'l53FUDHRHLg7BQ89KgAtxQ'\n",
      " 'fev0iI-XDrteD4SYRKjiUw' 'hFtlFksrcLaWHGPNa6SmeA' 'UuwjD6MZf6Z6QlNphiXRjA'\n",
      " 'f1-pIw_p0ifzu03TXjPRiw' 'P2kVk4cIWyK4e4h14RhK-Q' 'mfvezpz6ohS0NQk3DZdvqQ'\n",
      " 'bcZd4ohK6CIT_BOQ0_O53w' 'Cp-PV8rsypbO-xBrQ6KmQg' 'thdVzCfKx-DV0zYWqId3pw'\n",
      " '4E_nPWw89FLFHdNsEgMH-g' 'Kqvfep2mxS10S50FbVDi4Q' 'sALB8-F04S9VcZMF_GkGUA'\n",
      " 'nc3cqVN0UuB3m50-CcMftw' 'vsXP832M0kOxKpfduD7dWw' '90a6z--_CUrl84aCzZyPsg'\n",
      " 'AdEy5KAIlMAy8xHyuMQCFg' '0o0VMEJeQY0pAAZ9nxErBA' '8JC-Yb3UDUv2FUl5ym1nVg'\n",
      " '100Df1wcVrl9rJgB7EG6xw' 'm7j9e53ycZxjWYBD7rZVng' 'z1tNqF5qJRpibGj-9_r9Ew'\n",
      " 'MUHoBFzwRoXpCpgYSN8KRA' 'M6oU3OBf_E6gqlfkLGlStQ' 'fczQCSmaWF78toLEmb0Zsw'\n",
      " 'q9XgOylNsSbqZqF_SO3-OQ' 'pEVf8GRshP9HUkSpizc9LA' 'tdNV2Wb0LrFpm1Yfov_Klw'\n",
      " 'OsYh3jArm6fgozczE85ZeQ' 'pv82zTlB5Txsu2Pusu__FA' 'HOleI3jz1MLNUJ6cc1x0Pw'\n",
      " 'waD2euOMPTnTzQ0thq3H6Q' 'h7v_M_0-YVpSVZ2WD7FpAA' 'W_QXYA7A0IhMrvbckz7eVg'\n",
      " 'zCC6huLkNBEr3JUgQyxJbg' '4IxLt4QvCsJEdaNvH9QApw' '3gIfcQq5KxAegwCPXc83cQ'\n",
      " 'vWCksqJJfYjGGdD-yb9qGA' '_PzSNcfrCjeBxSLXRoMmgQ' 'gN03qFYysM5DbgjuV6N0QQ'\n",
      " 'Ypz7hxOCnrg8Y8vxHJU-sQ' 'wNqwKWaRjClmcKsoJJRFow' '7zDqr2I0-xpw9HF5Ha54cA'\n",
      " 'qaAmAU9T_t84UDGiBI98sw' 'APLIPfq1Rf8QyhHHk2uAyA' 'eBwBjylS66qPcHs2_ajLag'\n",
      " 'wHg1YkCzdZq9WBJOTRgxHQ' 'V0y4fqp-4pSRfsz0FmsjPA' 'gq_G5VCDziyEV2-bzGuqzw'\n",
      " '3ONPPazUH-Q3XblYJIaA1A' '33vUIil_GCaT92aUaZhRXA' '_uL7OiQSfNsCd60DrAf7qQ'\n",
      " '4UUIpbOTPmu43wuC2aSGkg' 'f01B5tRtqf3k6ak1pPSAWw' 'jopndPrv-H5KW2CfScnw9A'\n",
      " 'XBHJCDzNh--mBhJkzyM_iA' 'Bc2UjSePEGvqSdHvz2HKGA' 'kNO6w6EIKo8u6GSykOHBLA'\n",
      " 'e4TQFVfepzHf--hnBsjntg' 'tBvrnSCLSpUdCDm5w5GPkg' '-F32Vl8Rk4dwsmk0f2wRIw'\n",
      " 'Iycf9KNRhxvR187Qu2zZHg' 'GrSixRnGIxNUJ1Cn5DNX9A' 'I-P1v7sRjDLEfVOndp01kA'\n",
      " 'HZeFzs42f0iGaA-sP_hUnA' '9VPNlcKsL99FvKtz1r9qJg' 'JkMOQaMjlBHMqp6gj-hL3w'\n",
      " 'szbTVEtATfn8f9GxbGGO5w' 'mym5tXZoZCbuPCYQzI5Ysg' 'vF4B6eFdoDmyV_l7MLHMzw'\n",
      " 'qASPib1Z8ft8e96dtbh66w' 'Lp_Ykqfbv5Q-oyGYlMGJRg' '78Ed1ndOak2kmzljulPfBg'\n",
      " 'YLE6GoJ61fb0QBF7JTkaJg' '8p4at4zdzCpueAmSBaorZA' 'rjlb-7-JcmM6fR64ZpyTug'\n",
      " 'A_O8wZOsMTPwyeYA4-Rsow' '3eit3w0zDbb-z57c9P60vg' 'jqVeTSin5GeRm0ceSg-PBA'\n",
      " '4_YfcfHkCem1onJFkItxjA' 'IO3AsR6cdMto7VCwfPzf2w' 'n_lAaNGeWgspbbCJc0DqRg'\n",
      " 'ceKoQX0_IJZ6Lr9-9LGcbA' 'b4C9E7vTJrOdkJQA86xYSg' 'xZvRLPJ1ixhFVomkXSfXAw'\n",
      " 'RxfFQxUtSIGYwTKU_rvAeg' 'Pv7DGHzZ-uqIUdOsqPpsVg' 'ROr4DQ-gxlfUKmiDC-qSEQ'\n",
      " '0oRtnPHtvZIE1UNxCDDTPw' 'QBQlErZajdIyXX84dvFUnQ' 'g84VjttN28PWiv_WtdhnSQ']\n",
      "['UsULgP4bKA8RMzs8dQzcsA' 'qABKRj1ggJmtvrL9FMFtuA' '4ozupHULqGyO42s3zNUzOQ'\n",
      " '6kmu0mYbdpMIOZ6Y0eVsxg' 'lPaYMDmJbAnv_3pmZH_inw' 'Cp-PV8rsypbO-xBrQ6KmQg'\n",
      " 'thdVzCfKx-DV0zYWqId3pw' '8JC-Yb3UDUv2FUl5ym1nVg' 'Zwtx7FLZcK5F2P0-Tz8mHg'\n",
      " 'Ovpa3S8xD96dLE5eDxcxJg' 'z1tNqF5qJRpibGj-9_r9Ew' 'M6oU3OBf_E6gqlfkLGlStQ'\n",
      " '17PPxx8RxjOUD_nQZ1aHEw' 'X_kPh3nt0AJPNPHye2rTlA' 'joIzw_aUiNvBTuGoytrH7g'\n",
      " 'Ypz7hxOCnrg8Y8vxHJU-sQ' 'llkm_iXQszkN5DZvmqjNqA' 'y5_vrqIylhXMrejM_-x_vA'\n",
      " 'VPXgY9lGJF3XC4ZpusxNuA' 'f01B5tRtqf3k6ak1pPSAWw' 'e4TQFVfepzHf--hnBsjntg'\n",
      " '-F32Vl8Rk4dwsmk0f2wRIw' 'ZZ43etAB2n_T53YBYtf8Dw' 'ST8Yzlk2MqKlcaLqL2djBg'\n",
      " 'PS0lCxjGNeUrKxYSdpW-Aw' 'bX5mIrDlyD8ZabvF_An7FA' 'xZvRLPJ1ixhFVomkXSfXAw']\n",
      "['UsULgP4bKA8RMzs8dQzcsA' 'jKeaOrPyJ-dI9SNeVqrbww' 'K0euQLFAcKhQPZ6JxGAryg'\n",
      " 'T7J9ae0wTskrI_Bgwp-4cA' '_4lqpCYCqOQzbB6xQGGhrQ' '6kmu0mYbdpMIOZ6Y0eVsxg'\n",
      " '7GC9fVWKa4a1ZmBGLH6Uww' 'OQMOgqS1NFIyAW4i66iDYA' 'z1tNqF5qJRpibGj-9_r9Ew'\n",
      " 'joIzw_aUiNvBTuGoytrH7g' 'zCC6huLkNBEr3JUgQyxJbg' '_PzSNcfrCjeBxSLXRoMmgQ'\n",
      " 'eBwBjylS66qPcHs2_ajLag' '3Jw-rYwJEz6jSqPgVVmmhA' 'IO3AsR6cdMto7VCwfPzf2w'\n",
      " 'b2DKC4kC8-QeSeGZ_MF3XQ' 'ROr4DQ-gxlfUKmiDC-qSEQ' 'Xm8HXE1JHqscXe5BKf0GFQ'\n",
      " 'KSTOdz0lSFCkqBSRNwjERA']\n",
      "['UsULgP4bKA8RMzs8dQzcsA' 'HY9qpAamqLXFoa7xMwNntg' '4ozupHULqGyO42s3zNUzOQ'\n",
      " 'KLekdmo4FdNnP0huUhzZNw' 'lPaYMDmJbAnv_3pmZH_inw' 'du6KeE54IFbPiXpU3LOd1g'\n",
      " '4E_nPWw89FLFHdNsEgMH-g' 'hcctCQy3bdZMezrUKkZLtA' 'vsXP832M0kOxKpfduD7dWw'\n",
      " '90a6z--_CUrl84aCzZyPsg' 'kk05snSafuIFK0lsxoMNzA' 'fczQCSmaWF78toLEmb0Zsw'\n",
      " '9FbgqZ5u9WTLAs28nNafIQ' 'joIzw_aUiNvBTuGoytrH7g' 'hjJPKQ1Ah91h3fVbc8GsOg'\n",
      " 'Sa64rQmghfE9i17_dRIDyw' '5E193w76Qlhoi1gkyakW2A' 'GrSixRnGIxNUJ1Cn5DNX9A'\n",
      " 'ST8Yzlk2MqKlcaLqL2djBg' 'qASPib1Z8ft8e96dtbh66w' 'A_O8wZOsMTPwyeYA4-Rsow'\n",
      " 'IO3AsR6cdMto7VCwfPzf2w' 'PS0lCxjGNeUrKxYSdpW-Aw' 'QBQlErZajdIyXX84dvFUnQ']\n",
      "['UsULgP4bKA8RMzs8dQzcsA' 'iwUN95LIaEr75TZE_JC6bg' '7cR92zkDv4W3kqzii6axvg'\n",
      " 'XqMkm-DD9VsdcKx2YVGhSA' 'gcyEUr4DXcbjnGRAWFtfAQ' 'vhxFLqRok6r-D_aQz0s-JQ'\n",
      " 'nDBly08j5URmrHQ2JCbyiw' 'X5GbNXY_nNoa_vTZDD0aCA' '64YY0h0ZAR2nbzxbx0IwJg'\n",
      " '0bNXP9quoJEgyVZu9ipGgQ' 'wC1CPV5bf--bDLtlhNSPLg' 'JgDkCER12uiv4lbpmkZ9VA'\n",
      " '4ozupHULqGyO42s3zNUzOQ' '6kmu0mYbdpMIOZ6Y0eVsxg' 'lPaYMDmJbAnv_3pmZH_inw'\n",
      " 'fev0iI-XDrteD4SYRKjiUw' 'f1-pIw_p0ifzu03TXjPRiw' 'hDlSSyDreM9xY4yQWPm54w'\n",
      " 'Kqvfep2mxS10S50FbVDi4Q' 'hcctCQy3bdZMezrUKkZLtA' '_GVAV2LjUWEs9fGjslex_A'\n",
      " 'OQMOgqS1NFIyAW4i66iDYA' 'z1tNqF5qJRpibGj-9_r9Ew' 'MUHoBFzwRoXpCpgYSN8KRA'\n",
      " 'M6oU3OBf_E6gqlfkLGlStQ' 'fczQCSmaWF78toLEmb0Zsw' 'q9XgOylNsSbqZqF_SO3-OQ'\n",
      " 'pEVf8GRshP9HUkSpizc9LA' 'HOleI3jz1MLNUJ6cc1x0Pw' '17PPxx8RxjOUD_nQZ1aHEw'\n",
      " 'UoBfwbXaixelZBghbJ2cSg' 'h7v_M_0-YVpSVZ2WD7FpAA' 'C8ZTiwa7qWoPSMIivTeSfw'\n",
      " '4IxLt4QvCsJEdaNvH9QApw' '3gIfcQq5KxAegwCPXc83cQ' 'gN03qFYysM5DbgjuV6N0QQ'\n",
      " 'llkm_iXQszkN5DZvmqjNqA' 'wNqwKWaRjClmcKsoJJRFow' '7zDqr2I0-xpw9HF5Ha54cA'\n",
      " 'qaAmAU9T_t84UDGiBI98sw' 'eBwBjylS66qPcHs2_ajLag' 'p7dvahRPZIWL7T6pFA_0dg'\n",
      " 'gq_G5VCDziyEV2-bzGuqzw' '33vUIil_GCaT92aUaZhRXA' '_uL7OiQSfNsCd60DrAf7qQ'\n",
      " '4UUIpbOTPmu43wuC2aSGkg' 'kG8jkVFgOAOq6Ht6RvAjEQ' 'BjwXX-sChcjx2E55B_7rXg'\n",
      " 'Bc2UjSePEGvqSdHvz2HKGA' 'exefpuK6O1ctUUqTxq5XLg' 'oy6fdscGSXY2gzRqF9pZxg'\n",
      " 'NvDR3SPVPXrDB_dbKuGoWA' 'tBvrnSCLSpUdCDm5w5GPkg' 'GrSixRnGIxNUJ1Cn5DNX9A'\n",
      " 'wfvmwhhadHfpM9UoTV0OMA' 'HZeFzs42f0iGaA-sP_hUnA' '3Jw-rYwJEz6jSqPgVVmmhA'\n",
      " 'PShy2RYNadDUhJf4ErOJ7w' 'g6rlp5No6GjEDXkrjvg1kQ' '78Ed1ndOak2kmzljulPfBg'\n",
      " '8p4at4zdzCpueAmSBaorZA' 'v2UqlUHA8d3lgTIby0CCFQ' 'ceKoQX0_IJZ6Lr9-9LGcbA'\n",
      " 'xZvRLPJ1ixhFVomkXSfXAw' 'RxfFQxUtSIGYwTKU_rvAeg' 'Pv7DGHzZ-uqIUdOsqPpsVg'\n",
      " 'kJyR4gT1pfCcNjEY9-YMoQ' '4dnDsoHuxUtzhaumxbpR5w' 'QBQlErZajdIyXX84dvFUnQ']\n",
      "['UsULgP4bKA8RMzs8dQzcsA' '0bNXP9quoJEgyVZu9ipGgQ' 'K0euQLFAcKhQPZ6JxGAryg'\n",
      " 'T7J9ae0wTskrI_Bgwp-4cA' '_jjIaczpcVDpHlH6l334rQ' 'MWt24-6bfv_OHLKhwMQ0Tw'\n",
      " '7GC9fVWKa4a1ZmBGLH6Uww' 'DrWLhrK8WMZf7Jb-Oqc7ww' 'P2kVk4cIWyK4e4h14RhK-Q'\n",
      " '90a6z--_CUrl84aCzZyPsg' 'Zwtx7FLZcK5F2P0-Tz8mHg' 'LqgGgWi3FLHBViX9tmZ9sw'\n",
      " 'LXWAXIeYFIdgd2JVPF-9qA' 'xdWsnbaTEfBMVHttqZDHxg' 'AeucYo8J-rZjcq09Wuqsjw'\n",
      " '3gIfcQq5KxAegwCPXc83cQ' 'uZbTb-u-GVjTa2gtQfry5g' 'eBwBjylS66qPcHs2_ajLag'\n",
      " 'AkJFqLqHHAKY3H5R8p7cPQ' '3ONPPazUH-Q3XblYJIaA1A' 'vF4B6eFdoDmyV_l7MLHMzw'\n",
      " 'fAiVqZv7P_oc5CzGMX_G9w' 'v2UqlUHA8d3lgTIby0CCFQ' 'Pv7DGHzZ-uqIUdOsqPpsVg']\n",
      "['UsULgP4bKA8RMzs8dQzcsA' 'iwUN95LIaEr75TZE_JC6bg' 'XqMkm-DD9VsdcKx2YVGhSA'\n",
      " '0bNXP9quoJEgyVZu9ipGgQ' 'K0euQLFAcKhQPZ6JxGAryg' '4ozupHULqGyO42s3zNUzOQ'\n",
      " 'lPaYMDmJbAnv_3pmZH_inw' 'du6KeE54IFbPiXpU3LOd1g' 'd0wJVf7Gv7v1B-HHYhxZtQ'\n",
      " 'Cp-PV8rsypbO-xBrQ6KmQg' 'thdVzCfKx-DV0zYWqId3pw' 'Kqvfep2mxS10S50FbVDi4Q'\n",
      " 'sALB8-F04S9VcZMF_GkGUA' '90a6z--_CUrl84aCzZyPsg' '100Df1wcVrl9rJgB7EG6xw'\n",
      " 'fczQCSmaWF78toLEmb0Zsw' '9FbgqZ5u9WTLAs28nNafIQ' 'xdWsnbaTEfBMVHttqZDHxg'\n",
      " 'C8ZTiwa7qWoPSMIivTeSfw' '4IxLt4QvCsJEdaNvH9QApw' 'gN03qFYysM5DbgjuV6N0QQ'\n",
      " 'APLIPfq1Rf8QyhHHk2uAyA' 'hjJPKQ1Ah91h3fVbc8GsOg' 'AkJFqLqHHAKY3H5R8p7cPQ'\n",
      " 'VPXgY9lGJF3XC4ZpusxNuA' 'e4TQFVfepzHf--hnBsjntg' 'oy6fdscGSXY2gzRqF9pZxg'\n",
      " 'GrSixRnGIxNUJ1Cn5DNX9A' '3Jw-rYwJEz6jSqPgVVmmhA' 'PShy2RYNadDUhJf4ErOJ7w'\n",
      " 'A_O8wZOsMTPwyeYA4-Rsow' 'jqVeTSin5GeRm0ceSg-PBA' '4_YfcfHkCem1onJFkItxjA'\n",
      " 'IO3AsR6cdMto7VCwfPzf2w' 'b4C9E7vTJrOdkJQA86xYSg' 'bX5mIrDlyD8ZabvF_An7FA'\n",
      " 'Xm8HXE1JHqscXe5BKf0GFQ' 'g84VjttN28PWiv_WtdhnSQ']\n",
      "['UsULgP4bKA8RMzs8dQzcsA' 'vhxFLqRok6r-D_aQz0s-JQ' '6OWHDbEq23f24Vki_veHBA'\n",
      " 'X5GbNXY_nNoa_vTZDD0aCA' '64YY0h0ZAR2nbzxbx0IwJg' 'Ps1Db9zOatoF_76FZNO5CQ'\n",
      " 'JgDkCER12uiv4lbpmkZ9VA' '4ozupHULqGyO42s3zNUzOQ' '6kmu0mYbdpMIOZ6Y0eVsxg'\n",
      " 'MWt24-6bfv_OHLKhwMQ0Tw' 'thdVzCfKx-DV0zYWqId3pw' '04xW5mhSBaCzpjbcf2VSZg'\n",
      " 'hcctCQy3bdZMezrUKkZLtA' 'M6oU3OBf_E6gqlfkLGlStQ' '6ts41fCsDKHbFZaKOMNmVQ'\n",
      " '3gIfcQq5KxAegwCPXc83cQ' 'PNS9z4aFDbfhpIsHCfNvNg' 'usQTOj7LQ9v0Fl98gRa3Iw'\n",
      " '7zDqr2I0-xpw9HF5Ha54cA' 'rL3dPeKDTybG_ct9OCXGAA' 'eBwBjylS66qPcHs2_ajLag'\n",
      " 'hjJPKQ1Ah91h3fVbc8GsOg' '33vUIil_GCaT92aUaZhRXA' 'f01B5tRtqf3k6ak1pPSAWw'\n",
      " '--65q1FpAL_UQtVZ2PTGew' 'BjwXX-sChcjx2E55B_7rXg' 'oy6fdscGSXY2gzRqF9pZxg'\n",
      " 'GrSixRnGIxNUJ1Cn5DNX9A' 'PShy2RYNadDUhJf4ErOJ7w' 'iwZ_7QuZ1tzT6pIZmOlDQg'\n",
      " 'YLE6GoJ61fb0QBF7JTkaJg' 'm7vtKWpZ9wdEQ95wJxrMrg' '4dnDsoHuxUtzhaumxbpR5w'\n",
      " '0oRtnPHtvZIE1UNxCDDTPw' 'c3yJNjz_K--z4CIpR7yhvQ']\n",
      "['UsULgP4bKA8RMzs8dQzcsA' 'XqMkm-DD9VsdcKx2YVGhSA' 'dQO0tQISZyb9L4d5ASnXyQ'\n",
      " 'vhxFLqRok6r-D_aQz0s-JQ' '0bNXP9quoJEgyVZu9ipGgQ' 'wC1CPV5bf--bDLtlhNSPLg'\n",
      " '_jjIaczpcVDpHlH6l334rQ' '4ozupHULqGyO42s3zNUzOQ' '6kmu0mYbdpMIOZ6Y0eVsxg'\n",
      " 'lPaYMDmJbAnv_3pmZH_inw' 'f1-pIw_p0ifzu03TXjPRiw' 'P2kVk4cIWyK4e4h14RhK-Q'\n",
      " 'd0wJVf7Gv7v1B-HHYhxZtQ' '4E_nPWw89FLFHdNsEgMH-g' 'Kqvfep2mxS10S50FbVDi4Q'\n",
      " 'vsXP832M0kOxKpfduD7dWw' '90a6z--_CUrl84aCzZyPsg' 'kk05snSafuIFK0lsxoMNzA'\n",
      " 'MUHoBFzwRoXpCpgYSN8KRA' 'fczQCSmaWF78toLEmb0Zsw' 'q9XgOylNsSbqZqF_SO3-OQ'\n",
      " 'pEVf8GRshP9HUkSpizc9LA' 'xdWsnbaTEfBMVHttqZDHxg' 'X_kPh3nt0AJPNPHye2rTlA'\n",
      " 'd66FhQQZzFDKxklh6t63RA' 'C8ZTiwa7qWoPSMIivTeSfw' '3gIfcQq5KxAegwCPXc83cQ'\n",
      " 'wNqwKWaRjClmcKsoJJRFow' 'qa05pUVNapADHZXpHMPMeA' 'wHg1YkCzdZq9WBJOTRgxHQ'\n",
      " '_uL7OiQSfNsCd60DrAf7qQ' 'f01B5tRtqf3k6ak1pPSAWw' 'Bc2UjSePEGvqSdHvz2HKGA'\n",
      " 'oy6fdscGSXY2gzRqF9pZxg' 'Iycf9KNRhxvR187Qu2zZHg' 'GrSixRnGIxNUJ1Cn5DNX9A'\n",
      " '8p4at4zdzCpueAmSBaorZA' 'f3LA83yEEBMj9q92H28O7w' 'xZvRLPJ1ixhFVomkXSfXAw'\n",
      " 'kJyR4gT1pfCcNjEY9-YMoQ' 'ROr4DQ-gxlfUKmiDC-qSEQ' '0oRtnPHtvZIE1UNxCDDTPw']\n",
      "['UsULgP4bKA8RMzs8dQzcsA' '0bNXP9quoJEgyVZu9ipGgQ' 'K0euQLFAcKhQPZ6JxGAryg'\n",
      " 'JgDkCER12uiv4lbpmkZ9VA' '4ozupHULqGyO42s3zNUzOQ' 'du6KeE54IFbPiXpU3LOd1g'\n",
      " 'hFtlFksrcLaWHGPNa6SmeA' 'P2kVk4cIWyK4e4h14RhK-Q' 'Cp-PV8rsypbO-xBrQ6KmQg'\n",
      " 'AdEy5KAIlMAy8xHyuMQCFg' 'Zwtx7FLZcK5F2P0-Tz8mHg' 'fczQCSmaWF78toLEmb0Zsw'\n",
      " 'LqgGgWi3FLHBViX9tmZ9sw' 'X_kPh3nt0AJPNPHye2rTlA' 'joIzw_aUiNvBTuGoytrH7g'\n",
      " 'C8ZTiwa7qWoPSMIivTeSfw' '7zDqr2I0-xpw9HF5Ha54cA' 'APLIPfq1Rf8QyhHHk2uAyA'\n",
      " 'AkJFqLqHHAKY3H5R8p7cPQ' 'jopndPrv-H5KW2CfScnw9A' 'BjwXX-sChcjx2E55B_7rXg'\n",
      " 'exefpuK6O1ctUUqTxq5XLg' 'ST8Yzlk2MqKlcaLqL2djBg' 'b4C9E7vTJrOdkJQA86xYSg'\n",
      " 'bX5mIrDlyD8ZabvF_An7FA']\n",
      "['UsULgP4bKA8RMzs8dQzcsA' 'XqMkm-DD9VsdcKx2YVGhSA' 'dQO0tQISZyb9L4d5ASnXyQ'\n",
      " 'vhxFLqRok6r-D_aQz0s-JQ' 'X5GbNXY_nNoa_vTZDD0aCA' 'T7J9ae0wTskrI_Bgwp-4cA'\n",
      " 'qABKRj1ggJmtvrL9FMFtuA' '6kmu0mYbdpMIOZ6Y0eVsxg' 'lPaYMDmJbAnv_3pmZH_inw'\n",
      " '7GC9fVWKa4a1ZmBGLH6Uww' 'du6KeE54IFbPiXpU3LOd1g' 'P2kVk4cIWyK4e4h14RhK-Q'\n",
      " '3Zi1udoY2iT9s8Q3X6tgZQ' 'thdVzCfKx-DV0zYWqId3pw' 'MUHoBFzwRoXpCpgYSN8KRA'\n",
      " 'fczQCSmaWF78toLEmb0Zsw' 'LqgGgWi3FLHBViX9tmZ9sw' 'q9XgOylNsSbqZqF_SO3-OQ'\n",
      " 'pv82zTlB5Txsu2Pusu__FA' 'HOleI3jz1MLNUJ6cc1x0Pw' '3gIfcQq5KxAegwCPXc83cQ'\n",
      " 'PNS9z4aFDbfhpIsHCfNvNg' 'AirVzN1BVQBmq5zY0YMNYQ' 'eBwBjylS66qPcHs2_ajLag'\n",
      " 'AkJFqLqHHAKY3H5R8p7cPQ' 'f01B5tRtqf3k6ak1pPSAWw' 'jopndPrv-H5KW2CfScnw9A'\n",
      " 'XBHJCDzNh--mBhJkzyM_iA' '9qCPmT6ovJjxL4tJB4ANCg' '9VPNlcKsL99FvKtz1r9qJg'\n",
      " '3Jw-rYwJEz6jSqPgVVmmhA' 'PShy2RYNadDUhJf4ErOJ7w' 'mym5tXZoZCbuPCYQzI5Ysg'\n",
      " 'qASPib1Z8ft8e96dtbh66w' '3eit3w0zDbb-z57c9P60vg' 'jqVeTSin5GeRm0ceSg-PBA'\n",
      " 'IO3AsR6cdMto7VCwfPzf2w' 'EKwGhgLrM18ErVKKeYE2UA' 'b4C9E7vTJrOdkJQA86xYSg'\n",
      " 'EJkV29QY_oHwSngQiTj2rQ' 'w1LjSa5wMexRIQ-82LKWmQ' 'Xm8HXE1JHqscXe5BKf0GFQ'\n",
      " 'v6CGBT0OoLRht9dzo7vaXg']\n",
      "['C6IOtaaYdLIT5fWd7ZYIuA' 'gcyEUr4DXcbjnGRAWFtfAQ' 'dQO0tQISZyb9L4d5ASnXyQ'\n",
      " 'sEWeeq41k4ohBz4jS_iGRw' 'X5GbNXY_nNoa_vTZDD0aCA' 'JgDkCER12uiv4lbpmkZ9VA'\n",
      " '4ozupHULqGyO42s3zNUzOQ' '6kmu0mYbdpMIOZ6Y0eVsxg' 'lPaYMDmJbAnv_3pmZH_inw'\n",
      " '7GC9fVWKa4a1ZmBGLH6Uww' 'fev0iI-XDrteD4SYRKjiUw' 'bcZd4ohK6CIT_BOQ0_O53w'\n",
      " 'thdVzCfKx-DV0zYWqId3pw' '_GVAV2LjUWEs9fGjslex_A' 'ZmIgP4U4Ht9CYmNX0_zP6w'\n",
      " 'OQMOgqS1NFIyAW4i66iDYA' 'M6oU3OBf_E6gqlfkLGlStQ' 'q9XgOylNsSbqZqF_SO3-OQ'\n",
      " 'LXWAXIeYFIdgd2JVPF-9qA' 'W_QXYA7A0IhMrvbckz7eVg' '3gIfcQq5KxAegwCPXc83cQ'\n",
      " 'qaAmAU9T_t84UDGiBI98sw' 'hjJPKQ1Ah91h3fVbc8GsOg' '--65q1FpAL_UQtVZ2PTGew'\n",
      " 'exefpuK6O1ctUUqTxq5XLg' 'GrSixRnGIxNUJ1Cn5DNX9A' 'JkMOQaMjlBHMqp6gj-hL3w'\n",
      " 'A_O8wZOsMTPwyeYA4-Rsow' 'f3LA83yEEBMj9q92H28O7w' 'fAiVqZv7P_oc5CzGMX_G9w'\n",
      " 'v2UqlUHA8d3lgTIby0CCFQ' 'ceKoQX0_IJZ6Lr9-9LGcbA' '4dnDsoHuxUtzhaumxbpR5w']\n",
      "['C6IOtaaYdLIT5fWd7ZYIuA' 'dQO0tQISZyb9L4d5ASnXyQ' 'sEWeeq41k4ohBz4jS_iGRw'\n",
      " 'JgDkCER12uiv4lbpmkZ9VA' '_jjIaczpcVDpHlH6l334rQ' 'JffajLV-Dnn-eGYgdXDxFg'\n",
      " 'E5QyEU6FCQwnTys0S73zNw' 'MWt24-6bfv_OHLKhwMQ0Tw' 'UCQNrwN4_hHHTWYa8cqe_Q'\n",
      " 'lPaYMDmJbAnv_3pmZH_inw' 'fev0iI-XDrteD4SYRKjiUw' 'hDlSSyDreM9xY4yQWPm54w'\n",
      " 'bcZd4ohK6CIT_BOQ0_O53w' 'OQMOgqS1NFIyAW4i66iDYA' 'MUHoBFzwRoXpCpgYSN8KRA'\n",
      " 'M6oU3OBf_E6gqlfkLGlStQ' 'pEVf8GRshP9HUkSpizc9LA' 'tdNV2Wb0LrFpm1Yfov_Klw'\n",
      " 'pv82zTlB5Txsu2Pusu__FA' 'HOleI3jz1MLNUJ6cc1x0Pw' '17PPxx8RxjOUD_nQZ1aHEw'\n",
      " 'W_QXYA7A0IhMrvbckz7eVg' 'joIzw_aUiNvBTuGoytrH7g' 'zCC6huLkNBEr3JUgQyxJbg'\n",
      " '3gIfcQq5KxAegwCPXc83cQ' 'eBwBjylS66qPcHs2_ajLag' 'gq_G5VCDziyEV2-bzGuqzw'\n",
      " '33vUIil_GCaT92aUaZhRXA' 'jopndPrv-H5KW2CfScnw9A' 'XBHJCDzNh--mBhJkzyM_iA'\n",
      " 'Bc2UjSePEGvqSdHvz2HKGA' 'tBvrnSCLSpUdCDm5w5GPkg' 'N-D-d1Z4UybdlkK1HxlNPA'\n",
      " 'HZeFzs42f0iGaA-sP_hUnA' 'vF4B6eFdoDmyV_l7MLHMzw' 'A_O8wZOsMTPwyeYA4-Rsow'\n",
      " 'ZC49A1K-if7KP8VJXoqELQ' 'b4C9E7vTJrOdkJQA86xYSg' '4dnDsoHuxUtzhaumxbpR5w']\n",
      "['C6IOtaaYdLIT5fWd7ZYIuA' 'XqMkm-DD9VsdcKx2YVGhSA' 'jKeaOrPyJ-dI9SNeVqrbww'\n",
      " 'vhxFLqRok6r-D_aQz0s-JQ' '6OWHDbEq23f24Vki_veHBA' 'X5GbNXY_nNoa_vTZDD0aCA'\n",
      " 'JgDkCER12uiv4lbpmkZ9VA' '4ozupHULqGyO42s3zNUzOQ' '7GC9fVWKa4a1ZmBGLH6Uww'\n",
      " 'du6KeE54IFbPiXpU3LOd1g' 'l53FUDHRHLg7BQ89KgAtxQ' '0qIsBt4EzBDCKrIviV55Ew'\n",
      " 'UuwjD6MZf6Z6QlNphiXRjA' 'f1-pIw_p0ifzu03TXjPRiw' 'mfvezpz6ohS0NQk3DZdvqQ'\n",
      " 'Cp-PV8rsypbO-xBrQ6KmQg' 'sALB8-F04S9VcZMF_GkGUA' '90a6z--_CUrl84aCzZyPsg'\n",
      " '100Df1wcVrl9rJgB7EG6xw' 'Ovpa3S8xD96dLE5eDxcxJg' 'iBO2m9xXivsIbvFnZHsNvg'\n",
      " 'fczQCSmaWF78toLEmb0Zsw' 'LqgGgWi3FLHBViX9tmZ9sw' 'xFG4Ca2HHmbxDTkMlmHnjQ'\n",
      " 'xdWsnbaTEfBMVHttqZDHxg' '17PPxx8RxjOUD_nQZ1aHEw' 'UoBfwbXaixelZBghbJ2cSg'\n",
      " 'oC0kwGvgaAeT3ZIxdxTcJA' 'AeucYo8J-rZjcq09Wuqsjw' 'd66FhQQZzFDKxklh6t63RA'\n",
      " 'C8ZTiwa7qWoPSMIivTeSfw' 'PNS9z4aFDbfhpIsHCfNvNg' 'uZbTb-u-GVjTa2gtQfry5g'\n",
      " 'wNqwKWaRjClmcKsoJJRFow' '7zDqr2I0-xpw9HF5Ha54cA' 'qaAmAU9T_t84UDGiBI98sw'\n",
      " 'p7dvahRPZIWL7T6pFA_0dg' 'wHg1YkCzdZq9WBJOTRgxHQ' 'hjJPKQ1Ah91h3fVbc8GsOg'\n",
      " '4UUIpbOTPmu43wuC2aSGkg' 'jopndPrv-H5KW2CfScnw9A' 'BjwXX-sChcjx2E55B_7rXg'\n",
      " 'XBHJCDzNh--mBhJkzyM_iA' 'e4TQFVfepzHf--hnBsjntg' '-F32Vl8Rk4dwsmk0f2wRIw'\n",
      " '3Jw-rYwJEz6jSqPgVVmmhA' 'PShy2RYNadDUhJf4ErOJ7w' 'qASPib1Z8ft8e96dtbh66w'\n",
      " 'g6rlp5No6GjEDXkrjvg1kQ' 'rjlb-7-JcmM6fR64ZpyTug' 'Sjp6EYsqzdlTvymER6wBfg'\n",
      " 'jqVeTSin5GeRm0ceSg-PBA' '4_YfcfHkCem1onJFkItxjA' 'IO3AsR6cdMto7VCwfPzf2w'\n",
      " 'v2UqlUHA8d3lgTIby0CCFQ' 'ROr4DQ-gxlfUKmiDC-qSEQ' 'KSTOdz0lSFCkqBSRNwjERA']\n",
      "['XqMkm-DD9VsdcKx2YVGhSA' 'nDBly08j5URmrHQ2JCbyiw' 'X5GbNXY_nNoa_vTZDD0aCA'\n",
      " '0bNXP9quoJEgyVZu9ipGgQ' '4ozupHULqGyO42s3zNUzOQ' 'fev0iI-XDrteD4SYRKjiUw'\n",
      " 'thdVzCfKx-DV0zYWqId3pw' '4E_nPWw89FLFHdNsEgMH-g' 'Kqvfep2mxS10S50FbVDi4Q'\n",
      " '90a6z--_CUrl84aCzZyPsg' 'Zwtx7FLZcK5F2P0-Tz8mHg' 'z1tNqF5qJRpibGj-9_r9Ew'\n",
      " 'xFG4Ca2HHmbxDTkMlmHnjQ' 'pEVf8GRshP9HUkSpizc9LA' 'X_kPh3nt0AJPNPHye2rTlA'\n",
      " 'UoBfwbXaixelZBghbJ2cSg' 'h7v_M_0-YVpSVZ2WD7FpAA' 'W_QXYA7A0IhMrvbckz7eVg'\n",
      " 'AeucYo8J-rZjcq09Wuqsjw' 'gN03qFYysM5DbgjuV6N0QQ' 'Ypz7hxOCnrg8Y8vxHJU-sQ'\n",
      " '7zDqr2I0-xpw9HF5Ha54cA' 'qaAmAU9T_t84UDGiBI98sw' 'qa05pUVNapADHZXpHMPMeA'\n",
      " 'wHg1YkCzdZq9WBJOTRgxHQ' '_uL7OiQSfNsCd60DrAf7qQ' '-9mljS0O9mwdOnGv-Oea3Q'\n",
      " 'oy6fdscGSXY2gzRqF9pZxg' 'Iycf9KNRhxvR187Qu2zZHg' '3Jw-rYwJEz6jSqPgVVmmhA'\n",
      " 'ST8Yzlk2MqKlcaLqL2djBg' '3eit3w0zDbb-z57c9P60vg' 'IO3AsR6cdMto7VCwfPzf2w'\n",
      " 'fAiVqZv7P_oc5CzGMX_G9w' 'PS0lCxjGNeUrKxYSdpW-Aw' 'b4C9E7vTJrOdkJQA86xYSg'\n",
      " 'Pv7DGHzZ-uqIUdOsqPpsVg']\n",
      "['iwUN95LIaEr75TZE_JC6bg' 'dQO0tQISZyb9L4d5ASnXyQ' 'X5GbNXY_nNoa_vTZDD0aCA'\n",
      " '0bNXP9quoJEgyVZu9ipGgQ' '4ozupHULqGyO42s3zNUzOQ' 'KLekdmo4FdNnP0huUhzZNw'\n",
      " 'n9Zg0jlOGtxfIrvoPm6Hhw' 'du6KeE54IFbPiXpU3LOd1g' 'P2kVk4cIWyK4e4h14RhK-Q'\n",
      " 'bcZd4ohK6CIT_BOQ0_O53w' 'd0wJVf7Gv7v1B-HHYhxZtQ' 'Cp-PV8rsypbO-xBrQ6KmQg'\n",
      " 'Kqvfep2mxS10S50FbVDi4Q' '04xW5mhSBaCzpjbcf2VSZg' '8JC-Yb3UDUv2FUl5ym1nVg'\n",
      " 'Ovpa3S8xD96dLE5eDxcxJg' 'fczQCSmaWF78toLEmb0Zsw' 'pEVf8GRshP9HUkSpizc9LA'\n",
      " 'OsYh3jArm6fgozczE85ZeQ' 'X_kPh3nt0AJPNPHye2rTlA' 'oC0kwGvgaAeT3ZIxdxTcJA'\n",
      " 'joIzw_aUiNvBTuGoytrH7g' 'AeucYo8J-rZjcq09Wuqsjw' '4IxLt4QvCsJEdaNvH9QApw'\n",
      " '7zDqr2I0-xpw9HF5Ha54cA' 'p7dvahRPZIWL7T6pFA_0dg' 'wHg1YkCzdZq9WBJOTRgxHQ'\n",
      " 'Sa64rQmghfE9i17_dRIDyw' '--65q1FpAL_UQtVZ2PTGew' '1BW2HC851fJKPfJeQxjkTA'\n",
      " 'FktbKOzznpoKTNXMVtc8EA' 'GrSixRnGIxNUJ1Cn5DNX9A' '3Jw-rYwJEz6jSqPgVVmmhA'\n",
      " 'rjlb-7-JcmM6fR64ZpyTug' '3eit3w0zDbb-z57c9P60vg' '9SZBVZ-mxebOVa1BlWFtWw'\n",
      " 'KYeLSM3MQpirmHukVV5Iow' 'b4C9E7vTJrOdkJQA86xYSg' 'bX5mIrDlyD8ZabvF_An7FA'\n",
      " 'kJyR4gT1pfCcNjEY9-YMoQ' 'QBQlErZajdIyXX84dvFUnQ' 'g84VjttN28PWiv_WtdhnSQ'\n",
      " 'v6CGBT0OoLRht9dzo7vaXg']\n",
      "['XqMkm-DD9VsdcKx2YVGhSA' 'JgDkCER12uiv4lbpmkZ9VA' '4ozupHULqGyO42s3zNUzOQ'\n",
      " 'MWt24-6bfv_OHLKhwMQ0Tw' 'hFtlFksrcLaWHGPNa6SmeA' '3Zi1udoY2iT9s8Q3X6tgZQ'\n",
      " 'd0wJVf7Gv7v1B-HHYhxZtQ' '4E_nPWw89FLFHdNsEgMH-g' 'hcctCQy3bdZMezrUKkZLtA'\n",
      " '90a6z--_CUrl84aCzZyPsg' '8JC-Yb3UDUv2FUl5ym1nVg' '_GVAV2LjUWEs9fGjslex_A'\n",
      " 'Zwtx7FLZcK5F2P0-Tz8mHg' 'OQMOgqS1NFIyAW4i66iDYA' 'OsYh3jArm6fgozczE85ZeQ'\n",
      " 'UoBfwbXaixelZBghbJ2cSg' 'd66FhQQZzFDKxklh6t63RA' 'PNS9z4aFDbfhpIsHCfNvNg'\n",
      " 'wNqwKWaRjClmcKsoJJRFow' 'APLIPfq1Rf8QyhHHk2uAyA' '_uL7OiQSfNsCd60DrAf7qQ'\n",
      " 'Iycf9KNRhxvR187Qu2zZHg' '3Jw-rYwJEz6jSqPgVVmmhA' 'ST8Yzlk2MqKlcaLqL2djBg'\n",
      " 'PShy2RYNadDUhJf4ErOJ7w' 'g6rlp5No6GjEDXkrjvg1kQ' '3eit3w0zDbb-z57c9P60vg'\n",
      " 'v2UqlUHA8d3lgTIby0CCFQ' 'Pv7DGHzZ-uqIUdOsqPpsVg' 'ROr4DQ-gxlfUKmiDC-qSEQ'\n",
      " 'PoQOIZc2q5nud7uVz_jdjw' 'KSTOdz0lSFCkqBSRNwjERA' 'g84VjttN28PWiv_WtdhnSQ'\n",
      " 'v6CGBT0OoLRht9dzo7vaXg']\n",
      "['EP3cGJvYiuOwumerwADplg' 'iwUN95LIaEr75TZE_JC6bg' '6OWHDbEq23f24Vki_veHBA'\n",
      " 'Ps1Db9zOatoF_76FZNO5CQ' 'JffajLV-Dnn-eGYgdXDxFg' 'UCQNrwN4_hHHTWYa8cqe_Q'\n",
      " 'lPaYMDmJbAnv_3pmZH_inw' 'du6KeE54IFbPiXpU3LOd1g' '0qIsBt4EzBDCKrIviV55Ew'\n",
      " 'UuwjD6MZf6Z6QlNphiXRjA' 'P2kVk4cIWyK4e4h14RhK-Q' '4E_nPWw89FLFHdNsEgMH-g'\n",
      " 'hcctCQy3bdZMezrUKkZLtA' '90a6z--_CUrl84aCzZyPsg' 'AdEy5KAIlMAy8xHyuMQCFg'\n",
      " 'ikm0UCahtK34LbLCEw4YTw' 'MUHoBFzwRoXpCpgYSN8KRA' 'tdNV2Wb0LrFpm1Yfov_Klw'\n",
      " 'X_kPh3nt0AJPNPHye2rTlA' 'AeucYo8J-rZjcq09Wuqsjw' 'd66FhQQZzFDKxklh6t63RA'\n",
      " 'zCC6huLkNBEr3JUgQyxJbg' '3gIfcQq5KxAegwCPXc83cQ' '7zDqr2I0-xpw9HF5Ha54cA'\n",
      " 'wHg1YkCzdZq9WBJOTRgxHQ' 'AkJFqLqHHAKY3H5R8p7cPQ' '_uL7OiQSfNsCd60DrAf7qQ'\n",
      " 'kNO6w6EIKo8u6GSykOHBLA' '9qCPmT6ovJjxL4tJB4ANCg' 'tBvrnSCLSpUdCDm5w5GPkg'\n",
      " 'Iycf9KNRhxvR187Qu2zZHg' 'GrSixRnGIxNUJ1Cn5DNX9A' 'JkMOQaMjlBHMqp6gj-hL3w'\n",
      " 'ST8Yzlk2MqKlcaLqL2djBg' 'szbTVEtATfn8f9GxbGGO5w' 'mym5tXZoZCbuPCYQzI5Ysg'\n",
      " 'vF4B6eFdoDmyV_l7MLHMzw' 'g6rlp5No6GjEDXkrjvg1kQ' 'rjlb-7-JcmM6fR64ZpyTug'\n",
      " '3eit3w0zDbb-z57c9P60vg' 'fAiVqZv7P_oc5CzGMX_G9w' 'v2UqlUHA8d3lgTIby0CCFQ'\n",
      " 'bX5mIrDlyD8ZabvF_An7FA' 'xZvRLPJ1ixhFVomkXSfXAw' 'Pv7DGHzZ-uqIUdOsqPpsVg'\n",
      " 'kJyR4gT1pfCcNjEY9-YMoQ' 'KSTOdz0lSFCkqBSRNwjERA' 'v6CGBT0OoLRht9dzo7vaXg']\n",
      "['EP3cGJvYiuOwumerwADplg' 'HY9qpAamqLXFoa7xMwNntg' 'T7J9ae0wTskrI_Bgwp-4cA'\n",
      " 'nbofxFWHORebBHh10OgYLA' 'wC1CPV5bf--bDLtlhNSPLg' 'JgDkCER12uiv4lbpmkZ9VA'\n",
      " 'E5QyEU6FCQwnTys0S73zNw' 'MWt24-6bfv_OHLKhwMQ0Tw' 'lPaYMDmJbAnv_3pmZH_inw'\n",
      " '7GC9fVWKa4a1ZmBGLH6Uww' 'fev0iI-XDrteD4SYRKjiUw' 'hFtlFksrcLaWHGPNa6SmeA'\n",
      " 'ikm0UCahtK34LbLCEw4YTw' '100Df1wcVrl9rJgB7EG6xw' 'MUHoBFzwRoXpCpgYSN8KRA'\n",
      " 'pv82zTlB5Txsu2Pusu__FA' 'UoBfwbXaixelZBghbJ2cSg' 'W_QXYA7A0IhMrvbckz7eVg'\n",
      " 'C8ZTiwa7qWoPSMIivTeSfw' '3gIfcQq5KxAegwCPXc83cQ' 'PNS9z4aFDbfhpIsHCfNvNg'\n",
      " 'gN03qFYysM5DbgjuV6N0QQ' 'wHg1YkCzdZq9WBJOTRgxHQ' 'gq_G5VCDziyEV2-bzGuqzw'\n",
      " '33vUIil_GCaT92aUaZhRXA' 'jopndPrv-H5KW2CfScnw9A' 'tBvrnSCLSpUdCDm5w5GPkg'\n",
      " 'N-D-d1Z4UybdlkK1HxlNPA' 'mym5tXZoZCbuPCYQzI5Ysg' '78Ed1ndOak2kmzljulPfBg'\n",
      " 'YLE6GoJ61fb0QBF7JTkaJg' 'm7vtKWpZ9wdEQ95wJxrMrg' 'f3LA83yEEBMj9q92H28O7w'\n",
      " 'fAiVqZv7P_oc5CzGMX_G9w' '9SZBVZ-mxebOVa1BlWFtWw' 'EJkV29QY_oHwSngQiTj2rQ']\n",
      "['EP3cGJvYiuOwumerwADplg' 'gcyEUr4DXcbjnGRAWFtfAQ' 'vhxFLqRok6r-D_aQz0s-JQ'\n",
      " 'nDBly08j5URmrHQ2JCbyiw' 'X5GbNXY_nNoa_vTZDD0aCA' '0bNXP9quoJEgyVZu9ipGgQ'\n",
      " 'JgDkCER12uiv4lbpmkZ9VA' '6kmu0mYbdpMIOZ6Y0eVsxg' 'mfvezpz6ohS0NQk3DZdvqQ'\n",
      " '9FbgqZ5u9WTLAs28nNafIQ' 'pv82zTlB5Txsu2Pusu__FA' 'HOleI3jz1MLNUJ6cc1x0Pw'\n",
      " '17PPxx8RxjOUD_nQZ1aHEw' 'Bmzq_nkjYqp8aWn12RJdhA' 'AirVzN1BVQBmq5zY0YMNYQ'\n",
      " 'gN03qFYysM5DbgjuV6N0QQ' 'usQTOj7LQ9v0Fl98gRa3Iw' 'llkm_iXQszkN5DZvmqjNqA'\n",
      " 'wNqwKWaRjClmcKsoJJRFow' 'y5_vrqIylhXMrejM_-x_vA' 'APLIPfq1Rf8QyhHHk2uAyA'\n",
      " 'eBwBjylS66qPcHs2_ajLag' 'hjJPKQ1Ah91h3fVbc8GsOg' '4UUIpbOTPmu43wuC2aSGkg'\n",
      " 'VPXgY9lGJF3XC4ZpusxNuA' 'f01B5tRtqf3k6ak1pPSAWw' '-F32Vl8Rk4dwsmk0f2wRIw'\n",
      " 'HZeFzs42f0iGaA-sP_hUnA' 'ST8Yzlk2MqKlcaLqL2djBg' 'qASPib1Z8ft8e96dtbh66w'\n",
      " 'Lp_Ykqfbv5Q-oyGYlMGJRg' 'jqVeTSin5GeRm0ceSg-PBA' '4_YfcfHkCem1onJFkItxjA'\n",
      " 'f3LA83yEEBMj9q92H28O7w' 'IO3AsR6cdMto7VCwfPzf2w' 'b2DKC4kC8-QeSeGZ_MF3XQ'\n",
      " 'b4C9E7vTJrOdkJQA86xYSg' 'RxfFQxUtSIGYwTKU_rvAeg']\n",
      "['EP3cGJvYiuOwumerwADplg' 'Yk37VAp452K7FwHWd1rrQw' 'JffajLV-Dnn-eGYgdXDxFg'\n",
      " 'UCQNrwN4_hHHTWYa8cqe_Q' 'pEVf8GRshP9HUkSpizc9LA' 'W_QXYA7A0IhMrvbckz7eVg'\n",
      " 'joIzw_aUiNvBTuGoytrH7g' 'C8ZTiwa7qWoPSMIivTeSfw' 'zCC6huLkNBEr3JUgQyxJbg'\n",
      " '_PzSNcfrCjeBxSLXRoMmgQ' 'gN03qFYysM5DbgjuV6N0QQ' '5E193w76Qlhoi1gkyakW2A'\n",
      " 'kG8jkVFgOAOq6Ht6RvAjEQ' 'XgIhw-aWaq_Fx3ZVQGjnuA' 'kNO6w6EIKo8u6GSykOHBLA'\n",
      " 'JkMOQaMjlBHMqp6gj-hL3w' 'yy3jXczrKljJGzjo24HWfw']\n",
      "['EP3cGJvYiuOwumerwADplg' 'vhxFLqRok6r-D_aQz0s-JQ' 'JgDkCER12uiv4lbpmkZ9VA'\n",
      " '_7el1cOgnfkNfmZKi277bQ' '_4lqpCYCqOQzbB6xQGGhrQ' '6kmu0mYbdpMIOZ6Y0eVsxg'\n",
      " 'du6KeE54IFbPiXpU3LOd1g' '0qIsBt4EzBDCKrIviV55Ew' 'thdVzCfKx-DV0zYWqId3pw'\n",
      " 'sALB8-F04S9VcZMF_GkGUA' 'nc3cqVN0UuB3m50-CcMftw' '_GVAV2LjUWEs9fGjslex_A'\n",
      " 'tdNV2Wb0LrFpm1Yfov_Klw' 'UoBfwbXaixelZBghbJ2cSg' 'joIzw_aUiNvBTuGoytrH7g'\n",
      " 'C8ZTiwa7qWoPSMIivTeSfw' '_PzSNcfrCjeBxSLXRoMmgQ' 'usQTOj7LQ9v0Fl98gRa3Iw'\n",
      " '33vUIil_GCaT92aUaZhRXA' '_uL7OiQSfNsCd60DrAf7qQ' 'Sa64rQmghfE9i17_dRIDyw'\n",
      " 'jdeNI5TTTuM6mj3HTgstRA' 'jopndPrv-H5KW2CfScnw9A' 'PShy2RYNadDUhJf4ErOJ7w'\n",
      " 'g6rlp5No6GjEDXkrjvg1kQ' '4_YfcfHkCem1onJFkItxjA' 'f3LA83yEEBMj9q92H28O7w'\n",
      " 's7Tm9oYWqRlBm5ex2OQ1nw' 'WWxCMDn8rVHIrIFoKRcRDg' '4dnDsoHuxUtzhaumxbpR5w'\n",
      " '0oRtnPHtvZIE1UNxCDDTPw' 'QBQlErZajdIyXX84dvFUnQ']\n",
      "['EP3cGJvYiuOwumerwADplg' '7cR92zkDv4W3kqzii6axvg' 'dQO0tQISZyb9L4d5ASnXyQ'\n",
      " 'lPaYMDmJbAnv_3pmZH_inw' 'du6KeE54IFbPiXpU3LOd1g' 'hFtlFksrcLaWHGPNa6SmeA'\n",
      " 'd0wJVf7Gv7v1B-HHYhxZtQ' 'Cp-PV8rsypbO-xBrQ6KmQg' 'Kqvfep2mxS10S50FbVDi4Q'\n",
      " 'AdEy5KAIlMAy8xHyuMQCFg' 'ikm0UCahtK34LbLCEw4YTw' 'q9XgOylNsSbqZqF_SO3-OQ'\n",
      " 'xFG4Ca2HHmbxDTkMlmHnjQ' 'pv82zTlB5Txsu2Pusu__FA' 'X_kPh3nt0AJPNPHye2rTlA'\n",
      " '3gIfcQq5KxAegwCPXc83cQ' 'usQTOj7LQ9v0Fl98gRa3Iw' 'wHg1YkCzdZq9WBJOTRgxHQ'\n",
      " 'jopndPrv-H5KW2CfScnw9A' 'oy6fdscGSXY2gzRqF9pZxg' 'Iycf9KNRhxvR187Qu2zZHg'\n",
      " 'GrSixRnGIxNUJ1Cn5DNX9A' 'iwZ_7QuZ1tzT6pIZmOlDQg' '78Ed1ndOak2kmzljulPfBg'\n",
      " '8p4at4zdzCpueAmSBaorZA' '0oRtnPHtvZIE1UNxCDDTPw']\n",
      "['7cR92zkDv4W3kqzii6axvg' 'vhxFLqRok6r-D_aQz0s-JQ' '6OWHDbEq23f24Vki_veHBA'\n",
      " 'X5GbNXY_nNoa_vTZDD0aCA' 'JgDkCER12uiv4lbpmkZ9VA' 'hDlSSyDreM9xY4yQWPm54w'\n",
      " 'P2kVk4cIWyK4e4h14RhK-Q' '4E_nPWw89FLFHdNsEgMH-g' '04xW5mhSBaCzpjbcf2VSZg'\n",
      " '90a6z--_CUrl84aCzZyPsg' '100Df1wcVrl9rJgB7EG6xw' 'Zwtx7FLZcK5F2P0-Tz8mHg'\n",
      " 'z1tNqF5qJRpibGj-9_r9Ew' 'MUHoBFzwRoXpCpgYSN8KRA' 'pEVf8GRshP9HUkSpizc9LA'\n",
      " 'pv82zTlB5Txsu2Pusu__FA' 'UoBfwbXaixelZBghbJ2cSg' 'AeucYo8J-rZjcq09Wuqsjw'\n",
      " '3gIfcQq5KxAegwCPXc83cQ' 'gN03qFYysM5DbgjuV6N0QQ' 'usQTOj7LQ9v0Fl98gRa3Iw'\n",
      " 'wNqwKWaRjClmcKsoJJRFow' 'eBwBjylS66qPcHs2_ajLag' '33vUIil_GCaT92aUaZhRXA'\n",
      " 'f01B5tRtqf3k6ak1pPSAWw' 'kNO6w6EIKo8u6GSykOHBLA' '3Jw-rYwJEz6jSqPgVVmmhA'\n",
      " 'JkMOQaMjlBHMqp6gj-hL3w' '8p4at4zdzCpueAmSBaorZA' 'A_O8wZOsMTPwyeYA4-Rsow'\n",
      " '3eit3w0zDbb-z57c9P60vg' 'f3LA83yEEBMj9q92H28O7w' 'IO3AsR6cdMto7VCwfPzf2w'\n",
      " 'xZvRLPJ1ixhFVomkXSfXAw' '0oRtnPHtvZIE1UNxCDDTPw' 'Xm8HXE1JHqscXe5BKf0GFQ'\n",
      " 'c3yJNjz_K--z4CIpR7yhvQ']\n",
      "['gcyEUr4DXcbjnGRAWFtfAQ' 'KucBnMrhalzxnD9AWrxwYQ' '0bNXP9quoJEgyVZu9ipGgQ'\n",
      " 'l53FUDHRHLg7BQ89KgAtxQ' 'f1-pIw_p0ifzu03TXjPRiw' 'hDlSSyDreM9xY4yQWPm54w'\n",
      " 'd0wJVf7Gv7v1B-HHYhxZtQ' 'thdVzCfKx-DV0zYWqId3pw' 'fczQCSmaWF78toLEmb0Zsw'\n",
      " 'q9XgOylNsSbqZqF_SO3-OQ' '6ts41fCsDKHbFZaKOMNmVQ' 'xdWsnbaTEfBMVHttqZDHxg'\n",
      " 'C8ZTiwa7qWoPSMIivTeSfw' 'PNS9z4aFDbfhpIsHCfNvNg' 'wNqwKWaRjClmcKsoJJRFow'\n",
      " 'wHg1YkCzdZq9WBJOTRgxHQ' 'XBHJCDzNh--mBhJkzyM_iA' 'tBvrnSCLSpUdCDm5w5GPkg'\n",
      " 'g6rlp5No6GjEDXkrjvg1kQ' '78Ed1ndOak2kmzljulPfBg' '4_YfcfHkCem1onJFkItxjA'\n",
      " 'v2UqlUHA8d3lgTIby0CCFQ' 'ROr4DQ-gxlfUKmiDC-qSEQ']\n",
      "['HY9qpAamqLXFoa7xMwNntg' 'dQO0tQISZyb9L4d5ASnXyQ' 'vhxFLqRok6r-D_aQz0s-JQ'\n",
      " 'KucBnMrhalzxnD9AWrxwYQ' 'GubdNFoDAsiwE6bWIr97cQ' 'T7J9ae0wTskrI_Bgwp-4cA'\n",
      " 'qABKRj1ggJmtvrL9FMFtuA' 'lPaYMDmJbAnv_3pmZH_inw' '7GC9fVWKa4a1ZmBGLH6Uww'\n",
      " '0qIsBt4EzBDCKrIviV55Ew' 'd0wJVf7Gv7v1B-HHYhxZtQ' 'vsXP832M0kOxKpfduD7dWw'\n",
      " 'fczQCSmaWF78toLEmb0Zsw' 'xdWsnbaTEfBMVHttqZDHxg' 'h7v_M_0-YVpSVZ2WD7FpAA'\n",
      " '3gIfcQq5KxAegwCPXc83cQ' 'llkm_iXQszkN5DZvmqjNqA' '7zDqr2I0-xpw9HF5Ha54cA'\n",
      " 'gq_G5VCDziyEV2-bzGuqzw' 'XBHJCDzNh--mBhJkzyM_iA' 'oy6fdscGSXY2gzRqF9pZxg'\n",
      " '9qCPmT6ovJjxL4tJB4ANCg' 'PShy2RYNadDUhJf4ErOJ7w' 'qASPib1Z8ft8e96dtbh66w'\n",
      " '78Ed1ndOak2kmzljulPfBg' 'YLE6GoJ61fb0QBF7JTkaJg' 'b2DKC4kC8-QeSeGZ_MF3XQ'\n",
      " 'tlSSQwfHYJany7wPoTH46A' 'Pv7DGHzZ-uqIUdOsqPpsVg' '4dnDsoHuxUtzhaumxbpR5w']\n",
      "['iwUN95LIaEr75TZE_JC6bg' 'XqMkm-DD9VsdcKx2YVGhSA' 'HY9qpAamqLXFoa7xMwNntg'\n",
      " 'JgDkCER12uiv4lbpmkZ9VA' '_7el1cOgnfkNfmZKi277bQ' 'UCQNrwN4_hHHTWYa8cqe_Q'\n",
      " 'l53FUDHRHLg7BQ89KgAtxQ' 'UuwjD6MZf6Z6QlNphiXRjA' '3Zi1udoY2iT9s8Q3X6tgZQ'\n",
      " 'nc3cqVN0UuB3m50-CcMftw' 'ikm0UCahtK34LbLCEw4YTw' 'M6oU3OBf_E6gqlfkLGlStQ'\n",
      " 'q9XgOylNsSbqZqF_SO3-OQ' 'xdWsnbaTEfBMVHttqZDHxg' '17PPxx8RxjOUD_nQZ1aHEw'\n",
      " 'd66FhQQZzFDKxklh6t63RA' 'AirVzN1BVQBmq5zY0YMNYQ' 'llkm_iXQszkN5DZvmqjNqA'\n",
      " 'y5_vrqIylhXMrejM_-x_vA' '4UUIpbOTPmu43wuC2aSGkg' 'jopndPrv-H5KW2CfScnw9A'\n",
      " '--65q1FpAL_UQtVZ2PTGew' 'BjwXX-sChcjx2E55B_7rXg' 'e4TQFVfepzHf--hnBsjntg'\n",
      " '-F32Vl8Rk4dwsmk0f2wRIw' 'GrSixRnGIxNUJ1Cn5DNX9A' 'ST8Yzlk2MqKlcaLqL2djBg'\n",
      " 'mym5tXZoZCbuPCYQzI5Ysg' 'vF4B6eFdoDmyV_l7MLHMzw' 'iwZ_7QuZ1tzT6pIZmOlDQg'\n",
      " '78Ed1ndOak2kmzljulPfBg' 'A_O8wZOsMTPwyeYA4-Rsow' 'ceKoQX0_IJZ6Lr9-9LGcbA'\n",
      " '4dnDsoHuxUtzhaumxbpR5w']\n",
      "['sEWeeq41k4ohBz4jS_iGRw' 'T7J9ae0wTskrI_Bgwp-4cA' '4ozupHULqGyO42s3zNUzOQ'\n",
      " 'hcctCQy3bdZMezrUKkZLtA' 'kk05snSafuIFK0lsxoMNzA' 'M6oU3OBf_E6gqlfkLGlStQ'\n",
      " 'fczQCSmaWF78toLEmb0Zsw' 'q9XgOylNsSbqZqF_SO3-OQ' 'xFG4Ca2HHmbxDTkMlmHnjQ'\n",
      " 'pEVf8GRshP9HUkSpizc9LA' 'AeucYo8J-rZjcq09Wuqsjw' '3gIfcQq5KxAegwCPXc83cQ'\n",
      " '_PzSNcfrCjeBxSLXRoMmgQ' 'hjJPKQ1Ah91h3fVbc8GsOg' 'f01B5tRtqf3k6ak1pPSAWw'\n",
      " 'BjwXX-sChcjx2E55B_7rXg' 'xZvRLPJ1ixhFVomkXSfXAw']\n",
      "['iwUN95LIaEr75TZE_JC6bg' 'gcyEUr4DXcbjnGRAWFtfAQ' 'wC1CPV5bf--bDLtlhNSPLg'\n",
      " 'nWouNfZD3Pw08RYizxkqcA' 'n9Zg0jlOGtxfIrvoPm6Hhw' '4E_nPWw89FLFHdNsEgMH-g'\n",
      " 'Kqvfep2mxS10S50FbVDi4Q' 'sALB8-F04S9VcZMF_GkGUA' 'hcctCQy3bdZMezrUKkZLtA'\n",
      " '8JC-Yb3UDUv2FUl5ym1nVg' 'm7j9e53ycZxjWYBD7rZVng' 'xFG4Ca2HHmbxDTkMlmHnjQ'\n",
      " '9FbgqZ5u9WTLAs28nNafIQ' 'tdNV2Wb0LrFpm1Yfov_Klw' 'h7v_M_0-YVpSVZ2WD7FpAA'\n",
      " 'd66FhQQZzFDKxklh6t63RA' '4IxLt4QvCsJEdaNvH9QApw' 'Ypz7hxOCnrg8Y8vxHJU-sQ'\n",
      " 'wHg1YkCzdZq9WBJOTRgxHQ' 'hjJPKQ1Ah91h3fVbc8GsOg' 'kG8jkVFgOAOq6Ht6RvAjEQ'\n",
      " 'BjwXX-sChcjx2E55B_7rXg' 'q5nFaw9isjD_01PpVAR7hg' 'e4TQFVfepzHf--hnBsjntg'\n",
      " 'Iycf9KNRhxvR187Qu2zZHg' 'GrSixRnGIxNUJ1Cn5DNX9A' 'kGgAARL2UmvCcTRfiscjug'\n",
      " 'ZZ43etAB2n_T53YBYtf8Dw' 'Lp_Ykqfbv5Q-oyGYlMGJRg' 'Sjp6EYsqzdlTvymER6wBfg'\n",
      " 's7Tm9oYWqRlBm5ex2OQ1nw' 'RxfFQxUtSIGYwTKU_rvAeg' 'LaEj3VpQh7bgpAZLzSRRrw'\n",
      " 'QBQlErZajdIyXX84dvFUnQ']\n",
      "['iwUN95LIaEr75TZE_JC6bg' 'XqMkm-DD9VsdcKx2YVGhSA' 'X5GbNXY_nNoa_vTZDD0aCA'\n",
      " 'K0euQLFAcKhQPZ6JxGAryg' '4ozupHULqGyO42s3zNUzOQ' 'f1-pIw_p0ifzu03TXjPRiw'\n",
      " 'Kqvfep2mxS10S50FbVDi4Q' 'sALB8-F04S9VcZMF_GkGUA' 'fczQCSmaWF78toLEmb0Zsw'\n",
      " 'xFG4Ca2HHmbxDTkMlmHnjQ' 'h7v_M_0-YVpSVZ2WD7FpAA' 'gN03qFYysM5DbgjuV6N0QQ'\n",
      " 'uZbTb-u-GVjTa2gtQfry5g' 'kG8jkVFgOAOq6Ht6RvAjEQ' 'XgIhw-aWaq_Fx3ZVQGjnuA'\n",
      " 'BjwXX-sChcjx2E55B_7rXg' 'szbTVEtATfn8f9GxbGGO5w' 'YLE6GoJ61fb0QBF7JTkaJg'\n",
      " '8p4at4zdzCpueAmSBaorZA' 'Pv7DGHzZ-uqIUdOsqPpsVg' 'LaEj3VpQh7bgpAZLzSRRrw']\n",
      "['iwUN95LIaEr75TZE_JC6bg' 'XqMkm-DD9VsdcKx2YVGhSA' '6OWHDbEq23f24Vki_veHBA'\n",
      " 'sEWeeq41k4ohBz4jS_iGRw' 'T7J9ae0wTskrI_Bgwp-4cA' 'MWt24-6bfv_OHLKhwMQ0Tw'\n",
      " 'd0wJVf7Gv7v1B-HHYhxZtQ' '90a6z--_CUrl84aCzZyPsg' 'NLDDaat42UQXQCOpU4e2TA'\n",
      " '0o0VMEJeQY0pAAZ9nxErBA' 'Zwtx7FLZcK5F2P0-Tz8mHg' 'LqgGgWi3FLHBViX9tmZ9sw'\n",
      " '17PPxx8RxjOUD_nQZ1aHEw' 'X_kPh3nt0AJPNPHye2rTlA' '4IxLt4QvCsJEdaNvH9QApw'\n",
      " '7zDqr2I0-xpw9HF5Ha54cA' 'APLIPfq1Rf8QyhHHk2uAyA' 'p7dvahRPZIWL7T6pFA_0dg'\n",
      " 'A99dyhEqcd_yXKPfBWeZHA' 'e4TQFVfepzHf--hnBsjntg' 'GrSixRnGIxNUJ1Cn5DNX9A'\n",
      " '9VPNlcKsL99FvKtz1r9qJg' 'fAiVqZv7P_oc5CzGMX_G9w' 'v6CGBT0OoLRht9dzo7vaXg']\n",
      "['iwUN95LIaEr75TZE_JC6bg' '8WQubmP7G0NM3IyzyMnCEA' 'qABKRj1ggJmtvrL9FMFtuA'\n",
      " 'JgDkCER12uiv4lbpmkZ9VA' '4ozupHULqGyO42s3zNUzOQ' 'du6KeE54IFbPiXpU3LOd1g'\n",
      " 'DrWLhrK8WMZf7Jb-Oqc7ww' 'hFtlFksrcLaWHGPNa6SmeA' 'Cp-PV8rsypbO-xBrQ6KmQg'\n",
      " '90a6z--_CUrl84aCzZyPsg' 'Ovpa3S8xD96dLE5eDxcxJg' 'OsYh3jArm6fgozczE85ZeQ'\n",
      " '4IxLt4QvCsJEdaNvH9QApw' 'y5_vrqIylhXMrejM_-x_vA' 'XBHJCDzNh--mBhJkzyM_iA'\n",
      " '9qCPmT6ovJjxL4tJB4ANCg' 'GrSixRnGIxNUJ1Cn5DNX9A' 'ST8Yzlk2MqKlcaLqL2djBg'\n",
      " 'rjlb-7-JcmM6fR64ZpyTug' 'tlSSQwfHYJany7wPoTH46A' 'b4C9E7vTJrOdkJQA86xYSg'\n",
      " 'RxfFQxUtSIGYwTKU_rvAeg' 'PoQOIZc2q5nud7uVz_jdjw' 'g84VjttN28PWiv_WtdhnSQ']\n",
      "['nDBly08j5URmrHQ2JCbyiw' '0bNXP9quoJEgyVZu9ipGgQ' '4ozupHULqGyO42s3zNUzOQ'\n",
      " 'f1-pIw_p0ifzu03TXjPRiw' 'd0wJVf7Gv7v1B-HHYhxZtQ' '4E_nPWw89FLFHdNsEgMH-g'\n",
      " 'Kqvfep2mxS10S50FbVDi4Q' 'hcctCQy3bdZMezrUKkZLtA' 'LqgGgWi3FLHBViX9tmZ9sw'\n",
      " 'xFG4Ca2HHmbxDTkMlmHnjQ' 'uZbTb-u-GVjTa2gtQfry5g' 'V0y4fqp-4pSRfsz0FmsjPA'\n",
      " 'Iycf9KNRhxvR187Qu2zZHg' 'ST8Yzlk2MqKlcaLqL2djBg' '8p4at4zdzCpueAmSBaorZA'\n",
      " 'v2UqlUHA8d3lgTIby0CCFQ' 'DtTuVmtooVyMnGhwPrzLww' 'c3yJNjz_K--z4CIpR7yhvQ']\n",
      "['8WQubmP7G0NM3IyzyMnCEA' 'du6KeE54IFbPiXpU3LOd1g' 'Kqvfep2mxS10S50FbVDi4Q'\n",
      " '90a6z--_CUrl84aCzZyPsg' '8JC-Yb3UDUv2FUl5ym1nVg' 'fczQCSmaWF78toLEmb0Zsw'\n",
      " 'xFG4Ca2HHmbxDTkMlmHnjQ' 'Bmzq_nkjYqp8aWn12RJdhA' 'h7v_M_0-YVpSVZ2WD7FpAA'\n",
      " '4IxLt4QvCsJEdaNvH9QApw' 'uZbTb-u-GVjTa2gtQfry5g' '1BW2HC851fJKPfJeQxjkTA'\n",
      " 'A99dyhEqcd_yXKPfBWeZHA' 'oy6fdscGSXY2gzRqF9pZxg' '3Jw-rYwJEz6jSqPgVVmmhA'\n",
      " '8p4at4zdzCpueAmSBaorZA' 'GyFmGA5UQZ4pXdx1lUH86g' 'v2UqlUHA8d3lgTIby0CCFQ'\n",
      " 'bX5mIrDlyD8ZabvF_An7FA' 'PoQOIZc2q5nud7uVz_jdjw' 'QBQlErZajdIyXX84dvFUnQ']\n",
      "['wC1CPV5bf--bDLtlhNSPLg' '6kmu0mYbdpMIOZ6Y0eVsxg' 'hDlSSyDreM9xY4yQWPm54w'\n",
      " 'Kqvfep2mxS10S50FbVDi4Q' 'm7j9e53ycZxjWYBD7rZVng' 'M6oU3OBf_E6gqlfkLGlStQ'\n",
      " 'fczQCSmaWF78toLEmb0Zsw' 'xFG4Ca2HHmbxDTkMlmHnjQ' '9FbgqZ5u9WTLAs28nNafIQ'\n",
      " 'OsYh3jArm6fgozczE85ZeQ' 'hjJPKQ1Ah91h3fVbc8GsOg' '33vUIil_GCaT92aUaZhRXA'\n",
      " 'BjwXX-sChcjx2E55B_7rXg' 'FktbKOzznpoKTNXMVtc8EA' 'wfvmwhhadHfpM9UoTV0OMA'\n",
      " 'PShy2RYNadDUhJf4ErOJ7w' 'g6rlp5No6GjEDXkrjvg1kQ' 'rjlb-7-JcmM6fR64ZpyTug'\n",
      " 'Sjp6EYsqzdlTvymER6wBfg' 'PS0lCxjGNeUrKxYSdpW-Aw' 'ROr4DQ-gxlfUKmiDC-qSEQ'\n",
      " 'QBQlErZajdIyXX84dvFUnQ']\n",
      "['nDBly08j5URmrHQ2JCbyiw' '0bNXP9quoJEgyVZu9ipGgQ' 'JffajLV-Dnn-eGYgdXDxFg'\n",
      " 'hDlSSyDreM9xY4yQWPm54w' '4E_nPWw89FLFHdNsEgMH-g' 'sALB8-F04S9VcZMF_GkGUA'\n",
      " '90a6z--_CUrl84aCzZyPsg' '0o0VMEJeQY0pAAZ9nxErBA' '8JC-Yb3UDUv2FUl5ym1nVg'\n",
      " 'Ovpa3S8xD96dLE5eDxcxJg' 'fczQCSmaWF78toLEmb0Zsw' 'C8ZTiwa7qWoPSMIivTeSfw'\n",
      " '7zDqr2I0-xpw9HF5Ha54cA' 'y5_vrqIylhXMrejM_-x_vA' 'wHg1YkCzdZq9WBJOTRgxHQ'\n",
      " 'V0y4fqp-4pSRfsz0FmsjPA' 'hjJPKQ1Ah91h3fVbc8GsOg' 'jopndPrv-H5KW2CfScnw9A'\n",
      " 'e4TQFVfepzHf--hnBsjntg' '3Jw-rYwJEz6jSqPgVVmmhA' 'vF4B6eFdoDmyV_l7MLHMzw'\n",
      " 'qASPib1Z8ft8e96dtbh66w' 'g6rlp5No6GjEDXkrjvg1kQ' 'uNbB1uR4EBhmygUc3IfPAw'\n",
      " 'Sjp6EYsqzdlTvymER6wBfg' '4_YfcfHkCem1onJFkItxjA' 'fAiVqZv7P_oc5CzGMX_G9w'\n",
      " 'DtTuVmtooVyMnGhwPrzLww' 'Xm8HXE1JHqscXe5BKf0GFQ' 'g84VjttN28PWiv_WtdhnSQ']\n",
      "['0bNXP9quoJEgyVZu9ipGgQ' 'K0euQLFAcKhQPZ6JxGAryg' 'JgDkCER12uiv4lbpmkZ9VA'\n",
      " 'MWt24-6bfv_OHLKhwMQ0Tw' 'fev0iI-XDrteD4SYRKjiUw' 'hFtlFksrcLaWHGPNa6SmeA'\n",
      " '0o0VMEJeQY0pAAZ9nxErBA' '8JC-Yb3UDUv2FUl5ym1nVg' 'fczQCSmaWF78toLEmb0Zsw'\n",
      " 'LqgGgWi3FLHBViX9tmZ9sw' 'q9XgOylNsSbqZqF_SO3-OQ' 'pv82zTlB5Txsu2Pusu__FA'\n",
      " 'X_kPh3nt0AJPNPHye2rTlA' 'W_QXYA7A0IhMrvbckz7eVg' '4IxLt4QvCsJEdaNvH9QApw'\n",
      " 'usQTOj7LQ9v0Fl98gRa3Iw' '7zDqr2I0-xpw9HF5Ha54cA' 'rL3dPeKDTybG_ct9OCXGAA'\n",
      " 'APLIPfq1Rf8QyhHHk2uAyA' 'BjwXX-sChcjx2E55B_7rXg' 'q5nFaw9isjD_01PpVAR7hg'\n",
      " '-F32Vl8Rk4dwsmk0f2wRIw' '9VPNlcKsL99FvKtz1r9qJg' 'mym5tXZoZCbuPCYQzI5Ysg'\n",
      " 'Lp_Ykqfbv5Q-oyGYlMGJRg' 'Xm8HXE1JHqscXe5BKf0GFQ']\n",
      "['7cR92zkDv4W3kqzii6axvg' 'HY9qpAamqLXFoa7xMwNntg' 'E5QyEU6FCQwnTys0S73zNw'\n",
      " '6kmu0mYbdpMIOZ6Y0eVsxg' 'MWt24-6bfv_OHLKhwMQ0Tw' 'KLekdmo4FdNnP0huUhzZNw'\n",
      " 'lPaYMDmJbAnv_3pmZH_inw' '04xW5mhSBaCzpjbcf2VSZg' 'NLDDaat42UQXQCOpU4e2TA'\n",
      " 'OQMOgqS1NFIyAW4i66iDYA' 'M6oU3OBf_E6gqlfkLGlStQ' 'LqgGgWi3FLHBViX9tmZ9sw'\n",
      " 'q9XgOylNsSbqZqF_SO3-OQ' '3gIfcQq5KxAegwCPXc83cQ' '_PzSNcfrCjeBxSLXRoMmgQ'\n",
      " '7zDqr2I0-xpw9HF5Ha54cA' 'qaAmAU9T_t84UDGiBI98sw' 'f01B5tRtqf3k6ak1pPSAWw'\n",
      " 'PShy2RYNadDUhJf4ErOJ7w' 'A_O8wZOsMTPwyeYA4-Rsow']\n",
      "['7cR92zkDv4W3kqzii6axvg' 'HY9qpAamqLXFoa7xMwNntg' 'dQO0tQISZyb9L4d5ASnXyQ'\n",
      " 'vhxFLqRok6r-D_aQz0s-JQ' '6OWHDbEq23f24Vki_veHBA' 'sEWeeq41k4ohBz4jS_iGRw'\n",
      " 'nDBly08j5URmrHQ2JCbyiw' 'GubdNFoDAsiwE6bWIr97cQ' '_7el1cOgnfkNfmZKi277bQ'\n",
      " '6kmu0mYbdpMIOZ6Y0eVsxg' 'MWt24-6bfv_OHLKhwMQ0Tw' 'lPaYMDmJbAnv_3pmZH_inw'\n",
      " '7GC9fVWKa4a1ZmBGLH6Uww' 'fev0iI-XDrteD4SYRKjiUw' 'hDlSSyDreM9xY4yQWPm54w'\n",
      " 'mfvezpz6ohS0NQk3DZdvqQ' 'sALB8-F04S9VcZMF_GkGUA' 'nc3cqVN0UuB3m50-CcMftw'\n",
      " '04xW5mhSBaCzpjbcf2VSZg' 'vsXP832M0kOxKpfduD7dWw' '90a6z--_CUrl84aCzZyPsg'\n",
      " 'AdEy5KAIlMAy8xHyuMQCFg' '100Df1wcVrl9rJgB7EG6xw' 'Zwtx7FLZcK5F2P0-Tz8mHg'\n",
      " 'kk05snSafuIFK0lsxoMNzA' 'OQMOgqS1NFIyAW4i66iDYA' 'fczQCSmaWF78toLEmb0Zsw'\n",
      " 'LqgGgWi3FLHBViX9tmZ9sw' 'q9XgOylNsSbqZqF_SO3-OQ' '6ts41fCsDKHbFZaKOMNmVQ'\n",
      " 'HOleI3jz1MLNUJ6cc1x0Pw' '17PPxx8RxjOUD_nQZ1aHEw' 'UoBfwbXaixelZBghbJ2cSg'\n",
      " 'W_QXYA7A0IhMrvbckz7eVg' 'C8ZTiwa7qWoPSMIivTeSfw' 'PNS9z4aFDbfhpIsHCfNvNg'\n",
      " '_PzSNcfrCjeBxSLXRoMmgQ' 'AirVzN1BVQBmq5zY0YMNYQ' '7zDqr2I0-xpw9HF5Ha54cA'\n",
      " 'qaAmAU9T_t84UDGiBI98sw' 'eBwBjylS66qPcHs2_ajLag' 'p7dvahRPZIWL7T6pFA_0dg'\n",
      " '33vUIil_GCaT92aUaZhRXA' 'f01B5tRtqf3k6ak1pPSAWw' 'jdeNI5TTTuM6mj3HTgstRA'\n",
      " '--65q1FpAL_UQtVZ2PTGew' 'XBHJCDzNh--mBhJkzyM_iA' 'FktbKOzznpoKTNXMVtc8EA'\n",
      " 'oy6fdscGSXY2gzRqF9pZxg' '9VPNlcKsL99FvKtz1r9qJg' 'JkMOQaMjlBHMqp6gj-hL3w'\n",
      " 'qASPib1Z8ft8e96dtbh66w' '3eit3w0zDbb-z57c9P60vg' 'jqVeTSin5GeRm0ceSg-PBA'\n",
      " '4_YfcfHkCem1onJFkItxjA' 'f3LA83yEEBMj9q92H28O7w' 'ceKoQX0_IJZ6Lr9-9LGcbA'\n",
      " 'b4C9E7vTJrOdkJQA86xYSg' '0oRtnPHtvZIE1UNxCDDTPw']\n",
      "['7cR92zkDv4W3kqzii6axvg' 'mlBC3pN9GXlUUfQi1qBBZA' 'sEWeeq41k4ohBz4jS_iGRw'\n",
      " '0bNXP9quoJEgyVZu9ipGgQ' 'Yk37VAp452K7FwHWd1rrQw' 'Ps1Db9zOatoF_76FZNO5CQ'\n",
      " 'lPaYMDmJbAnv_3pmZH_inw' 'fev0iI-XDrteD4SYRKjiUw' 'P2kVk4cIWyK4e4h14RhK-Q'\n",
      " '90a6z--_CUrl84aCzZyPsg' 'pEVf8GRshP9HUkSpizc9LA' 'tdNV2Wb0LrFpm1Yfov_Klw'\n",
      " '17PPxx8RxjOUD_nQZ1aHEw' 'W_QXYA7A0IhMrvbckz7eVg' 'joIzw_aUiNvBTuGoytrH7g'\n",
      " 'AirVzN1BVQBmq5zY0YMNYQ' 'jdeNI5TTTuM6mj3HTgstRA' '9qCPmT6ovJjxL4tJB4ANCg'\n",
      " 'PShy2RYNadDUhJf4ErOJ7w' 'YLE6GoJ61fb0QBF7JTkaJg' 'ceKoQX0_IJZ6Lr9-9LGcbA'\n",
      " 'lC4X2crUuxT9Ac9BlOX4Uw' 'yy3jXczrKljJGzjo24HWfw']\n",
      "['7cR92zkDv4W3kqzii6axvg' 'XqMkm-DD9VsdcKx2YVGhSA' 'gcyEUr4DXcbjnGRAWFtfAQ'\n",
      " 'nDBly08j5URmrHQ2JCbyiw' 'X5GbNXY_nNoa_vTZDD0aCA' '64YY0h0ZAR2nbzxbx0IwJg'\n",
      " 'wC1CPV5bf--bDLtlhNSPLg' 'Ps1Db9zOatoF_76FZNO5CQ' 'JgDkCER12uiv4lbpmkZ9VA'\n",
      " '_7el1cOgnfkNfmZKi277bQ' '4ozupHULqGyO42s3zNUzOQ' '6kmu0mYbdpMIOZ6Y0eVsxg'\n",
      " 'MWt24-6bfv_OHLKhwMQ0Tw' 'fev0iI-XDrteD4SYRKjiUw' 'hDlSSyDreM9xY4yQWPm54w'\n",
      " '4E_nPWw89FLFHdNsEgMH-g' 'Kqvfep2mxS10S50FbVDi4Q' '_GVAV2LjUWEs9fGjslex_A'\n",
      " '100Df1wcVrl9rJgB7EG6xw' 'Zwtx7FLZcK5F2P0-Tz8mHg' 'q9XgOylNsSbqZqF_SO3-OQ'\n",
      " '6ts41fCsDKHbFZaKOMNmVQ' 'pEVf8GRshP9HUkSpizc9LA' 'oC0kwGvgaAeT3ZIxdxTcJA'\n",
      " 'W_QXYA7A0IhMrvbckz7eVg' '4IxLt4QvCsJEdaNvH9QApw' 'PNS9z4aFDbfhpIsHCfNvNg'\n",
      " '_PzSNcfrCjeBxSLXRoMmgQ' 'gN03qFYysM5DbgjuV6N0QQ' 'wNqwKWaRjClmcKsoJJRFow'\n",
      " '7zDqr2I0-xpw9HF5Ha54cA' '33vUIil_GCaT92aUaZhRXA' '_uL7OiQSfNsCd60DrAf7qQ'\n",
      " 'f01B5tRtqf3k6ak1pPSAWw' 'jopndPrv-H5KW2CfScnw9A' 'BjwXX-sChcjx2E55B_7rXg'\n",
      " 'exefpuK6O1ctUUqTxq5XLg' 'Iycf9KNRhxvR187Qu2zZHg' '3Jw-rYwJEz6jSqPgVVmmhA'\n",
      " 'f3LA83yEEBMj9q92H28O7w' 'EKwGhgLrM18ErVKKeYE2UA' '0oRtnPHtvZIE1UNxCDDTPw'\n",
      " 'v6CGBT0OoLRht9dzo7vaXg']\n",
      "['7cR92zkDv4W3kqzii6axvg' 'nDBly08j5URmrHQ2JCbyiw' 'wC1CPV5bf--bDLtlhNSPLg'\n",
      " 'lPaYMDmJbAnv_3pmZH_inw' 'hDlSSyDreM9xY4yQWPm54w' 'Cp-PV8rsypbO-xBrQ6KmQg'\n",
      " 'sALB8-F04S9VcZMF_GkGUA' '90a6z--_CUrl84aCzZyPsg' 'ikm0UCahtK34LbLCEw4YTw'\n",
      " '_GVAV2LjUWEs9fGjslex_A' 'Ovpa3S8xD96dLE5eDxcxJg' 'fczQCSmaWF78toLEmb0Zsw'\n",
      " 'q9XgOylNsSbqZqF_SO3-OQ' '4IxLt4QvCsJEdaNvH9QApw' 'PNS9z4aFDbfhpIsHCfNvNg'\n",
      " 'llkm_iXQszkN5DZvmqjNqA' 'wHg1YkCzdZq9WBJOTRgxHQ' 'gq_G5VCDziyEV2-bzGuqzw'\n",
      " 'e4TQFVfepzHf--hnBsjntg' 'GrSixRnGIxNUJ1Cn5DNX9A' 'ST8Yzlk2MqKlcaLqL2djBg'\n",
      " 'Lp_Ykqfbv5Q-oyGYlMGJRg' 'bX5mIrDlyD8ZabvF_An7FA']\n",
      "['7cR92zkDv4W3kqzii6axvg' 'XqMkm-DD9VsdcKx2YVGhSA' 'gcyEUr4DXcbjnGRAWFtfAQ'\n",
      " 'HY9qpAamqLXFoa7xMwNntg' 'vhxFLqRok6r-D_aQz0s-JQ' 'sEWeeq41k4ohBz4jS_iGRw'\n",
      " 'nDBly08j5URmrHQ2JCbyiw' 'lPaYMDmJbAnv_3pmZH_inw' 'fev0iI-XDrteD4SYRKjiUw'\n",
      " 'UuwjD6MZf6Z6QlNphiXRjA' 'f1-pIw_p0ifzu03TXjPRiw' 'bcZd4ohK6CIT_BOQ0_O53w'\n",
      " 'd0wJVf7Gv7v1B-HHYhxZtQ' 'vsXP832M0kOxKpfduD7dWw' 'kk05snSafuIFK0lsxoMNzA'\n",
      " 'MUHoBFzwRoXpCpgYSN8KRA' 'LqgGgWi3FLHBViX9tmZ9sw' 'q9XgOylNsSbqZqF_SO3-OQ'\n",
      " '6ts41fCsDKHbFZaKOMNmVQ' 'W_QXYA7A0IhMrvbckz7eVg' '3gIfcQq5KxAegwCPXc83cQ'\n",
      " '7zDqr2I0-xpw9HF5Ha54cA' '4UUIpbOTPmu43wuC2aSGkg' 'f01B5tRtqf3k6ak1pPSAWw'\n",
      " 'XBHJCDzNh--mBhJkzyM_iA' 'oy6fdscGSXY2gzRqF9pZxg' '78Ed1ndOak2kmzljulPfBg'\n",
      " 'A_O8wZOsMTPwyeYA4-Rsow' 'RxfFQxUtSIGYwTKU_rvAeg' '4dnDsoHuxUtzhaumxbpR5w']\n",
      "['T7J9ae0wTskrI_Bgwp-4cA' 'JgDkCER12uiv4lbpmkZ9VA' '_jjIaczpcVDpHlH6l334rQ'\n",
      " 'lPaYMDmJbAnv_3pmZH_inw' 'P2kVk4cIWyK4e4h14RhK-Q' '8JC-Yb3UDUv2FUl5ym1nVg'\n",
      " 'ZmIgP4U4Ht9CYmNX0_zP6w' 'M6oU3OBf_E6gqlfkLGlStQ' 'LqgGgWi3FLHBViX9tmZ9sw'\n",
      " 'pEVf8GRshP9HUkSpizc9LA' '17PPxx8RxjOUD_nQZ1aHEw' 'Bmzq_nkjYqp8aWn12RJdhA'\n",
      " 'joIzw_aUiNvBTuGoytrH7g' 'AeucYo8J-rZjcq09Wuqsjw' 'rO3WEI9L-_deUR9-JHuNQw'\n",
      " 'AirVzN1BVQBmq5zY0YMNYQ' 'gN03qFYysM5DbgjuV6N0QQ' 'eBwBjylS66qPcHs2_ajLag'\n",
      " 'VPXgY9lGJF3XC4ZpusxNuA' 'A99dyhEqcd_yXKPfBWeZHA' '9qCPmT6ovJjxL4tJB4ANCg'\n",
      " '-F32Vl8Rk4dwsmk0f2wRIw' 'uNbB1uR4EBhmygUc3IfPAw' 'b2DKC4kC8-QeSeGZ_MF3XQ'\n",
      " 'EKwGhgLrM18ErVKKeYE2UA' 'KSTOdz0lSFCkqBSRNwjERA']\n",
      "['XqMkm-DD9VsdcKx2YVGhSA' 'X5GbNXY_nNoa_vTZDD0aCA' '64YY0h0ZAR2nbzxbx0IwJg'\n",
      " '4ozupHULqGyO42s3zNUzOQ' '_4lqpCYCqOQzbB6xQGGhrQ' 'du6KeE54IFbPiXpU3LOd1g'\n",
      " 'l53FUDHRHLg7BQ89KgAtxQ' 'bcZd4ohK6CIT_BOQ0_O53w' 'd0wJVf7Gv7v1B-HHYhxZtQ'\n",
      " 'Cp-PV8rsypbO-xBrQ6KmQg' '90a6z--_CUrl84aCzZyPsg' 'AdEy5KAIlMAy8xHyuMQCFg'\n",
      " 'Zwtx7FLZcK5F2P0-Tz8mHg' 'Ovpa3S8xD96dLE5eDxcxJg' 'fczQCSmaWF78toLEmb0Zsw'\n",
      " 'LqgGgWi3FLHBViX9tmZ9sw' 'q9XgOylNsSbqZqF_SO3-OQ' '9FbgqZ5u9WTLAs28nNafIQ'\n",
      " 'OsYh3jArm6fgozczE85ZeQ' '17PPxx8RxjOUD_nQZ1aHEw' '3gIfcQq5KxAegwCPXc83cQ'\n",
      " 'llkm_iXQszkN5DZvmqjNqA' 'y5_vrqIylhXMrejM_-x_vA' 'APLIPfq1Rf8QyhHHk2uAyA'\n",
      " 'eBwBjylS66qPcHs2_ajLag' 'qa05pUVNapADHZXpHMPMeA' 'hjJPKQ1Ah91h3fVbc8GsOg'\n",
      " 'AkJFqLqHHAKY3H5R8p7cPQ' 'e4TQFVfepzHf--hnBsjntg' 'Iycf9KNRhxvR187Qu2zZHg'\n",
      " 'kGgAARL2UmvCcTRfiscjug' '3Jw-rYwJEz6jSqPgVVmmhA' 'ZZ43etAB2n_T53YBYtf8Dw'\n",
      " 'ST8Yzlk2MqKlcaLqL2djBg' 'mym5tXZoZCbuPCYQzI5Ysg' 'Lp_Ykqfbv5Q-oyGYlMGJRg'\n",
      " 'EKwGhgLrM18ErVKKeYE2UA' '9SZBVZ-mxebOVa1BlWFtWw' 'b4C9E7vTJrOdkJQA86xYSg'\n",
      " 'bX5mIrDlyD8ZabvF_An7FA' 'xZvRLPJ1ixhFVomkXSfXAw' 'Pv7DGHzZ-uqIUdOsqPpsVg'\n",
      " 'Xm8HXE1JHqscXe5BKf0GFQ' 'LaEj3VpQh7bgpAZLzSRRrw']\n",
      "['XqMkm-DD9VsdcKx2YVGhSA' 'dQO0tQISZyb9L4d5ASnXyQ' 'vhxFLqRok6r-D_aQz0s-JQ'\n",
      " 'X5GbNXY_nNoa_vTZDD0aCA' '4ozupHULqGyO42s3zNUzOQ' 'du6KeE54IFbPiXpU3LOd1g'\n",
      " 'thdVzCfKx-DV0zYWqId3pw' 'NLDDaat42UQXQCOpU4e2TA' 'fczQCSmaWF78toLEmb0Zsw'\n",
      " '6ts41fCsDKHbFZaKOMNmVQ' 'PNS9z4aFDbfhpIsHCfNvNg' '_PzSNcfrCjeBxSLXRoMmgQ'\n",
      " 'gN03qFYysM5DbgjuV6N0QQ' '7zDqr2I0-xpw9HF5Ha54cA' '_uL7OiQSfNsCd60DrAf7qQ'\n",
      " '-9mljS0O9mwdOnGv-Oea3Q' 'jopndPrv-H5KW2CfScnw9A' 'XBHJCDzNh--mBhJkzyM_iA'\n",
      " 'exefpuK6O1ctUUqTxq5XLg' 'PShy2RYNadDUhJf4ErOJ7w' '78Ed1ndOak2kmzljulPfBg'\n",
      " 'jqVeTSin5GeRm0ceSg-PBA' 'tlSSQwfHYJany7wPoTH46A' 'kJyR4gT1pfCcNjEY9-YMoQ']\n",
      "['XqMkm-DD9VsdcKx2YVGhSA' 'gcyEUr4DXcbjnGRAWFtfAQ' 'HY9qpAamqLXFoa7xMwNntg'\n",
      " 'vhxFLqRok6r-D_aQz0s-JQ' 'wC1CPV5bf--bDLtlhNSPLg' '_7el1cOgnfkNfmZKi277bQ'\n",
      " '6kmu0mYbdpMIOZ6Y0eVsxg' 'lPaYMDmJbAnv_3pmZH_inw' 'fev0iI-XDrteD4SYRKjiUw'\n",
      " '0qIsBt4EzBDCKrIviV55Ew' 'vsXP832M0kOxKpfduD7dWw' 'M6oU3OBf_E6gqlfkLGlStQ'\n",
      " 'fczQCSmaWF78toLEmb0Zsw' '6ts41fCsDKHbFZaKOMNmVQ' 'X_kPh3nt0AJPNPHye2rTlA'\n",
      " 'W_QXYA7A0IhMrvbckz7eVg' 'C8ZTiwa7qWoPSMIivTeSfw' '_PzSNcfrCjeBxSLXRoMmgQ'\n",
      " 'Ypz7hxOCnrg8Y8vxHJU-sQ' 'llkm_iXQszkN5DZvmqjNqA' 'APLIPfq1Rf8QyhHHk2uAyA'\n",
      " 'hjJPKQ1Ah91h3fVbc8GsOg' 'gq_G5VCDziyEV2-bzGuqzw' '33vUIil_GCaT92aUaZhRXA'\n",
      " 'jdeNI5TTTuM6mj3HTgstRA' 'jopndPrv-H5KW2CfScnw9A' '--65q1FpAL_UQtVZ2PTGew'\n",
      " 'XBHJCDzNh--mBhJkzyM_iA' 'e4TQFVfepzHf--hnBsjntg' 'tBvrnSCLSpUdCDm5w5GPkg'\n",
      " 'N-D-d1Z4UybdlkK1HxlNPA' 'I-P1v7sRjDLEfVOndp01kA' 'szbTVEtATfn8f9GxbGGO5w'\n",
      " 'vF4B6eFdoDmyV_l7MLHMzw' 'Lp_Ykqfbv5Q-oyGYlMGJRg' 'rjlb-7-JcmM6fR64ZpyTug'\n",
      " '3eit3w0zDbb-z57c9P60vg' '4_YfcfHkCem1onJFkItxjA' 'm7vtKWpZ9wdEQ95wJxrMrg'\n",
      " 's7Tm9oYWqRlBm5ex2OQ1nw' 'b4C9E7vTJrOdkJQA86xYSg' 'EJkV29QY_oHwSngQiTj2rQ'\n",
      " 'RxfFQxUtSIGYwTKU_rvAeg' '0oRtnPHtvZIE1UNxCDDTPw']\n",
      "['XqMkm-DD9VsdcKx2YVGhSA' '6OWHDbEq23f24Vki_veHBA' '0bNXP9quoJEgyVZu9ipGgQ'\n",
      " 'JgDkCER12uiv4lbpmkZ9VA' 'lPaYMDmJbAnv_3pmZH_inw' '0o0VMEJeQY0pAAZ9nxErBA'\n",
      " '8JC-Yb3UDUv2FUl5ym1nVg' 'LqgGgWi3FLHBViX9tmZ9sw' 'waD2euOMPTnTzQ0thq3H6Q'\n",
      " 'AeucYo8J-rZjcq09Wuqsjw' 'hjJPKQ1Ah91h3fVbc8GsOg' 'Iycf9KNRhxvR187Qu2zZHg'\n",
      " 'uNbB1uR4EBhmygUc3IfPAw' 's7Tm9oYWqRlBm5ex2OQ1nw' 'c3yJNjz_K--z4CIpR7yhvQ'\n",
      " 'KSTOdz0lSFCkqBSRNwjERA' 'LaEj3VpQh7bgpAZLzSRRrw']\n",
      "['gcyEUr4DXcbjnGRAWFtfAQ' 'HY9qpAamqLXFoa7xMwNntg' 'vhxFLqRok6r-D_aQz0s-JQ'\n",
      " 'sEWeeq41k4ohBz4jS_iGRw' '0bNXP9quoJEgyVZu9ipGgQ' 'JgDkCER12uiv4lbpmkZ9VA'\n",
      " 'lPaYMDmJbAnv_3pmZH_inw' 'n9Zg0jlOGtxfIrvoPm6Hhw' 'hDlSSyDreM9xY4yQWPm54w'\n",
      " 'P2kVk4cIWyK4e4h14RhK-Q' 'bcZd4ohK6CIT_BOQ0_O53w' 'nc3cqVN0UuB3m50-CcMftw'\n",
      " 'tdNV2Wb0LrFpm1Yfov_Klw' 'waD2euOMPTnTzQ0thq3H6Q' 'vWCksqJJfYjGGdD-yb9qGA'\n",
      " '_PzSNcfrCjeBxSLXRoMmgQ' '7zDqr2I0-xpw9HF5Ha54cA' 'XBHJCDzNh--mBhJkzyM_iA'\n",
      " 'e4TQFVfepzHf--hnBsjntg' '-F32Vl8Rk4dwsmk0f2wRIw' 'I-P1v7sRjDLEfVOndp01kA'\n",
      " 'HZeFzs42f0iGaA-sP_hUnA' 's7Tm9oYWqRlBm5ex2OQ1nw' 'KYeLSM3MQpirmHukVV5Iow'\n",
      " 'EJkV29QY_oHwSngQiTj2rQ' 'RxfFQxUtSIGYwTKU_rvAeg' 'g84VjttN28PWiv_WtdhnSQ']\n",
      "['dQO0tQISZyb9L4d5ASnXyQ' 'vhxFLqRok6r-D_aQz0s-JQ' 'sEWeeq41k4ohBz4jS_iGRw'\n",
      " '8WQubmP7G0NM3IyzyMnCEA' '0qIsBt4EzBDCKrIviV55Ew' 'hDlSSyDreM9xY4yQWPm54w'\n",
      " 'hcctCQy3bdZMezrUKkZLtA' 'vsXP832M0kOxKpfduD7dWw' 'm7j9e53ycZxjWYBD7rZVng'\n",
      " 'q9XgOylNsSbqZqF_SO3-OQ' 'xFG4Ca2HHmbxDTkMlmHnjQ' 'xdWsnbaTEfBMVHttqZDHxg'\n",
      " 'HOleI3jz1MLNUJ6cc1x0Pw' '17PPxx8RxjOUD_nQZ1aHEw' '7zDqr2I0-xpw9HF5Ha54cA'\n",
      " 'APLIPfq1Rf8QyhHHk2uAyA' 'hjJPKQ1Ah91h3fVbc8GsOg' 'gq_G5VCDziyEV2-bzGuqzw'\n",
      " '4UUIpbOTPmu43wuC2aSGkg' 'XBHJCDzNh--mBhJkzyM_iA' 'e4TQFVfepzHf--hnBsjntg'\n",
      " 'ZZ43etAB2n_T53YBYtf8Dw' 'szbTVEtATfn8f9GxbGGO5w' 'Sjp6EYsqzdlTvymER6wBfg'\n",
      " 'KYeLSM3MQpirmHukVV5Iow' 'PoQOIZc2q5nud7uVz_jdjw']\n",
      "['Yk37VAp452K7FwHWd1rrQw' 'wC1CPV5bf--bDLtlhNSPLg' 'JgDkCER12uiv4lbpmkZ9VA'\n",
      " 'MUHoBFzwRoXpCpgYSN8KRA' 'M6oU3OBf_E6gqlfkLGlStQ' 'joIzw_aUiNvBTuGoytrH7g'\n",
      " 'p7dvahRPZIWL7T6pFA_0dg' '33vUIil_GCaT92aUaZhRXA' 'kG8jkVFgOAOq6Ht6RvAjEQ'\n",
      " 'Iycf9KNRhxvR187Qu2zZHg' 'I-P1v7sRjDLEfVOndp01kA' 'YLE6GoJ61fb0QBF7JTkaJg'\n",
      " 'b2DKC4kC8-QeSeGZ_MF3XQ' 'GyFmGA5UQZ4pXdx1lUH86g' 'WWxCMDn8rVHIrIFoKRcRDg'\n",
      " 'QBQlErZajdIyXX84dvFUnQ']\n",
      "['XqMkm-DD9VsdcKx2YVGhSA' 'gcyEUr4DXcbjnGRAWFtfAQ' 'nDBly08j5URmrHQ2JCbyiw'\n",
      " '0bNXP9quoJEgyVZu9ipGgQ' 'T7J9ae0wTskrI_Bgwp-4cA' 'JgDkCER12uiv4lbpmkZ9VA'\n",
      " '7GC9fVWKa4a1ZmBGLH6Uww' '90a6z--_CUrl84aCzZyPsg' '100Df1wcVrl9rJgB7EG6xw'\n",
      " 'M6oU3OBf_E6gqlfkLGlStQ' 'HOleI3jz1MLNUJ6cc1x0Pw' 'C8ZTiwa7qWoPSMIivTeSfw'\n",
      " '_PzSNcfrCjeBxSLXRoMmgQ' 'usQTOj7LQ9v0Fl98gRa3Iw' 'f01B5tRtqf3k6ak1pPSAWw'\n",
      " 'Bc2UjSePEGvqSdHvz2HKGA' '3Jw-rYwJEz6jSqPgVVmmhA' 'JkMOQaMjlBHMqp6gj-hL3w'\n",
      " 'Lp_Ykqfbv5Q-oyGYlMGJRg' '3eit3w0zDbb-z57c9P60vg' 'f3LA83yEEBMj9q92H28O7w']\n",
      "['XqMkm-DD9VsdcKx2YVGhSA' 'X5GbNXY_nNoa_vTZDD0aCA' '0bNXP9quoJEgyVZu9ipGgQ'\n",
      " 'T7J9ae0wTskrI_Bgwp-4cA' 'JgDkCER12uiv4lbpmkZ9VA' '4ozupHULqGyO42s3zNUzOQ'\n",
      " 'E5QyEU6FCQwnTys0S73zNw' 'fev0iI-XDrteD4SYRKjiUw' '4E_nPWw89FLFHdNsEgMH-g'\n",
      " 'nc3cqVN0UuB3m50-CcMftw' 'vsXP832M0kOxKpfduD7dWw' 'LqgGgWi3FLHBViX9tmZ9sw'\n",
      " 'q9XgOylNsSbqZqF_SO3-OQ' '17PPxx8RxjOUD_nQZ1aHEw' 'W_QXYA7A0IhMrvbckz7eVg'\n",
      " '3gIfcQq5KxAegwCPXc83cQ' 'AirVzN1BVQBmq5zY0YMNYQ' 'usQTOj7LQ9v0Fl98gRa3Iw'\n",
      " 'uZbTb-u-GVjTa2gtQfry5g' 'rL3dPeKDTybG_ct9OCXGAA' 'eBwBjylS66qPcHs2_ajLag'\n",
      " '4UUIpbOTPmu43wuC2aSGkg' 'VPXgY9lGJF3XC4ZpusxNuA' 'f01B5tRtqf3k6ak1pPSAWw'\n",
      " 'BjwXX-sChcjx2E55B_7rXg' 'e4TQFVfepzHf--hnBsjntg' '-F32Vl8Rk4dwsmk0f2wRIw'\n",
      " 'g6rlp5No6GjEDXkrjvg1kQ' '8dbRf1UsWp2ktXHZ6Zv06w' 'A_O8wZOsMTPwyeYA4-Rsow'\n",
      " 'f3LA83yEEBMj9q92H28O7w' 'PoQOIZc2q5nud7uVz_jdjw' 'g84VjttN28PWiv_WtdhnSQ']\n",
      "['XqMkm-DD9VsdcKx2YVGhSA' 'gcyEUr4DXcbjnGRAWFtfAQ' 'vhxFLqRok6r-D_aQz0s-JQ'\n",
      " '8WQubmP7G0NM3IyzyMnCEA' 'JgDkCER12uiv4lbpmkZ9VA' '6kmu0mYbdpMIOZ6Y0eVsxg'\n",
      " 'lPaYMDmJbAnv_3pmZH_inw' 'n9Zg0jlOGtxfIrvoPm6Hhw' 'nc3cqVN0UuB3m50-CcMftw'\n",
      " 'z1tNqF5qJRpibGj-9_r9Ew' 'q9XgOylNsSbqZqF_SO3-OQ' '17PPxx8RxjOUD_nQZ1aHEw'\n",
      " 'C8ZTiwa7qWoPSMIivTeSfw' '_PzSNcfrCjeBxSLXRoMmgQ' 'hjJPKQ1Ah91h3fVbc8GsOg'\n",
      " '--65q1FpAL_UQtVZ2PTGew' 'HZeFzs42f0iGaA-sP_hUnA' 'JkMOQaMjlBHMqp6gj-hL3w'\n",
      " 'f3LA83yEEBMj9q92H28O7w' 's7Tm9oYWqRlBm5ex2OQ1nw' 'RxfFQxUtSIGYwTKU_rvAeg'\n",
      " 'ROr4DQ-gxlfUKmiDC-qSEQ' '0oRtnPHtvZIE1UNxCDDTPw']\n",
      "['XqMkm-DD9VsdcKx2YVGhSA' 'gcyEUr4DXcbjnGRAWFtfAQ' 'sEWeeq41k4ohBz4jS_iGRw'\n",
      " 'JgDkCER12uiv4lbpmkZ9VA' 'E5QyEU6FCQwnTys0S73zNw' '6kmu0mYbdpMIOZ6Y0eVsxg'\n",
      " 'MWt24-6bfv_OHLKhwMQ0Tw' 'fev0iI-XDrteD4SYRKjiUw' 'nc3cqVN0UuB3m50-CcMftw'\n",
      " 'AdEy5KAIlMAy8xHyuMQCFg' 'OQMOgqS1NFIyAW4i66iDYA' 'MUHoBFzwRoXpCpgYSN8KRA'\n",
      " 'q9XgOylNsSbqZqF_SO3-OQ' 'HOleI3jz1MLNUJ6cc1x0Pw' '17PPxx8RxjOUD_nQZ1aHEw'\n",
      " 'oC0kwGvgaAeT3ZIxdxTcJA' 'W_QXYA7A0IhMrvbckz7eVg' 'C8ZTiwa7qWoPSMIivTeSfw'\n",
      " '_PzSNcfrCjeBxSLXRoMmgQ' 'usQTOj7LQ9v0Fl98gRa3Iw' '7zDqr2I0-xpw9HF5Ha54cA'\n",
      " 'y5_vrqIylhXMrejM_-x_vA' 'eBwBjylS66qPcHs2_ajLag' 'hjJPKQ1Ah91h3fVbc8GsOg'\n",
      " '33vUIil_GCaT92aUaZhRXA' '_uL7OiQSfNsCd60DrAf7qQ' 'jdeNI5TTTuM6mj3HTgstRA'\n",
      " 'A99dyhEqcd_yXKPfBWeZHA' 'exefpuK6O1ctUUqTxq5XLg' 'ST8Yzlk2MqKlcaLqL2djBg'\n",
      " 'PShy2RYNadDUhJf4ErOJ7w' 'szbTVEtATfn8f9GxbGGO5w' 'qASPib1Z8ft8e96dtbh66w'\n",
      " 'f3LA83yEEBMj9q92H28O7w' 'RxfFQxUtSIGYwTKU_rvAeg']\n",
      "['wC1CPV5bf--bDLtlhNSPLg' 'DrWLhrK8WMZf7Jb-Oqc7ww' 'hFtlFksrcLaWHGPNa6SmeA'\n",
      " '4E_nPWw89FLFHdNsEgMH-g' '90a6z--_CUrl84aCzZyPsg' '8JC-Yb3UDUv2FUl5ym1nVg'\n",
      " 'joIzw_aUiNvBTuGoytrH7g' 'Sa64rQmghfE9i17_dRIDyw' '1BW2HC851fJKPfJeQxjkTA'\n",
      " 'FktbKOzznpoKTNXMVtc8EA' 'exefpuK6O1ctUUqTxq5XLg' 'NvDR3SPVPXrDB_dbKuGoWA'\n",
      " 'kGgAARL2UmvCcTRfiscjug' '3Jw-rYwJEz6jSqPgVVmmhA' 'szbTVEtATfn8f9GxbGGO5w'\n",
      " 'g6rlp5No6GjEDXkrjvg1kQ' 'DtTuVmtooVyMnGhwPrzLww']\n",
      "['XqMkm-DD9VsdcKx2YVGhSA' 'qABKRj1ggJmtvrL9FMFtuA' 'JffajLV-Dnn-eGYgdXDxFg'\n",
      " 'nWouNfZD3Pw08RYizxkqcA' 'MWt24-6bfv_OHLKhwMQ0Tw' 'hFtlFksrcLaWHGPNa6SmeA'\n",
      " 'Cp-PV8rsypbO-xBrQ6KmQg' 'thdVzCfKx-DV0zYWqId3pw' 'Kqvfep2mxS10S50FbVDi4Q'\n",
      " '90a6z--_CUrl84aCzZyPsg' 'Ovpa3S8xD96dLE5eDxcxJg' 'M6oU3OBf_E6gqlfkLGlStQ'\n",
      " '9FbgqZ5u9WTLAs28nNafIQ' 'X_kPh3nt0AJPNPHye2rTlA' 'UoBfwbXaixelZBghbJ2cSg'\n",
      " 'joIzw_aUiNvBTuGoytrH7g' 'AeucYo8J-rZjcq09Wuqsjw' 'rO3WEI9L-_deUR9-JHuNQw'\n",
      " '3gIfcQq5KxAegwCPXc83cQ' 'APLIPfq1Rf8QyhHHk2uAyA' 'wHg1YkCzdZq9WBJOTRgxHQ'\n",
      " 'VPXgY9lGJF3XC4ZpusxNuA' '-F32Vl8Rk4dwsmk0f2wRIw' 'g6rlp5No6GjEDXkrjvg1kQ'\n",
      " 'jqVeTSin5GeRm0ceSg-PBA' 'IO3AsR6cdMto7VCwfPzf2w' 'KSTOdz0lSFCkqBSRNwjERA']\n",
      "['XqMkm-DD9VsdcKx2YVGhSA' 'vhxFLqRok6r-D_aQz0s-JQ' 'X5GbNXY_nNoa_vTZDD0aCA'\n",
      " '4ozupHULqGyO42s3zNUzOQ' '_4lqpCYCqOQzbB6xQGGhrQ' 'nWouNfZD3Pw08RYizxkqcA'\n",
      " 'E5QyEU6FCQwnTys0S73zNw' 'MWt24-6bfv_OHLKhwMQ0Tw' '7GC9fVWKa4a1ZmBGLH6Uww'\n",
      " 'UuwjD6MZf6Z6QlNphiXRjA' 'mfvezpz6ohS0NQk3DZdvqQ' 'thdVzCfKx-DV0zYWqId3pw'\n",
      " '4E_nPWw89FLFHdNsEgMH-g' '04xW5mhSBaCzpjbcf2VSZg' 'Ovpa3S8xD96dLE5eDxcxJg'\n",
      " 'fczQCSmaWF78toLEmb0Zsw' 'LqgGgWi3FLHBViX9tmZ9sw' 'q9XgOylNsSbqZqF_SO3-OQ'\n",
      " 'OsYh3jArm6fgozczE85ZeQ' 'joIzw_aUiNvBTuGoytrH7g' 'd66FhQQZzFDKxklh6t63RA'\n",
      " '_PzSNcfrCjeBxSLXRoMmgQ' 'Ypz7hxOCnrg8Y8vxHJU-sQ' 'APLIPfq1Rf8QyhHHk2uAyA'\n",
      " 'qa05pUVNapADHZXpHMPMeA' 'wHg1YkCzdZq9WBJOTRgxHQ' '3ONPPazUH-Q3XblYJIaA1A'\n",
      " 'jdeNI5TTTuM6mj3HTgstRA' 'kNO6w6EIKo8u6GSykOHBLA' 'e4TQFVfepzHf--hnBsjntg'\n",
      " 'N-D-d1Z4UybdlkK1HxlNPA' '-F32Vl8Rk4dwsmk0f2wRIw' 'GrSixRnGIxNUJ1Cn5DNX9A'\n",
      " 'Lp_Ykqfbv5Q-oyGYlMGJRg' 'jqVeTSin5GeRm0ceSg-PBA' '4_YfcfHkCem1onJFkItxjA'\n",
      " 'PS0lCxjGNeUrKxYSdpW-Aw' 'KYeLSM3MQpirmHukVV5Iow' 'yy3jXczrKljJGzjo24HWfw'\n",
      " 'kJyR4gT1pfCcNjEY9-YMoQ']\n",
      "['XqMkm-DD9VsdcKx2YVGhSA' 'nbofxFWHORebBHh10OgYLA' 'JffajLV-Dnn-eGYgdXDxFg'\n",
      " '4ozupHULqGyO42s3zNUzOQ' '6kmu0mYbdpMIOZ6Y0eVsxg' 'MWt24-6bfv_OHLKhwMQ0Tw'\n",
      " 'lPaYMDmJbAnv_3pmZH_inw' '0qIsBt4EzBDCKrIviV55Ew' 'Cp-PV8rsypbO-xBrQ6KmQg'\n",
      " 'sALB8-F04S9VcZMF_GkGUA' '100Df1wcVrl9rJgB7EG6xw' 'fczQCSmaWF78toLEmb0Zsw'\n",
      " '6ts41fCsDKHbFZaKOMNmVQ' 'HOleI3jz1MLNUJ6cc1x0Pw' 'X_kPh3nt0AJPNPHye2rTlA'\n",
      " 'PNS9z4aFDbfhpIsHCfNvNg' '_PzSNcfrCjeBxSLXRoMmgQ' 'llkm_iXQszkN5DZvmqjNqA'\n",
      " 'y5_vrqIylhXMrejM_-x_vA' 'APLIPfq1Rf8QyhHHk2uAyA' 'gq_G5VCDziyEV2-bzGuqzw'\n",
      " 'BjwXX-sChcjx2E55B_7rXg' 'XBHJCDzNh--mBhJkzyM_iA' 'e4TQFVfepzHf--hnBsjntg'\n",
      " 'tBvrnSCLSpUdCDm5w5GPkg' 'N-D-d1Z4UybdlkK1HxlNPA' 'ST8Yzlk2MqKlcaLqL2djBg'\n",
      " 'szbTVEtATfn8f9GxbGGO5w' 'Lp_Ykqfbv5Q-oyGYlMGJRg' '4_YfcfHkCem1onJFkItxjA'\n",
      " '9SZBVZ-mxebOVa1BlWFtWw' 'b4C9E7vTJrOdkJQA86xYSg' '4dnDsoHuxUtzhaumxbpR5w'\n",
      " '0oRtnPHtvZIE1UNxCDDTPw']\n",
      "['XqMkm-DD9VsdcKx2YVGhSA' '0bNXP9quoJEgyVZu9ipGgQ' 'Ps1Db9zOatoF_76FZNO5CQ'\n",
      " '4ozupHULqGyO42s3zNUzOQ' 'lPaYMDmJbAnv_3pmZH_inw' 'du6KeE54IFbPiXpU3LOd1g'\n",
      " 'l53FUDHRHLg7BQ89KgAtxQ' 'hFtlFksrcLaWHGPNa6SmeA' '0qIsBt4EzBDCKrIviV55Ew'\n",
      " 'mfvezpz6ohS0NQk3DZdvqQ' 'hcctCQy3bdZMezrUKkZLtA' 'vsXP832M0kOxKpfduD7dWw'\n",
      " '90a6z--_CUrl84aCzZyPsg' 'AdEy5KAIlMAy8xHyuMQCFg' 'NLDDaat42UQXQCOpU4e2TA'\n",
      " 'Zwtx7FLZcK5F2P0-Tz8mHg' 'fczQCSmaWF78toLEmb0Zsw' 'tdNV2Wb0LrFpm1Yfov_Klw'\n",
      " 'UoBfwbXaixelZBghbJ2cSg' 'oC0kwGvgaAeT3ZIxdxTcJA' 'C8ZTiwa7qWoPSMIivTeSfw'\n",
      " 'PNS9z4aFDbfhpIsHCfNvNg' 'AirVzN1BVQBmq5zY0YMNYQ' 'wHg1YkCzdZq9WBJOTRgxHQ'\n",
      " '4UUIpbOTPmu43wuC2aSGkg' 'jopndPrv-H5KW2CfScnw9A' 'tBvrnSCLSpUdCDm5w5GPkg'\n",
      " 'ST8Yzlk2MqKlcaLqL2djBg' 'Lp_Ykqfbv5Q-oyGYlMGJRg' '8p4at4zdzCpueAmSBaorZA'\n",
      " '3eit3w0zDbb-z57c9P60vg' '4_YfcfHkCem1onJFkItxjA' 'b4C9E7vTJrOdkJQA86xYSg'\n",
      " 'kJyR4gT1pfCcNjEY9-YMoQ']\n",
      "['XqMkm-DD9VsdcKx2YVGhSA' 'gcyEUr4DXcbjnGRAWFtfAQ' 'K0euQLFAcKhQPZ6JxGAryg'\n",
      " 'T7J9ae0wTskrI_Bgwp-4cA' 'JffajLV-Dnn-eGYgdXDxFg' 'nWouNfZD3Pw08RYizxkqcA'\n",
      " '0qIsBt4EzBDCKrIviV55Ew' 'P2kVk4cIWyK4e4h14RhK-Q' 'thdVzCfKx-DV0zYWqId3pw'\n",
      " '04xW5mhSBaCzpjbcf2VSZg' 'ikm0UCahtK34LbLCEw4YTw' '_GVAV2LjUWEs9fGjslex_A'\n",
      " 'fczQCSmaWF78toLEmb0Zsw' 'tdNV2Wb0LrFpm1Yfov_Klw' 'pv82zTlB5Txsu2Pusu__FA'\n",
      " 'waD2euOMPTnTzQ0thq3H6Q' 'AeucYo8J-rZjcq09Wuqsjw' '3gIfcQq5KxAegwCPXc83cQ'\n",
      " 'uZbTb-u-GVjTa2gtQfry5g' '9qCPmT6ovJjxL4tJB4ANCg' 'vF4B6eFdoDmyV_l7MLHMzw'\n",
      " 'IO3AsR6cdMto7VCwfPzf2w' 'bX5mIrDlyD8ZabvF_An7FA' 'kJyR4gT1pfCcNjEY9-YMoQ'\n",
      " 'Xm8HXE1JHqscXe5BKf0GFQ']\n",
      "['XqMkm-DD9VsdcKx2YVGhSA' 'vhxFLqRok6r-D_aQz0s-JQ' 'X5GbNXY_nNoa_vTZDD0aCA'\n",
      " 'T7J9ae0wTskrI_Bgwp-4cA' 'JffajLV-Dnn-eGYgdXDxFg' 'fev0iI-XDrteD4SYRKjiUw'\n",
      " 'LqgGgWi3FLHBViX9tmZ9sw' 'W_QXYA7A0IhMrvbckz7eVg' '3gIfcQq5KxAegwCPXc83cQ'\n",
      " 'uZbTb-u-GVjTa2gtQfry5g' 'wfvmwhhadHfpM9UoTV0OMA' 'szbTVEtATfn8f9GxbGGO5w'\n",
      " 'Pv7DGHzZ-uqIUdOsqPpsVg']\n",
      "['XqMkm-DD9VsdcKx2YVGhSA' 'gcyEUr4DXcbjnGRAWFtfAQ' 'JgDkCER12uiv4lbpmkZ9VA'\n",
      " '4ozupHULqGyO42s3zNUzOQ' 'n9Zg0jlOGtxfIrvoPm6Hhw' 'du6KeE54IFbPiXpU3LOd1g'\n",
      " 'fev0iI-XDrteD4SYRKjiUw' '8JC-Yb3UDUv2FUl5ym1nVg' 'M6oU3OBf_E6gqlfkLGlStQ'\n",
      " 'fczQCSmaWF78toLEmb0Zsw' 'pv82zTlB5Txsu2Pusu__FA' 'W_QXYA7A0IhMrvbckz7eVg'\n",
      " 'usQTOj7LQ9v0Fl98gRa3Iw' 'hjJPKQ1Ah91h3fVbc8GsOg' 'VPXgY9lGJF3XC4ZpusxNuA'\n",
      " '--65q1FpAL_UQtVZ2PTGew' '3Jw-rYwJEz6jSqPgVVmmhA' 'szbTVEtATfn8f9GxbGGO5w'\n",
      " 'm7vtKWpZ9wdEQ95wJxrMrg' 'EJkV29QY_oHwSngQiTj2rQ' 'RxfFQxUtSIGYwTKU_rvAeg']\n",
      "['XqMkm-DD9VsdcKx2YVGhSA' 'mlBC3pN9GXlUUfQi1qBBZA' '6OWHDbEq23f24Vki_veHBA'\n",
      " 'sEWeeq41k4ohBz4jS_iGRw' 'T7J9ae0wTskrI_Bgwp-4cA' 'nbofxFWHORebBHh10OgYLA'\n",
      " 'lPaYMDmJbAnv_3pmZH_inw' 'l53FUDHRHLg7BQ89KgAtxQ' 'UuwjD6MZf6Z6QlNphiXRjA'\n",
      " 'thdVzCfKx-DV0zYWqId3pw' 'ZmIgP4U4Ht9CYmNX0_zP6w' 'M6oU3OBf_E6gqlfkLGlStQ'\n",
      " 'X_kPh3nt0AJPNPHye2rTlA' 'Bmzq_nkjYqp8aWn12RJdhA' '8CNEh7fSbLwDuAKhLjDPKQ'\n",
      " 'waD2euOMPTnTzQ0thq3H6Q' 'rO3WEI9L-_deUR9-JHuNQw' '3gIfcQq5KxAegwCPXc83cQ'\n",
      " 'q5nFaw9isjD_01PpVAR7hg' 'A99dyhEqcd_yXKPfBWeZHA' 'tBvrnSCLSpUdCDm5w5GPkg'\n",
      " '9VPNlcKsL99FvKtz1r9qJg' 'JkMOQaMjlBHMqp6gj-hL3w' 'PShy2RYNadDUhJf4ErOJ7w'\n",
      " 'IO3AsR6cdMto7VCwfPzf2w' 'EKwGhgLrM18ErVKKeYE2UA' 'w1LjSa5wMexRIQ-82LKWmQ']\n",
      "['XqMkm-DD9VsdcKx2YVGhSA' 'gcyEUr4DXcbjnGRAWFtfAQ' 'HY9qpAamqLXFoa7xMwNntg'\n",
      " 'jKeaOrPyJ-dI9SNeVqrbww' 'dQO0tQISZyb9L4d5ASnXyQ' '6OWHDbEq23f24Vki_veHBA'\n",
      " 'sEWeeq41k4ohBz4jS_iGRw' 'X5GbNXY_nNoa_vTZDD0aCA' '0bNXP9quoJEgyVZu9ipGgQ'\n",
      " 'Cp-PV8rsypbO-xBrQ6KmQg' '4E_nPWw89FLFHdNsEgMH-g' 'nc3cqVN0UuB3m50-CcMftw'\n",
      " 'hcctCQy3bdZMezrUKkZLtA' '90a6z--_CUrl84aCzZyPsg' 'AdEy5KAIlMAy8xHyuMQCFg'\n",
      " 'MUHoBFzwRoXpCpgYSN8KRA' 'fczQCSmaWF78toLEmb0Zsw' 'HOleI3jz1MLNUJ6cc1x0Pw'\n",
      " 'AeucYo8J-rZjcq09Wuqsjw' 'zCC6huLkNBEr3JUgQyxJbg' '3gIfcQq5KxAegwCPXc83cQ'\n",
      " '_PzSNcfrCjeBxSLXRoMmgQ' 'uZbTb-u-GVjTa2gtQfry5g' '7zDqr2I0-xpw9HF5Ha54cA'\n",
      " 'APLIPfq1Rf8QyhHHk2uAyA' 'A99dyhEqcd_yXKPfBWeZHA' '9qCPmT6ovJjxL4tJB4ANCg'\n",
      " 'N-D-d1Z4UybdlkK1HxlNPA' '3Jw-rYwJEz6jSqPgVVmmhA' 'ST8Yzlk2MqKlcaLqL2djBg'\n",
      " 'KYeLSM3MQpirmHukVV5Iow' 'EJkV29QY_oHwSngQiTj2rQ' 'RxfFQxUtSIGYwTKU_rvAeg'\n",
      " 'v6CGBT0OoLRht9dzo7vaXg']\n",
      "['gcyEUr4DXcbjnGRAWFtfAQ' 'ikm0UCahtK34LbLCEw4YTw' '100Df1wcVrl9rJgB7EG6xw'\n",
      " 'jopndPrv-H5KW2CfScnw9A' 'GrSixRnGIxNUJ1Cn5DNX9A' 'mym5tXZoZCbuPCYQzI5Ysg'\n",
      " 'iwZ_7QuZ1tzT6pIZmOlDQg' '78Ed1ndOak2kmzljulPfBg' 'YLE6GoJ61fb0QBF7JTkaJg'\n",
      " '4_YfcfHkCem1onJFkItxjA' 'm7vtKWpZ9wdEQ95wJxrMrg' 'fAiVqZv7P_oc5CzGMX_G9w'\n",
      " '4dnDsoHuxUtzhaumxbpR5w' 'c3yJNjz_K--z4CIpR7yhvQ']\n",
      "['gcyEUr4DXcbjnGRAWFtfAQ' 'vhxFLqRok6r-D_aQz0s-JQ' 'JgDkCER12uiv4lbpmkZ9VA'\n",
      " '6kmu0mYbdpMIOZ6Y0eVsxg' '7GC9fVWKa4a1ZmBGLH6Uww' '4E_nPWw89FLFHdNsEgMH-g'\n",
      " 'sALB8-F04S9VcZMF_GkGUA' 'Ovpa3S8xD96dLE5eDxcxJg' 'fczQCSmaWF78toLEmb0Zsw'\n",
      " '6ts41fCsDKHbFZaKOMNmVQ' 'UoBfwbXaixelZBghbJ2cSg' 'd66FhQQZzFDKxklh6t63RA'\n",
      " 'gN03qFYysM5DbgjuV6N0QQ' 'wNqwKWaRjClmcKsoJJRFow' '33vUIil_GCaT92aUaZhRXA'\n",
      " '4UUIpbOTPmu43wuC2aSGkg' 'jopndPrv-H5KW2CfScnw9A' 'XBHJCDzNh--mBhJkzyM_iA'\n",
      " 'e4TQFVfepzHf--hnBsjntg' 'exefpuK6O1ctUUqTxq5XLg' '-F32Vl8Rk4dwsmk0f2wRIw'\n",
      " 'qASPib1Z8ft8e96dtbh66w' 'Lp_Ykqfbv5Q-oyGYlMGJRg' 'jqVeTSin5GeRm0ceSg-PBA'\n",
      " '4_YfcfHkCem1onJFkItxjA' 'EKwGhgLrM18ErVKKeYE2UA' 'b4C9E7vTJrOdkJQA86xYSg'\n",
      " '4dnDsoHuxUtzhaumxbpR5w' 'PoQOIZc2q5nud7uVz_jdjw']\n",
      "['gcyEUr4DXcbjnGRAWFtfAQ' 'wC1CPV5bf--bDLtlhNSPLg' 'JgDkCER12uiv4lbpmkZ9VA'\n",
      " '4ozupHULqGyO42s3zNUzOQ' 'du6KeE54IFbPiXpU3LOd1g' 'UuwjD6MZf6Z6QlNphiXRjA'\n",
      " 'vsXP832M0kOxKpfduD7dWw' 'q9XgOylNsSbqZqF_SO3-OQ' '17PPxx8RxjOUD_nQZ1aHEw'\n",
      " 'UoBfwbXaixelZBghbJ2cSg' '3gIfcQq5KxAegwCPXc83cQ' 'gN03qFYysM5DbgjuV6N0QQ'\n",
      " 'usQTOj7LQ9v0Fl98gRa3Iw' 'wNqwKWaRjClmcKsoJJRFow' '--65q1FpAL_UQtVZ2PTGew'\n",
      " 'e4TQFVfepzHf--hnBsjntg' 'exefpuK6O1ctUUqTxq5XLg' 'HZeFzs42f0iGaA-sP_hUnA'\n",
      " 'PShy2RYNadDUhJf4ErOJ7w' 'Lp_Ykqfbv5Q-oyGYlMGJRg' '78Ed1ndOak2kmzljulPfBg'\n",
      " '4_YfcfHkCem1onJFkItxjA' 'f3LA83yEEBMj9q92H28O7w' 'n_lAaNGeWgspbbCJc0DqRg'\n",
      " 'EJkV29QY_oHwSngQiTj2rQ' 'kJyR4gT1pfCcNjEY9-YMoQ' 'KSTOdz0lSFCkqBSRNwjERA']\n",
      "['X5GbNXY_nNoa_vTZDD0aCA' 'T7J9ae0wTskrI_Bgwp-4cA' '4ozupHULqGyO42s3zNUzOQ'\n",
      " 'nWouNfZD3Pw08RYizxkqcA' '7GC9fVWKa4a1ZmBGLH6Uww' 'l53FUDHRHLg7BQ89KgAtxQ'\n",
      " 'P2kVk4cIWyK4e4h14RhK-Q' 'mfvezpz6ohS0NQk3DZdvqQ' 'Cp-PV8rsypbO-xBrQ6KmQg'\n",
      " '04xW5mhSBaCzpjbcf2VSZg' '90a6z--_CUrl84aCzZyPsg' 'q9XgOylNsSbqZqF_SO3-OQ'\n",
      " 'pEVf8GRshP9HUkSpizc9LA' 'UoBfwbXaixelZBghbJ2cSg' 'waD2euOMPTnTzQ0thq3H6Q'\n",
      " 'joIzw_aUiNvBTuGoytrH7g' '3gIfcQq5KxAegwCPXc83cQ' 'APLIPfq1Rf8QyhHHk2uAyA'\n",
      " 'qa05pUVNapADHZXpHMPMeA' '3ONPPazUH-Q3XblYJIaA1A' 'VPXgY9lGJF3XC4ZpusxNuA'\n",
      " 'mym5tXZoZCbuPCYQzI5Ysg' '4_YfcfHkCem1onJFkItxjA' 'b2DKC4kC8-QeSeGZ_MF3XQ'\n",
      " 'EKwGhgLrM18ErVKKeYE2UA' 'RxfFQxUtSIGYwTKU_rvAeg' 'kJyR4gT1pfCcNjEY9-YMoQ'\n",
      " 'Xm8HXE1JHqscXe5BKf0GFQ']\n",
      "['X5GbNXY_nNoa_vTZDD0aCA' '64YY0h0ZAR2nbzxbx0IwJg' '4ozupHULqGyO42s3zNUzOQ'\n",
      " 'Cp-PV8rsypbO-xBrQ6KmQg' 'sALB8-F04S9VcZMF_GkGUA' 'hcctCQy3bdZMezrUKkZLtA'\n",
      " '90a6z--_CUrl84aCzZyPsg' '0o0VMEJeQY0pAAZ9nxErBA' 'Ovpa3S8xD96dLE5eDxcxJg'\n",
      " 'fczQCSmaWF78toLEmb0Zsw' 'd66FhQQZzFDKxklh6t63RA' 'C8ZTiwa7qWoPSMIivTeSfw'\n",
      " 'zCC6huLkNBEr3JUgQyxJbg' 'PNS9z4aFDbfhpIsHCfNvNg' '7zDqr2I0-xpw9HF5Ha54cA'\n",
      " 'APLIPfq1Rf8QyhHHk2uAyA' 'AkJFqLqHHAKY3H5R8p7cPQ' 'gq_G5VCDziyEV2-bzGuqzw'\n",
      " 'XBHJCDzNh--mBhJkzyM_iA' 'e4TQFVfepzHf--hnBsjntg' 'I-P1v7sRjDLEfVOndp01kA'\n",
      " '3Jw-rYwJEz6jSqPgVVmmhA' 'ZZ43etAB2n_T53YBYtf8Dw' 'PShy2RYNadDUhJf4ErOJ7w'\n",
      " 'Sjp6EYsqzdlTvymER6wBfg' 'b4C9E7vTJrOdkJQA86xYSg' 'bX5mIrDlyD8ZabvF_An7FA'\n",
      " 'LaEj3VpQh7bgpAZLzSRRrw']\n",
      "['0bNXP9quoJEgyVZu9ipGgQ' 'Ps1Db9zOatoF_76FZNO5CQ' 'lPaYMDmJbAnv_3pmZH_inw'\n",
      " 'bcZd4ohK6CIT_BOQ0_O53w' 'thdVzCfKx-DV0zYWqId3pw' 'Kqvfep2mxS10S50FbVDi4Q'\n",
      " '90a6z--_CUrl84aCzZyPsg' '0o0VMEJeQY0pAAZ9nxErBA' 'iBO2m9xXivsIbvFnZHsNvg'\n",
      " 'fczQCSmaWF78toLEmb0Zsw' 'oC0kwGvgaAeT3ZIxdxTcJA' 'joIzw_aUiNvBTuGoytrH7g'\n",
      " 'uZbTb-u-GVjTa2gtQfry5g' 'wNqwKWaRjClmcKsoJJRFow' 'wHg1YkCzdZq9WBJOTRgxHQ'\n",
      " 'NvDR3SPVPXrDB_dbKuGoWA' 'kGgAARL2UmvCcTRfiscjug' 'qASPib1Z8ft8e96dtbh66w'\n",
      " 'f3LA83yEEBMj9q92H28O7w' 'b2DKC4kC8-QeSeGZ_MF3XQ' 'EKwGhgLrM18ErVKKeYE2UA'\n",
      " 'v6CGBT0OoLRht9dzo7vaXg']\n",
      "['X5GbNXY_nNoa_vTZDD0aCA' '64YY0h0ZAR2nbzxbx0IwJg' 'K0euQLFAcKhQPZ6JxGAryg'\n",
      " 'T7J9ae0wTskrI_Bgwp-4cA' 'nWouNfZD3Pw08RYizxkqcA' 'MWt24-6bfv_OHLKhwMQ0Tw'\n",
      " '7GC9fVWKa4a1ZmBGLH6Uww' '0qIsBt4EzBDCKrIviV55Ew' 'UuwjD6MZf6Z6QlNphiXRjA'\n",
      " 'mfvezpz6ohS0NQk3DZdvqQ' 'Cp-PV8rsypbO-xBrQ6KmQg' 'thdVzCfKx-DV0zYWqId3pw'\n",
      " '04xW5mhSBaCzpjbcf2VSZg' 'q9XgOylNsSbqZqF_SO3-OQ' '6ts41fCsDKHbFZaKOMNmVQ'\n",
      " 'LXWAXIeYFIdgd2JVPF-9qA' 'zCC6huLkNBEr3JUgQyxJbg' '3gIfcQq5KxAegwCPXc83cQ'\n",
      " 'uZbTb-u-GVjTa2gtQfry5g' 'rL3dPeKDTybG_ct9OCXGAA' 'eBwBjylS66qPcHs2_ajLag'\n",
      " 'qa05pUVNapADHZXpHMPMeA' 'kG8jkVFgOAOq6Ht6RvAjEQ' 'q5nFaw9isjD_01PpVAR7hg'\n",
      " 'e4TQFVfepzHf--hnBsjntg' '9qCPmT6ovJjxL4tJB4ANCg' 'HZeFzs42f0iGaA-sP_hUnA'\n",
      " 'ZZ43etAB2n_T53YBYtf8Dw' 'iwZ_7QuZ1tzT6pIZmOlDQg' '3eit3w0zDbb-z57c9P60vg'\n",
      " '4_YfcfHkCem1onJFkItxjA' 'IO3AsR6cdMto7VCwfPzf2w' 'tlSSQwfHYJany7wPoTH46A']\n",
      "['nbofxFWHORebBHh10OgYLA' 'MWt24-6bfv_OHLKhwMQ0Tw' 'hFtlFksrcLaWHGPNa6SmeA'\n",
      " 'ZmIgP4U4Ht9CYmNX0_zP6w' 'M6oU3OBf_E6gqlfkLGlStQ' 'LXWAXIeYFIdgd2JVPF-9qA'\n",
      " 'd66FhQQZzFDKxklh6t63RA' 'AirVzN1BVQBmq5zY0YMNYQ' 'Ypz7hxOCnrg8Y8vxHJU-sQ'\n",
      " 'qa05pUVNapADHZXpHMPMeA' 'VPXgY9lGJF3XC4ZpusxNuA' '9qCPmT6ovJjxL4tJB4ANCg'\n",
      " 'Iycf9KNRhxvR187Qu2zZHg' 'GrSixRnGIxNUJ1Cn5DNX9A' 'PShy2RYNadDUhJf4ErOJ7w'\n",
      " 'iwZ_7QuZ1tzT6pIZmOlDQg' 'uNbB1uR4EBhmygUc3IfPAw' '8dbRf1UsWp2ktXHZ6Zv06w'\n",
      " 'Pv7DGHzZ-uqIUdOsqPpsVg']\n",
      "['vhxFLqRok6r-D_aQz0s-JQ' '0bNXP9quoJEgyVZu9ipGgQ' '4ozupHULqGyO42s3zNUzOQ'\n",
      " 'du6KeE54IFbPiXpU3LOd1g' '90a6z--_CUrl84aCzZyPsg' 'Ovpa3S8xD96dLE5eDxcxJg'\n",
      " 'OQMOgqS1NFIyAW4i66iDYA' 'z1tNqF5qJRpibGj-9_r9Ew' 'fczQCSmaWF78toLEmb0Zsw'\n",
      " 'xFG4Ca2HHmbxDTkMlmHnjQ' 'pEVf8GRshP9HUkSpizc9LA' 'OsYh3jArm6fgozczE85ZeQ'\n",
      " '4IxLt4QvCsJEdaNvH9QApw' 'APLIPfq1Rf8QyhHHk2uAyA' 'wHg1YkCzdZq9WBJOTRgxHQ'\n",
      " 'VPXgY9lGJF3XC4ZpusxNuA' 'q5nFaw9isjD_01PpVAR7hg' 'e4TQFVfepzHf--hnBsjntg'\n",
      " 'GrSixRnGIxNUJ1Cn5DNX9A' 'ZC49A1K-if7KP8VJXoqELQ' 'DtTuVmtooVyMnGhwPrzLww'\n",
      " 'b4C9E7vTJrOdkJQA86xYSg' 'ROr4DQ-gxlfUKmiDC-qSEQ' 'PoQOIZc2q5nud7uVz_jdjw']\n",
      "['n9Zg0jlOGtxfIrvoPm6Hhw' 'du6KeE54IFbPiXpU3LOd1g' 'thdVzCfKx-DV0zYWqId3pw'\n",
      " 'OQMOgqS1NFIyAW4i66iDYA' '9FbgqZ5u9WTLAs28nNafIQ' 'd66FhQQZzFDKxklh6t63RA'\n",
      " 'gN03qFYysM5DbgjuV6N0QQ' 'llkm_iXQszkN5DZvmqjNqA' 'APLIPfq1Rf8QyhHHk2uAyA'\n",
      " 'V0y4fqp-4pSRfsz0FmsjPA' 'BjwXX-sChcjx2E55B_7rXg' 'Sjp6EYsqzdlTvymER6wBfg'\n",
      " 's7Tm9oYWqRlBm5ex2OQ1nw' 'KYeLSM3MQpirmHukVV5Iow' 'bX5mIrDlyD8ZabvF_An7FA'\n",
      " 'PoQOIZc2q5nud7uVz_jdjw' 'LaEj3VpQh7bgpAZLzSRRrw']\n",
      "['64YY0h0ZAR2nbzxbx0IwJg' 'nWouNfZD3Pw08RYizxkqcA' 'MWt24-6bfv_OHLKhwMQ0Tw'\n",
      " 'n9Zg0jlOGtxfIrvoPm6Hhw' 'Cp-PV8rsypbO-xBrQ6KmQg' 'Ovpa3S8xD96dLE5eDxcxJg'\n",
      " 'fczQCSmaWF78toLEmb0Zsw' 'gN03qFYysM5DbgjuV6N0QQ' 'AkJFqLqHHAKY3H5R8p7cPQ'\n",
      " 'q5nFaw9isjD_01PpVAR7hg' 'oy6fdscGSXY2gzRqF9pZxg' '9qCPmT6ovJjxL4tJB4ANCg'\n",
      " '3Jw-rYwJEz6jSqPgVVmmhA' 'ST8Yzlk2MqKlcaLqL2djBg' 'IO3AsR6cdMto7VCwfPzf2w'\n",
      " 'bX5mIrDlyD8ZabvF_An7FA' 'g84VjttN28PWiv_WtdhnSQ']\n",
      "['T7J9ae0wTskrI_Bgwp-4cA' '8WQubmP7G0NM3IyzyMnCEA' 'E5QyEU6FCQwnTys0S73zNw'\n",
      " 'lPaYMDmJbAnv_3pmZH_inw' 'hFtlFksrcLaWHGPNa6SmeA' '0qIsBt4EzBDCKrIviV55Ew'\n",
      " 'kk05snSafuIFK0lsxoMNzA' 'ZmIgP4U4Ht9CYmNX0_zP6w' 'M6oU3OBf_E6gqlfkLGlStQ'\n",
      " 'pEVf8GRshP9HUkSpizc9LA' '17PPxx8RxjOUD_nQZ1aHEw' '8CNEh7fSbLwDuAKhLjDPKQ'\n",
      " 'usQTOj7LQ9v0Fl98gRa3Iw' 'uZbTb-u-GVjTa2gtQfry5g' '4UUIpbOTPmu43wuC2aSGkg'\n",
      " '--65q1FpAL_UQtVZ2PTGew' 'FktbKOzznpoKTNXMVtc8EA' 'GrSixRnGIxNUJ1Cn5DNX9A'\n",
      " 'PShy2RYNadDUhJf4ErOJ7w' 'vF4B6eFdoDmyV_l7MLHMzw' 'YLE6GoJ61fb0QBF7JTkaJg'\n",
      " 'm7vtKWpZ9wdEQ95wJxrMrg' 'GyFmGA5UQZ4pXdx1lUH86g' 'tlSSQwfHYJany7wPoTH46A'\n",
      " 'KYeLSM3MQpirmHukVV5Iow' 'lC4X2crUuxT9Ac9BlOX4Uw']\n",
      "['JgDkCER12uiv4lbpmkZ9VA' 'UCQNrwN4_hHHTWYa8cqe_Q' 'du6KeE54IFbPiXpU3LOd1g'\n",
      " 'P2kVk4cIWyK4e4h14RhK-Q' 'd0wJVf7Gv7v1B-HHYhxZtQ' 'Cp-PV8rsypbO-xBrQ6KmQg'\n",
      " '90a6z--_CUrl84aCzZyPsg' 'AdEy5KAIlMAy8xHyuMQCFg' 'Zwtx7FLZcK5F2P0-Tz8mHg'\n",
      " 'fczQCSmaWF78toLEmb0Zsw' 'LqgGgWi3FLHBViX9tmZ9sw' 'pEVf8GRshP9HUkSpizc9LA'\n",
      " 'llkm_iXQszkN5DZvmqjNqA' 'wHg1YkCzdZq9WBJOTRgxHQ' 'gq_G5VCDziyEV2-bzGuqzw'\n",
      " 'Iycf9KNRhxvR187Qu2zZHg' '3eit3w0zDbb-z57c9P60vg' 'b4C9E7vTJrOdkJQA86xYSg'\n",
      " 'EJkV29QY_oHwSngQiTj2rQ']\n"
     ]
    }
   ],
   "source": [
    "restaurants=smalldf.business_id.unique()\n",
    "for i,rest1 in enumerate(restaurants):\n",
    "    rest1_reviewers = smalldf[smalldf.business_id==rest1].user_id.unique()\n",
    "    print(rest1_reviewers)"
   ]
  },
  {
   "cell_type": "code",
   "execution_count": 25,
   "metadata": {
    "collapsed": false
   },
   "outputs": [
    {
     "name": "stdout",
     "output_type": "stream",
     "text": [
      "Mean support is: 6.84679722562\n"
     ]
    },
    {
     "data": {
      "text/plain": [
       "(array([  7.02000000e+03,   4.98700000e+03,   1.79400000e+03,\n",
       "          5.90000000e+02,   1.95000000e+02,   7.60000000e+01,\n",
       "          2.20000000e+01,   1.00000000e+01,   1.00000000e+01,\n",
       "          2.00000000e+00]),\n",
       " array([  0. ,   5.1,  10.2,  15.3,  20.4,  25.5,  30.6,  35.7,  40.8,\n",
       "         45.9,  51. ]),\n",
       " <a list of 10 Patch objects>)"
      ]
     },
     "execution_count": 25,
     "metadata": {},
     "output_type": "execute_result"
    },
    {
     "data": {
      "image/png": "[encoded data removed]",
      "text/plain": [
       "<matplotlib.figure.Figure at 0xdbe6247550>"
      ]
     },
     "metadata": {},
     "output_type": "display_data"
    }
   ],
   "source": [
    "restaurants=smalldf.business_id.unique()\n",
    "supports=[]\n",
    "for i,rest1 in enumerate(restaurants):\n",
    "    for j,rest2 in enumerate(restaurants):\n",
    "        if  i < j:\n",
    "            rest1_reviewers = smalldf[smalldf.business_id==rest1].user_id.unique()\n",
    "            rest2_reviewers = smalldf[smalldf.business_id==rest2].user_id.unique()\n",
    "            common_reviewers = set(rest1_reviewers).intersection(rest2_reviewers)\n",
    "            supports.append(len(common_reviewers))\n",
    "print(\"Mean support is:\",np.mean(supports))\n",
    "plt.hist(supports)"
   ]
  },
  {
   "cell_type": "markdown",
   "metadata": {},
   "source": [
    "As you can see, even though we chose a subset of the dataframe in which every restaurant had 150 reviews and every user had atleast made 60, the common support of most pairs of restaurants is really low, indeed less than 10!."
   ]
  },
  {
   "cell_type": "markdown",
   "metadata": {},
   "source": [
    "### Calculating Similarity"
   ]
  },
  {
   "cell_type": "markdown",
   "metadata": {},
   "source": [
    "Users rate restaurants on a scale of 1-5. Even though this rating is integer valued, for the purposes of this assignment we shall treat it as a real number.\n",
    "\n",
    "Even though each reviewer uses the same 5-star scale when rating restaurants, comparing two users by comparing their raw user ratings can be problematic. Consider a user whose average rating is 2. This is a curmudgeonly user. Consider another whose average rating is 4. This is a rather enthusiastic one. How should we compare a 3 rating by the curmudgeonly one to a 5 rating of the enthusiastic one?\n",
    "\n",
    "It is for this purpose that we must subtract the average rating of the user from the actual rating of the restaurants in computing the similarity of two restaurants. This makes the above ratings by the two users comparable. We do this in the function `pearson_sim` defined below.\n",
    "\n",
    "If there is no common support (`n_common=0`), we have no basis for making a similarity estimate, and so we set the similarity to 0. In the case that the individual restaurant rating variance is 0, such as in the case where there is only one common reviewer (`n_common=1`), we return the `NaN` that the scipy `pearsonr` returns. We will deal with it soon,"
   ]
  },
  {
   "cell_type": "code",
   "execution_count": 26,
   "metadata": {
    "collapsed": false
   },
   "outputs": [],
   "source": [
    "from scipy.stats.stats import pearsonr\n",
    "def pearson_sim(rest1_reviews, rest2_reviews, n_common):\n",
    "    \"\"\"\n",
    "    Given a subframe of restaurant 1 reviews and a subframe of restaurant 2 reviews,\n",
    "    where the reviewers are those who have reviewed both restaurants, return \n",
    "    the pearson correlation coefficient between the user average subtracted ratings.\n",
    "    The case for zero common reviewers is handled separately. Its\n",
    "    ok to return a NaN if any of the individual variances are 0.\n",
    "    \"\"\"\n",
    "    if n_common==0:\n",
    "        rho=0.\n",
    "    else:\n",
    "        diff1=rest1_reviews['stars']-rest1_reviews['user_avg']\n",
    "        diff2=rest2_reviews['stars']-rest2_reviews['user_avg']\n",
    "        rho=pearsonr(diff1, diff2)[0]\n",
    "    return rho"
   ]
  },
  {
   "cell_type": "markdown",
   "metadata": {},
   "source": [
    "The function `get_restaurant_reviews` defined below takes a restaurant `business_id` and a set of users, and returns the reviews of that restaurant by those users. You will use this function in calculating a similarity function, in **1.5**."
   ]
  },
  {
   "cell_type": "code",
   "execution_count": 27,
   "metadata": {
    "collapsed": false
   },
   "outputs": [],
   "source": [
    "def get_restaurant_reviews(restaurant_id, df, set_of_users):\n",
    "    \"\"\"\n",
    "    given a resturant id and a set of reviewers, return the sub-dataframe of their\n",
    "    reviews.\n",
    "    \"\"\"\n",
    "    mask = (df.user_id.isin(set_of_users)) & (df.business_id==restaurant_id)\n",
    "    reviews = df[mask]\n",
    "    reviews = reviews[reviews.user_id.duplicated()==False]\n",
    "    return reviews"
   ]
  },
  {
   "cell_type": "markdown",
   "metadata": {},
   "source": [
    "**1.5** Write a function `calculate_similarity` that operates between two restaurants and calculates a similarity for them, taking a dataframe and a similarity function `similarity_func`. An example of the `similarity_func` is the `pearson_sim` we defined above. `calculate_similarity` operates as follows: \n",
    "\n",
    "1. For each of the two restaurants, get the set of reviewers who have reviewed the restaurant and compute the intersection of these two sets. Also compute the number of common reviewers `n_common`.\n",
    "\n",
    "2. Use the function `get_restaurant_reviews` defined below to get the reviews for each restaurant as made by these common reviewers. Notice that `get_restaurant_reviews` returns a sub data frame of reviews.\n",
    "\n",
    "3. Calculate the similarity using `similarity_func` which takes the two reviews dataframes from part 2 and the number of common reviewers `n_common` as arguments\n",
    "\n",
    "4. Return the similarity and `n_common` in a tuple `(sim, n_common)`. If the similarity is a `NaN`, set the similarity to 0.\n"
   ]
  },
  {
   "cell_type": "code",
   "execution_count": 28,
   "metadata": {
    "collapsed": false
   },
   "outputs": [],
   "source": [
    "\"\"\"\n",
    "Function\n",
    "--------\n",
    "calculate_similarity\n",
    "\n",
    "Parameters\n",
    "----------\n",
    "rest1 : string\n",
    "    The id of restaurant 1\n",
    "rest2 : string\n",
    "    The id of restaurant 2\n",
    "df : DataFrame\n",
    "  A dataframe of reviews, such as the smalldf above\n",
    "similarity_func : func\n",
    "  A function like pearson_sim above which takes two dataframes of individual\n",
    "  restaurant reviews made by a common set of reviewers, and the number of\n",
    "  common reviews. This function returns the similarity of the two restaurants\n",
    "  based on the common reviews.\n",
    "  \n",
    "Returns\n",
    "--------\n",
    "A tuple\n",
    "  The first element of the tuple is the similarity and the second the\n",
    "  common support n_common. If the similarity is a NaN, set it to 0\n",
    "\"\"\"\n",
    "#your code here\n",
    "def calculate_similarity(rest1, rest2, df,similarity_func):\n",
    "    rest1_reviewers = df[df.business_id==rest1].user_id.unique()\n",
    "    rest2_reviewers = df[df.business_id==rest2].user_id.unique()\n",
    "    common_reviewers = set(rest1_reviewers).intersection(rest2_reviewers)\n",
    "    n_common=len(common_reviewers)\n",
    "    \n",
    "    rest1_reviews = get_restaurant_reviews(rest1, df, common_reviewers)\n",
    "    rest2_reviews = get_restaurant_reviews(rest2, df, common_reviewers)\n",
    "    similarity = similarity_func(rest1_reviews, rest2_reviews, n_common)\n",
    "    if np.isnan(similarity):\n",
    "        return 0, n_common\n",
    "    return similarity, n_common"
   ]
  },
  {
   "cell_type": "markdown",
   "metadata": {},
   "source": [
    "### Making a database of similarities\n",
    "\n",
    "We now move to calculating a global database of pairwise restaurant similarities.\n",
    "We provide you here with a function to make a database of the similarities for each pair of restaurants in the database. The class `Database` is initialized in its constructor by taking as arguments a dataframe of reviews. The method `populate_by calculating` iterates over every possible pair of business_id's in the dataframe and populates the database with similarities and common supports. It takes as arguments a function the similarity function `similarity_func` like `pearson_sim` (`calculate_similarity` then uses this to calculate the similarity). The `get` method on the database can be used to retrieve the similarity for two business ids."
   ]
  },
  {
   "cell_type": "code",
   "execution_count": 29,
   "metadata": {
    "collapsed": false
   },
   "outputs": [],
   "source": [
    "class Database:\n",
    "    \"A class representing a database of similaries and common supports\"\n",
    "    \n",
    "    def __init__(self, df):\n",
    "        \"the constructor, takes a reviews dataframe like smalldf as its argument\"\n",
    "        database={}\n",
    "        self.df=df\n",
    "        self.uniquebizids={v:k for (k,v) in enumerate(df.business_id.unique())}\n",
    "        keys=self.uniquebizids.keys()\n",
    "        l_keys=len(keys)\n",
    "        self.database_sim=np.zeros([l_keys,l_keys])\n",
    "        self.database_sup=np.zeros([l_keys, l_keys], dtype=np.int)\n",
    "        \n",
    "    def populate_by_calculating(self, similarity_func):\n",
    "        \"\"\"\n",
    "        a populator for every pair of businesses in df. takes similarity_func like\n",
    "        pearson_sim as argument\n",
    "        \"\"\"\n",
    "        items=self.uniquebizids.items()\n",
    "        for b1, i1 in items:\n",
    "            for b2, i2 in items:\n",
    "                if i1 < i2:\n",
    "                    sim, nsup=calculate_similarity(b1, b2, self.df, similarity_func)\n",
    "                    self.database_sim[i1][i2]=sim\n",
    "                    self.database_sim[i2][i1]=sim\n",
    "                    self.database_sup[i1][i2]=nsup\n",
    "                    self.database_sup[i2][i1]=nsup\n",
    "                elif i1==i2:\n",
    "                    nsup=self.df[self.df.business_id==b1].user_id.count()\n",
    "                    self.database_sim[i1][i1]=1.\n",
    "                    self.database_sup[i1][i1]=nsup\n",
    "                    \n",
    "\n",
    "    def get(self, b1, b2):\n",
    "        \"returns a tuple of similarity,common_support given two business ids\"\n",
    "        sim=self.database_sim[self.uniquebizids[b1]][self.uniquebizids[b2]]\n",
    "        nsup=self.database_sup[self.uniquebizids[b1]][self.uniquebizids[b2]]\n",
    "        return (sim, nsup)"
   ]
  },
  {
   "cell_type": "markdown",
   "metadata": {},
   "source": [
    "Lets run `make_database` and store the result in the global variable `db`. Lets print out an example entry. Running this function will take a bit of time."
   ]
  },
  {
   "cell_type": "code",
   "execution_count": 30,
   "metadata": {
    "collapsed": false
   },
   "outputs": [],
   "source": [
    "db=Database(smalldf)\n",
    "db.populate_by_calculating(pearson_sim)"
   ]
  },
  {
   "cell_type": "code",
   "execution_count": 31,
   "metadata": {
    "collapsed": false
   },
   "outputs": [
    {
     "data": {
      "text/plain": [
       "(0.39904554525734559, 7)"
      ]
     },
     "execution_count": 31,
     "metadata": {},
     "output_type": "execute_result"
    }
   ],
   "source": [
    "db.get(\"z3yFuLVrmH-3RJruPEMYKw\", \"zruUQvFySeXyEd7_rQixBg\")"
   ]
  },
  {
   "cell_type": "markdown",
   "metadata": {},
   "source": [
    "### K-Nearest restaurants (in similarity)"
   ]
  },
  {
   "cell_type": "markdown",
   "metadata": {},
   "source": [
    "We are now going to find the k-nearest restaurants to a given restaurant based on the database of similarities that we calculated. But we have a problem.\n",
    "\n",
    "Consider the two cases where there is just one common reviewer, and where there are 40. In the former case, we might get a artificially high similarity based on the tastes of just this user, and thus we must reduce its importance in the nearest-neighbor calculation. In the latter case, we would get a much more unbiased estimator of the similarity of the two restaurants.\n",
    "\n",
    "To control the effect of small common supports, we can **shrink** our pearson co-efficients. We shall do this by using the \"regularization\" parameter `reg`:\n",
    "\n",
    "$$s_{mj} = \\frac{N_{common}\\, \\rho_{mj}}{N_{common}+reg} $$\n",
    "\n",
    "where $N_{common}$ (`n_common`) is the common reviewer support and $\\rho_{ij}$ is the pearson co-relation coefficient.\n",
    "\n",
    "Recall the notions of regularization introduced in class. We want to reduce the variance in our estimates, so we pull our estimates in toward a conservative point in a way that strongly corrals in estimates when there is very little data, but allows the data to speak when there is a lot. This can be shown as equivalent to adding in a `reg` amount of bayesian prior, as Joe has alluded to in class. \n",
    "\n",
    "A good value of the regularizer is intuitively one that doesn't affect the similarity when the common support is high ~10, but has a large effect when the support is small. In this case, values of 2-4 are good. Usually, the value of `reg` is determined using cross-validation, but for the sake of simplicity we will generally set it to 3.\n",
    "\n",
    "We define a function `shrunk_sim` which takes the `sim` and `n_common` obtained from the database, and shrinks the similarity down using the regularizer `reg`."
   ]
  },
  {
   "cell_type": "code",
   "execution_count": 32,
   "metadata": {
    "collapsed": false
   },
   "outputs": [],
   "source": [
    "def shrunk_sim(sim, n_common, reg=3.):\n",
    "    \"takes a similarity and shrinks it down by using the regularizer\"\n",
    "    ssim=(n_common*sim)/(n_common+reg)\n",
    "    return ssim"
   ]
  },
  {
   "cell_type": "markdown",
   "metadata": {},
   "source": [
    "**1.6** Now we can move to writing a `knearest` function, which finds the `k` nearest neighbors of a given restaurant based on the shrunk similarities we calculate. Note that as defined here, the nearest neighbors are global over the entire set of restaurants, as opposed to being restricted to the restaurants a user has reviewed(we shall do that in the next problem). Thus, this is an expensive function!\n",
    "\n",
    "Write a `knearest` that returns a *k-length sorted list* of 3-tuples each corresponding to a restaurant. The tuple structure is `(business_id, shrunken similarity score, common support)` where the similarity score and common support are with respect to the restaurant whose neighbors we are finding, and the `business_id` is the id of the \"nearby\" restaurant found. The nearby restaurants are found from a supplied numpy array of restaurants `set_of_restaurants`. The spec for the function is given below. HINT: use `itemgetter` from the `operator` module to do the sorting."
   ]
  },
  {
   "cell_type": "code",
   "execution_count": 33,
   "metadata": {
    "collapsed": false
   },
   "outputs": [],
   "source": [
    "\"\"\"\n",
    "Function\n",
    "--------\n",
    "knearest\n",
    "\n",
    "Parameters\n",
    "----------\n",
    "restaurant_id : string\n",
    "    The id of the restaurant whose nearest neighbors we want\n",
    "set_of_restaurants : array\n",
    "    The set of restaurants from which we want to find the nearest neighbors\n",
    "dbase : instance of Database class.\n",
    "    A database of similarities, on which the get method can be used to get the similarity\n",
    "  of two businessed. e.g. dbase.get(rid1,rid2)\n",
    "k : int\n",
    "    the number of nearest neighbors desired, default 7\n",
    "reg: float\n",
    "    the regularization.\n",
    "    \n",
    "  \n",
    "Returns\n",
    "--------\n",
    "A sorted list\n",
    "    of the top k similar restaurants. The list is a list of tuples\n",
    "    (business_id, shrunken similarity, common support).\n",
    "\"\"\"\n",
    "#your code here\n",
    "from operator import itemgetter\n",
    "def knearest(restaurant_id, set_of_restaurants, dbase, k=7, reg=3.):\n",
    "    similars=[]\n",
    "    for other_rest_id in set_of_restaurants:\n",
    "        if other_rest_id!=restaurant_id:\n",
    "            sim, nc=dbase.get(restaurant_id, other_rest_id)\n",
    "            ssim=shrunk_sim(sim, nc, reg=reg)\n",
    "            similars.append((other_rest_id, ssim, nc))\n",
    "    similars=sorted(similars, key=itemgetter(1), reverse=True)\n",
    "    return similars[0:k]"
   ]
  },
  {
   "cell_type": "markdown",
   "metadata": {},
   "source": [
    "### Ok it's time to recommend!\n",
    "\n",
    "Lets choose the two very different businesses in the dataframe"
   ]
  },
  {
   "cell_type": "code",
   "execution_count": 34,
   "metadata": {
    "collapsed": false
   },
   "outputs": [],
   "source": [
    "testbizid=\"eIxSLxzIlfExI6vgAbn2JA\"\n",
    "testbizid2=\"L-uPZxooP_ziXCtRrWi8Pw\""
   ]
  },
  {
   "cell_type": "markdown",
   "metadata": {},
   "source": [
    "We provide functions to look up a business name given a business id, and a username given a user id."
   ]
  },
  {
   "cell_type": "code",
   "execution_count": 35,
   "metadata": {
    "collapsed": false
   },
   "outputs": [],
   "source": [
    "def biznamefromid(df, theid):\n",
    "    return df['biz_name'][df['business_id']==theid].values[0]\n",
    "def usernamefromid(df, theid):\n",
    "    return df['user_name'][df['user_id']==theid].values[0]"
   ]
  },
  {
   "cell_type": "code",
   "execution_count": 36,
   "metadata": {
    "collapsed": false
   },
   "outputs": [
    {
     "name": "stdout",
     "output_type": "stream",
     "text": [
      "eIxSLxzIlfExI6vgAbn2JA Lobbys Beef Burgers Dogs\n",
      "L-uPZxooP_ziXCtRrWi8Pw Café Monarch\n"
     ]
    }
   ],
   "source": [
    "print(testbizid, biznamefromid(smalldf,testbizid))\n",
    "print(testbizid2, biznamefromid(smalldf, testbizid2))"
   ]
  },
  {
   "cell_type": "markdown",
   "metadata": {},
   "source": [
    "#### Get top matches\n",
    "\n",
    "Its now time to answer the question: \"if you liked this, you might also like these\". We use our `testbizid` and `testbizid2` to compute the `k=7` nearest neighbors with a regularization of `3.` . We print these top 7 matches names, along with their similarity coefficient and common support."
   ]
  },
  {
   "cell_type": "code",
   "execution_count": 37,
   "metadata": {
    "collapsed": false
   },
   "outputs": [
    {
     "name": "stdout",
     "output_type": "stream",
     "text": [
      "For  Lobbys Beef Burgers Dogs , top matches are:\n",
      "0 La Condesa Gourmet Taco Shop | Sim 0.598714448434 | Support 6\n",
      "1 Citizen Public House | Sim 0.571428571429 | Support 4\n",
      "2 FnB | Sim 0.527129890943 | Support 5\n",
      "3 Defalco's Italian Grocery | Sim 0.519456555658 | Support 6\n",
      "4 Republic Ramen + Noodles | Sim 0.519140146937 | Support 5\n",
      "5 unPhogettable | Sim 0.5 | Support 3\n",
      "6 Haus Murphy's | Sim 0.467637235308 | Support 3\n"
     ]
    }
   ],
   "source": [
    "tops=knearest(testbizid, smalldf.business_id.unique(), db, k=7, reg=3.)\n",
    "print(\"For \",biznamefromid(smalldf, testbizid), \", top matches are:\")\n",
    "for i, (biz_id, sim, nc) in enumerate(tops):\n",
    "    print(i,biznamefromid(smalldf,biz_id), \"| Sim\", sim, \"| Support\",nc)"
   ]
  },
  {
   "cell_type": "code",
   "execution_count": 38,
   "metadata": {
    "collapsed": false
   },
   "outputs": [
    {
     "name": "stdout",
     "output_type": "stream",
     "text": [
      "For  Café Monarch , top matches are:\n",
      "0 Postino Arcadia | Sim 0.625 | Support 5\n",
      "1 The Main Ingredient Ale House And Café | Sim 0.571428571429 | Support 4\n",
      "2 Brio Tuscan Grille | Sim 0.571428571429 | Support 4\n",
      "3 Kazimierz World Wine Bar | Sim 0.5 | Support 3\n",
      "4 Harlow's Cafe | Sim 0.5 | Support 3\n",
      "5 The Fry Bread House | Sim 0.5 | Support 3\n",
      "6 Cien Agaves Tacos & Tequila | Sim 0.5 | Support 3\n"
     ]
    }
   ],
   "source": [
    "tops2=knearest(testbizid2, smalldf.business_id.unique(), db, k=7, reg=3.)\n",
    "print(\"For \",biznamefromid(smalldf, testbizid2), \", top matches are:\")\n",
    "for i, (biz_id, sim, nc) in enumerate(tops2):\n",
    "    print(i,biznamefromid(smalldf,biz_id), \"| Sim\", sim, \"| Support\",nc)"
   ]
  },
  {
   "cell_type": "markdown",
   "metadata": {},
   "source": [
    "We can see that these two restaurants are in somewhat different orbits :-)."
   ]
  },
  {
   "cell_type": "markdown",
   "metadata": {},
   "source": [
    "Lets now turn our attention to another question: what are the top recommendations for a user? To answer this we must find the user's top rated restaurants, find the nearest neighbors of these restaurants, merge these lists while removing the duplicates and the ones that the user has already rated, and sort by the restaurant's average rating. We provide the code to get the user's top choices in a subset data frame."
   ]
  },
  {
   "cell_type": "code",
   "execution_count": 39,
   "metadata": {
    "collapsed": false
   },
   "outputs": [
    {
     "name": "stdout",
     "output_type": "stream",
     "text": [
      "For user Vern top choices are:\n"
     ]
    },
    {
     "name": "stderr",
     "output_type": "stream",
     "text": [
      "C:\\Anaconda3\\lib\\site-packages\\ipykernel\\__main__.py:3: FutureWarning: sort(columns=....) is deprecated, use sort_values(by=.....)\n",
      "  app.launch_new_instance()\n"
     ]
    },
    {
     "data": {
      "text/plain": [
       "['Tee Pee Mexican Food',\n",
       " 'Local Breeze',\n",
       " \"Carly's Bistro\",\n",
       " 'District American Kitchen and Wine Bar',\n",
       " 'Sonora Mesquite Grill']"
      ]
     },
     "execution_count": 39,
     "metadata": {},
     "output_type": "execute_result"
    }
   ],
   "source": [
    "def get_user_top_choices(user_id, df, numchoices=5):\n",
    "    \"get the sorted top 5 restaurants for a user by the star rating the user gave them\"\n",
    "    udf=df[df.user_id==user_id][['business_id','stars']].sort(['stars'], ascending=False).head(numchoices)\n",
    "    return udf\n",
    "testuserid=\"7cR92zkDv4W3kqzii6axvg\"\n",
    "print(\"For user\", usernamefromid(smalldf,testuserid), \"top choices are:\" )\n",
    "bizs=get_user_top_choices(testuserid, smalldf)['business_id'].values\n",
    "[biznamefromid(smalldf, biz_id) for biz_id in bizs]"
   ]
  },
  {
   "cell_type": "markdown",
   "metadata": {},
   "source": [
    "#### Get top recommendations for user."
   ]
  },
  {
   "cell_type": "markdown",
   "metadata": {},
   "source": [
    "**1.7** Its your job now to write a function `get_top_recos_for_user` which takes as arguments a `userid`, the `n` top choices for the user, the dataframe, `k`, and a regularizer, and returns the top recommendations obtained from combining the restaurants that are neighbors of each of the `n` choices, in the way described in the previous paragraph. This returned list is a list of tuples `(restaurant_id, business_avg)` sorted by `business_avg` where `business_avg` is the average rating of the restaurant over the dataframe."
   ]
  },
  {
   "cell_type": "code",
   "execution_count": 40,
   "metadata": {
    "collapsed": false
   },
   "outputs": [],
   "source": [
    "\"\"\"\n",
    "Function\n",
    "--------\n",
    "get_top_recos_for_user\n",
    "\n",
    "Parameters\n",
    "----------\n",
    "userid : string\n",
    "    The id of the user for whom we want the top recommendations\n",
    "df : Dataframe\n",
    "    The dataframe of restaurant reviews such as smalldf\n",
    "dbase : instance of Database class.\n",
    "    A database of similarities, on which the get method can be used to get the similarity\n",
    "  of two businesses. e.g. dbase.get(rid1,rid2)\n",
    "n: int\n",
    "    the n top choices of the user by star rating\n",
    "k : int\n",
    "    the number of nearest neighbors desired, default 8\n",
    "reg: float\n",
    "    the regularization.\n",
    "    \n",
    "  \n",
    "Returns\n",
    "--------\n",
    "A sorted list\n",
    "    of the top recommendations. The list is a list of tuples\n",
    "    (business_id, business_avg). You are combining the k-nearest recommendations \n",
    "    for each of the user's n top choices, removing duplicates and the ones the user\n",
    "    has already rated.\n",
    "\"\"\"\n",
    "#your code here\n",
    "def get_top_recos_for_user(userid, df, dbase, n=5, k=7, reg=3):\n",
    "    user_top_choices = get_user_top_choices(userid, df, n)['business_id'].values\n",
    "    user_rated = df[df.user_id==userid].business_id.values\n",
    "    tops =[]\n",
    "    for i in user_top_choices:\n",
    "        k_nn=knearest(i, df.business_id.unique(), dbase, k=k, reg=reg)\n",
    "        for j in k_nn:\n",
    "            if j[0] not in user_rated:\n",
    "                tops.append(j)\n",
    "\n",
    "    tops_ids=[e[0] for e in tops]\n",
    "    uids={k:0 for k in list(set(tops_ids))}\n",
    "    tops_uniqued=[]\n",
    "    for i in tops:\n",
    "        if uids[i[0]] == 0:\n",
    "            tops_uniqued.append(i)\n",
    "            uids[i[0]] =1\n",
    "\n",
    "    tops_result =[]\n",
    "    for b_id, ssim, nc in tops_uniqued:\n",
    "        avg_rate=df[df.business_id==b_id].stars.mean()\n",
    "        tops_result.append((b_id,avg_rate))\n",
    "        \n",
    "    tops_result=sorted(tops_result, key=itemgetter(1), reverse=True)\n",
    "\n",
    "    if n < len(tops_result):\n",
    "        return tops_result[0:n]\n",
    "    else:\n",
    "        return tops_result"
   ]
  },
  {
   "cell_type": "markdown",
   "metadata": {},
   "source": [
    "Lets print the top recommendations for `testuserid`, with a regularization of 3."
   ]
  },
  {
   "cell_type": "code",
   "execution_count": 41,
   "metadata": {
    "collapsed": false
   },
   "outputs": [
    {
     "name": "stdout",
     "output_type": "stream",
     "text": [
      "For user Vern the top recommendations are:\n",
      "Rokerij | Average Rating | 4.379310344827586\n",
      "Wildfish Seafood Grille | Average Rating | 4.294117647058823\n",
      "Defalco's Italian Grocery | Average Rating | 4.232558139534884\n",
      "Cornish Pasty Company | Average Rating | 4.206896551724138\n",
      "Pappadeaux Seafood Kitchen | Average Rating | 4.185185185185185\n"
     ]
    },
    {
     "name": "stderr",
     "output_type": "stream",
     "text": [
      "C:\\Anaconda3\\lib\\site-packages\\ipykernel\\__main__.py:3: FutureWarning: sort(columns=....) is deprecated, use sort_values(by=.....)\n",
      "  app.launch_new_instance()\n"
     ]
    }
   ],
   "source": [
    "print(\"For user\", usernamefromid(smalldf,testuserid), \"the top recommendations are:\")\n",
    "toprecos=get_top_recos_for_user(testuserid, smalldf, db, n=5, k=7, reg=3.)\n",
    "for biz_id, biz_avg in toprecos:\n",
    "    print(biznamefromid(smalldf,biz_id), \"| Average Rating |\", biz_avg)"
   ]
  },
  {
   "cell_type": "markdown",
   "metadata": {},
   "source": [
    "## Problem 2: A user based recommender with predicted ratings"
   ]
  },
  {
   "cell_type": "markdown",
   "metadata": {},
   "source": [
    "This is all very nice. We can provide ratings based on global similarities to a restaurant. However, in many cases this is not enough.\n",
    "\n",
    "For example, it is hard to judge if the above recommendations are any good. In the usual testing paradigm, say that we break the dataframe into train and test. Based on the training set, I am recommended restaurant B. Now, I have rated B, but that information is in the testing set. I have no way of comparing the rating I give B in the testing set, to the similarity computed from the training set that was used to make the recomendation. The best I could do is to compare the average rating of restaurant B in the training set to my rating of restaurant B in the test set. \n",
    "\n",
    "In this section, we shift our focus to more fine-grained predictions about each user, and try to predict what _rating_ a user would give to a restaurant they have never tried before. To do this, we will try to personalize the information we use even further, and only pool information from restaurants that the user has rated.\n",
    "\n",
    "This allows us to return to the original problem of prediction $Y_{um}$ for a restaurant $m$ that user $u$ has never rated before. Using our newly computed similarity metrics, we can modify our original baseline estimate by pulling in information from the user's neighborhood of the restaurant $m$, and predict $Y_{um}$ as:\n",
    "\n",
    "$$ \\hat{Y_{um}} = \\hat Y^{baseline}_{um}\\, + \\,\\frac{\\sum\\limits_{j \\in S^{k}(m;u)} s_{mj} ( Y_{uj} - \\hat Y^{baseline}_{uj} )}{\\sum\\limits_{j \\in S^{k}(m;u)} s_{mj} } $$\n",
    "\n",
    "where $s^{k}(m;u)$ is the $k$ neighbor items of item $m$ which have been rated by user $u$.\n",
    "\n",
    "Now, this is not a particularly good assumption, especially in the situation where a restaurant is new (new item problem) or a user is new (cold start problem), or in the case when there are very few reviewers of a restaurant, or very few reviews by a user respectively. However, one must start somewhere!\n",
    "\n",
    "Notice that in adding in the similarity term, we subtract the baseline estimate from the observed rating of the user's neighbor items."
   ]
  },
  {
   "cell_type": "markdown",
   "metadata": {},
   "source": [
    "### Defining the predicted rating"
   ]
  },
  {
   "cell_type": "markdown",
   "metadata": {},
   "source": [
    "**2.1** Write a function `knearest_amongst_userrated`, analogous to the `knearest` function we defined above, to find the nearest `k` neighbors to a given restaurant from the **restaurants that the user has already rated**. This function will take as arguments the `restaurant_id`, the `user_id`, the dataframe of reviews, the database, the `k`, and the regularizer `reg`. Just like before, return a *k-length sorted list* of 3-tuples each corresponding to a restaurant.  HINT: use the `knearest` function you defined earlier"
   ]
  },
  {
   "cell_type": "code",
   "execution_count": 42,
   "metadata": {
    "collapsed": false
   },
   "outputs": [],
   "source": [
    "\"\"\"\n",
    "Function\n",
    "--------\n",
    "knearest_amongst_userrated\n",
    "\n",
    "Parameters\n",
    "----------\n",
    "restaurant_id : string\n",
    "    The id of the restaurant whose nearest neighbors we want\n",
    "user_id : string\n",
    "    The id of the user, in whose reviewed restaurants we want to find the neighbors\n",
    "df: Dataframe\n",
    "    The dataframe of reviews such as smalldf\n",
    "dbase : instance of Database class.\n",
    "    A database of similarities, on which the get method can be used to get the similarity\n",
    "  of two businessed. e.g. dbase.get(rid1,rid2)\n",
    "k : int\n",
    "    the number of nearest neighbors desired, default 7\n",
    "reg: float\n",
    "    the regularization.\n",
    "    \n",
    "  \n",
    "Returns\n",
    "--------\n",
    "A sorted list\n",
    "    of the top k similar restaurants. The list is a list of tuples\n",
    "    (business_id, shrunken similarity, common support).\n",
    "\"\"\"\n",
    "#your code here\n",
    "def knearest_amongst_userrated(restaurant_id, user_id, df, dbase, k=7, reg=3.):\n",
    "    df_user=df[df.user_id==user_id]\n",
    "    user_rated=df_user.business_id.unique()\n",
    "    return knearest(restaurant_id, user_rated, dbase, k=k, reg=reg)"
   ]
  },
  {
   "cell_type": "markdown",
   "metadata": {},
   "source": [
    "**2.2** Now write a function that returns the predicted rating for a user and an item using the formula at the beginning of this problem. Include code to deal with the possibility that the sum of scores that goes in the denominator is 0: return a predicted rating of the baseline portion of the formula in that case. This function `rating` takes as arguments the dataframe, the database, the wanted `restaurant_id` and `user_id`, and `k` as well as the regularizer."
   ]
  },
  {
   "cell_type": "code",
   "execution_count": 58,
   "metadata": {
    "collapsed": false
   },
   "outputs": [],
   "source": [
    "\"\"\"\n",
    "Function\n",
    "--------\n",
    "rating\n",
    "\n",
    "Parameters\n",
    "----------\n",
    "df: Dataframe\n",
    "    The dataframe of reviews such as smalldf\n",
    "dbase : instance of Database class.\n",
    "    A database of similarities, on which the get method can be used to get the similarity\n",
    "  of two businessed. e.g. dbase.get(rid1,rid2)\n",
    "restaurant_id : string\n",
    "    The id of the restaurant whose nearest neighbors we want\n",
    "user_id : string\n",
    "    The id of the user, in whose reviewed restaurants we want to find the neighbors\n",
    "k : int\n",
    "    the number of nearest neighbors desired, default 7\n",
    "reg: float\n",
    "    the regularization.\n",
    "    \n",
    "  \n",
    "Returns\n",
    "--------\n",
    "A float\n",
    "    which is the impued rating that we predict that user_id will make for restaurant_id\n",
    "\"\"\"\n",
    "def rating(df, dbase, restaurant_id, user_id, k=7, reg=3.):\n",
    "    rate_avg=df.stars.mean()\n",
    "    users_reviews=df[df.user_id==user_id]\n",
    "    nsum=0.\n",
    "    scoresum=0.\n",
    "    nears=knearest_amongst_userrated(restaurant_id, user_id, df, dbase, k=k, reg=reg)\n",
    "    restaurant_mean=df[df.business_id==restaurant_id].business_avg.values[0]\n",
    "    user_mean=users_reviews.user_avg.values[0]\n",
    "    scores=[]\n",
    "    for b_id,s,nc in nears:\n",
    "        scoresum=scoresum+s\n",
    "        scores.append(s)\n",
    "        r_reviews_row=users_reviews[users_reviews['business_id']==b_id]\n",
    "        r_stars=r_reviews_row.stars.values[0]\n",
    "        r_avg=r_reviews_row.business_avg.values[0]\n",
    "        rminusb=(r_stars - (r_avg + user_mean - rate_avg))\n",
    "        #print(rminusb)\n",
    "        #print(s)\n",
    "        #print(nsum)\n",
    "        nsum=nsum+s*rminusb\n",
    "    baseline=(user_mean + restaurant_mean - rate_avg)\n",
    "    #print('user_mean', user_mean)\n",
    "    #print('restaurant_mean',restaurant_mean)\n",
    "    #print('rate_avg', rate_avg)\n",
    "    #print('baseline,baseline=(user_mean + restaurant_mean - rate_avg)', baseline)\n",
    "    #print(\"----\")\n",
    "    #print('scoresum', scoresum)\n",
    "    #print('nsum, val =  nsum/scoresum + baseline', nsum)\n",
    "    #we might have nears, but there might be no commons, giving us a pearson of 0\n",
    "    if scoresum > 0.:\n",
    "        val =  nsum/scoresum + baseline\n",
    "    else:\n",
    "        val=baseline\n",
    "    return val"
   ]
  },
  {
   "cell_type": "code",
   "execution_count": 59,
   "metadata": {
    "collapsed": false
   },
   "outputs": [
    {
     "name": "stdout",
     "output_type": "stream",
     "text": [
      "Rokerij | 4.71714023074 | Average 4.379310344827586\n",
      "Wildfish Seafood Grille | 4.27594504172 | Average 4.294117647058823\n",
      "Defalco's Italian Grocery | 3.822223075 | Average 4.232558139534884\n",
      "Cornish Pasty Company | 4.62810510121 | Average 4.206896551724138\n",
      "Pappadeaux Seafood Kitchen | 4.08845573953 | Average 4.185185185185185\n"
     ]
    }
   ],
   "source": [
    "for biz_id,biz_avg in toprecos:\n",
    "    print(biznamefromid(smalldf, biz_id),\"|\",rating(smalldf, db, biz_id, testuserid, k=7, reg=3.),\"|\",\"Average\",biz_avg )"
   ]
  },
  {
   "cell_type": "markdown",
   "metadata": {},
   "source": [
    "For the top-recommendations in the variable `toprecos` from the previous section, we compute the predicted rating and compare it with the average rating over all users available inside the tuples that make up `toprecos`. We use a `k` of 7 and regularization 3. For comparision we also print this users' average rating. Do you notice anything interesting about how the order has changed from when we did this with the global similarities? (for you to think, not to answer)"
   ]
  },
  {
   "cell_type": "code",
   "execution_count": 60,
   "metadata": {
    "collapsed": false
   },
   "outputs": [
    {
     "name": "stdout",
     "output_type": "stream",
     "text": [
      "User Average 3.5652173913043477 for Vern\n",
      "Predicted ratings for top choices calculated earlier:\n",
      "Rokerij | 4.71714023074 | Average 4.379310344827586\n",
      "Wildfish Seafood Grille | 4.27594504172 | Average 4.294117647058823\n",
      "Defalco's Italian Grocery | 3.822223075 | Average 4.232558139534884\n",
      "Cornish Pasty Company | 4.62810510121 | Average 4.206896551724138\n",
      "Pappadeaux Seafood Kitchen | 4.08845573953 | Average 4.185185185185185\n"
     ]
    }
   ],
   "source": [
    "print(\"User Average\", smalldf[smalldf.user_id==testuserid].stars.mean(),\"for\",usernamefromid(smalldf,testuserid))\n",
    "print(\"Predicted ratings for top choices calculated earlier:\")\n",
    "for biz_id,biz_avg in toprecos:\n",
    "    print(biznamefromid(smalldf, biz_id),\"|\",rating(smalldf, db, biz_id, testuserid, k=7, reg=3.),\"|\",\"Average\",biz_avg )"
   ]
  },
  {
   "cell_type": "markdown",
   "metadata": {},
   "source": [
    "### Testing the ratings\n",
    "\n",
    "Let us compare the predicted ratings with a user's ratings. Note that we are doing this on the same set that we constructed the predictions with, so this is not a validation of the procedure, but simply a check of the procedure's fit. We first write a helper function to return the user score for a restaurant, and the restaurant's average score over all users."
   ]
  },
  {
   "cell_type": "code",
   "execution_count": 61,
   "metadata": {
    "collapsed": false
   },
   "outputs": [],
   "source": [
    "def get_other_ratings(restaurant_id, user_id, df):\n",
    "    \"get a user's rating for a restaurant and the restaurant's average rating\"\n",
    "    choice=df[(df.business_id==restaurant_id) & (df.user_id==user_id)]\n",
    "    users_score=choice.stars.values[0]\n",
    "    average_score=choice.business_avg.values[0]\n",
    "    return users_score, average_score"
   ]
  },
  {
   "cell_type": "markdown",
   "metadata": {},
   "source": [
    "For the user `testuserid`, we loop over the variable `bizs` (which is a set of restaurants the user has rated) and print the predicted rating, and the actual rating and restaurant average rating obtained using the function above. We again use `k=7` and a regularization of 3."
   ]
  },
  {
   "cell_type": "code",
   "execution_count": 62,
   "metadata": {
    "collapsed": false
   },
   "outputs": [
    {
     "name": "stdout",
     "output_type": "stream",
     "text": [
      "for user Vern avg 3.5652173913043477\n",
      "----------------------------------\n",
      "Tee Pee Mexican Food\n",
      "Predicted Rating: 3.52640184162\n",
      "Actual User Rating: 5 Avg Rating 3.04347826087\n",
      "----------------------------------\n",
      "Local Breeze\n",
      "Predicted Rating: 4.2280987611\n",
      "Actual User Rating: 5 Avg Rating 4.0\n",
      "----------------------------------\n",
      "Carly's Bistro\n",
      "Predicted Rating: 3.99008654065\n",
      "Actual User Rating: 5 Avg Rating 3.5\n",
      "----------------------------------\n",
      "District American Kitchen and Wine Bar\n",
      "Predicted Rating: 3.80281696528\n",
      "Actual User Rating: 4 Avg Rating 3.55263157895\n",
      "----------------------------------\n",
      "Sonora Mesquite Grill\n",
      "Predicted Rating: 4.08382083034\n",
      "Actual User Rating: 4 Avg Rating 4.38461538462\n"
     ]
    }
   ],
   "source": [
    "print(\"for user\",usernamefromid(smalldf,testuserid), 'avg', smalldf[smalldf.user_id==testuserid].stars.mean() )\n",
    "for biz_id in bizs:\n",
    "    print(\"----------------------------------\")\n",
    "    print(biznamefromid(smalldf, biz_id))\n",
    "    print(\"Predicted Rating:\",rating(smalldf, db, biz_id, testuserid, k=7, reg=3.) )\n",
    "    u,a=get_other_ratings(biz_id, testuserid, smalldf)\n",
    "    print(\"Actual User Rating:\",u,\"Avg Rating\",a)"
   ]
  },
  {
   "cell_type": "markdown",
   "metadata": {},
   "source": [
    "**2.3** Explain in words why the predicted ratings are lower than the actual ratings. How do the user average rating and restaurant average rating affect this? How does sparsity affect the predicted ratings?"
   ]
  },
  {
   "cell_type": "markdown",
   "metadata": {},
   "source": [
    "*your answer here*\n",
    "<br>Predicated ratings are lower than the actual rating, because the restaurants we choose are Vern's top 5 choices. So it is much higher than the Vern's mean rating score. User average rating and restaurant average rating will decide the baseline. baseline = user_avg + restaurant_avg - rate_avg. So increase either User average rating or restaurant average rating can increase predicated ratings."
   ]
  },
  {
   "cell_type": "markdown",
   "metadata": {},
   "source": [
    "### Error Analysis\n",
    "\n",
    "This next function takes a set of actual ratings, and a set of predicted ratings, and plots the latter against the former. We can use a graph of this kind to see how well or badly we do in our predictions. Since the nearest neighbor models can have alternating positive and negative similarities (the sum of similarity weights in the denominator can get large), the ratings can get very large. Thus we restrict ourselves to be between -10 and 15 in our ratings and calculate the fraction within these bounds. We also plot the line with unit slope, line segments joining the means, and a filled in area representing one standard deviation from the mean.\n",
    "\n",
    "The first argument to `compare_results` is a numpy array of the actual star ratings obtained from the dataframe, while the second argument is the numpy array of the predicted ones. (*Feel free to improve this function for your display*)"
   ]
  },
  {
   "cell_type": "code",
   "execution_count": 63,
   "metadata": {
    "collapsed": false
   },
   "outputs": [],
   "source": [
    "def compare_results(stars_actual, stars_predicted, ylow=-10, yhigh=15, title=\"\"):\n",
    "    \"\"\"\n",
    "    plot predicted results against actual results. Takes 2 arguments: a\n",
    "    numpy array of actual ratings and a numpy array of predicted ratings\n",
    "    scatterplots the predictions, a unit slope line, line segments joining the mean,\n",
    "    and a filled in area of the standard deviations.\"\n",
    "    \"\"\"\n",
    "    fig=plt.figure()\n",
    "    df=pd.DataFrame(dict(actual=stars_actual, predicted=stars_predicted))\n",
    "    ax=plt.scatter(df.actual, df.predicted, alpha=0.2, s=30, label=\"predicted\")\n",
    "    plt.ylim([ylow,yhigh])\n",
    "    plt.plot([1,5],[1,5], label=\"slope 1\")\n",
    "    xp=[1,2,3,4,5]\n",
    "    yp=df.groupby('actual').predicted.mean().values\n",
    "    plt.plot(xp,yp,'k', label=\"means\")\n",
    "    sig=df.groupby('actual').predicted.std().values\n",
    "    plt.fill_between(xp, yp - sig, yp + sig, \n",
    "                 color='k', alpha=0.2)\n",
    "    plt.xlabel(\"actual\")\n",
    "    plt.ylabel(\"predicted\")\n",
    "    plt.legend(frameon=False)\n",
    "    remove_border()\n",
    "    plt.grid(False)\n",
    "    plt.title(title)\n",
    "    print(np.mean(np.abs(df.predicted) < 15))\n"
   ]
  },
  {
   "cell_type": "markdown",
   "metadata": {},
   "source": [
    "**2.4** For each review in the data set, obtain a prediction from the entire dataframe `smalldf`. Use the function `compare_results` above to plot the predicted ratings against the observed ones. Make 4 such graphs, at k=3 and k=10, and for reg=3. and reg=15.\n",
    "\n",
    "Note that this analysis is not strictly a model check because we are testing on the training set. However, since the user averages would change each time a cross-validation split was done on the set, we would incur the prohibitive expense of redoing the database each time. This would be better done on a cluster, using map-reduce or other techniques. While we explore map-reduce later in this homework, we shall not do any cross-validation.\n",
    "\n",
    "Explain the results you get in the graphs in words."
   ]
  },
  {
   "cell_type": "code",
   "execution_count": 64,
   "metadata": {
    "collapsed": false
   },
   "outputs": [],
   "source": [
    "#your code here\n",
    "def make_results_plot(df,k,reg):\n",
    "    uid=df.user_id.values\n",
    "    bid=df.business_id.values\n",
    "    actual=df.stars.values\n",
    "    predicted=np.zeros(len(actual))\n",
    "    counter=0\n",
    "    for user_id, biz_id in zip(uid,bid):\n",
    "        predicted[counter]=rating(smalldf, db, biz_id, user_id, k=k, reg=reg) \n",
    "        counter=counter+1\n",
    "    compare_results(actual, predicted)"
   ]
  },
  {
   "cell_type": "code",
   "execution_count": 65,
   "metadata": {
    "collapsed": false
   },
   "outputs": [
    {
     "name": "stdout",
     "output_type": "stream",
     "text": [
      "1.0\n"
     ]
    },
    {
     "data": {
      "text/plain": [
       "<matplotlib.text.Text at 0xdbe1664be0>"
      ]
     },
     "execution_count": 65,
     "metadata": {},
     "output_type": "execute_result"
    },
    {
     "data": {
      "image/png": "[encoded data removed]",
      "text/plain": [
       "<matplotlib.figure.Figure at 0xdbe8613a20>"
      ]
     },
     "metadata": {},
     "output_type": "display_data"
    }
   ],
   "source": [
    "#your code here\n",
    "make_results_plot(smalldf,3,3.)\n",
    "plt.title(\"k=3, reg=3.\")"
   ]
  },
  {
   "cell_type": "code",
   "execution_count": 66,
   "metadata": {
    "collapsed": false
   },
   "outputs": [
    {
     "name": "stdout",
     "output_type": "stream",
     "text": [
      "0.999837793998\n"
     ]
    },
    {
     "data": {
      "text/plain": [
       "<matplotlib.text.Text at 0xdbe1935c18>"
      ]
     },
     "execution_count": 66,
     "metadata": {},
     "output_type": "execute_result"
    },
    {
     "data": {
      "image/png": "[encoded data removed]",
      "text/plain": [
       "<matplotlib.figure.Figure at 0xdbe16498d0>"
      ]
     },
     "metadata": {},
     "output_type": "display_data"
    }
   ],
   "source": [
    "make_results_plot(smalldf,3,15.,)\n",
    "plt.title(\"k=3, reg=15.\")\n"
   ]
  },
  {
   "cell_type": "code",
   "execution_count": 67,
   "metadata": {
    "collapsed": false
   },
   "outputs": [
    {
     "name": "stdout",
     "output_type": "stream",
     "text": [
      "0.996431467964\n"
     ]
    },
    {
     "data": {
      "text/plain": [
       "<matplotlib.text.Text at 0xdbe861c710>"
      ]
     },
     "execution_count": 67,
     "metadata": {},
     "output_type": "execute_result"
    },
    {
     "data": {
      "image/png": "[encoded data removed]",
      "text/plain": [
       "<matplotlib.figure.Figure at 0xdbe620b208>"
      ]
     },
     "metadata": {},
     "output_type": "display_data"
    }
   ],
   "source": [
    "make_results_plot(smalldf,10,3.)\n",
    "plt.title(\"k=10, reg=3.\")"
   ]
  },
  {
   "cell_type": "code",
   "execution_count": 68,
   "metadata": {
    "collapsed": false
   },
   "outputs": [
    {
     "name": "stdout",
     "output_type": "stream",
     "text": [
      "0.997080291971\n"
     ]
    },
    {
     "data": {
      "text/plain": [
       "<matplotlib.text.Text at 0xdbe1775198>"
      ]
     },
     "execution_count": 68,
     "metadata": {},
     "output_type": "execute_result"
    },
    {
     "data": {
      "image/png": "[encoded data removed]",
      "text/plain": [
       "<matplotlib.figure.Figure at 0xdbe171a550>"
      ]
     },
     "metadata": {},
     "output_type": "display_data"
    }
   ],
   "source": [
    "make_results_plot(smalldf,10,15.,)\n",
    "plt.title(\"k=10, reg=15.\")"
   ]
  },
  {
   "cell_type": "markdown",
   "metadata": {},
   "source": [
    "*your answer here*\n",
    "<br> For k =3, the range of predicted values are small. Compare the green line(actual values reg) and black line(predicted values reg), predicted values are higher than actual value if actual value lower than about 3.8. And actual value are higher than predicted values if actual value higher than about 3.8. For k = 10, the range of predicted values are big. But the green line(actual values reg) are more closer to  black line(predicted values reg)."
   ]
  },
  {
   "cell_type": "markdown",
   "metadata": {},
   "source": [
    "**2.5** Outline a process, in words, for choosing the nearest neighbor parameter `k`. For this question fix the regularization parameter `reg` at `3`."
   ]
  },
  {
   "cell_type": "markdown",
   "metadata": {},
   "source": [
    "*your answer here*"
   ]
  },
  {
   "cell_type": "markdown",
   "metadata": {},
   "source": [
    "## Q3 Bayesian Chocolates: Model based recommendations"
   ]
  },
  {
   "cell_type": "markdown",
   "metadata": {},
   "source": [
    "In this part of the homework, you will use your newly minted Bayesian and Gibbs sampler skills to write a recommender that uses Bayesian techniques to impute ratings."
   ]
  },
  {
   "cell_type": "markdown",
   "metadata": {},
   "source": [
    "### Model-Based Recommendations\n",
    "\n",
    "\n",
    "#### A Note on Frequentist and Bayesian Procedures\n",
    "\n",
    "In the previous section we implemented a **procedure** (a set of instructions for processing data) for giving recommendations and predicting user ratings for restaurants. This procedure involved a number of arbitrary choices -- for example, the particular measure of similarity between restaurants, or the weighting scheme for constructing a predicted rating. It also gave no sense of uncertainty -- in the case of giving recommendations, there was no statement about how we would expect the ranking from the procedure to compare to the user's true opinions of restaurants, and in the case of predicting ratings, there was no confidence interval for the prediction.\n",
    "\n",
    "It is possible in repeated applications of the above procedure to see how it performs in the long run. Based on this long-run performance we could potentially justify certain functional choices and compute measurements of uncertainty. This framework of proposing a procedure first, then evaluating its performance in real or hypothetical replications of the experiment is an example of a *frequentist* approach to a problem. One aspect of the frequentist approach is that the proposed procedure does not necessarily have to be derived from a model (although it often is). While this means that a proposed procedure may be more flexible or robust than a model-based procedure, it also means that there is no natural way to justify certain functional choices or construct uncertainty estimates.\n",
    "\n",
    "In contrast, the *Bayesian* approach to a problem always begins with a **probablistic model** for how the data were generated. Assuming this model is true, the posterior distribution over unknown quantities (either parameters to be estimated or unobserved data to be predicted) gives a single coherent expression of what the observed data tell us about the unknowns. By summarizing the posterior distribution, we can derive the exact functional form of a procedure for constructing estimates or predictions. We call a procedure derived from this Bayesian approach a **Bayes rule** (not to be confused with Bayes' Theorem). Using the posterior distribution, we can also give a sense of how uncertain we are about the estimate or prediction we have constructed.\n",
    "\n",
    "#### Outline for this Problem\n",
    "\n",
    "In this section, we construct a **model** of how ratings are generated, and use this model to build a recommendation and ratings prediction system. We will take a Bayesian approach here, and construct our estimates and predictions from summaries of the *posterior distribution* of the model's parameters, which we will compute using a *Gibbs sampler*. We will also give measures of uncertainty based on the posterior distribution. We will evaluate predictions from this approach in the same way we evalutated predictions from the KNN procedure above."
   ]
  },
  {
   "cell_type": "markdown",
   "metadata": {},
   "source": [
    "### The Latent Factor Model ###\n",
    "\n",
    "#### Model Overview ####\n",
    "\n",
    "The central dogma in constructing a recommendation system using collaborative filtering is that *similar users will rate similar restaurants similarly*. In the previous section, we explicitly encoded this idea by using a similarity function to identify similar restaurants. We also assumed that either all users were the same (the global approach) or that only the current user was similar enough to make a recommendation (the user-specific approach). In this section, we will use a model that allows us to identify both similar users and similar restaurants as a function of **latent factors**.\n",
    "\n",
    "We can think of latent factors as properties of restaurants (e.g., spiciness of food or price) that users have a positive or negative preference for. We do not observe these factors or the users' preferences directly, but we assume that they affect how users tend to rate restaurants. For example, if a restaurant serves a lot of spicy food and a user dislikes spicy food, then the restaurant would have a high \"spiciness\" factor, and the user would have a strongly negative preference, resulting in a prediction of a low rating. Note that if users have similar preferences, then according to the model, they will behave similarly, and likewise, if restaurants have similar latent factors, they will be rated similarly by similar users. Latent factors thus give us an intuitive way to specify a generative model the obeys the central dogma.\n",
    "\n",
    "One issue that comes up with latent factor models is determining how many latent factors to include. There may be a number of different unmeasured properties that affect ratings in different ways -- for example, in addition to the spiciness factor above, there may also be a price factor that affects how users rate a restaurant. We deal with the problem of choosing the number of latent factors to include in the same way we deal with choosing $K$ in a $K$-nearest neighbors problem.\n",
    "\n",
    "#### Rating Model Specification ####\n",
    "\n",
    "To make this model concrete, we can write down our probability model as a generative process. First, we define the following quantities:\n",
    "\n",
    "Counts:\n",
    "\n",
    "* $L$: The number of latent factors.\n",
    "\n",
    "* $U$: The number of users.\n",
    "\n",
    "* $M$: The number of items (restaurants).\n",
    "\n",
    "* $N$: The number of observed ratings.\n",
    "\n",
    "Data:\n",
    "\n",
    "* $Y_{um}$: The star rating given to restaurant $m$ by user $u$.\n",
    "* $Y$: The full collection of observed star ratings.\n",
    "\n",
    "Item-specific quantities:\n",
    "\n",
    "* $\\gamma_m$: An item-specific parameter vector of length $L+1$. The first element of $\\gamma_m$, denoted $\\gamma_m[0]$ is the item-specific bias. The remaining $L$ elements of $\\gamma_m$, denoted $\\gamma_m[1:]$, are the latent factors associated with item $m$.\n",
    "\n",
    "* $\\Gamma$: An $M$ by $L+1$ matrix where the $m$th row is $\\gamma_m$.\n",
    "\n",
    "User-specific quantities:\n",
    "\n",
    "* $\\theta_u$: A user-specific parameter vector of length $L+1$. The first element of $\\theta_u$, denoted $\\theta_u[0]$ is the user-specific bias. The remaining $L$ elements of $\\theta_u$, denoted $\\theta_u[1:]$, are user $u$'s preferences for the latent factors.\n",
    "\n",
    "* $\\Theta$: A $U$ by $L+1$ matrix where the $u$th row is $\\theta_u$.\n",
    "\n",
    "Global quantities:\n",
    "\n",
    "* $\\mu$: The overall ratings mean.\n",
    "\n",
    "* $\\sigma$: The residual variance of ratings after the mean, bias terms, and latent factors have been taken into account.\n",
    "\n",
    "Using these quantities, we can specify our model for each rating $Y_{um}$ similarly to a linear regression:\n",
    "\n",
    "$$Y_{um} = \\mu + \\theta_{u}[0] + \\gamma_{m}[0] + \\theta_{u}[1:]^{\\top}\\gamma_{m}[1:] + \\epsilon_{um}$$\n",
    "\n",
    "where\n",
    "\n",
    "$$\\epsilon_{um} \\sim N(0, \\sigma).$$\n",
    "\n",
    "Note that while this looks like a linear regression, it is of a slightly different form because the latent factor term involves the product of two unknowns. This is like a linear regression where we forgot to measure some covariates.\n",
    "\n",
    "We also assume the following priors on the user-specific and item-specific parameters:\n",
    "\n",
    "$$\n",
    "\\begin{align*}\n",
    "\\gamma_m &\\sim MVN(\\mathbf 0, \\Lambda_\\gamma^{-1})\\\\\n",
    "\\theta_u &\\sim MVN(\\mathbf 0, \\Lambda_\\theta^{-1}),\n",
    "\\end{align*}\n",
    "$$\n",
    "\n",
    "where $MVN$ means multivariate normal, $\\mathbf 0$ is vector of length $L+1$ filled with zeros, and $\\Lambda_\\theta^{-1}$ and $\\Lambda_\\gamma^{-1}$ are $L+1 \\times L+1$ covariance matrices. $\\mu$ and $\\sigma$ also have priors, but they are not relevant to your task so we won't write them here.\n",
    "\n",
    "#### Goal for this Model ####\n",
    "Using this model, we want to make inference about all of the quantities that, if we knew them, would allow us to sample $Y_{um}$ for any user and any item. These quantities are $\\mu$, $\\sigma$, and the elements of $\\Theta$ and $\\Gamma$."
   ]
  },
  {
   "cell_type": "markdown",
   "metadata": {},
   "source": [
    "**3.1**: Given the goal specified above, how many quantities (counting a vector of $L$ items as $L$ quantities) are we trying to make inference about? Express your answer in terms of the variables in the \"Counts\" section above."
   ]
  },
  {
   "cell_type": "markdown",
   "metadata": {},
   "source": [
    "*your answer here*"
   ]
  },
  {
   "cell_type": "markdown",
   "metadata": {},
   "source": [
    "### Gibbs Sampling from the Posterior ###\n",
    "\n",
    "Our goal is to compute the **posterior distribution** over the unknowns $\\mu$, $\\sigma$, $\\Gamma$, and $\\Theta$ given $Y$, which reflects how much we know about these quantities given the data we have observed. We write this distribution as $P(\\mu, \\sigma, \\Gamma, \\Theta \\mid Y)$.\n",
    "\n",
    "The most general way to learn about the posterior distribution is to sample from it. This can be challenging, particularly in problems that are very high dimensional (see your answer to the question above). One strategy for for sampling from high-dimensional distributions is **Gibbs sampling**.\n",
    "\n",
    "Gibbs sampling breaks down the posterior probability distribution into blocks of unknowns, and samples iteratively from each block assuming that the values of the other blocks (and the data) are known and fixed. In this case, we will break down the posterior distribution into blocks of $\\mu$, $\\sigma$, each vector $\\gamma_m$, and each vector $\\theta_u$. We have already implemented the draws for $\\mu$ and $\\sigma$. You will need to implement the draws for each $\\gamma_m$ and each $\\theta_u$. Luckily, the structures of these draws are similar, so you will only need to implement two functions.\n",
    "\n",
    "First, we'll derive the form of the draws below. Note that you don't need to be able to follow these derivations fully -- you'll just need to be able to use the result at the end.\n",
    "\n",
    "#### Distribution of $\\gamma_{m'}$ given $Y, \\mu, \\sigma, \\Gamma_{-m'}, \\Theta$ ####\n",
    "\n",
    "Intuitively, this is the distribution of the item-specific parameters for item $m'$, imagining that all of the other unknowns are fixed.\n",
    "\n",
    "More precisely, we want to draw from the distribution of $\\gamma_{m'}$ conditional on the data $Y$ and all other unknowns -- that is, $\\mu$, $\\sigma$, all of $\\Theta$, and all of $\\Gamma$ except for $\\gamma_{m'}$, which we denote $\\Gamma_{-m}$.\n",
    "\n",
    "Note that in the model specification above, the only places that $\\gamma_{m'}$ appears are in the regression equations for each $Y_{um}$ that involves item $m'$. If we write out just these equations, we get a system of the following form,\n",
    "\n",
    "$$Y_{um'} = \\mu + \\theta_{u}[0] + \\gamma_{m'}[0] + \\theta_{u}[1:]^{\\top}\\gamma_{m'}[1:] + \\epsilon_{um'},$$\n",
    "\n",
    "with one equation for each $u$ that rated item $m'$. Now, because \n",
    "\n",
    "If we move all of the fully known terms to the left-hand side, we obtain the system:\n",
    "\n",
    "$$Y_{um'} - \\mu - \\theta_{u}[0] = \\gamma_{m'}[0] + \\theta_{u}[1:]^{\\top}\\gamma_{m'}[1:] + \\epsilon_{um'}.$$\n",
    "\n",
    "Notice that, because we assume that $\\theta_{u}$ is known, this equation now fits cleanly into the form of a linear regression, where $\\gamma_{m'}$ is the vector of unknown coefficients. This means that the posterior distribution for $\\gamma_{m'}$ conditional on everything else is the same as the posterior for the coefficients of a Bayesian linear regression of $(Y_{um'} - \\mu - \\theta_{u}[0])$ on $\\theta_{u}[1:]$ and an intercept.\n",
    "\n",
    "Let's denote the set of users who rated item $m'$ as $(u_1, \\cdots, u_g)$. Then, we can define the following vector and matrix:\n",
    "\n",
    "\\begin{align*}\n",
    "Y_{m'} = \\left(\\begin{array}{c} Y_{u_1m'}-\\mu-\\theta_{u_1}[0]\\\\ \\vdots \\\\ Y_{u_gm'}-\\mu-\\theta_{u_g}[0]\\end{array}\\right), \\qquad\n",
    "X_{m'} &= \\left(\\begin{array}{cc} 1 & \\theta_{u_1}[1:]^\\top \\\\ \\vdots & \\vdots \\\\ 1 & \\theta_{u_g}[1:]^\\top\\end{array}\\right),\n",
    "\\end{align*}\n",
    "\n",
    "where $Y_{m'}$ is a vector of length $g$ and $X_{m'}$ is a $g \\times L+1$ matrix.\n",
    "\n",
    "The draw from $\\gamma_{m'}$ given everything else then has the form:\n",
    "$$ \\gamma_{m'} \\mid Y, \\mu, \\sigma, \\Gamma_{-m'}, \\Theta \\sim MVN\\left(Q_{m'}^{-1} \\frac{1}{\\sigma^2}X_{m'}^\\top Y_{m'}, Q_{m'}^{-1}\\right)$$\n",
    "where\n",
    "$$ Q_{m'} = \\left(\\frac{1}{\\sigma^2}X_{m'}^\\top X_{m'} + \\Lambda_\\gamma\\right).$$\n",
    "\n",
    "#### Distribution of $\\theta_{u'}$ given $Y, \\mu, \\sigma, \\Gamma, \\Theta_{-u'}$####\n",
    "\n",
    "Intuitively, this is the distribution of the user-specific parameters for user $u'$, imagining that all of the other unknowns are fixed.\n",
    "\n",
    "We can use a very similar argument to the one above. We can denote the set of items rated by user $u'$ as $(m_1, \\cdots, m_g)$ and define the vector and matrix:\n",
    "\\begin{align*}\n",
    "Y_{u'} = \\left(\\begin{array}{c} Y_{u'm_1}-\\mu-\\gamma_{m_1}[0] \\\\ \\vdots \\\\ Y_{u'm_g}-\\mu-\\gamma_{m_g}[0]\\end{array}\\right), \\qquad\n",
    "X_{u'} &= \\left(\\begin{array}{cc} 1 & \\gamma_{m_1}[1:]^\\top \\\\ \\vdots & \\vdots \\\\ 1 & \\gamma_{m_g}[1:]^\\top\\end{array}\\right),\n",
    "\\end{align*}\n",
    "\n",
    "where $Y_{u'}$ is a vector of length $g$ and $X_{u'}$ is a $g \\times L+1$ matrix.\n",
    "\n",
    "the draw from $\\theta_{u'}$ given everything else has the form:\n",
    "$$ \\theta_{u'} \\mid Y, \\mu, \\sigma, \\Gamma, \\Theta_{-u'} \\sim MVN\\left(Q_{u'}^{-1} \\frac{1}{\\sigma^2}X_{u'}^\\top Y_{u'}, Q_{u'}^{-1}\\right)$$\n",
    "where\n",
    "$$ Q_{u'}= \\left(\\frac{1}{\\sigma^2}X_{u'}^\\top X_{u'} + \\Lambda_\\theta\\right).$$"
   ]
  },
  {
   "cell_type": "markdown",
   "metadata": {},
   "source": [
    "**3.2** We will only ask you to implement a tiny portion of the Gibbs sampler. Complete the following functions that implement the conditional posterior draws for $\\gamma_m$ and $\\theta_u$ derived above.\n",
    "\n",
    "**Hint**: `np.random.multivariate_normal` is a good function to know."
   ]
  },
  {
   "cell_type": "code",
   "execution_count": 69,
   "metadata": {
    "collapsed": false
   },
   "outputs": [],
   "source": [
    "\"\"\"\n",
    "Function\n",
    "--------\n",
    "gamma_m_draw\n",
    "\n",
    "Draw a single sample from the conditional posterior distribution\n",
    "of gamma_m.\n",
    "\n",
    "Inputs\n",
    "-------\n",
    "X_m: A g-by-L+1 matrix, defined above. \n",
    "Y_m: A 1D vector of length g, defined above.\n",
    "sig2: Residual _variance_, as defined above.\n",
    "Lambda_gamma: Prior precision matrix.\n",
    "\n",
    "Outputs\n",
    "--------\n",
    "Single draw from conditional posterior, defined above.\n",
    "\"\"\"\n",
    "#Item-specific parameters given all else\n",
    "#your code here\n",
    "def gamma_m_draw(X_m, Y_m, sig2, Lambda_gamma):\n",
    "\n",
    "    temp = np.linalg.inv(np.dot(X_m.T, X_m)/sig2+Lambda_gamma)\n",
    "    Xt_Y = np.dot(X_m.T, Y_m)\n",
    "\n",
    "    return np.random.multivariate_normal(np.dot(temp, Xt_Y)/sig2, temp)"
   ]
  },
  {
   "cell_type": "code",
   "execution_count": 70,
   "metadata": {
    "collapsed": false
   },
   "outputs": [],
   "source": [
    "\"\"\"\n",
    "Function\n",
    "--------\n",
    "theta_u_draw\n",
    "\n",
    "Draw a single sample from the conditional posterior distribution\n",
    "of gamma_m.\n",
    "\n",
    "Inputs\n",
    "-------\n",
    "X_u: A g-by-L+1 matrix, defined above. \n",
    "Y_u: A 1D vector of length g, defined above.\n",
    "sig2: Residual _variance_, as defined above.\n",
    "Lambda_theta: Prior precision matrix.\n",
    "\n",
    "Outputs\n",
    "--------\n",
    "Single draw from conditional posterior, defined above.\n",
    "\"\"\"\n",
    "#User-specific parameters given all else\n",
    "#your code here\n",
    "def theta_u_draw(X_u, Y_u, sig2, Lambda_theta):\n",
    "    #Compute matrices that define conditional posterior.\n",
    "    temp = np.linalg.inv(np.dot(X_u.T, X_u)/sig2+Lambda_theta)\n",
    "    Xt_Y = np.dot(X_u.T, Y_u)\n",
    "    \n",
    "    #Draw the user-specific parameters\n",
    "    return np.random.multivariate_normal(np.dot(temp, Xt_Y)/sig2, temp)"
   ]
  },
  {
   "cell_type": "markdown",
   "metadata": {},
   "source": [
    "Here is the Gibbs sampler skeleton that your functions fit into. Look over the structure to see how for each draw from the posterior, the sampler iterates through $\\mu$, $\\sigma$, $\\gamma_m$ for each item, and $\\theta_u$ for each user."
   ]
  },
  {
   "cell_type": "code",
   "execution_count": 72,
   "metadata": {
    "collapsed": false
   },
   "outputs": [],
   "source": [
    "\"\"\"\n",
    "Function\n",
    "--------\n",
    "factor_gibbs\n",
    "\n",
    "Runs a gibbs sampler to infer mean, variance, user-specific, and item-specific\n",
    "parameters.\n",
    "\n",
    "Inputs\n",
    "-------\n",
    "data: A dataframe containing ratings data.\n",
    "L: Dimension of latent factors.\n",
    "maxit: Number of samples to draw from posterior.\n",
    "Lambda_theta_diag: Hyperparameter controlling regularization of Theta.\n",
    "Lambda_gamma_diag: Hyperparameter controlling regularization of Gamma.\n",
    "progress: if true, print iteration number every 100 iterations.\n",
    "\n",
    "Outputs\n",
    "--------\n",
    "Dictionary with elements\n",
    "mu: Draws of mu. 1D array of length maxiter.\n",
    "sig2: Draws of sig2, residual _variance_. 1D array of length maxiter.\n",
    "theta: Draws of Theta. U-by-L-by-maxiter array.\n",
    "gamma: Draws of Gamma. M-by-L-by-maxiter array.\n",
    "EY: Draws of fitted values of Y. N-by-maxiter array.\n",
    "\"\"\"\n",
    "def factor_gibbs(data, L, maxit, Lambda_theta_diag, Lambda_gamma_diag, progress=True):\n",
    "    data = data.copy()\n",
    "    N = data.shape[0]\n",
    "\n",
    "    #Create indices that allow us to map users and restaurants to rows\n",
    "    #in parameter vectors.\n",
    "    uusers, uidx = np.unique(data.user_id, return_inverse=True)\n",
    "    uitems, midx = np.unique(data.business_id, return_inverse=True)\n",
    "\n",
    "    nusers = uusers.size\n",
    "    nitems = uitems.size\n",
    "\n",
    "    #Add numerical indices to dataframe.\n",
    "    data[\"uidx\"] = uidx\n",
    "    data[\"midx\"] = midx\n",
    "\n",
    "    #Group observations by user and by business.\n",
    "    ugroups = data.groupby(\"uidx\")\n",
    "    mgroups = data.groupby(\"midx\")\n",
    "\n",
    "    all_avg = data.stars.mean()\n",
    "    u_avg = ugroups.stars.mean()\n",
    "    m_avg = mgroups.stars.mean()\n",
    "\n",
    "    #Initialize parameters and set up data structures for\n",
    "    #holding draws.\n",
    "    #Overall mean\n",
    "    mu = all_avg\n",
    "    mu_draws = np.zeros(maxit)\n",
    "    #Residual variance\n",
    "    sig2 = 0.5\n",
    "    sig2_draws = np.zeros(maxit)\n",
    "\n",
    "    #Matrix of user-specific bias and L latent factors.\n",
    "    theta = np.zeros([nusers, L+1])\n",
    "    theta[:,0] = u_avg-all_avg\n",
    "    theta_draws = np.zeros([nusers, L+1, maxit])\n",
    "\n",
    "    #Matrix of item-specific bias and L latent factors.\n",
    "    gamma = np.zeros([nitems, L+1])\n",
    "    gamma[:,0] = m_avg-all_avg\n",
    "    gamma_draws = np.zeros([nitems, L+1, maxit])\n",
    "\n",
    "    #Matrix for holding the expected number of stars\n",
    "    #for each observation at each draw from the posterior.\n",
    "    EY_draws = np.zeros([data.shape[0], maxit])\n",
    "\n",
    "    #Inverse covariance matrices from the prior on each theta_u\n",
    "    #and gamma_b. These are diagonal, like Ridge regression.\n",
    "    Lambda_theta = np.eye(L+1)*Lambda_theta_diag\n",
    "    Lambda_gamma = np.eye(L+1)*Lambda_gamma_diag\n",
    "\n",
    "    #Main sampler code\n",
    "    for i in range(maxit):\n",
    "        if i%100==0 and progress:\n",
    "            print(i)\n",
    "\n",
    "        #The entire regression equation except for the overall mean.\n",
    "        nomu = np.sum(theta[data.uidx,1:]*gamma[data.midx,1:], axis=1) +\\\n",
    "                  theta[data.uidx,0] + gamma[data.midx,0]\n",
    "\n",
    "        #Compute the expectation of each observation given the current\n",
    "        #parameter values.\n",
    "        EY_draws[:,i]=mu+nomu\n",
    "\n",
    "        #Draw overall mean from a normal distribution\n",
    "        mu = np.random.normal(np.mean(data.stars-nomu), np.sqrt(sig2/N))\n",
    "        #Draw overall residual variance from a scaled inverse-Chi squared distribution.\n",
    "        sig2 = np.sum(np.power(data.stars-nomu-mu,2))/np.random.chisquare(N-2)\n",
    "        \n",
    "        #For each item\n",
    "        for mi,itemdf in mgroups:\n",
    "            #Gather relevant observations, and subtract out overall mean and\n",
    "            #user-specific biases, which we are holding fixed.\n",
    "            Y_m = itemdf.stars-mu-theta[itemdf.uidx,0]\n",
    "            #Build the regression design matrix implied by holding user factors\n",
    "            #fixed.\n",
    "            X_m = np.hstack((np.ones([itemdf.shape[0],1]),\n",
    "                             theta[itemdf.uidx,1:]))\n",
    "            gamma[mi,:] = gamma_m_draw(X_m, Y_m, sig2, Lambda_gamma)\n",
    "            \n",
    "        #For each user\n",
    "        for ui,userdf in ugroups:\n",
    "            #Gather relevant observations, and subtract out overall mean and\n",
    "            #business-specific biases, which we are holding fixed.\n",
    "            Y_u = userdf.stars-mu-gamma[userdf.midx,0]\n",
    "            #Build the regression design matrix implied by holding business factors\n",
    "            #fixed.\n",
    "            X_u = np.hstack((np.ones([userdf.shape[0],1]),\n",
    "                             gamma[userdf.midx,1:]))\n",
    "            \n",
    "            theta[ui,:] = theta_u_draw(X_u, Y_u, sig2, Lambda_theta)\n",
    "\n",
    "        #Record draws\n",
    "        mu_draws[i] = mu\n",
    "        sig2_draws[i] = sig2\n",
    "        theta_draws[:,:,i] = theta\n",
    "        gamma_draws[:,:,i] = gamma\n",
    "\n",
    "    return {\"mu\": mu_draws, \"sig2\": sig2_draws,\n",
    "            \"theta\": theta_draws, \"gamma\": gamma_draws,\n",
    "            \"EY\": EY_draws}"
   ]
  },
  {
   "cell_type": "markdown",
   "metadata": {},
   "source": [
    "### Posterior Summaries ###\n",
    "\n",
    "Once you have posterior draws from the sampler, the most natural thing to do is to compute the **posterior mean** of each quantity you are intersted in. To do this, we simply need to take the average value of each quantity across the samples drawn from the sampler. Before taking the average, however, we will want to ignore the first 20-30% of samples because these correspond the **burnin period**, the time during which the sampler is still looking for the main meat of the distribution."
   ]
  },
  {
   "cell_type": "markdown",
   "metadata": {},
   "source": [
    "#### Ok it's time to recommend!"
   ]
  },
  {
   "cell_type": "markdown",
   "metadata": {},
   "source": [
    "**3.3** Now that you have the Gibbs sampler, draw 1000 samples from the posterior distribution using a two-dimensional latent factor and prior precisions `Lambda_theta_diag` and `Lambda_gamma_diag` both equal to 0.1.\n",
    "\n",
    "Compute the posterior mean of the fitted values for each $Y_{um}$, eliminating the first 200 samples. Call these the `prediction`.  These constitute our recommendations. True to the bayesian paradigm, we dont just have mean predictions, but entire distributions. But currently we are only interested in the means."
   ]
  },
  {
   "cell_type": "code",
   "execution_count": 73,
   "metadata": {
    "collapsed": false
   },
   "outputs": [
    {
     "name": "stdout",
     "output_type": "stream",
     "text": [
      "0\n",
      "100\n",
      "200\n",
      "300\n",
      "400\n",
      "500\n",
      "600\n",
      "700\n",
      "800\n",
      "900\n"
     ]
    }
   ],
   "source": [
    "#your code here\n",
    "gibbs_out = factor_gibbs(smalldf, 2, 1000, 0.1, 0.1)\n",
    "burnin = 200\n",
    "predicted=np.mean(gibbs_out['EY'][:,burnin:], axis=1)"
   ]
  },
  {
   "cell_type": "markdown",
   "metadata": {},
   "source": [
    "Plot the predictions against the observed data.You can use the `compare_results` function defined in the previous section. How do the fitted values compare to those from the KNN procedure?"
   ]
  },
  {
   "cell_type": "code",
   "execution_count": 75,
   "metadata": {
    "collapsed": false
   },
   "outputs": [
    {
     "name": "stdout",
     "output_type": "stream",
     "text": [
      "1.0\n"
     ]
    },
    {
     "data": {
      "image/png": "[encoded data removed]",
      "text/plain": [
       "<matplotlib.figure.Figure at 0xdbe17f5e80>"
      ]
     },
     "metadata": {},
     "output_type": "display_data"
    }
   ],
   "source": [
    "#your code here\n",
    "compare_results(smalldf.stars.values, predicted, ylow=1, yhigh=5, title=\"the predictions against the observed data\")"
   ]
  },
  {
   "cell_type": "markdown",
   "metadata": {},
   "source": [
    "*your answer here*\n",
    "<br>From the plot above, we can see it is similar to the KNN when k=3. But range of predicted value is between 1 and 5, which is better than KNN. Same as KNN when k=3, compare the green line(actual values reg) and black line(predicted values reg), predicted values are higher than actual value if actual value lower than about 3.8. And actual value are higher than predicted values if actual value higher than about 3.8."
   ]
  },
  {
   "cell_type": "markdown",
   "metadata": {},
   "source": [
    "## Q4 Scaling Up"
   ]
  },
  {
   "cell_type": "markdown",
   "metadata": {},
   "source": [
    "All our recommenders suffer from problems having to do with the fact that we subsetted an already sparse user-item matrix. The more items we have, the more items we may find in the vicinity of a given item, and thus we are likely to give a more robust average rating to the given item.\n",
    "\n",
    "In this problem we shall use Amazon Elastic Map-Reduce to tackle the entire user-restaurant matrix. We shall do this in two parts: we'll use MRJob locally on your machine to on the smaller data set to calclate the pearson database, and then we'll tackle the entire data set on Amazon.\n",
    "\n",
    "The larger set has 35000 users and 4500 items. Computing the 4500X4500 similarity matrix on one machine will be prohibitively expensive. Thus we'll adopt a strategy where we'll split the calculation over multiple machines using the map-reduce paradigm, with mappers and reducers working on multiple machines \n",
    "\n",
    "Then we calculate the k-nearest neighbors in the 'space' of the user: this involves a database lookup and an iteration over the items a user has rated. Since the latter is usually not a very large number, this computation can be managed on a front end machine (even if storing the database will take a lot of memory).\n"
   ]
  },
  {
   "cell_type": "markdown",
   "metadata": {},
   "source": [
    "We'll first create subset data frames, which have just those columns which we will send to the map-reduce. We'll also strip out the header and index of the frame. The reason for doing this is: unless we pre-populate the machines on Amazon with software, we can *rely only on the regular python library, numpy, and scipy being there (and at python 2.6)*, and thus we will need to parse the csv file, line by line (`mrjob` uses hadoop's stream protocol and thus needs to be fed line by line)."
   ]
  },
  {
   "cell_type": "code",
   "execution_count": 76,
   "metadata": {
    "collapsed": false
   },
   "outputs": [],
   "source": [
    "subsetoffull=fulldf[['user_id','business_id', 'stars','business_avg','user_avg']]\n",
    "subsetoffull.to_csv(\"subset-full.csv\", index=False, header=False)\n",
    "subsetofsmall=smalldf[['user_id','business_id', 'stars','business_avg','user_avg']]\n",
    "subsetofsmall.to_csv(\"subset-small.csv\", index=False, header=False)"
   ]
  },
  {
   "cell_type": "markdown",
   "metadata": {},
   "source": [
    "### Running mrjob locally\n",
    "\n",
    "`mrjob` scripts cannot be run from the ipython notebook, as they fork themselves on execution. Thus you must write the code for mrjob in a separate file which you must submit along with this homework, in the same folder as the python notebook file.\n",
    "\n",
    "If you have not done so already (you were supposed to do this as part of HW 0), you will first need to install `mrjob`. The appropriate equivalent of the following incantation should do the job:\n",
    "\n",
    "    ~/anaconda/bin/pip install mrjob\n",
    "    \n",
    "\n",
    "    \n",
    "To familiarize yourself with the structure of an `mrjob` script, please read [this](http://mrjob.readthedocs.org/en/latest/guides/quickstart.html#writing-your-first-job) . Run the examples in that document to familiarize yourself with `mrjob`.\n",
    "\n",
    "The kind of script you will be writing is in the section \"Writing your second job\" in that document. \n"
   ]
  },
  {
   "cell_type": "markdown",
   "metadata": {},
   "source": [
    "All mrjob tasks use the map-reduce strategy to divide up computation across computers. You should work through the mrjob tutorial to gain familiarity with this, but we’ll also outline the basic process here:\n",
    "\n",
    "1. During the first map step, mrjob calls a mapper function with a key (which for the first step is None), and a value (which for the first step is a line of data from an input file). This function does whatever it wants with this data, and yields a key and value.  The key is used in step 2 to gather up the values from all the different mappers into groups\n",
    "\n",
    "2. mrjob collects the outputs from all the mappers, and gathers them into subsets with the same key value (this is similar to what pandas.groupby does). It passes each of these subsets to a reducer (or “collector”) function, whose job is to synthesize this list of grouped data into something useful (e.g., computing the mean of all the inputs). It then yields the key and reduced value. \n",
    "\n",
    "3. If there are any additional steps, mrjob feeds each output from a reducer function in step 2 to the next mapper. Otherwise, it prints the output.\n",
    "\n",
    "The point behind map-reduce is to agree upon a common framework to split up a large computational job into smaller tasks. mrjob then has a lot of freedom to organize how these tasks run in parallel, on many machines"
   ]
  },
  {
   "cell_type": "markdown",
   "metadata": {},
   "source": [
    "#### Writing your script"
   ]
  },
  {
   "cell_type": "markdown",
   "metadata": {},
   "source": [
    "**4.1** Write a MRJOB script, called `computesim.py`. The object of this script is to take a csv file and return a tuple `(rho, n_common)` as `calculate_similarity` for pairs of restaurants. See `skeleton.py` below for the SPEC of this file. Your job is to fill in those methods. You MUST use this skeleton.\n",
    "\n",
    "This script is to be run like so (substitute your own operating system's call):\n",
    "\n",
    "    ~/anaconda/bin/python computesim.py subset-small.csv > output.small.local.txt\n",
    "\n",
    "Thus, when the script below is run in this fashion, mrjob will read the data line-by-line from subset-small.csv, and pass it to the first \"step\".\n",
    "\n"
   ]
  },
  {
   "cell_type": "code",
   "execution_count": 85,
   "metadata": {
    "collapsed": false
   },
   "outputs": [
    {
     "name": "stderr",
     "output_type": "stream",
     "text": [
      "No configs found; falling back on auto-configuration\n",
      "Creating temp directory c:\\users\\admini~1\\appdata\\local\\temp\\computesim.Administrator.20161212.013207.892000\n",
      "mr() is deprecated and will be removed in v0.6.0. Use mrjob.step.MRStep directly instead.\n",
      "mr() is deprecated and will be removed in v0.6.0. Use mrjob.step.MRStep directly instead.\n",
      "Running step 1 of 2...\n",
      "mr() is deprecated and will be removed in v0.6.0. Use mrjob.step.MRStep directly instead.\n",
      "mr() is deprecated and will be removed in v0.6.0. Use mrjob.step.MRStep directly instead.\n",
      "mr() is deprecated and will be removed in v0.6.0. Use mrjob.step.MRStep directly instead.\n",
      "mr() is deprecated and will be removed in v0.6.0. Use mrjob.step.MRStep directly instead.\n",
      "mr() is deprecated and will be removed in v0.6.0. Use mrjob.step.MRStep directly instead.\n",
      "mr() is deprecated and will be removed in v0.6.0. Use mrjob.step.MRStep directly instead.\n",
      "mr() is deprecated and will be removed in v0.6.0. Use mrjob.step.MRStep directly instead.\n",
      "mr() is deprecated and will be removed in v0.6.0. Use mrjob.step.MRStep directly instead.\n",
      "mr() is deprecated and will be removed in v0.6.0. Use mrjob.step.MRStep directly instead.\n",
      "mr() is deprecated and will be removed in v0.6.0. Use mrjob.step.MRStep directly instead.\n",
      "mr() is deprecated and will be removed in v0.6.0. Use mrjob.step.MRStep directly instead.\n",
      "mr() is deprecated and will be removed in v0.6.0. Use mrjob.step.MRStep directly instead.\n",
      "mr() is deprecated and will be removed in v0.6.0. Use mrjob.step.MRStep directly instead.\n",
      "mr() is deprecated and will be removed in v0.6.0. Use mrjob.step.MRStep directly instead.\n",
      "mr() is deprecated and will be removed in v0.6.0. Use mrjob.step.MRStep directly instead.\n",
      "mr() is deprecated and will be removed in v0.6.0. Use mrjob.step.MRStep directly instead.\n",
      "Running step 2 of 2...\n",
      "mr() is deprecated and will be removed in v0.6.0. Use mrjob.step.MRStep directly instead.\n",
      "mr() is deprecated and will be removed in v0.6.0. Use mrjob.step.MRStep directly instead.\n",
      "mr() is deprecated and will be removed in v0.6.0. Use mrjob.step.MRStep directly instead.\n",
      "mr() is deprecated and will be removed in v0.6.0. Use mrjob.step.MRStep directly instead.\n",
      "mr() is deprecated and will be removed in v0.6.0. Use mrjob.step.MRStep directly instead.\n",
      "mr() is deprecated and will be removed in v0.6.0. Use mrjob.step.MRStep directly instead.\n",
      "mr() is deprecated and will be removed in v0.6.0. Use mrjob.step.MRStep directly instead.\n",
      "mr() is deprecated and will be removed in v0.6.0. Use mrjob.step.MRStep directly instead.\n",
      "mr() is deprecated and will be removed in v0.6.0. Use mrjob.step.MRStep directly instead.\n",
      "mr() is deprecated and will be removed in v0.6.0. Use mrjob.step.MRStep directly instead.\n",
      "mr() is deprecated and will be removed in v0.6.0. Use mrjob.step.MRStep directly instead.\n",
      "mr() is deprecated and will be removed in v0.6.0. Use mrjob.step.MRStep directly instead.\n",
      "C:\\Python27\\lib\\site-packages\\scipy\\stats\\stats.py:2436: RuntimeWarning: invalid value encountered in double_scalars\n",
      "  r = r_num / r_den\n",
      "C:\\Python27\\lib\\site-packages\\scipy\\stats\\stats.py:4184: RuntimeWarning: invalid value encountered in less\n",
      "  x = np.where(x < 1.0, x, 1.0)  # if x > 1 then return 1.0\n",
      "C:\\Python27\\lib\\site-packages\\scipy\\stats\\stats.py:2446: RuntimeWarning: invalid value encountered in double_scalars\n",
      "  prob = betai(0.5*df, 0.5, df / (df + t_squared))\n",
      "mr() is deprecated and will be removed in v0.6.0. Use mrjob.step.MRStep directly instead.\n",
      "mr() is deprecated and will be removed in v0.6.0. Use mrjob.step.MRStep directly instead.\n",
      "mr() is deprecated and will be removed in v0.6.0. Use mrjob.step.MRStep directly instead.\n",
      "mr() is deprecated and will be removed in v0.6.0. Use mrjob.step.MRStep directly instead.\n",
      "Streaming final output from c:\\users\\admini~1\\appdata\\local\\temp\\computesim.Administrator.20161212.013207.892000\\output...\n",
      "Removing temp directory c:\\users\\admini~1\\appdata\\local\\temp\\computesim.Administrator.20161212.013207.892000...\n"
     ]
    }
   ],
   "source": [
    "!computesim.py subset-small.csv > output.small.local.txt"
   ]
  },
  {
   "cell_type": "markdown",
   "metadata": {},
   "source": [
    "#### Algorithm to calculate pearson similarities\n",
    "\n",
    "Here is the description of the algorithm for RestaurantSimilarities.\n",
    "\n",
    "Your code will have two steps. Each step will have a mapper and a reducer. These are described in turn here:\n",
    "\n",
    "1. `line_mapper` will split the line, yielding the `user_id` as key, and the rest as value. This method's implementation is provided for you.\n",
    "\n",
    "2. `users_items_collector` is a reducer. It is passed ALL mapper outputs corresponding to a particular `user_id`. Put these emissions into a list, and re-emit the `user_id` with this list.\n",
    "\n",
    "3. `pair_items_mapper` takes the `user_id` and the list. It dosent do anything with the `user_id`, however, it takes every combination (thus len(list) choose 2) of 2 `business_id`s from the passed on list (see combinations in itertools in the python documentation) and sends on the remaining information keyed on the tuple `(restaurant1, restaurant2)`. Be sure to handle the case where the restaurant id's are flipped: include them somehow under the same key.\n",
    "\n",
    "4. `calc_sim_collector` is passed ALL sent on list information for the pair of restaurants that was emitted in the previous step. Note that thse will come from different `user_id`s. This sort of collection is key to this style of programming. This list information should now correspond to all the common support of the two restaurants. Use this information to calculate this common support and the pearson similarity. Return the aforementioned tuple by yielding it keyed by the tuple of restaurants. This information will be sent to the output file. The output keys and values will both be in JSON format, separated by a tab.\n",
    "\n",
    "The output should be saved in a file via redirection as `output.small.local.txt`"
   ]
  },
  {
   "cell_type": "markdown",
   "metadata": {},
   "source": [
    "#### Skeleton File for this problem\n",
    "\n",
    "You can access it [here](https://raw.github.com/cs109/content/master/skeleton.py) or just run the next cell to see it."
   ]
  },
  {
   "cell_type": "code",
   "execution_count": 78,
   "metadata": {
    "collapsed": false
   },
   "outputs": [
    {
     "data": {
      "text/html": [
       "<div class=\"highlight\"><pre><span></span><span class=\"kn\">import</span> <span class=\"nn\">numpy</span> <span class=\"kn\">as</span> <span class=\"nn\">np</span>\n",
       "\n",
       "<span class=\"kn\">from</span> <span class=\"nn\">mrjob.job</span> <span class=\"kn\">import</span> <span class=\"n\">MRJob</span>\n",
       "<span class=\"kn\">from</span> <span class=\"nn\">itertools</span> <span class=\"kn\">import</span> <span class=\"n\">combinations</span><span class=\"p\">,</span> <span class=\"n\">permutations</span>\n",
       "\n",
       "<span class=\"kn\">from</span> <span class=\"nn\">scipy.stats.stats</span> <span class=\"kn\">import</span> <span class=\"n\">pearsonr</span>\n",
       "\n",
       "\n",
       "<span class=\"k\">class</span> <span class=\"nc\">RestaurantSimilarities</span><span class=\"p\">(</span><span class=\"n\">MRJob</span><span class=\"p\">):</span>\n",
       "\n",
       "    <span class=\"k\">def</span> <span class=\"nf\">steps</span><span class=\"p\">(</span><span class=\"bp\">self</span><span class=\"p\">):</span>\n",
       "        <span class=\"s2\">&quot;the steps in the map-reduce process&quot;</span>\n",
       "        <span class=\"n\">thesteps</span> <span class=\"o\">=</span> <span class=\"p\">[</span>\n",
       "            <span class=\"bp\">self</span><span class=\"o\">.</span><span class=\"n\">mr</span><span class=\"p\">(</span><span class=\"n\">mapper</span><span class=\"o\">=</span><span class=\"bp\">self</span><span class=\"o\">.</span><span class=\"n\">line_mapper</span><span class=\"p\">,</span> <span class=\"n\">reducer</span><span class=\"o\">=</span><span class=\"bp\">self</span><span class=\"o\">.</span><span class=\"n\">users_items_collector</span><span class=\"p\">),</span>\n",
       "            <span class=\"bp\">self</span><span class=\"o\">.</span><span class=\"n\">mr</span><span class=\"p\">(</span><span class=\"n\">mapper</span><span class=\"o\">=</span><span class=\"bp\">self</span><span class=\"o\">.</span><span class=\"n\">pair_items_mapper</span><span class=\"p\">,</span> <span class=\"n\">reducer</span><span class=\"o\">=</span><span class=\"bp\">self</span><span class=\"o\">.</span><span class=\"n\">calc_sim_collector</span><span class=\"p\">)</span>\n",
       "        <span class=\"p\">]</span>\n",
       "        <span class=\"k\">return</span> <span class=\"n\">thesteps</span>\n",
       "\n",
       "    <span class=\"k\">def</span> <span class=\"nf\">line_mapper</span><span class=\"p\">(</span><span class=\"bp\">self</span><span class=\"p\">,</span><span class=\"n\">_</span><span class=\"p\">,</span><span class=\"n\">line</span><span class=\"p\">):</span>\n",
       "        <span class=\"s2\">&quot;this is the complete implementation&quot;</span>\n",
       "        <span class=\"n\">user_id</span><span class=\"p\">,</span><span class=\"n\">business_id</span><span class=\"p\">,</span><span class=\"n\">stars</span><span class=\"p\">,</span><span class=\"n\">business_avg</span><span class=\"p\">,</span><span class=\"n\">user_avg</span><span class=\"o\">=</span><span class=\"n\">line</span><span class=\"o\">.</span><span class=\"n\">split</span><span class=\"p\">(</span><span class=\"s1\">&#39;,&#39;</span><span class=\"p\">)</span>\n",
       "        <span class=\"k\">yield</span> <span class=\"n\">user_id</span><span class=\"p\">,</span> <span class=\"p\">(</span><span class=\"n\">business_id</span><span class=\"p\">,</span><span class=\"n\">stars</span><span class=\"p\">,</span><span class=\"n\">business_avg</span><span class=\"p\">,</span><span class=\"n\">user_avg</span><span class=\"p\">)</span>\n",
       "\n",
       "\n",
       "    <span class=\"k\">def</span> <span class=\"nf\">users_items_collector</span><span class=\"p\">(</span><span class=\"bp\">self</span><span class=\"p\">,</span> <span class=\"n\">user_id</span><span class=\"p\">,</span> <span class=\"n\">values</span><span class=\"p\">):</span>\n",
       "        <span class=\"sd\">&quot;&quot;&quot;</span>\n",
       "<span class=\"sd\">        #iterate over the list of tuples yielded in the previous mapper</span>\n",
       "<span class=\"sd\">        #and append them to an array of rating information</span>\n",
       "<span class=\"sd\">        &quot;&quot;&quot;</span>\n",
       "        <span class=\"k\">pass</span>\n",
       "\n",
       "\n",
       "    <span class=\"k\">def</span> <span class=\"nf\">pair_items_mapper</span><span class=\"p\">(</span><span class=\"bp\">self</span><span class=\"p\">,</span> <span class=\"n\">user_id</span><span class=\"p\">,</span> <span class=\"n\">values</span><span class=\"p\">):</span>\n",
       "        <span class=\"sd\">&quot;&quot;&quot;</span>\n",
       "<span class=\"sd\">        ignoring the user_id key, take all combinations of business pairs</span>\n",
       "<span class=\"sd\">        and yield as key the pair id, and as value the pair rating information</span>\n",
       "<span class=\"sd\">        &quot;&quot;&quot;</span>\n",
       "\t   <span class=\"k\">pass</span> <span class=\"c1\">#your code here</span>\n",
       "\n",
       "    <span class=\"k\">def</span> <span class=\"nf\">calc_sim_collector</span><span class=\"p\">(</span><span class=\"bp\">self</span><span class=\"p\">,</span> <span class=\"n\">key</span><span class=\"p\">,</span> <span class=\"n\">values</span><span class=\"p\">):</span>\n",
       "        <span class=\"sd\">&quot;&quot;&quot;</span>\n",
       "<span class=\"sd\">        Pick up the information from the previous yield as shown. Compute</span>\n",
       "<span class=\"sd\">        the pearson correlation and yield the final information as in the</span>\n",
       "<span class=\"sd\">        last line here.</span>\n",
       "<span class=\"sd\">        &quot;&quot;&quot;</span>\n",
       "        <span class=\"p\">(</span><span class=\"n\">rest1</span><span class=\"p\">,</span> <span class=\"n\">rest2</span><span class=\"p\">),</span> <span class=\"n\">common_ratings</span> <span class=\"o\">=</span> <span class=\"n\">key</span><span class=\"p\">,</span> <span class=\"n\">values</span>\n",
       "\t    <span class=\"c1\">#your code here</span>\n",
       "        <span class=\"k\">yield</span> <span class=\"p\">(</span><span class=\"n\">rest1</span><span class=\"p\">,</span> <span class=\"n\">rest2</span><span class=\"p\">),</span> <span class=\"p\">(</span><span class=\"n\">rho</span><span class=\"p\">,</span> <span class=\"n\">n_common</span><span class=\"p\">)</span>\n",
       "\n",
       "\n",
       "<span class=\"c1\">#Below MUST be there for things to work</span>\n",
       "<span class=\"k\">if</span> <span class=\"n\">__name__</span> <span class=\"o\">==</span> <span class=\"s1\">&#39;__main__&#39;</span><span class=\"p\">:</span>\n",
       "    <span class=\"n\">RestaurantSimilarities</span><span class=\"o\">.</span><span class=\"n\">run</span><span class=\"p\">()</span>\n",
       "</pre></div>\n"
      ],
      "text/plain": [
       "<IPython.core.display.HTML object>"
      ]
     },
     "execution_count": 78,
     "metadata": {},
     "output_type": "execute_result"
    }
   ],
   "source": [
    "from pygments import highlight\n",
    "from pygments.lexers import PythonLexer\n",
    "from pygments.formatters import HtmlFormatter\n",
    "from IPython.display import HTML\n",
    "import urllib\n",
    "skelcode = urllib.request.urlopen(\"https://raw.github.com/cs109/content/master/skeleton.py\").read()\n",
    "skelhtml=highlight(skelcode, PythonLexer(), HtmlFormatter())\n",
    "HTML(skelhtml)"
   ]
  },
  {
   "cell_type": "markdown",
   "metadata": {},
   "source": [
    "#### Explanation for those funny `yield` keywords\n",
    "\n",
    "The functions above “yield” values, and do not “return” them. They are **generators**. Here is an example:"
   ]
  },
  {
   "cell_type": "code",
   "execution_count": 79,
   "metadata": {
    "collapsed": false
   },
   "outputs": [
    {
     "name": "stdout",
     "output_type": "stream",
     "text": [
      "<generator object upper_generator at 0x000000DBE17620F8>\n",
      "['A', 'COUPLE', 'OF', 'WORDS', 'TO', 'PROCESS']\n",
      "A\n",
      "COUPLE\n",
      "OF\n",
      "WORDS\n",
      "TO\n",
      "PROCESS\n"
     ]
    }
   ],
   "source": [
    "def upper_generator(words):\n",
    "    for word in words:\n",
    "        yield word.upper()\n",
    "\n",
    "words = ['a', 'couple', 'of', 'words', 'to', 'process']\n",
    "\n",
    "print (upper_generator(words))\n",
    "print (list(upper_generator(words)))\n",
    "for u in upper_generator(words):\n",
    "     print (u)\n",
    "\n"
   ]
  },
  {
   "cell_type": "markdown",
   "metadata": {},
   "source": [
    "You can read more [here](http://nedbatchelder.com/text/iter.html)."
   ]
  },
  {
   "cell_type": "markdown",
   "metadata": {},
   "source": [
    "Include `computesim.py` in your submission in the same folder as the notebook. Uncommenting and running the following cell should **output your code in here**."
   ]
  },
  {
   "cell_type": "code",
   "execution_count": 81,
   "metadata": {
    "collapsed": false
   },
   "outputs": [
    {
     "data": {
      "text/html": [
       "<div class=\"highlight\"><pre><span></span><span class=\"kn\">import</span> <span class=\"nn\">numpy</span> <span class=\"kn\">as</span> <span class=\"nn\">np</span>\n",
       "\n",
       "<span class=\"kn\">from</span> <span class=\"nn\">mrjob.job</span> <span class=\"kn\">import</span> <span class=\"n\">MRJob</span>\n",
       "<span class=\"kn\">from</span> <span class=\"nn\">itertools</span> <span class=\"kn\">import</span> <span class=\"n\">combinations</span><span class=\"p\">,</span> <span class=\"n\">permutations</span>\n",
       "<span class=\"kn\">from</span> <span class=\"nn\">math</span> <span class=\"kn\">import</span> <span class=\"n\">sqrt</span>\n",
       "\n",
       "<span class=\"kn\">from</span> <span class=\"nn\">scipy.stats.stats</span> <span class=\"kn\">import</span> <span class=\"n\">pearsonr</span>\n",
       "\n",
       "<span class=\"k\">class</span> <span class=\"nc\">RestaurantSimilarities</span><span class=\"p\">(</span><span class=\"n\">MRJob</span><span class=\"p\">):</span>\n",
       "\n",
       "    <span class=\"k\">def</span> <span class=\"nf\">steps</span><span class=\"p\">(</span><span class=\"bp\">self</span><span class=\"p\">):</span>\n",
       "        <span class=\"n\">thesteps</span> <span class=\"o\">=</span> <span class=\"p\">[</span>\n",
       "            <span class=\"bp\">self</span><span class=\"o\">.</span><span class=\"n\">mr</span><span class=\"p\">(</span><span class=\"n\">mapper</span><span class=\"o\">=</span><span class=\"bp\">self</span><span class=\"o\">.</span><span class=\"n\">line_mapper</span><span class=\"p\">,</span> <span class=\"n\">reducer</span><span class=\"o\">=</span><span class=\"bp\">self</span><span class=\"o\">.</span><span class=\"n\">users_items_collector</span><span class=\"p\">),</span>\n",
       "            <span class=\"bp\">self</span><span class=\"o\">.</span><span class=\"n\">mr</span><span class=\"p\">(</span><span class=\"n\">mapper</span><span class=\"o\">=</span><span class=\"bp\">self</span><span class=\"o\">.</span><span class=\"n\">pair_items_mapper</span><span class=\"p\">,</span> <span class=\"n\">reducer</span><span class=\"o\">=</span><span class=\"bp\">self</span><span class=\"o\">.</span><span class=\"n\">calc_sim_collector</span><span class=\"p\">)</span>\n",
       "        <span class=\"p\">]</span>\n",
       "        <span class=\"k\">return</span> <span class=\"n\">thesteps</span>\n",
       "\n",
       "    <span class=\"k\">def</span> <span class=\"nf\">line_mapper</span><span class=\"p\">(</span><span class=\"bp\">self</span><span class=\"p\">,</span><span class=\"n\">_</span><span class=\"p\">,</span><span class=\"n\">line</span><span class=\"p\">):</span>\n",
       "        <span class=\"n\">user_id</span><span class=\"p\">,</span><span class=\"n\">business_id</span><span class=\"p\">,</span><span class=\"n\">stars</span><span class=\"p\">,</span><span class=\"n\">business_avg</span><span class=\"p\">,</span><span class=\"n\">user_avg</span><span class=\"o\">=</span><span class=\"n\">line</span><span class=\"o\">.</span><span class=\"n\">split</span><span class=\"p\">(</span><span class=\"s1\">&#39;,&#39;</span><span class=\"p\">)</span>\n",
       "        <span class=\"k\">yield</span> <span class=\"n\">user_id</span><span class=\"p\">,</span> <span class=\"p\">(</span><span class=\"n\">business_id</span><span class=\"p\">,</span><span class=\"n\">stars</span><span class=\"p\">,</span><span class=\"n\">business_avg</span><span class=\"p\">,</span><span class=\"n\">user_avg</span><span class=\"p\">)</span>\n",
       "\n",
       "    <span class=\"k\">def</span> <span class=\"nf\">users_items_collector</span><span class=\"p\">(</span><span class=\"bp\">self</span><span class=\"p\">,</span> <span class=\"n\">user_id</span><span class=\"p\">,</span> <span class=\"n\">values</span><span class=\"p\">):</span>\n",
       "        <span class=\"n\">ratings</span><span class=\"o\">=</span><span class=\"p\">[]</span>\n",
       "        <span class=\"k\">for</span> <span class=\"n\">business_id</span><span class=\"p\">,</span><span class=\"n\">stars</span><span class=\"p\">,</span><span class=\"n\">business_avg</span><span class=\"p\">,</span><span class=\"n\">user_avg</span> <span class=\"ow\">in</span> <span class=\"n\">values</span><span class=\"p\">:</span>\n",
       "            <span class=\"n\">ratings</span><span class=\"o\">.</span><span class=\"n\">append</span><span class=\"p\">((</span><span class=\"n\">business_id</span><span class=\"p\">,(</span><span class=\"n\">stars</span><span class=\"p\">,</span> <span class=\"n\">user_avg</span><span class=\"p\">)))</span>\n",
       "        <span class=\"k\">yield</span> <span class=\"n\">user_id</span><span class=\"p\">,</span> <span class=\"n\">ratings</span>\n",
       "\n",
       "    <span class=\"k\">def</span> <span class=\"nf\">pair_items_mapper</span><span class=\"p\">(</span><span class=\"bp\">self</span><span class=\"p\">,</span> <span class=\"n\">user_id</span><span class=\"p\">,</span> <span class=\"n\">values</span><span class=\"p\">):</span>\n",
       "        <span class=\"n\">ratings</span> <span class=\"o\">=</span> <span class=\"n\">values</span>\n",
       "        <span class=\"k\">for</span> <span class=\"n\">biz1tuple</span><span class=\"p\">,</span> <span class=\"n\">biz2tuple</span> <span class=\"ow\">in</span> <span class=\"n\">combinations</span><span class=\"p\">(</span><span class=\"n\">ratings</span><span class=\"p\">,</span> <span class=\"mi\">2</span><span class=\"p\">):</span>\n",
       "            <span class=\"n\">biz1</span><span class=\"p\">,</span> <span class=\"n\">biz1r</span><span class=\"o\">=</span><span class=\"n\">biz1tuple</span>\n",
       "            <span class=\"n\">biz2</span><span class=\"p\">,</span> <span class=\"n\">biz2r</span><span class=\"o\">=</span><span class=\"n\">biz2tuple</span>\n",
       "            <span class=\"k\">if</span> <span class=\"n\">biz1</span> <span class=\"o\">&lt;=</span> <span class=\"n\">biz2</span> <span class=\"p\">:</span>\n",
       "                <span class=\"k\">yield</span> <span class=\"p\">(</span><span class=\"n\">biz1</span><span class=\"p\">,</span> <span class=\"n\">biz2</span><span class=\"p\">),</span> <span class=\"p\">(</span><span class=\"n\">biz1r</span><span class=\"p\">,</span> <span class=\"n\">biz2r</span><span class=\"p\">)</span>\n",
       "            <span class=\"k\">else</span><span class=\"p\">:</span>\n",
       "                <span class=\"k\">yield</span> <span class=\"p\">(</span><span class=\"n\">biz2</span><span class=\"p\">,</span> <span class=\"n\">biz1</span><span class=\"p\">),</span> <span class=\"p\">(</span><span class=\"n\">biz2r</span><span class=\"p\">,</span> <span class=\"n\">biz1r</span><span class=\"p\">)</span>\n",
       "\n",
       "    <span class=\"k\">def</span> <span class=\"nf\">calc_sim_collector</span><span class=\"p\">(</span><span class=\"bp\">self</span><span class=\"p\">,</span> <span class=\"n\">key</span><span class=\"p\">,</span> <span class=\"n\">values</span><span class=\"p\">):</span>\n",
       "        <span class=\"p\">(</span><span class=\"n\">rest1</span><span class=\"p\">,</span> <span class=\"n\">rest2</span><span class=\"p\">),</span> <span class=\"n\">common_ratings</span> <span class=\"o\">=</span> <span class=\"n\">key</span><span class=\"p\">,</span> <span class=\"n\">values</span>\n",
       "        <span class=\"n\">diff1</span><span class=\"o\">=</span><span class=\"p\">[]</span>\n",
       "        <span class=\"n\">diff2</span><span class=\"o\">=</span><span class=\"p\">[]</span>\n",
       "        <span class=\"n\">n_common</span><span class=\"o\">=</span><span class=\"mi\">0</span>\n",
       "\n",
       "\n",
       "        <span class=\"k\">for</span> <span class=\"n\">rt1</span><span class=\"p\">,</span> <span class=\"n\">rt2</span> <span class=\"ow\">in</span> <span class=\"n\">common_ratings</span><span class=\"p\">:</span>\n",
       "            <span class=\"n\">diff1</span><span class=\"o\">.</span><span class=\"n\">append</span><span class=\"p\">(</span><span class=\"nb\">float</span><span class=\"p\">(</span><span class=\"n\">rt1</span><span class=\"p\">[</span><span class=\"mi\">0</span><span class=\"p\">])</span><span class=\"o\">-</span><span class=\"nb\">float</span><span class=\"p\">(</span><span class=\"n\">rt1</span><span class=\"p\">[</span><span class=\"mi\">1</span><span class=\"p\">]))</span>\n",
       "            <span class=\"n\">diff2</span><span class=\"o\">.</span><span class=\"n\">append</span><span class=\"p\">(</span><span class=\"nb\">float</span><span class=\"p\">(</span><span class=\"n\">rt2</span><span class=\"p\">[</span><span class=\"mi\">0</span><span class=\"p\">])</span><span class=\"o\">-</span><span class=\"nb\">float</span><span class=\"p\">(</span><span class=\"n\">rt2</span><span class=\"p\">[</span><span class=\"mi\">1</span><span class=\"p\">]))</span>\n",
       "            <span class=\"n\">n_common</span><span class=\"o\">=</span><span class=\"n\">n_common</span><span class=\"o\">+</span><span class=\"mi\">1</span>\n",
       "        <span class=\"k\">if</span> <span class=\"n\">n_common</span><span class=\"o\">==</span><span class=\"mi\">0</span><span class=\"p\">:</span>\n",
       "            <span class=\"n\">rho</span><span class=\"o\">=</span><span class=\"mf\">0.</span>\n",
       "        <span class=\"k\">else</span><span class=\"p\">:</span>\n",
       "            <span class=\"n\">rho</span><span class=\"o\">=</span><span class=\"n\">pearsonr</span><span class=\"p\">(</span><span class=\"n\">diff1</span><span class=\"p\">,</span> <span class=\"n\">diff2</span><span class=\"p\">)[</span><span class=\"mi\">0</span><span class=\"p\">]</span>\n",
       "            <span class=\"k\">if</span> <span class=\"n\">np</span><span class=\"o\">.</span><span class=\"n\">isnan</span><span class=\"p\">(</span><span class=\"n\">rho</span><span class=\"p\">):</span>\n",
       "                <span class=\"n\">rho</span><span class=\"o\">=</span><span class=\"mf\">0.</span>\n",
       "        <span class=\"k\">yield</span> <span class=\"p\">(</span><span class=\"n\">rest1</span><span class=\"p\">,</span> <span class=\"n\">rest2</span><span class=\"p\">),</span> <span class=\"p\">(</span><span class=\"n\">rho</span><span class=\"p\">,</span> <span class=\"n\">n_common</span><span class=\"p\">)</span>\n",
       "\n",
       "\n",
       "<span class=\"c1\">#Below MUST be there for things to work!</span>\n",
       "<span class=\"k\">if</span> <span class=\"n\">__name__</span> <span class=\"o\">==</span> <span class=\"s1\">&#39;__main__&#39;</span><span class=\"p\">:</span>\n",
       "    <span class=\"n\">RestaurantSimilarities</span><span class=\"o\">.</span><span class=\"n\">run</span><span class=\"p\">()</span>\n",
       "</pre></div>\n"
      ],
      "text/plain": [
       "<IPython.core.display.HTML object>"
      ]
     },
     "execution_count": 81,
     "metadata": {},
     "output_type": "execute_result"
    }
   ],
   "source": [
    "thecode = open(\"computesim.py\").read()\n",
    "thehtml=highlight(thecode, PythonLexer(), HtmlFormatter())\n",
    "HTML(thehtml)"
   ]
  },
  {
   "cell_type": "markdown",
   "metadata": {},
   "source": [
    "#### Checking the results\n",
    "\n",
    "Let us load the data from the file"
   ]
  },
  {
   "cell_type": "code",
   "execution_count": 86,
   "metadata": {
    "collapsed": false
   },
   "outputs": [
    {
     "data": {
      "text/plain": [
       "[['-4A5xmN21zi_TXnUESauUQ', '-AAig9FG0s8gYE4f8GfowQ'], [0.3843656937, 5]]"
      ]
     },
     "execution_count": 86,
     "metadata": {},
     "output_type": "execute_result"
    }
   ],
   "source": [
    "output_small_local=[[json.loads(j) for j in line.strip().split(\"\\t\")] for line in open(\"./output.small.local.txt\")]\n",
    "output_small_local[0]"
   ]
  },
  {
   "cell_type": "markdown",
   "metadata": {},
   "source": [
    "We will Implement a function `make_database_from_pairs` which takes a dataframe of restaurants `smalldf` and the output parsed in the previous command to create the database like before. By the nature of the map-reduce algorithms these only contain those restaurant pairs with common support. The `Database` constructor initializes the remaining similarities to 0.\n",
    "\n",
    "The function will take the dataframe and `bizpairs` obtained by parsing the EMR output file which have the key of business pairs and value the pair of pearson correlation and `n_common`. It will return an instance of the `Database` class.\n",
    "\n",
    "This function will take a long time to run on large data sets.\n"
   ]
  },
  {
   "cell_type": "code",
   "execution_count": 91,
   "metadata": {
    "collapsed": false
   },
   "outputs": [],
   "source": [
    "def make_database_from_pairs(df, bizpairs):\n",
    "    \"\"\"\n",
    "    make the database from the pairs returned from mrjob.\n",
    "    df is the dataframe, smalldf or fulldf.\n",
    "    bizpairs are a list of elements, each of which is a list of two\n",
    "        lists. The first of these lists has the two business id's, while\n",
    "        the second has the similarity and the common support\n",
    "    Returns an instance of the Database class.\n",
    "    \"\"\"\n",
    "    dbase=Database(df)\n",
    "    cache={}\n",
    "    for bp,corrs in bizpairs:\n",
    "        b1,b2=bp\n",
    "        i1=dbase.uniquebizids[b1]\n",
    "        i2=dbase.uniquebizids[b2]\n",
    "        sim,nsup=corrs\n",
    "        dbase.database_sim[i1][i2]=sim\n",
    "        dbase.database_sim[i2][i1]=sim\n",
    "        dbase.database_sup[i1][i2]=nsup\n",
    "        dbase.database_sup[i2][i1]=nsup\n",
    "        #if cache.has_key(b1):\n",
    "        if b1 in cache:\n",
    "            nsup1=cache[b1]\n",
    "        else:\n",
    "            nsup1=dbase.df[dbase.df.business_id==b1].user_id.count()\n",
    "            cache[b1]=nsup1\n",
    "        if b2 in cache:\n",
    "            nsup2=cache[b2]\n",
    "        else:\n",
    "            nsup2=dbase.df[dbase.df.business_id==b2].user_id.count()\n",
    "            cache[b2]=nsup2\n",
    "        dbase.database_sim[i1][i1]=1.0\n",
    "        dbase.database_sim[i2][i2]=1.0\n",
    "        dbase.database_sup[i1][i1]=nsup1\n",
    "        dbase.database_sup[i2][i2]=nsup2\n",
    "    return dbase"
   ]
  },
  {
   "cell_type": "markdown",
   "metadata": {},
   "source": [
    "We will store the output in variable `db_mrjob_local`."
   ]
  },
  {
   "cell_type": "code",
   "execution_count": 92,
   "metadata": {
    "collapsed": false
   },
   "outputs": [],
   "source": [
    "db_mrjob_local=make_database_from_pairs(smalldf, output_small_local)"
   ]
  },
  {
   "cell_type": "markdown",
   "metadata": {},
   "source": [
    "We print a pair to see that our answers are identical."
   ]
  },
  {
   "cell_type": "code",
   "execution_count": 93,
   "metadata": {
    "collapsed": false
   },
   "outputs": [
    {
     "name": "stdout",
     "output_type": "stream",
     "text": [
      "(0.39904554525734559, 7)\n",
      "(0.39904554530000003, 7)\n"
     ]
    }
   ],
   "source": [
    "print (db.get(\"zruUQvFySeXyEd7_rQixBg\", \"z3yFuLVrmH-3RJruPEMYKw\"))\n",
    "print (db_mrjob_local.get(\"zruUQvFySeXyEd7_rQixBg\", \"z3yFuLVrmH-3RJruPEMYKw\"))"
   ]
  },
  {
   "cell_type": "markdown",
   "metadata": {},
   "source": [
    "**4.2** Lets test that our results are overall the same as before"
   ]
  },
  {
   "cell_type": "code",
   "execution_count": 95,
   "metadata": {
    "collapsed": false
   },
   "outputs": [
    {
     "name": "stdout",
     "output_type": "stream",
     "text": [
      "-2.74353262331e-09 29584\n"
     ]
    }
   ],
   "source": [
    "sums=0.\n",
    "count=0\n",
    "for k in db.uniquebizids.keys():\n",
    "    for k2 in db.uniquebizids.keys():\n",
    "        count=count+1\n",
    "        sums=sums+db.get(k,k2)[0]-db_mrjob_local.get(k,k2)[0]\n",
    "print (sums, count)"
   ]
  },
  {
   "cell_type": "markdown",
   "metadata": {},
   "source": [
    "### Running on Amazon Elastic Map Reduce(EMR)"
   ]
  },
  {
   "cell_type": "markdown",
   "metadata": {},
   "source": [
    "At this point, we shall shift to running on Amazon EMR. \n",
    "\n",
    "------------\n",
    "\n",
    "*Read [this document](http://nbviewer.ipython.org/urls/raw.github.com/cs109/content/master/InstructionsForAmazonEMR.ipynb) for instructions on how to set yourself up on Amazon.*\n",
    "\n",
    "------------\n",
    "\n",
    "#### Reproduce the results with the smaller file on EMR\n",
    "\n",
    "Test the smaller file and make sure it has the same results. For example, you could use the incantation:\n",
    "\n",
    "    ~/anaconda/bin/python computesim.py -r emr --num-ec2-instances 2 subset-small.csv > output.small.emr.txt\n",
    "\n",
    "You do **NOT** need to submit any results from that exploration to us.\n",
    "\n",
    "**Important**: Please always make sure that your code is bug free, before actually submitting it to amazon. Try to run the job locally first and see if it produces the desired result. Then, if this worked, you are ready to proceed to the cloud. The homework problems are small and your free credit should provide you with a lot of room for running and testing on Amazon. However, it is your responsibility to make sure the jobs terminate properly and do not cause excessive costs.\n",
    "\n",
    "You can always monitor your currently running jobs (in the US-East sector) using [this overview at region US-EAST-1](https://console.aws.amazon.com/elasticmapreduce/home?region=us-east-1) of your MapReduce job flows."
   ]
  },
  {
   "cell_type": "markdown",
   "metadata": {},
   "source": [
    "#### Running the larger job"
   ]
  },
  {
   "cell_type": "markdown",
   "metadata": {},
   "source": [
    "**4.3** Run the script on the larger file `subset-full.csv`. Use between 4-8 instances on EMR on Amazon. Save the output in `output.full.emr.txt`. Your incantation will be something like:\n",
    "\n",
    "    ~/anaconda/bin/python computesim.py -r emr --num-ec2-instances 5 subset-full.csv > output.full.emr.txt"
   ]
  },
  {
   "cell_type": "markdown",
   "metadata": {},
   "source": [
    "You might elect to [save the file on S3](http://mrjob.readthedocs.org/en/latest/guides/emr-quickstart.html#sending-output-to-a-specific-place) and bring it over manually.\n",
    "\n",
    "Try and think about what size job would be best to run on Amazon, given that there is a setup time. There is a way to persistently set up machines (the mrjob documentation provides the details), but then remember you will be billed for that setup and need to monitor it. However, a persistent setup might come useful for your projects."
   ]
  },
  {
   "cell_type": "markdown",
   "metadata": {},
   "source": [
    "### Loading the full output from EMR"
   ]
  },
  {
   "cell_type": "markdown",
   "metadata": {},
   "source": [
    "Lets load the output in. **CAUTION** The next two cells will also take a lot of time to run and load.  "
   ]
  },
  {
   "cell_type": "code",
   "execution_count": 50,
   "metadata": {
    "collapsed": false
   },
   "outputs": [],
   "source": [
    "output_full_emr=[[json.loads(j) for j in l.strip().split(\"\\t\")] for l in open(\"./output.full.emr.txt\")]"
   ]
  },
  {
   "cell_type": "markdown",
   "metadata": {},
   "source": [
    "This function will take a very long time to run, on the order of 5 minutes or more, depending on your computer"
   ]
  },
  {
   "cell_type": "code",
   "execution_count": 51,
   "metadata": {
    "collapsed": false
   },
   "outputs": [],
   "source": [
    "dbfull=make_database_from_pairs(fulldf, output_full_emr)"
   ]
  },
  {
   "cell_type": "markdown",
   "metadata": {},
   "source": [
    "**4.4**  For `testuserid`, once again, print out the ratings using the `bizs` list as before. How have they changed with respect to Question 2? Why might this be?"
   ]
  },
  {
   "cell_type": "code",
   "execution_count": 52,
   "metadata": {
    "collapsed": false
   },
   "outputs": [],
   "source": [
    "#your code here\n"
   ]
  },
  {
   "cell_type": "markdown",
   "metadata": {},
   "source": [
    "*your answer here*"
   ]
  },
  {
   "cell_type": "markdown",
   "metadata": {},
   "source": [
    "**4.5** Outline another `step` (in words) in the mrjob map-reduce class to implement a simple but scalable recommender of the global type that we did in Question 1.5 to 1.7."
   ]
  },
  {
   "cell_type": "markdown",
   "metadata": {},
   "source": [
    "*your answer here*"
   ]
  },
  {
   "cell_type": "markdown",
   "metadata": {},
   "source": [
    "### Submission Instructions:\n",
    "\n",
    "Restart and run your notebook one last time (you do not have to rerun the Amazon EMR script computesim.py), to make sure the output from each cell is up to date. To submit your homework, create a folder named lastname_firstinitial_hw4 and place your solutions in the folder. Double check that the file is still called HW4.ipynb, and that it contains your code. Also include the `computesim.py` script and the `output.small.local.txt` data file. Do **NOT** include the data file `output.full.emr.txt` from the larger run (its huge, so we will check your answers to 4.4 instead). Compress the folder (please use .zip compression) and submit to the upload to blackboard in the appropriate folder. If we cannot access your work because these directions are not followed correctly, we will not grade your work!"
   ]
  },
  {
   "cell_type": "markdown",
   "metadata": {},
   "source": [
    "### FINI\n",
    "\n",
    "You have developed all kinds of recommenders. We hope it was fun. Time constraints prevented us from going into model checking, but perhaps you would like to try that on your own. Or use S3 or a hosted database as a place to store sharded similarities. You might want to take a gander at Yelp's entire Phoenix dataset, or use the other attributes present in the data set. So many possibilities!\n",
    "\n",
    "If you'd like to learn more, please read Chris Volinksy's papers on the Netflix prize. There are also comprehensive reviews [here](http://arxiv.org/abs/1202.1112) and [here](http://www.grouplens.org/system/files/FnT%20CF%20Recsys%20Survey.pdf)."
   ]
  },
  {
   "cell_type": "markdown",
   "metadata": {},
   "source": [
    "*css tweaks in this cell*\n",
    "<style>\n",
    "div.text_cell_render {\n",
    " line-height: 150%;\n",
    " font-size: 110%;\n",
    " width: 800px;\n",
    " margin-left:50px;\n",
    " margin-right:auto;\n",
    "}\n",
    "\n",
    "</style>"
   ]
  }
 ],
 "metadata": {
  "anaconda-cloud": {},
  "kernelspec": {
   "display_name": "Python [conda root]",
   "language": "python",
   "name": "conda-root-py"
  },
  "language_info": {
   "codemirror_mode": {
    "name": "ipython",
    "version": 3
   },
   "file_extension": ".py",
   "mimetype": "text/x-python",
   "name": "python",
   "nbconvert_exporter": "python",
   "pygments_lexer": "ipython3",
   "version": "3.5.2"
  }
 },
 "nbformat": 4,
 "nbformat_minor": 0
}
